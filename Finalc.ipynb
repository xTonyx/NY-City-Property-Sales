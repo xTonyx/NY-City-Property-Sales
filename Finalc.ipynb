{
 "cells": [
  {
   "cell_type": "markdown",
   "metadata": {},
   "source": [
    "## Finale = NY housing Data Cleaned part2\n"
   ]
  },
  {
   "cell_type": "code",
   "execution_count": 1,
   "metadata": {},
   "outputs": [
    {
     "name": "stderr",
     "output_type": "stream",
     "text": [
      "C:\\ProgramData\\Anaconda3\\lib\\site-packages\\sklearn\\ensemble\\weight_boosting.py:29: DeprecationWarning: numpy.core.umath_tests is an internal NumPy module and should not be imported. It will be removed in a future NumPy release.\n",
      "  from numpy.core.umath_tests import inner1d\n"
     ]
    }
   ],
   "source": [
    "import pandas as pd\n",
    "import numpy as np\n",
    "import warnings\n",
    "\n",
    "from sklearn.datasets import make_classification\n",
    "from sklearn.model_selection import GridSearchCV, train_test_split\n",
    "from sklearn.metrics import confusion_matrix\n",
    "from sklearn.linear_model import LogisticRegression\n",
    "from sklearn.ensemble import GradientBoostingClassifier\n",
    "\n",
    "from plotnine import *\n",
    "%matplotlib inline"
   ]
  },
  {
   "cell_type": "code",
   "execution_count": 2,
   "metadata": {},
   "outputs": [],
   "source": [
    "def plot_confusion_matrix(cm, normalize=True, digits=4):\n",
    "    plt_df = (pd.DataFrame(cm)\n",
    "              .reset_index()\n",
    "              .melt(id_vars='index')\n",
    "              .assign(index = lambda d: pd.Categorical(d['index'], d['index'].unique()[::-1], ordered=True),\n",
    "                      variable = lambda d: pd.Categorical(d['variable'], d['variable'].unique(), ordered=True))\n",
    "              .rename(columns={'index':'true label', 'variable':'predicted label'})\n",
    "             )\n",
    "    \n",
    "    if normalize:\n",
    "        plt_df = (plt_df\n",
    "                  .assign(true_total = lambda d: d.groupby('true label')['value'].transform(lambda x: x.sum()))\n",
    "                  .assign(value = lambda d: (d['value'] / d['true_total']).round(digits))\n",
    "                 )\n",
    "        \n",
    "    plt = (ggplot(plt_df, aes(x='predicted label', y='true label'))\n",
    "            + geom_tile(aes(fill='value')) \n",
    "            + geom_text(aes(label='value'))\n",
    "            + theme_minimal()\n",
    "            + scale_fill_gradient(low = \"snow\", high = \"steelblue\")\n",
    "            + theme(legend_title=element_blank())\n",
    "           )\n",
    "    \n",
    "    return plt"
   ]
  },
  {
   "cell_type": "code",
   "execution_count": 3,
   "metadata": {},
   "outputs": [],
   "source": [
    "df = pd.read_csv('cdf.csv')"
   ]
  },
  {
   "cell_type": "code",
   "execution_count": 4,
   "metadata": {},
   "outputs": [
    {
     "data": {
      "text/html": [
       "<div>\n",
       "<style scoped>\n",
       "    .dataframe tbody tr th:only-of-type {\n",
       "        vertical-align: middle;\n",
       "    }\n",
       "\n",
       "    .dataframe tbody tr th {\n",
       "        vertical-align: top;\n",
       "    }\n",
       "\n",
       "    .dataframe thead th {\n",
       "        text-align: right;\n",
       "    }\n",
       "</style>\n",
       "<table border=\"1\" class=\"dataframe\">\n",
       "  <thead>\n",
       "    <tr style=\"text-align: right;\">\n",
       "      <th></th>\n",
       "      <th>Unnamed: 0</th>\n",
       "      <th>BOROUGH</th>\n",
       "      <th>NEIGHBORHOOD</th>\n",
       "      <th>BUILDING CLASS CATEGORY</th>\n",
       "      <th>TAX CLASS AT PRESENT</th>\n",
       "      <th>BLOCK</th>\n",
       "      <th>LOT</th>\n",
       "      <th>BUILDING CLASS AT PRESENT</th>\n",
       "      <th>ADDRESS</th>\n",
       "      <th>APARTMENT NUMBER</th>\n",
       "      <th>...</th>\n",
       "      <th>TOTAL UNITS</th>\n",
       "      <th>LAND SQUARE FEET</th>\n",
       "      <th>GROSS SQUARE FEET</th>\n",
       "      <th>YEAR BUILT</th>\n",
       "      <th>TAX CLASS AT TIME OF SALE</th>\n",
       "      <th>BUILDING CLASS AT TIME OF SALE</th>\n",
       "      <th>SALE PRICE</th>\n",
       "      <th>SALE DATE</th>\n",
       "      <th>BUILDING AGE</th>\n",
       "      <th>SalePrice1mill</th>\n",
       "    </tr>\n",
       "  </thead>\n",
       "  <tbody>\n",
       "    <tr>\n",
       "      <th>0</th>\n",
       "      <td>0</td>\n",
       "      <td>Manhattan</td>\n",
       "      <td>ALPHABET CITY</td>\n",
       "      <td>07 RENTALS - WALKUP APARTMENTS</td>\n",
       "      <td>2A</td>\n",
       "      <td>392</td>\n",
       "      <td>6</td>\n",
       "      <td>C2</td>\n",
       "      <td>153 AVENUE B</td>\n",
       "      <td></td>\n",
       "      <td>...</td>\n",
       "      <td>5</td>\n",
       "      <td>1633.0</td>\n",
       "      <td>6440.0</td>\n",
       "      <td>1900</td>\n",
       "      <td>2</td>\n",
       "      <td>C2</td>\n",
       "      <td>6625000.0</td>\n",
       "      <td>2017-07-19</td>\n",
       "      <td>117</td>\n",
       "      <td>1</td>\n",
       "    </tr>\n",
       "    <tr>\n",
       "      <th>1</th>\n",
       "      <td>3</td>\n",
       "      <td>Manhattan</td>\n",
       "      <td>ALPHABET CITY</td>\n",
       "      <td>07 RENTALS - WALKUP APARTMENTS</td>\n",
       "      <td>2B</td>\n",
       "      <td>402</td>\n",
       "      <td>21</td>\n",
       "      <td>C4</td>\n",
       "      <td>154 EAST 7TH STREET</td>\n",
       "      <td></td>\n",
       "      <td>...</td>\n",
       "      <td>10</td>\n",
       "      <td>2272.0</td>\n",
       "      <td>6794.0</td>\n",
       "      <td>1913</td>\n",
       "      <td>2</td>\n",
       "      <td>C4</td>\n",
       "      <td>3936272.0</td>\n",
       "      <td>2016-09-23</td>\n",
       "      <td>104</td>\n",
       "      <td>1</td>\n",
       "    </tr>\n",
       "  </tbody>\n",
       "</table>\n",
       "<p>2 rows × 23 columns</p>\n",
       "</div>"
      ],
      "text/plain": [
       "   Unnamed: 0    BOROUGH   NEIGHBORHOOD  \\\n",
       "0           0  Manhattan  ALPHABET CITY   \n",
       "1           3  Manhattan  ALPHABET CITY   \n",
       "\n",
       "                       BUILDING CLASS CATEGORY TAX CLASS AT PRESENT  BLOCK  \\\n",
       "0  07 RENTALS - WALKUP APARTMENTS                                2A    392   \n",
       "1  07 RENTALS - WALKUP APARTMENTS                                2B    402   \n",
       "\n",
       "   LOT BUILDING CLASS AT PRESENT              ADDRESS APARTMENT NUMBER  \\\n",
       "0    6                        C2         153 AVENUE B                    \n",
       "1   21                        C4  154 EAST 7TH STREET                    \n",
       "\n",
       "        ...        TOTAL UNITS  LAND SQUARE FEET  GROSS SQUARE FEET  \\\n",
       "0       ...                  5            1633.0             6440.0   \n",
       "1       ...                 10            2272.0             6794.0   \n",
       "\n",
       "   YEAR BUILT  TAX CLASS AT TIME OF SALE  BUILDING CLASS AT TIME OF SALE  \\\n",
       "0        1900                          2                              C2   \n",
       "1        1913                          2                              C4   \n",
       "\n",
       "   SALE PRICE   SALE DATE BUILDING AGE  SalePrice1mill  \n",
       "0   6625000.0  2017-07-19          117               1  \n",
       "1   3936272.0  2016-09-23          104               1  \n",
       "\n",
       "[2 rows x 23 columns]"
      ]
     },
     "execution_count": 4,
     "metadata": {},
     "output_type": "execute_result"
    }
   ],
   "source": [
    "df.head(2)"
   ]
  },
  {
   "cell_type": "code",
   "execution_count": 5,
   "metadata": {},
   "outputs": [],
   "source": [
    "# Unnamed: 0  can be deleted (needs to be deleted again)\n",
    "del df['Unnamed: 0']"
   ]
  },
  {
   "cell_type": "code",
   "execution_count": 6,
   "metadata": {},
   "outputs": [],
   "source": [
    "#check database to see if column was removed"
   ]
  },
  {
   "cell_type": "code",
   "execution_count": 7,
   "metadata": {},
   "outputs": [
    {
     "data": {
      "text/html": [
       "<div>\n",
       "<style scoped>\n",
       "    .dataframe tbody tr th:only-of-type {\n",
       "        vertical-align: middle;\n",
       "    }\n",
       "\n",
       "    .dataframe tbody tr th {\n",
       "        vertical-align: top;\n",
       "    }\n",
       "\n",
       "    .dataframe thead th {\n",
       "        text-align: right;\n",
       "    }\n",
       "</style>\n",
       "<table border=\"1\" class=\"dataframe\">\n",
       "  <thead>\n",
       "    <tr style=\"text-align: right;\">\n",
       "      <th></th>\n",
       "      <th>BOROUGH</th>\n",
       "      <th>NEIGHBORHOOD</th>\n",
       "      <th>BUILDING CLASS CATEGORY</th>\n",
       "      <th>TAX CLASS AT PRESENT</th>\n",
       "      <th>BLOCK</th>\n",
       "      <th>LOT</th>\n",
       "      <th>BUILDING CLASS AT PRESENT</th>\n",
       "      <th>ADDRESS</th>\n",
       "      <th>APARTMENT NUMBER</th>\n",
       "      <th>ZIP CODE</th>\n",
       "      <th>...</th>\n",
       "      <th>TOTAL UNITS</th>\n",
       "      <th>LAND SQUARE FEET</th>\n",
       "      <th>GROSS SQUARE FEET</th>\n",
       "      <th>YEAR BUILT</th>\n",
       "      <th>TAX CLASS AT TIME OF SALE</th>\n",
       "      <th>BUILDING CLASS AT TIME OF SALE</th>\n",
       "      <th>SALE PRICE</th>\n",
       "      <th>SALE DATE</th>\n",
       "      <th>BUILDING AGE</th>\n",
       "      <th>SalePrice1mill</th>\n",
       "    </tr>\n",
       "  </thead>\n",
       "  <tbody>\n",
       "    <tr>\n",
       "      <th>39411</th>\n",
       "      <td>Staten Island</td>\n",
       "      <td>WOODROW</td>\n",
       "      <td>02 TWO FAMILY DWELLINGS</td>\n",
       "      <td>1</td>\n",
       "      <td>7317</td>\n",
       "      <td>126</td>\n",
       "      <td>B2</td>\n",
       "      <td>112 ROBIN COURT</td>\n",
       "      <td></td>\n",
       "      <td>10309</td>\n",
       "      <td>...</td>\n",
       "      <td>2</td>\n",
       "      <td>11088.0</td>\n",
       "      <td>2160.0</td>\n",
       "      <td>1994</td>\n",
       "      <td>1</td>\n",
       "      <td>B2</td>\n",
       "      <td>648000.0</td>\n",
       "      <td>2016-12-07</td>\n",
       "      <td>23</td>\n",
       "      <td>0</td>\n",
       "    </tr>\n",
       "    <tr>\n",
       "      <th>39412</th>\n",
       "      <td>Staten Island</td>\n",
       "      <td>WOODROW</td>\n",
       "      <td>02 TWO FAMILY DWELLINGS</td>\n",
       "      <td>1</td>\n",
       "      <td>7349</td>\n",
       "      <td>34</td>\n",
       "      <td>B9</td>\n",
       "      <td>37 QUAIL LANE</td>\n",
       "      <td></td>\n",
       "      <td>10309</td>\n",
       "      <td>...</td>\n",
       "      <td>2</td>\n",
       "      <td>2400.0</td>\n",
       "      <td>2575.0</td>\n",
       "      <td>1998</td>\n",
       "      <td>1</td>\n",
       "      <td>B9</td>\n",
       "      <td>450000.0</td>\n",
       "      <td>2016-11-28</td>\n",
       "      <td>19</td>\n",
       "      <td>0</td>\n",
       "    </tr>\n",
       "    <tr>\n",
       "      <th>39413</th>\n",
       "      <td>Staten Island</td>\n",
       "      <td>WOODROW</td>\n",
       "      <td>02 TWO FAMILY DWELLINGS</td>\n",
       "      <td>1</td>\n",
       "      <td>7349</td>\n",
       "      <td>78</td>\n",
       "      <td>B9</td>\n",
       "      <td>32 PHEASANT LANE</td>\n",
       "      <td></td>\n",
       "      <td>10309</td>\n",
       "      <td>...</td>\n",
       "      <td>2</td>\n",
       "      <td>2498.0</td>\n",
       "      <td>2377.0</td>\n",
       "      <td>1998</td>\n",
       "      <td>1</td>\n",
       "      <td>B9</td>\n",
       "      <td>550000.0</td>\n",
       "      <td>2017-04-21</td>\n",
       "      <td>19</td>\n",
       "      <td>0</td>\n",
       "    </tr>\n",
       "    <tr>\n",
       "      <th>39414</th>\n",
       "      <td>Staten Island</td>\n",
       "      <td>WOODROW</td>\n",
       "      <td>02 TWO FAMILY DWELLINGS</td>\n",
       "      <td>1</td>\n",
       "      <td>7351</td>\n",
       "      <td>60</td>\n",
       "      <td>B2</td>\n",
       "      <td>49 PITNEY AVENUE</td>\n",
       "      <td></td>\n",
       "      <td>10309</td>\n",
       "      <td>...</td>\n",
       "      <td>2</td>\n",
       "      <td>4000.0</td>\n",
       "      <td>1496.0</td>\n",
       "      <td>1925</td>\n",
       "      <td>1</td>\n",
       "      <td>B2</td>\n",
       "      <td>460000.0</td>\n",
       "      <td>2017-07-05</td>\n",
       "      <td>92</td>\n",
       "      <td>0</td>\n",
       "    </tr>\n",
       "    <tr>\n",
       "      <th>39415</th>\n",
       "      <td>Staten Island</td>\n",
       "      <td>WOODROW</td>\n",
       "      <td>35 INDOOR PUBLIC AND CULTURAL FACILITIES</td>\n",
       "      <td>4</td>\n",
       "      <td>7105</td>\n",
       "      <td>679</td>\n",
       "      <td>P9</td>\n",
       "      <td>155 CLAY PIT ROAD</td>\n",
       "      <td></td>\n",
       "      <td>10309</td>\n",
       "      <td>...</td>\n",
       "      <td>1</td>\n",
       "      <td>10796.0</td>\n",
       "      <td>2400.0</td>\n",
       "      <td>2006</td>\n",
       "      <td>4</td>\n",
       "      <td>P9</td>\n",
       "      <td>69300.0</td>\n",
       "      <td>2016-10-27</td>\n",
       "      <td>11</td>\n",
       "      <td>0</td>\n",
       "    </tr>\n",
       "  </tbody>\n",
       "</table>\n",
       "<p>5 rows × 22 columns</p>\n",
       "</div>"
      ],
      "text/plain": [
       "             BOROUGH NEIGHBORHOOD  \\\n",
       "39411  Staten Island      WOODROW   \n",
       "39412  Staten Island      WOODROW   \n",
       "39413  Staten Island      WOODROW   \n",
       "39414  Staten Island      WOODROW   \n",
       "39415  Staten Island      WOODROW   \n",
       "\n",
       "                           BUILDING CLASS CATEGORY TAX CLASS AT PRESENT  \\\n",
       "39411  02 TWO FAMILY DWELLINGS                                        1   \n",
       "39412  02 TWO FAMILY DWELLINGS                                        1   \n",
       "39413  02 TWO FAMILY DWELLINGS                                        1   \n",
       "39414  02 TWO FAMILY DWELLINGS                                        1   \n",
       "39415  35 INDOOR PUBLIC AND CULTURAL FACILITIES                       4   \n",
       "\n",
       "       BLOCK  LOT BUILDING CLASS AT PRESENT            ADDRESS  \\\n",
       "39411   7317  126                        B2    112 ROBIN COURT   \n",
       "39412   7349   34                        B9      37 QUAIL LANE   \n",
       "39413   7349   78                        B9   32 PHEASANT LANE   \n",
       "39414   7351   60                        B2   49 PITNEY AVENUE   \n",
       "39415   7105  679                        P9  155 CLAY PIT ROAD   \n",
       "\n",
       "      APARTMENT NUMBER  ZIP CODE      ...        TOTAL UNITS  \\\n",
       "39411                      10309      ...                  2   \n",
       "39412                      10309      ...                  2   \n",
       "39413                      10309      ...                  2   \n",
       "39414                      10309      ...                  2   \n",
       "39415                      10309      ...                  1   \n",
       "\n",
       "       LAND SQUARE FEET  GROSS SQUARE FEET  YEAR BUILT  \\\n",
       "39411           11088.0             2160.0        1994   \n",
       "39412            2400.0             2575.0        1998   \n",
       "39413            2498.0             2377.0        1998   \n",
       "39414            4000.0             1496.0        1925   \n",
       "39415           10796.0             2400.0        2006   \n",
       "\n",
       "       TAX CLASS AT TIME OF SALE  BUILDING CLASS AT TIME OF SALE  SALE PRICE  \\\n",
       "39411                          1                              B2    648000.0   \n",
       "39412                          1                              B9    450000.0   \n",
       "39413                          1                              B9    550000.0   \n",
       "39414                          1                              B2    460000.0   \n",
       "39415                          4                              P9     69300.0   \n",
       "\n",
       "        SALE DATE  BUILDING AGE SalePrice1mill  \n",
       "39411  2016-12-07            23              0  \n",
       "39412  2016-11-28            19              0  \n",
       "39413  2017-04-21            19              0  \n",
       "39414  2017-07-05            92              0  \n",
       "39415  2016-10-27            11              0  \n",
       "\n",
       "[5 rows x 22 columns]"
      ]
     },
     "execution_count": 7,
     "metadata": {},
     "output_type": "execute_result"
    }
   ],
   "source": [
    "df.tail()"
   ]
  },
  {
   "cell_type": "code",
   "execution_count": 8,
   "metadata": {},
   "outputs": [
    {
     "data": {
      "text/plain": [
       "Index(['BOROUGH', 'NEIGHBORHOOD', 'BUILDING CLASS CATEGORY',\n",
       "       'TAX CLASS AT PRESENT', 'BLOCK', 'LOT', 'BUILDING CLASS AT PRESENT',\n",
       "       'ADDRESS', 'APARTMENT NUMBER', 'ZIP CODE', 'RESIDENTIAL UNITS',\n",
       "       'COMMERCIAL UNITS', 'TOTAL UNITS', 'LAND SQUARE FEET',\n",
       "       'GROSS SQUARE FEET', 'YEAR BUILT', 'TAX CLASS AT TIME OF SALE',\n",
       "       'BUILDING CLASS AT TIME OF SALE', 'SALE PRICE', 'SALE DATE',\n",
       "       'BUILDING AGE', 'SalePrice1mill'],\n",
       "      dtype='object')"
      ]
     },
     "execution_count": 8,
     "metadata": {},
     "output_type": "execute_result"
    }
   ],
   "source": [
    "df.columns"
   ]
  },
  {
   "cell_type": "code",
   "execution_count": 9,
   "metadata": {},
   "outputs": [
    {
     "name": "stdout",
     "output_type": "stream",
     "text": [
      "<class 'pandas.core.frame.DataFrame'>\n",
      "RangeIndex: 39416 entries, 0 to 39415\n",
      "Data columns (total 22 columns):\n",
      "BOROUGH                           39416 non-null object\n",
      "NEIGHBORHOOD                      39416 non-null object\n",
      "BUILDING CLASS CATEGORY           39416 non-null object\n",
      "TAX CLASS AT PRESENT              39416 non-null object\n",
      "BLOCK                             39416 non-null int64\n",
      "LOT                               39416 non-null int64\n",
      "BUILDING CLASS AT PRESENT         39416 non-null object\n",
      "ADDRESS                           39416 non-null object\n",
      "APARTMENT NUMBER                  39416 non-null object\n",
      "ZIP CODE                          39416 non-null int64\n",
      "RESIDENTIAL UNITS                 39416 non-null int64\n",
      "COMMERCIAL UNITS                  39416 non-null int64\n",
      "TOTAL UNITS                       39416 non-null int64\n",
      "LAND SQUARE FEET                  39416 non-null float64\n",
      "GROSS SQUARE FEET                 39416 non-null float64\n",
      "YEAR BUILT                        39416 non-null int64\n",
      "TAX CLASS AT TIME OF SALE         39416 non-null int64\n",
      "BUILDING CLASS AT TIME OF SALE    39416 non-null object\n",
      "SALE PRICE                        39416 non-null float64\n",
      "SALE DATE                         39416 non-null object\n",
      "BUILDING AGE                      39416 non-null int64\n",
      "SalePrice1mill                    39416 non-null int64\n",
      "dtypes: float64(3), int64(10), object(9)\n",
      "memory usage: 6.6+ MB\n"
     ]
    }
   ],
   "source": [
    "df.info()"
   ]
  },
  {
   "cell_type": "code",
   "execution_count": 10,
   "metadata": {},
   "outputs": [],
   "source": [
    "df = df[df['LAND SQUARE FEET'].notnull()] \n",
    "df = df[df['GROSS SQUARE FEET'].notnull()] \n"
   ]
  },
  {
   "cell_type": "code",
   "execution_count": 11,
   "metadata": {
    "scrolled": true
   },
   "outputs": [
    {
     "data": {
      "text/plain": [
       "0"
      ]
     },
     "execution_count": 11,
     "metadata": {},
     "output_type": "execute_result"
    }
   ],
   "source": [
    "df['LAND SQUARE FEET'].isnull().sum()"
   ]
  },
  {
   "cell_type": "code",
   "execution_count": 12,
   "metadata": {},
   "outputs": [],
   "source": [
    "# from sklearn.model_selection import train_test_split\n",
    "# #Define X and y with patsy dmatrices\n",
    "# X = df[['LAND SQUARE FEET', \n",
    "          \n",
    "#           ]] #features we think may help predict y\n",
    "# y = df['SalePrice1mill'] #what we want to predict\n",
    "\n",
    "# #X_tr, X_te, y_tr, y_te = train_test_split(X, y, random_state = 0)\n",
    "# #A brief preview of our train test split\n",
    "# #print(len(X_tr), len(X_te), len(y_tr), len(y_te))\n",
    "\n",
    "\n"
   ]
  },
  {
   "cell_type": "markdown",
   "metadata": {},
   "source": [
    "### Model with 1 x feature"
   ]
  },
  {
   "cell_type": "code",
   "execution_count": 13,
   "metadata": {},
   "outputs": [],
   "source": [
    "from patsy import dmatrices\n",
    "y, X = dmatrices('SalePrice1mill ~ Q(\"LAND SQUARE FEET\")',\n",
    "                 df, return_type = \"dataframe\")"
   ]
  },
  {
   "cell_type": "code",
   "execution_count": 14,
   "metadata": {},
   "outputs": [
    {
     "data": {
      "text/html": [
       "<div>\n",
       "<style scoped>\n",
       "    .dataframe tbody tr th:only-of-type {\n",
       "        vertical-align: middle;\n",
       "    }\n",
       "\n",
       "    .dataframe tbody tr th {\n",
       "        vertical-align: top;\n",
       "    }\n",
       "\n",
       "    .dataframe thead th {\n",
       "        text-align: right;\n",
       "    }\n",
       "</style>\n",
       "<table border=\"1\" class=\"dataframe\">\n",
       "  <thead>\n",
       "    <tr style=\"text-align: right;\">\n",
       "      <th></th>\n",
       "      <th>Intercept</th>\n",
       "      <th>Q(\"LAND SQUARE FEET\")</th>\n",
       "    </tr>\n",
       "  </thead>\n",
       "  <tbody>\n",
       "    <tr>\n",
       "      <th>0</th>\n",
       "      <td>1.0</td>\n",
       "      <td>1633.0</td>\n",
       "    </tr>\n",
       "    <tr>\n",
       "      <th>1</th>\n",
       "      <td>1.0</td>\n",
       "      <td>2272.0</td>\n",
       "    </tr>\n",
       "    <tr>\n",
       "      <th>2</th>\n",
       "      <td>1.0</td>\n",
       "      <td>2369.0</td>\n",
       "    </tr>\n",
       "    <tr>\n",
       "      <th>3</th>\n",
       "      <td>1.0</td>\n",
       "      <td>1750.0</td>\n",
       "    </tr>\n",
       "    <tr>\n",
       "      <th>4</th>\n",
       "      <td>1.0</td>\n",
       "      <td>4489.0</td>\n",
       "    </tr>\n",
       "  </tbody>\n",
       "</table>\n",
       "</div>"
      ],
      "text/plain": [
       "   Intercept  Q(\"LAND SQUARE FEET\")\n",
       "0        1.0                 1633.0\n",
       "1        1.0                 2272.0\n",
       "2        1.0                 2369.0\n",
       "3        1.0                 1750.0\n",
       "4        1.0                 4489.0"
      ]
     },
     "execution_count": 14,
     "metadata": {},
     "output_type": "execute_result"
    }
   ],
   "source": [
    "X.head()# to check the X feature"
   ]
  },
  {
   "cell_type": "code",
   "execution_count": 15,
   "metadata": {},
   "outputs": [],
   "source": [
    "X_tr, X_te, y_tr, y_te = train_test_split(X, y, random_state = 0)"
   ]
  },
  {
   "cell_type": "code",
   "execution_count": 16,
   "metadata": {
    "scrolled": true
   },
   "outputs": [
    {
     "name": "stdout",
     "output_type": "stream",
     "text": [
      "Fitting 3 folds for each of 4 candidates, totalling 12 fits\n",
      "[CV] C=0.1 ...........................................................\n",
      "[CV] ............................................ C=0.1, total=   0.0s\n",
      "[CV] C=0.1 ...........................................................\n",
      "[CV] ............................................ C=0.1, total=   0.0s\n",
      "[CV] C=0.1 ...........................................................\n"
     ]
    },
    {
     "name": "stderr",
     "output_type": "stream",
     "text": [
      "C:\\ProgramData\\Anaconda3\\lib\\site-packages\\sklearn\\utils\\validation.py:578: DataConversionWarning: A column-vector y was passed when a 1d array was expected. Please change the shape of y to (n_samples, ), for example using ravel().\n",
      "  y = column_or_1d(y, warn=True)\n",
      "[Parallel(n_jobs=1)]: Done   1 out of   1 | elapsed:    0.0s remaining:    0.0s\n",
      "C:\\ProgramData\\Anaconda3\\lib\\site-packages\\sklearn\\utils\\validation.py:578: DataConversionWarning: A column-vector y was passed when a 1d array was expected. Please change the shape of y to (n_samples, ), for example using ravel().\n",
      "  y = column_or_1d(y, warn=True)\n",
      "C:\\ProgramData\\Anaconda3\\lib\\site-packages\\sklearn\\utils\\validation.py:578: DataConversionWarning: A column-vector y was passed when a 1d array was expected. Please change the shape of y to (n_samples, ), for example using ravel().\n",
      "  y = column_or_1d(y, warn=True)\n"
     ]
    },
    {
     "name": "stdout",
     "output_type": "stream",
     "text": [
      "[CV] ............................................ C=0.1, total=   0.0s\n",
      "[CV] C=1 .............................................................\n",
      "[CV] .............................................. C=1, total=   0.0s\n",
      "[CV] C=1 .............................................................\n",
      "[CV] .............................................. C=1, total=   0.0s"
     ]
    },
    {
     "name": "stderr",
     "output_type": "stream",
     "text": [
      "C:\\ProgramData\\Anaconda3\\lib\\site-packages\\sklearn\\utils\\validation.py:578: DataConversionWarning: A column-vector y was passed when a 1d array was expected. Please change the shape of y to (n_samples, ), for example using ravel().\n",
      "  y = column_or_1d(y, warn=True)\n",
      "C:\\ProgramData\\Anaconda3\\lib\\site-packages\\sklearn\\utils\\validation.py:578: DataConversionWarning: A column-vector y was passed when a 1d array was expected. Please change the shape of y to (n_samples, ), for example using ravel().\n",
      "  y = column_or_1d(y, warn=True)\n",
      "C:\\ProgramData\\Anaconda3\\lib\\site-packages\\sklearn\\utils\\validation.py:578: DataConversionWarning: A column-vector y was passed when a 1d array was expected. Please change the shape of y to (n_samples, ), for example using ravel().\n",
      "  y = column_or_1d(y, warn=True)\n"
     ]
    },
    {
     "name": "stdout",
     "output_type": "stream",
     "text": [
      "\n",
      "[CV] C=1 .............................................................\n",
      "[CV] .............................................. C=1, total=   0.0s\n",
      "[CV] C=10 ............................................................\n",
      "[CV] ............................................. C=10, total=   0.0s\n",
      "[CV] C=10 ............................................................\n"
     ]
    },
    {
     "name": "stderr",
     "output_type": "stream",
     "text": [
      "C:\\ProgramData\\Anaconda3\\lib\\site-packages\\sklearn\\utils\\validation.py:578: DataConversionWarning: A column-vector y was passed when a 1d array was expected. Please change the shape of y to (n_samples, ), for example using ravel().\n",
      "  y = column_or_1d(y, warn=True)\n",
      "C:\\ProgramData\\Anaconda3\\lib\\site-packages\\sklearn\\utils\\validation.py:578: DataConversionWarning: A column-vector y was passed when a 1d array was expected. Please change the shape of y to (n_samples, ), for example using ravel().\n",
      "  y = column_or_1d(y, warn=True)\n"
     ]
    },
    {
     "name": "stdout",
     "output_type": "stream",
     "text": [
      "[CV] ............................................. C=10, total=   0.0s\n",
      "[CV] C=10 ............................................................\n",
      "[CV] ............................................. C=10, total=   0.0s\n",
      "[CV] C=100 ...........................................................\n",
      "[CV] ............................................ C=100, total=   0.0s\n",
      "[CV] C=100 ...........................................................\n"
     ]
    },
    {
     "name": "stderr",
     "output_type": "stream",
     "text": [
      "C:\\ProgramData\\Anaconda3\\lib\\site-packages\\sklearn\\utils\\validation.py:578: DataConversionWarning: A column-vector y was passed when a 1d array was expected. Please change the shape of y to (n_samples, ), for example using ravel().\n",
      "  y = column_or_1d(y, warn=True)\n",
      "C:\\ProgramData\\Anaconda3\\lib\\site-packages\\sklearn\\utils\\validation.py:578: DataConversionWarning: A column-vector y was passed when a 1d array was expected. Please change the shape of y to (n_samples, ), for example using ravel().\n",
      "  y = column_or_1d(y, warn=True)\n",
      "C:\\ProgramData\\Anaconda3\\lib\\site-packages\\sklearn\\utils\\validation.py:578: DataConversionWarning: A column-vector y was passed when a 1d array was expected. Please change the shape of y to (n_samples, ), for example using ravel().\n",
      "  y = column_or_1d(y, warn=True)\n"
     ]
    },
    {
     "name": "stdout",
     "output_type": "stream",
     "text": [
      "[CV] ............................................ C=100, total=   0.0s\n",
      "[CV] C=100 ...........................................................\n",
      "[CV] ............................................ C=100, total=   0.0s\n"
     ]
    },
    {
     "name": "stderr",
     "output_type": "stream",
     "text": [
      "C:\\ProgramData\\Anaconda3\\lib\\site-packages\\sklearn\\utils\\validation.py:578: DataConversionWarning: A column-vector y was passed when a 1d array was expected. Please change the shape of y to (n_samples, ), for example using ravel().\n",
      "  y = column_or_1d(y, warn=True)\n",
      "[Parallel(n_jobs=1)]: Done  12 out of  12 | elapsed:    0.8s finished\n",
      "C:\\ProgramData\\Anaconda3\\lib\\site-packages\\sklearn\\utils\\validation.py:578: DataConversionWarning: A column-vector y was passed when a 1d array was expected. Please change the shape of y to (n_samples, ), for example using ravel().\n",
      "  y = column_or_1d(y, warn=True)\n"
     ]
    },
    {
     "data": {
      "text/plain": [
       "GridSearchCV(cv=None, error_score='raise',\n",
       "       estimator=LogisticRegression(C=1.0, class_weight=None, dual=False, fit_intercept=True,\n",
       "          intercept_scaling=1, max_iter=100, multi_class='ovr', n_jobs=1,\n",
       "          penalty='l2', random_state=None, solver='liblinear', tol=0.0001,\n",
       "          verbose=0, warm_start=False),\n",
       "       fit_params=None, iid=True, n_jobs=1,\n",
       "       param_grid={'C': [0.1, 1, 10, 100]}, pre_dispatch='2*n_jobs',\n",
       "       refit=True, return_train_score='warn', scoring=None, verbose=2)"
      ]
     },
     "execution_count": 16,
     "metadata": {},
     "output_type": "execute_result"
    }
   ],
   "source": [
    "params = {\n",
    "    'C': [0.1, 1, 10, 100]\n",
    "}\n",
    "regression = LogisticRegression()\n",
    "grid_logit = GridSearchCV(estimator=regression, param_grid=params, verbose=2)\n",
    "grid_logit.fit(X_tr, y_tr)"
   ]
  },
  {
   "cell_type": "code",
   "execution_count": 17,
   "metadata": {},
   "outputs": [
    {
     "name": "stdout",
     "output_type": "stream",
     "text": [
      "0.8267708544753399\n"
     ]
    }
   ],
   "source": [
    "print(grid_logit.best_score_)"
   ]
  },
  {
   "cell_type": "markdown",
   "metadata": {},
   "source": [
    "### GradientBoosting"
   ]
  },
  {
   "cell_type": "code",
   "execution_count": 18,
   "metadata": {},
   "outputs": [
    {
     "name": "stdout",
     "output_type": "stream",
     "text": [
      "Fitting 3 folds for each of 32 candidates, totalling 96 fits\n",
      "[CV] max_depth=3, min_samples_leaf=20, min_samples_split=40, n_estimators=10, subsample=0.25 \n",
      "[CV]  max_depth=3, min_samples_leaf=20, min_samples_split=40, n_estimators=10, subsample=0.25, total=   0.0s\n",
      "[CV] max_depth=3, min_samples_leaf=20, min_samples_split=40, n_estimators=10, subsample=0.25 \n"
     ]
    },
    {
     "name": "stderr",
     "output_type": "stream",
     "text": [
      "C:\\ProgramData\\Anaconda3\\lib\\site-packages\\sklearn\\utils\\validation.py:578: DataConversionWarning: A column-vector y was passed when a 1d array was expected. Please change the shape of y to (n_samples, ), for example using ravel().\n",
      "  y = column_or_1d(y, warn=True)\n",
      "[Parallel(n_jobs=1)]: Done   1 out of   1 | elapsed:    0.0s remaining:    0.0s\n",
      "C:\\ProgramData\\Anaconda3\\lib\\site-packages\\sklearn\\utils\\validation.py:578: DataConversionWarning: A column-vector y was passed when a 1d array was expected. Please change the shape of y to (n_samples, ), for example using ravel().\n",
      "  y = column_or_1d(y, warn=True)\n"
     ]
    },
    {
     "name": "stdout",
     "output_type": "stream",
     "text": [
      "[CV]  max_depth=3, min_samples_leaf=20, min_samples_split=40, n_estimators=10, subsample=0.25, total=   0.0s\n",
      "[CV] max_depth=3, min_samples_leaf=20, min_samples_split=40, n_estimators=10, subsample=0.25 \n",
      "[CV]  max_depth=3, min_samples_leaf=20, min_samples_split=40, n_estimators=10, subsample=0.25, total=   0.0s\n",
      "[CV] max_depth=3, min_samples_leaf=20, min_samples_split=40, n_estimators=10, subsample=0.5 \n"
     ]
    },
    {
     "name": "stderr",
     "output_type": "stream",
     "text": [
      "C:\\ProgramData\\Anaconda3\\lib\\site-packages\\sklearn\\utils\\validation.py:578: DataConversionWarning: A column-vector y was passed when a 1d array was expected. Please change the shape of y to (n_samples, ), for example using ravel().\n",
      "  y = column_or_1d(y, warn=True)\n",
      "C:\\ProgramData\\Anaconda3\\lib\\site-packages\\sklearn\\utils\\validation.py:578: DataConversionWarning: A column-vector y was passed when a 1d array was expected. Please change the shape of y to (n_samples, ), for example using ravel().\n",
      "  y = column_or_1d(y, warn=True)\n"
     ]
    },
    {
     "name": "stdout",
     "output_type": "stream",
     "text": [
      "[CV]  max_depth=3, min_samples_leaf=20, min_samples_split=40, n_estimators=10, subsample=0.5, total=   0.0s\n",
      "[CV] max_depth=3, min_samples_leaf=20, min_samples_split=40, n_estimators=10, subsample=0.5 \n",
      "[CV]  max_depth=3, min_samples_leaf=20, min_samples_split=40, n_estimators=10, subsample=0.5, total=   0.0s\n",
      "[CV] max_depth=3, min_samples_leaf=20, min_samples_split=40, n_estimators=10, subsample=0.5 \n"
     ]
    },
    {
     "name": "stderr",
     "output_type": "stream",
     "text": [
      "C:\\ProgramData\\Anaconda3\\lib\\site-packages\\sklearn\\utils\\validation.py:578: DataConversionWarning: A column-vector y was passed when a 1d array was expected. Please change the shape of y to (n_samples, ), for example using ravel().\n",
      "  y = column_or_1d(y, warn=True)\n",
      "C:\\ProgramData\\Anaconda3\\lib\\site-packages\\sklearn\\utils\\validation.py:578: DataConversionWarning: A column-vector y was passed when a 1d array was expected. Please change the shape of y to (n_samples, ), for example using ravel().\n",
      "  y = column_or_1d(y, warn=True)\n"
     ]
    },
    {
     "name": "stdout",
     "output_type": "stream",
     "text": [
      "[CV]  max_depth=3, min_samples_leaf=20, min_samples_split=40, n_estimators=10, subsample=0.5, total=   0.0s\n",
      "[CV] max_depth=3, min_samples_leaf=20, min_samples_split=40, n_estimators=15, subsample=0.25 \n",
      "[CV]  max_depth=3, min_samples_leaf=20, min_samples_split=40, n_estimators=15, subsample=0.25, total=   0.1s\n",
      "[CV] max_depth=3, min_samples_leaf=20, min_samples_split=40, n_estimators=15, subsample=0.25 \n"
     ]
    },
    {
     "name": "stderr",
     "output_type": "stream",
     "text": [
      "C:\\ProgramData\\Anaconda3\\lib\\site-packages\\sklearn\\utils\\validation.py:578: DataConversionWarning: A column-vector y was passed when a 1d array was expected. Please change the shape of y to (n_samples, ), for example using ravel().\n",
      "  y = column_or_1d(y, warn=True)\n"
     ]
    },
    {
     "name": "stdout",
     "output_type": "stream",
     "text": [
      "[CV]  max_depth=3, min_samples_leaf=20, min_samples_split=40, n_estimators=15, subsample=0.25, total=   0.1s\n",
      "[CV] max_depth=3, min_samples_leaf=20, min_samples_split=40, n_estimators=15, subsample=0.25 \n"
     ]
    },
    {
     "name": "stderr",
     "output_type": "stream",
     "text": [
      "C:\\ProgramData\\Anaconda3\\lib\\site-packages\\sklearn\\utils\\validation.py:578: DataConversionWarning: A column-vector y was passed when a 1d array was expected. Please change the shape of y to (n_samples, ), for example using ravel().\n",
      "  y = column_or_1d(y, warn=True)\n"
     ]
    },
    {
     "name": "stdout",
     "output_type": "stream",
     "text": [
      "[CV]  max_depth=3, min_samples_leaf=20, min_samples_split=40, n_estimators=15, subsample=0.25, total=   0.1s\n",
      "[CV] max_depth=3, min_samples_leaf=20, min_samples_split=40, n_estimators=15, subsample=0.5 \n"
     ]
    },
    {
     "name": "stderr",
     "output_type": "stream",
     "text": [
      "C:\\ProgramData\\Anaconda3\\lib\\site-packages\\sklearn\\utils\\validation.py:578: DataConversionWarning: A column-vector y was passed when a 1d array was expected. Please change the shape of y to (n_samples, ), for example using ravel().\n",
      "  y = column_or_1d(y, warn=True)\n",
      "C:\\ProgramData\\Anaconda3\\lib\\site-packages\\sklearn\\utils\\validation.py:578: DataConversionWarning: A column-vector y was passed when a 1d array was expected. Please change the shape of y to (n_samples, ), for example using ravel().\n",
      "  y = column_or_1d(y, warn=True)\n"
     ]
    },
    {
     "name": "stdout",
     "output_type": "stream",
     "text": [
      "[CV]  max_depth=3, min_samples_leaf=20, min_samples_split=40, n_estimators=15, subsample=0.5, total=   0.1s\n",
      "[CV] max_depth=3, min_samples_leaf=20, min_samples_split=40, n_estimators=15, subsample=0.5 \n"
     ]
    },
    {
     "name": "stderr",
     "output_type": "stream",
     "text": [
      "C:\\ProgramData\\Anaconda3\\lib\\site-packages\\sklearn\\utils\\validation.py:578: DataConversionWarning: A column-vector y was passed when a 1d array was expected. Please change the shape of y to (n_samples, ), for example using ravel().\n",
      "  y = column_or_1d(y, warn=True)\n"
     ]
    },
    {
     "name": "stdout",
     "output_type": "stream",
     "text": [
      "[CV]  max_depth=3, min_samples_leaf=20, min_samples_split=40, n_estimators=15, subsample=0.5, total=   0.1s\n",
      "[CV] max_depth=3, min_samples_leaf=20, min_samples_split=40, n_estimators=15, subsample=0.5 \n"
     ]
    },
    {
     "name": "stderr",
     "output_type": "stream",
     "text": [
      "C:\\ProgramData\\Anaconda3\\lib\\site-packages\\sklearn\\utils\\validation.py:578: DataConversionWarning: A column-vector y was passed when a 1d array was expected. Please change the shape of y to (n_samples, ), for example using ravel().\n",
      "  y = column_or_1d(y, warn=True)\n"
     ]
    },
    {
     "name": "stdout",
     "output_type": "stream",
     "text": [
      "[CV]  max_depth=3, min_samples_leaf=20, min_samples_split=40, n_estimators=15, subsample=0.5, total=   0.1s\n",
      "[CV] max_depth=3, min_samples_leaf=20, min_samples_split=60, n_estimators=10, subsample=0.25 \n",
      "[CV]  max_depth=3, min_samples_leaf=20, min_samples_split=60, n_estimators=10, subsample=0.25, total=   0.0s\n",
      "[CV] max_depth=3, min_samples_leaf=20, min_samples_split=60, n_estimators=10, subsample=0.25 \n"
     ]
    },
    {
     "name": "stderr",
     "output_type": "stream",
     "text": [
      "C:\\ProgramData\\Anaconda3\\lib\\site-packages\\sklearn\\utils\\validation.py:578: DataConversionWarning: A column-vector y was passed when a 1d array was expected. Please change the shape of y to (n_samples, ), for example using ravel().\n",
      "  y = column_or_1d(y, warn=True)\n",
      "C:\\ProgramData\\Anaconda3\\lib\\site-packages\\sklearn\\utils\\validation.py:578: DataConversionWarning: A column-vector y was passed when a 1d array was expected. Please change the shape of y to (n_samples, ), for example using ravel().\n",
      "  y = column_or_1d(y, warn=True)\n"
     ]
    },
    {
     "name": "stdout",
     "output_type": "stream",
     "text": [
      "[CV]  max_depth=3, min_samples_leaf=20, min_samples_split=60, n_estimators=10, subsample=0.25, total=   0.0s\n",
      "[CV] max_depth=3, min_samples_leaf=20, min_samples_split=60, n_estimators=10, subsample=0.25 \n",
      "[CV]  max_depth=3, min_samples_leaf=20, min_samples_split=60, n_estimators=10, subsample=0.25, total=   0.0s\n",
      "[CV] max_depth=3, min_samples_leaf=20, min_samples_split=60, n_estimators=10, subsample=0.5 \n"
     ]
    },
    {
     "name": "stderr",
     "output_type": "stream",
     "text": [
      "C:\\ProgramData\\Anaconda3\\lib\\site-packages\\sklearn\\utils\\validation.py:578: DataConversionWarning: A column-vector y was passed when a 1d array was expected. Please change the shape of y to (n_samples, ), for example using ravel().\n",
      "  y = column_or_1d(y, warn=True)\n",
      "C:\\ProgramData\\Anaconda3\\lib\\site-packages\\sklearn\\utils\\validation.py:578: DataConversionWarning: A column-vector y was passed when a 1d array was expected. Please change the shape of y to (n_samples, ), for example using ravel().\n",
      "  y = column_or_1d(y, warn=True)\n"
     ]
    },
    {
     "name": "stdout",
     "output_type": "stream",
     "text": [
      "[CV]  max_depth=3, min_samples_leaf=20, min_samples_split=60, n_estimators=10, subsample=0.5, total=   0.0s\n",
      "[CV] max_depth=3, min_samples_leaf=20, min_samples_split=60, n_estimators=10, subsample=0.5 \n",
      "[CV]  max_depth=3, min_samples_leaf=20, min_samples_split=60, n_estimators=10, subsample=0.5, total=   0.0s\n",
      "[CV] max_depth=3, min_samples_leaf=20, min_samples_split=60, n_estimators=10, subsample=0.5 \n"
     ]
    },
    {
     "name": "stderr",
     "output_type": "stream",
     "text": [
      "C:\\ProgramData\\Anaconda3\\lib\\site-packages\\sklearn\\utils\\validation.py:578: DataConversionWarning: A column-vector y was passed when a 1d array was expected. Please change the shape of y to (n_samples, ), for example using ravel().\n",
      "  y = column_or_1d(y, warn=True)\n",
      "C:\\ProgramData\\Anaconda3\\lib\\site-packages\\sklearn\\utils\\validation.py:578: DataConversionWarning: A column-vector y was passed when a 1d array was expected. Please change the shape of y to (n_samples, ), for example using ravel().\n",
      "  y = column_or_1d(y, warn=True)\n"
     ]
    },
    {
     "name": "stdout",
     "output_type": "stream",
     "text": [
      "[CV]  max_depth=3, min_samples_leaf=20, min_samples_split=60, n_estimators=10, subsample=0.5, total=   0.0s\n",
      "[CV] max_depth=3, min_samples_leaf=20, min_samples_split=60, n_estimators=15, subsample=0.25 \n",
      "[CV]  max_depth=3, min_samples_leaf=20, min_samples_split=60, n_estimators=15, subsample=0.25, total=   0.1s\n",
      "[CV] max_depth=3, min_samples_leaf=20, min_samples_split=60, n_estimators=15, subsample=0.25 \n"
     ]
    },
    {
     "name": "stderr",
     "output_type": "stream",
     "text": [
      "C:\\ProgramData\\Anaconda3\\lib\\site-packages\\sklearn\\utils\\validation.py:578: DataConversionWarning: A column-vector y was passed when a 1d array was expected. Please change the shape of y to (n_samples, ), for example using ravel().\n",
      "  y = column_or_1d(y, warn=True)\n",
      "C:\\ProgramData\\Anaconda3\\lib\\site-packages\\sklearn\\utils\\validation.py:578: DataConversionWarning: A column-vector y was passed when a 1d array was expected. Please change the shape of y to (n_samples, ), for example using ravel().\n",
      "  y = column_or_1d(y, warn=True)\n"
     ]
    },
    {
     "name": "stdout",
     "output_type": "stream",
     "text": [
      "[CV]  max_depth=3, min_samples_leaf=20, min_samples_split=60, n_estimators=15, subsample=0.25, total=   0.1s\n",
      "[CV] max_depth=3, min_samples_leaf=20, min_samples_split=60, n_estimators=15, subsample=0.25 \n",
      "[CV]  max_depth=3, min_samples_leaf=20, min_samples_split=60, n_estimators=15, subsample=0.25, total=   0.1s\n",
      "[CV] max_depth=3, min_samples_leaf=20, min_samples_split=60, n_estimators=15, subsample=0.5 \n"
     ]
    },
    {
     "name": "stderr",
     "output_type": "stream",
     "text": [
      "C:\\ProgramData\\Anaconda3\\lib\\site-packages\\sklearn\\utils\\validation.py:578: DataConversionWarning: A column-vector y was passed when a 1d array was expected. Please change the shape of y to (n_samples, ), for example using ravel().\n",
      "  y = column_or_1d(y, warn=True)\n",
      "C:\\ProgramData\\Anaconda3\\lib\\site-packages\\sklearn\\utils\\validation.py:578: DataConversionWarning: A column-vector y was passed when a 1d array was expected. Please change the shape of y to (n_samples, ), for example using ravel().\n",
      "  y = column_or_1d(y, warn=True)\n"
     ]
    },
    {
     "name": "stdout",
     "output_type": "stream",
     "text": [
      "[CV]  max_depth=3, min_samples_leaf=20, min_samples_split=60, n_estimators=15, subsample=0.5, total=   0.1s\n",
      "[CV] max_depth=3, min_samples_leaf=20, min_samples_split=60, n_estimators=15, subsample=0.5 \n"
     ]
    },
    {
     "name": "stderr",
     "output_type": "stream",
     "text": [
      "C:\\ProgramData\\Anaconda3\\lib\\site-packages\\sklearn\\utils\\validation.py:578: DataConversionWarning: A column-vector y was passed when a 1d array was expected. Please change the shape of y to (n_samples, ), for example using ravel().\n",
      "  y = column_or_1d(y, warn=True)\n"
     ]
    },
    {
     "name": "stdout",
     "output_type": "stream",
     "text": [
      "[CV]  max_depth=3, min_samples_leaf=20, min_samples_split=60, n_estimators=15, subsample=0.5, total=   0.1s\n",
      "[CV] max_depth=3, min_samples_leaf=20, min_samples_split=60, n_estimators=15, subsample=0.5 \n"
     ]
    },
    {
     "name": "stderr",
     "output_type": "stream",
     "text": [
      "C:\\ProgramData\\Anaconda3\\lib\\site-packages\\sklearn\\utils\\validation.py:578: DataConversionWarning: A column-vector y was passed when a 1d array was expected. Please change the shape of y to (n_samples, ), for example using ravel().\n",
      "  y = column_or_1d(y, warn=True)\n"
     ]
    },
    {
     "name": "stdout",
     "output_type": "stream",
     "text": [
      "[CV]  max_depth=3, min_samples_leaf=20, min_samples_split=60, n_estimators=15, subsample=0.5, total=   0.1s\n",
      "[CV] max_depth=3, min_samples_leaf=40, min_samples_split=40, n_estimators=10, subsample=0.25 \n",
      "[CV]  max_depth=3, min_samples_leaf=40, min_samples_split=40, n_estimators=10, subsample=0.25, total=   0.0s\n",
      "[CV] max_depth=3, min_samples_leaf=40, min_samples_split=40, n_estimators=10, subsample=0.25 \n"
     ]
    },
    {
     "name": "stderr",
     "output_type": "stream",
     "text": [
      "C:\\ProgramData\\Anaconda3\\lib\\site-packages\\sklearn\\utils\\validation.py:578: DataConversionWarning: A column-vector y was passed when a 1d array was expected. Please change the shape of y to (n_samples, ), for example using ravel().\n",
      "  y = column_or_1d(y, warn=True)\n",
      "C:\\ProgramData\\Anaconda3\\lib\\site-packages\\sklearn\\utils\\validation.py:578: DataConversionWarning: A column-vector y was passed when a 1d array was expected. Please change the shape of y to (n_samples, ), for example using ravel().\n",
      "  y = column_or_1d(y, warn=True)\n"
     ]
    },
    {
     "name": "stdout",
     "output_type": "stream",
     "text": [
      "[CV]  max_depth=3, min_samples_leaf=40, min_samples_split=40, n_estimators=10, subsample=0.25, total=   0.0s\n",
      "[CV] max_depth=3, min_samples_leaf=40, min_samples_split=40, n_estimators=10, subsample=0.25 \n",
      "[CV]  max_depth=3, min_samples_leaf=40, min_samples_split=40, n_estimators=10, subsample=0.25, total=   0.0s\n",
      "[CV] max_depth=3, min_samples_leaf=40, min_samples_split=40, n_estimators=10, subsample=0.5 \n"
     ]
    },
    {
     "name": "stderr",
     "output_type": "stream",
     "text": [
      "C:\\ProgramData\\Anaconda3\\lib\\site-packages\\sklearn\\utils\\validation.py:578: DataConversionWarning: A column-vector y was passed when a 1d array was expected. Please change the shape of y to (n_samples, ), for example using ravel().\n",
      "  y = column_or_1d(y, warn=True)\n",
      "C:\\ProgramData\\Anaconda3\\lib\\site-packages\\sklearn\\utils\\validation.py:578: DataConversionWarning: A column-vector y was passed when a 1d array was expected. Please change the shape of y to (n_samples, ), for example using ravel().\n",
      "  y = column_or_1d(y, warn=True)\n"
     ]
    },
    {
     "name": "stdout",
     "output_type": "stream",
     "text": [
      "[CV]  max_depth=3, min_samples_leaf=40, min_samples_split=40, n_estimators=10, subsample=0.5, total=   0.0s\n",
      "[CV] max_depth=3, min_samples_leaf=40, min_samples_split=40, n_estimators=10, subsample=0.5 \n",
      "[CV]  max_depth=3, min_samples_leaf=40, min_samples_split=40, n_estimators=10, subsample=0.5, total=   0.0s\n",
      "[CV] max_depth=3, min_samples_leaf=40, min_samples_split=40, n_estimators=10, subsample=0.5 \n"
     ]
    },
    {
     "name": "stderr",
     "output_type": "stream",
     "text": [
      "C:\\ProgramData\\Anaconda3\\lib\\site-packages\\sklearn\\utils\\validation.py:578: DataConversionWarning: A column-vector y was passed when a 1d array was expected. Please change the shape of y to (n_samples, ), for example using ravel().\n",
      "  y = column_or_1d(y, warn=True)\n",
      "C:\\ProgramData\\Anaconda3\\lib\\site-packages\\sklearn\\utils\\validation.py:578: DataConversionWarning: A column-vector y was passed when a 1d array was expected. Please change the shape of y to (n_samples, ), for example using ravel().\n",
      "  y = column_or_1d(y, warn=True)\n"
     ]
    },
    {
     "name": "stdout",
     "output_type": "stream",
     "text": [
      "[CV]  max_depth=3, min_samples_leaf=40, min_samples_split=40, n_estimators=10, subsample=0.5, total=   0.1s\n",
      "[CV] max_depth=3, min_samples_leaf=40, min_samples_split=40, n_estimators=15, subsample=0.25 \n"
     ]
    },
    {
     "name": "stderr",
     "output_type": "stream",
     "text": [
      "C:\\ProgramData\\Anaconda3\\lib\\site-packages\\sklearn\\utils\\validation.py:578: DataConversionWarning: A column-vector y was passed when a 1d array was expected. Please change the shape of y to (n_samples, ), for example using ravel().\n",
      "  y = column_or_1d(y, warn=True)\n"
     ]
    },
    {
     "name": "stdout",
     "output_type": "stream",
     "text": [
      "[CV]  max_depth=3, min_samples_leaf=40, min_samples_split=40, n_estimators=15, subsample=0.25, total=   0.1s\n",
      "[CV] max_depth=3, min_samples_leaf=40, min_samples_split=40, n_estimators=15, subsample=0.25 \n",
      "[CV]  max_depth=3, min_samples_leaf=40, min_samples_split=40, n_estimators=15, subsample=0.25, total=   0.1s\n",
      "[CV] max_depth=3, min_samples_leaf=40, min_samples_split=40, n_estimators=15, subsample=0.25 \n"
     ]
    },
    {
     "name": "stderr",
     "output_type": "stream",
     "text": [
      "C:\\ProgramData\\Anaconda3\\lib\\site-packages\\sklearn\\utils\\validation.py:578: DataConversionWarning: A column-vector y was passed when a 1d array was expected. Please change the shape of y to (n_samples, ), for example using ravel().\n",
      "  y = column_or_1d(y, warn=True)\n",
      "C:\\ProgramData\\Anaconda3\\lib\\site-packages\\sklearn\\utils\\validation.py:578: DataConversionWarning: A column-vector y was passed when a 1d array was expected. Please change the shape of y to (n_samples, ), for example using ravel().\n",
      "  y = column_or_1d(y, warn=True)\n"
     ]
    },
    {
     "name": "stdout",
     "output_type": "stream",
     "text": [
      "[CV]  max_depth=3, min_samples_leaf=40, min_samples_split=40, n_estimators=15, subsample=0.25, total=   0.1s\n",
      "[CV] max_depth=3, min_samples_leaf=40, min_samples_split=40, n_estimators=15, subsample=0.5 \n"
     ]
    },
    {
     "name": "stderr",
     "output_type": "stream",
     "text": [
      "C:\\ProgramData\\Anaconda3\\lib\\site-packages\\sklearn\\utils\\validation.py:578: DataConversionWarning: A column-vector y was passed when a 1d array was expected. Please change the shape of y to (n_samples, ), for example using ravel().\n",
      "  y = column_or_1d(y, warn=True)\n"
     ]
    },
    {
     "name": "stdout",
     "output_type": "stream",
     "text": [
      "[CV]  max_depth=3, min_samples_leaf=40, min_samples_split=40, n_estimators=15, subsample=0.5, total=   0.1s\n",
      "[CV] max_depth=3, min_samples_leaf=40, min_samples_split=40, n_estimators=15, subsample=0.5 \n"
     ]
    },
    {
     "name": "stderr",
     "output_type": "stream",
     "text": [
      "C:\\ProgramData\\Anaconda3\\lib\\site-packages\\sklearn\\utils\\validation.py:578: DataConversionWarning: A column-vector y was passed when a 1d array was expected. Please change the shape of y to (n_samples, ), for example using ravel().\n",
      "  y = column_or_1d(y, warn=True)\n"
     ]
    },
    {
     "name": "stdout",
     "output_type": "stream",
     "text": [
      "[CV]  max_depth=3, min_samples_leaf=40, min_samples_split=40, n_estimators=15, subsample=0.5, total=   0.1s\n",
      "[CV] max_depth=3, min_samples_leaf=40, min_samples_split=40, n_estimators=15, subsample=0.5 \n"
     ]
    },
    {
     "name": "stderr",
     "output_type": "stream",
     "text": [
      "C:\\ProgramData\\Anaconda3\\lib\\site-packages\\sklearn\\utils\\validation.py:578: DataConversionWarning: A column-vector y was passed when a 1d array was expected. Please change the shape of y to (n_samples, ), for example using ravel().\n",
      "  y = column_or_1d(y, warn=True)\n"
     ]
    },
    {
     "name": "stdout",
     "output_type": "stream",
     "text": [
      "[CV]  max_depth=3, min_samples_leaf=40, min_samples_split=40, n_estimators=15, subsample=0.5, total=   0.1s\n",
      "[CV] max_depth=3, min_samples_leaf=40, min_samples_split=60, n_estimators=10, subsample=0.25 \n",
      "[CV]  max_depth=3, min_samples_leaf=40, min_samples_split=60, n_estimators=10, subsample=0.25, total=   0.0s\n",
      "[CV] max_depth=3, min_samples_leaf=40, min_samples_split=60, n_estimators=10, subsample=0.25 \n"
     ]
    },
    {
     "name": "stderr",
     "output_type": "stream",
     "text": [
      "C:\\ProgramData\\Anaconda3\\lib\\site-packages\\sklearn\\utils\\validation.py:578: DataConversionWarning: A column-vector y was passed when a 1d array was expected. Please change the shape of y to (n_samples, ), for example using ravel().\n",
      "  y = column_or_1d(y, warn=True)\n",
      "C:\\ProgramData\\Anaconda3\\lib\\site-packages\\sklearn\\utils\\validation.py:578: DataConversionWarning: A column-vector y was passed when a 1d array was expected. Please change the shape of y to (n_samples, ), for example using ravel().\n",
      "  y = column_or_1d(y, warn=True)\n"
     ]
    },
    {
     "name": "stdout",
     "output_type": "stream",
     "text": [
      "[CV]  max_depth=3, min_samples_leaf=40, min_samples_split=60, n_estimators=10, subsample=0.25, total=   0.0s\n",
      "[CV] max_depth=3, min_samples_leaf=40, min_samples_split=60, n_estimators=10, subsample=0.25 \n",
      "[CV]  max_depth=3, min_samples_leaf=40, min_samples_split=60, n_estimators=10, subsample=0.25, total=   0.0s\n",
      "[CV] max_depth=3, min_samples_leaf=40, min_samples_split=60, n_estimators=10, subsample=0.5 \n"
     ]
    },
    {
     "name": "stderr",
     "output_type": "stream",
     "text": [
      "C:\\ProgramData\\Anaconda3\\lib\\site-packages\\sklearn\\utils\\validation.py:578: DataConversionWarning: A column-vector y was passed when a 1d array was expected. Please change the shape of y to (n_samples, ), for example using ravel().\n",
      "  y = column_or_1d(y, warn=True)\n",
      "C:\\ProgramData\\Anaconda3\\lib\\site-packages\\sklearn\\utils\\validation.py:578: DataConversionWarning: A column-vector y was passed when a 1d array was expected. Please change the shape of y to (n_samples, ), for example using ravel().\n",
      "  y = column_or_1d(y, warn=True)\n"
     ]
    },
    {
     "name": "stdout",
     "output_type": "stream",
     "text": [
      "[CV]  max_depth=3, min_samples_leaf=40, min_samples_split=60, n_estimators=10, subsample=0.5, total=   0.1s\n",
      "[CV] max_depth=3, min_samples_leaf=40, min_samples_split=60, n_estimators=10, subsample=0.5 \n",
      "[CV]  max_depth=3, min_samples_leaf=40, min_samples_split=60, n_estimators=10, subsample=0.5, total=   0.1s\n",
      "[CV] max_depth=3, min_samples_leaf=40, min_samples_split=60, n_estimators=10, subsample=0.5 \n"
     ]
    },
    {
     "name": "stderr",
     "output_type": "stream",
     "text": [
      "C:\\ProgramData\\Anaconda3\\lib\\site-packages\\sklearn\\utils\\validation.py:578: DataConversionWarning: A column-vector y was passed when a 1d array was expected. Please change the shape of y to (n_samples, ), for example using ravel().\n",
      "  y = column_or_1d(y, warn=True)\n",
      "C:\\ProgramData\\Anaconda3\\lib\\site-packages\\sklearn\\utils\\validation.py:578: DataConversionWarning: A column-vector y was passed when a 1d array was expected. Please change the shape of y to (n_samples, ), for example using ravel().\n",
      "  y = column_or_1d(y, warn=True)\n"
     ]
    },
    {
     "name": "stdout",
     "output_type": "stream",
     "text": [
      "[CV]  max_depth=3, min_samples_leaf=40, min_samples_split=60, n_estimators=10, subsample=0.5, total=   0.0s\n",
      "[CV] max_depth=3, min_samples_leaf=40, min_samples_split=60, n_estimators=15, subsample=0.25 \n",
      "[CV]  max_depth=3, min_samples_leaf=40, min_samples_split=60, n_estimators=15, subsample=0.25, total=   0.1s\n"
     ]
    },
    {
     "name": "stderr",
     "output_type": "stream",
     "text": [
      "C:\\ProgramData\\Anaconda3\\lib\\site-packages\\sklearn\\utils\\validation.py:578: DataConversionWarning: A column-vector y was passed when a 1d array was expected. Please change the shape of y to (n_samples, ), for example using ravel().\n",
      "  y = column_or_1d(y, warn=True)\n",
      "C:\\ProgramData\\Anaconda3\\lib\\site-packages\\sklearn\\utils\\validation.py:578: DataConversionWarning: A column-vector y was passed when a 1d array was expected. Please change the shape of y to (n_samples, ), for example using ravel().\n",
      "  y = column_or_1d(y, warn=True)\n"
     ]
    },
    {
     "name": "stdout",
     "output_type": "stream",
     "text": [
      "[CV] max_depth=3, min_samples_leaf=40, min_samples_split=60, n_estimators=15, subsample=0.25 \n",
      "[CV]  max_depth=3, min_samples_leaf=40, min_samples_split=60, n_estimators=15, subsample=0.25, total=   0.1s\n",
      "[CV] max_depth=3, min_samples_leaf=40, min_samples_split=60, n_estimators=15, subsample=0.25 \n",
      "[CV]  max_depth=3, min_samples_leaf=40, min_samples_split=60, n_estimators=15, subsample=0.25, total=   0.1s\n",
      "[CV] max_depth=3, min_samples_leaf=40, min_samples_split=60, n_estimators=15, subsample=0.5 \n"
     ]
    },
    {
     "name": "stderr",
     "output_type": "stream",
     "text": [
      "C:\\ProgramData\\Anaconda3\\lib\\site-packages\\sklearn\\utils\\validation.py:578: DataConversionWarning: A column-vector y was passed when a 1d array was expected. Please change the shape of y to (n_samples, ), for example using ravel().\n",
      "  y = column_or_1d(y, warn=True)\n",
      "C:\\ProgramData\\Anaconda3\\lib\\site-packages\\sklearn\\utils\\validation.py:578: DataConversionWarning: A column-vector y was passed when a 1d array was expected. Please change the shape of y to (n_samples, ), for example using ravel().\n",
      "  y = column_or_1d(y, warn=True)\n"
     ]
    },
    {
     "name": "stdout",
     "output_type": "stream",
     "text": [
      "[CV]  max_depth=3, min_samples_leaf=40, min_samples_split=60, n_estimators=15, subsample=0.5, total=   0.1s\n",
      "[CV] max_depth=3, min_samples_leaf=40, min_samples_split=60, n_estimators=15, subsample=0.5 \n"
     ]
    },
    {
     "name": "stderr",
     "output_type": "stream",
     "text": [
      "C:\\ProgramData\\Anaconda3\\lib\\site-packages\\sklearn\\utils\\validation.py:578: DataConversionWarning: A column-vector y was passed when a 1d array was expected. Please change the shape of y to (n_samples, ), for example using ravel().\n",
      "  y = column_or_1d(y, warn=True)\n"
     ]
    },
    {
     "name": "stdout",
     "output_type": "stream",
     "text": [
      "[CV]  max_depth=3, min_samples_leaf=40, min_samples_split=60, n_estimators=15, subsample=0.5, total=   0.1s\n",
      "[CV] max_depth=3, min_samples_leaf=40, min_samples_split=60, n_estimators=15, subsample=0.5 \n",
      "[CV]  max_depth=3, min_samples_leaf=40, min_samples_split=60, n_estimators=15, subsample=0.5, total=   0.1s\n",
      "[CV] max_depth=4, min_samples_leaf=20, min_samples_split=40, n_estimators=10, subsample=0.25 \n"
     ]
    },
    {
     "name": "stderr",
     "output_type": "stream",
     "text": [
      "C:\\ProgramData\\Anaconda3\\lib\\site-packages\\sklearn\\utils\\validation.py:578: DataConversionWarning: A column-vector y was passed when a 1d array was expected. Please change the shape of y to (n_samples, ), for example using ravel().\n",
      "  y = column_or_1d(y, warn=True)\n",
      "C:\\ProgramData\\Anaconda3\\lib\\site-packages\\sklearn\\utils\\validation.py:578: DataConversionWarning: A column-vector y was passed when a 1d array was expected. Please change the shape of y to (n_samples, ), for example using ravel().\n",
      "  y = column_or_1d(y, warn=True)\n",
      "C:\\ProgramData\\Anaconda3\\lib\\site-packages\\sklearn\\utils\\validation.py:578: DataConversionWarning: A column-vector y was passed when a 1d array was expected. Please change the shape of y to (n_samples, ), for example using ravel().\n",
      "  y = column_or_1d(y, warn=True)\n"
     ]
    },
    {
     "name": "stdout",
     "output_type": "stream",
     "text": [
      "[CV]  max_depth=4, min_samples_leaf=20, min_samples_split=40, n_estimators=10, subsample=0.25, total=   0.0s\n",
      "[CV] max_depth=4, min_samples_leaf=20, min_samples_split=40, n_estimators=10, subsample=0.25 \n",
      "[CV]  max_depth=4, min_samples_leaf=20, min_samples_split=40, n_estimators=10, subsample=0.25, total=   0.1s\n",
      "[CV] max_depth=4, min_samples_leaf=20, min_samples_split=40, n_estimators=10, subsample=0.25 \n"
     ]
    },
    {
     "name": "stderr",
     "output_type": "stream",
     "text": [
      "C:\\ProgramData\\Anaconda3\\lib\\site-packages\\sklearn\\utils\\validation.py:578: DataConversionWarning: A column-vector y was passed when a 1d array was expected. Please change the shape of y to (n_samples, ), for example using ravel().\n",
      "  y = column_or_1d(y, warn=True)\n",
      "C:\\ProgramData\\Anaconda3\\lib\\site-packages\\sklearn\\utils\\validation.py:578: DataConversionWarning: A column-vector y was passed when a 1d array was expected. Please change the shape of y to (n_samples, ), for example using ravel().\n",
      "  y = column_or_1d(y, warn=True)\n"
     ]
    },
    {
     "name": "stdout",
     "output_type": "stream",
     "text": [
      "[CV]  max_depth=4, min_samples_leaf=20, min_samples_split=40, n_estimators=10, subsample=0.25, total=   0.0s\n",
      "[CV] max_depth=4, min_samples_leaf=20, min_samples_split=40, n_estimators=10, subsample=0.5 \n",
      "[CV]  max_depth=4, min_samples_leaf=20, min_samples_split=40, n_estimators=10, subsample=0.5, total=   0.1s\n",
      "[CV] max_depth=4, min_samples_leaf=20, min_samples_split=40, n_estimators=10, subsample=0.5 \n"
     ]
    },
    {
     "name": "stderr",
     "output_type": "stream",
     "text": [
      "C:\\ProgramData\\Anaconda3\\lib\\site-packages\\sklearn\\utils\\validation.py:578: DataConversionWarning: A column-vector y was passed when a 1d array was expected. Please change the shape of y to (n_samples, ), for example using ravel().\n",
      "  y = column_or_1d(y, warn=True)\n"
     ]
    },
    {
     "name": "stdout",
     "output_type": "stream",
     "text": [
      "[CV]  max_depth=4, min_samples_leaf=20, min_samples_split=40, n_estimators=10, subsample=0.5, total=   0.1s\n",
      "[CV] max_depth=4, min_samples_leaf=20, min_samples_split=40, n_estimators=10, subsample=0.5 \n",
      "[CV]  max_depth=4, min_samples_leaf=20, min_samples_split=40, n_estimators=10, subsample=0.5, total=   0.1s\n",
      "[CV] max_depth=4, min_samples_leaf=20, min_samples_split=40, n_estimators=15, subsample=0.25 \n"
     ]
    },
    {
     "name": "stderr",
     "output_type": "stream",
     "text": [
      "C:\\ProgramData\\Anaconda3\\lib\\site-packages\\sklearn\\utils\\validation.py:578: DataConversionWarning: A column-vector y was passed when a 1d array was expected. Please change the shape of y to (n_samples, ), for example using ravel().\n",
      "  y = column_or_1d(y, warn=True)\n",
      "C:\\ProgramData\\Anaconda3\\lib\\site-packages\\sklearn\\utils\\validation.py:578: DataConversionWarning: A column-vector y was passed when a 1d array was expected. Please change the shape of y to (n_samples, ), for example using ravel().\n",
      "  y = column_or_1d(y, warn=True)\n"
     ]
    },
    {
     "name": "stdout",
     "output_type": "stream",
     "text": [
      "[CV]  max_depth=4, min_samples_leaf=20, min_samples_split=40, n_estimators=15, subsample=0.25, total=   0.1s\n",
      "[CV] max_depth=4, min_samples_leaf=20, min_samples_split=40, n_estimators=15, subsample=0.25 \n"
     ]
    },
    {
     "name": "stderr",
     "output_type": "stream",
     "text": [
      "C:\\ProgramData\\Anaconda3\\lib\\site-packages\\sklearn\\utils\\validation.py:578: DataConversionWarning: A column-vector y was passed when a 1d array was expected. Please change the shape of y to (n_samples, ), for example using ravel().\n",
      "  y = column_or_1d(y, warn=True)\n"
     ]
    },
    {
     "name": "stdout",
     "output_type": "stream",
     "text": [
      "[CV]  max_depth=4, min_samples_leaf=20, min_samples_split=40, n_estimators=15, subsample=0.25, total=   0.1s\n",
      "[CV] max_depth=4, min_samples_leaf=20, min_samples_split=40, n_estimators=15, subsample=0.25 \n",
      "[CV]  max_depth=4, min_samples_leaf=20, min_samples_split=40, n_estimators=15, subsample=0.25, total=   0.1s\n",
      "[CV] max_depth=4, min_samples_leaf=20, min_samples_split=40, n_estimators=15, subsample=0.5 \n"
     ]
    },
    {
     "name": "stderr",
     "output_type": "stream",
     "text": [
      "C:\\ProgramData\\Anaconda3\\lib\\site-packages\\sklearn\\utils\\validation.py:578: DataConversionWarning: A column-vector y was passed when a 1d array was expected. Please change the shape of y to (n_samples, ), for example using ravel().\n",
      "  y = column_or_1d(y, warn=True)\n",
      "C:\\ProgramData\\Anaconda3\\lib\\site-packages\\sklearn\\utils\\validation.py:578: DataConversionWarning: A column-vector y was passed when a 1d array was expected. Please change the shape of y to (n_samples, ), for example using ravel().\n",
      "  y = column_or_1d(y, warn=True)\n"
     ]
    },
    {
     "name": "stdout",
     "output_type": "stream",
     "text": [
      "[CV]  max_depth=4, min_samples_leaf=20, min_samples_split=40, n_estimators=15, subsample=0.5, total=   0.1s\n",
      "[CV] max_depth=4, min_samples_leaf=20, min_samples_split=40, n_estimators=15, subsample=0.5 \n"
     ]
    },
    {
     "name": "stderr",
     "output_type": "stream",
     "text": [
      "C:\\ProgramData\\Anaconda3\\lib\\site-packages\\sklearn\\utils\\validation.py:578: DataConversionWarning: A column-vector y was passed when a 1d array was expected. Please change the shape of y to (n_samples, ), for example using ravel().\n",
      "  y = column_or_1d(y, warn=True)\n"
     ]
    },
    {
     "name": "stdout",
     "output_type": "stream",
     "text": [
      "[CV]  max_depth=4, min_samples_leaf=20, min_samples_split=40, n_estimators=15, subsample=0.5, total=   0.1s\n",
      "[CV] max_depth=4, min_samples_leaf=20, min_samples_split=40, n_estimators=15, subsample=0.5 \n"
     ]
    },
    {
     "name": "stderr",
     "output_type": "stream",
     "text": [
      "C:\\ProgramData\\Anaconda3\\lib\\site-packages\\sklearn\\utils\\validation.py:578: DataConversionWarning: A column-vector y was passed when a 1d array was expected. Please change the shape of y to (n_samples, ), for example using ravel().\n",
      "  y = column_or_1d(y, warn=True)\n"
     ]
    },
    {
     "name": "stdout",
     "output_type": "stream",
     "text": [
      "[CV]  max_depth=4, min_samples_leaf=20, min_samples_split=40, n_estimators=15, subsample=0.5, total=   0.1s\n",
      "[CV] max_depth=4, min_samples_leaf=20, min_samples_split=60, n_estimators=10, subsample=0.25 \n",
      "[CV]  max_depth=4, min_samples_leaf=20, min_samples_split=60, n_estimators=10, subsample=0.25, total=   0.0s\n",
      "[CV] max_depth=4, min_samples_leaf=20, min_samples_split=60, n_estimators=10, subsample=0.25 \n"
     ]
    },
    {
     "name": "stderr",
     "output_type": "stream",
     "text": [
      "C:\\ProgramData\\Anaconda3\\lib\\site-packages\\sklearn\\utils\\validation.py:578: DataConversionWarning: A column-vector y was passed when a 1d array was expected. Please change the shape of y to (n_samples, ), for example using ravel().\n",
      "  y = column_or_1d(y, warn=True)\n",
      "C:\\ProgramData\\Anaconda3\\lib\\site-packages\\sklearn\\utils\\validation.py:578: DataConversionWarning: A column-vector y was passed when a 1d array was expected. Please change the shape of y to (n_samples, ), for example using ravel().\n",
      "  y = column_or_1d(y, warn=True)\n"
     ]
    },
    {
     "name": "stdout",
     "output_type": "stream",
     "text": [
      "[CV]  max_depth=4, min_samples_leaf=20, min_samples_split=60, n_estimators=10, subsample=0.25, total=   0.0s\n",
      "[CV] max_depth=4, min_samples_leaf=20, min_samples_split=60, n_estimators=10, subsample=0.25 \n",
      "[CV]  max_depth=4, min_samples_leaf=20, min_samples_split=60, n_estimators=10, subsample=0.25, total=   0.0s\n",
      "[CV] max_depth=4, min_samples_leaf=20, min_samples_split=60, n_estimators=10, subsample=0.5 \n"
     ]
    },
    {
     "name": "stderr",
     "output_type": "stream",
     "text": [
      "C:\\ProgramData\\Anaconda3\\lib\\site-packages\\sklearn\\utils\\validation.py:578: DataConversionWarning: A column-vector y was passed when a 1d array was expected. Please change the shape of y to (n_samples, ), for example using ravel().\n",
      "  y = column_or_1d(y, warn=True)\n",
      "C:\\ProgramData\\Anaconda3\\lib\\site-packages\\sklearn\\utils\\validation.py:578: DataConversionWarning: A column-vector y was passed when a 1d array was expected. Please change the shape of y to (n_samples, ), for example using ravel().\n",
      "  y = column_or_1d(y, warn=True)\n"
     ]
    },
    {
     "name": "stdout",
     "output_type": "stream",
     "text": [
      "[CV]  max_depth=4, min_samples_leaf=20, min_samples_split=60, n_estimators=10, subsample=0.5, total=   0.1s\n",
      "[CV] max_depth=4, min_samples_leaf=20, min_samples_split=60, n_estimators=10, subsample=0.5 \n",
      "[CV]  max_depth=4, min_samples_leaf=20, min_samples_split=60, n_estimators=10, subsample=0.5, total=   0.1s\n",
      "[CV] max_depth=4, min_samples_leaf=20, min_samples_split=60, n_estimators=10, subsample=0.5 \n"
     ]
    },
    {
     "name": "stderr",
     "output_type": "stream",
     "text": [
      "C:\\ProgramData\\Anaconda3\\lib\\site-packages\\sklearn\\utils\\validation.py:578: DataConversionWarning: A column-vector y was passed when a 1d array was expected. Please change the shape of y to (n_samples, ), for example using ravel().\n",
      "  y = column_or_1d(y, warn=True)\n",
      "C:\\ProgramData\\Anaconda3\\lib\\site-packages\\sklearn\\utils\\validation.py:578: DataConversionWarning: A column-vector y was passed when a 1d array was expected. Please change the shape of y to (n_samples, ), for example using ravel().\n",
      "  y = column_or_1d(y, warn=True)\n"
     ]
    },
    {
     "name": "stdout",
     "output_type": "stream",
     "text": [
      "[CV]  max_depth=4, min_samples_leaf=20, min_samples_split=60, n_estimators=10, subsample=0.5, total=   0.1s\n",
      "[CV] max_depth=4, min_samples_leaf=20, min_samples_split=60, n_estimators=15, subsample=0.25 \n"
     ]
    },
    {
     "name": "stderr",
     "output_type": "stream",
     "text": [
      "C:\\ProgramData\\Anaconda3\\lib\\site-packages\\sklearn\\utils\\validation.py:578: DataConversionWarning: A column-vector y was passed when a 1d array was expected. Please change the shape of y to (n_samples, ), for example using ravel().\n",
      "  y = column_or_1d(y, warn=True)\n"
     ]
    },
    {
     "name": "stdout",
     "output_type": "stream",
     "text": [
      "[CV]  max_depth=4, min_samples_leaf=20, min_samples_split=60, n_estimators=15, subsample=0.25, total=   0.1s\n",
      "[CV] max_depth=4, min_samples_leaf=20, min_samples_split=60, n_estimators=15, subsample=0.25 \n",
      "[CV]  max_depth=4, min_samples_leaf=20, min_samples_split=60, n_estimators=15, subsample=0.25, total=   0.1s\n",
      "[CV] max_depth=4, min_samples_leaf=20, min_samples_split=60, n_estimators=15, subsample=0.25 \n"
     ]
    },
    {
     "name": "stderr",
     "output_type": "stream",
     "text": [
      "C:\\ProgramData\\Anaconda3\\lib\\site-packages\\sklearn\\utils\\validation.py:578: DataConversionWarning: A column-vector y was passed when a 1d array was expected. Please change the shape of y to (n_samples, ), for example using ravel().\n",
      "  y = column_or_1d(y, warn=True)\n",
      "C:\\ProgramData\\Anaconda3\\lib\\site-packages\\sklearn\\utils\\validation.py:578: DataConversionWarning: A column-vector y was passed when a 1d array was expected. Please change the shape of y to (n_samples, ), for example using ravel().\n",
      "  y = column_or_1d(y, warn=True)\n"
     ]
    },
    {
     "name": "stdout",
     "output_type": "stream",
     "text": [
      "[CV]  max_depth=4, min_samples_leaf=20, min_samples_split=60, n_estimators=15, subsample=0.25, total=   0.1s\n",
      "[CV] max_depth=4, min_samples_leaf=20, min_samples_split=60, n_estimators=15, subsample=0.5 \n"
     ]
    },
    {
     "name": "stderr",
     "output_type": "stream",
     "text": [
      "C:\\ProgramData\\Anaconda3\\lib\\site-packages\\sklearn\\utils\\validation.py:578: DataConversionWarning: A column-vector y was passed when a 1d array was expected. Please change the shape of y to (n_samples, ), for example using ravel().\n",
      "  y = column_or_1d(y, warn=True)\n"
     ]
    },
    {
     "name": "stdout",
     "output_type": "stream",
     "text": [
      "[CV]  max_depth=4, min_samples_leaf=20, min_samples_split=60, n_estimators=15, subsample=0.5, total=   0.1s\n",
      "[CV] max_depth=4, min_samples_leaf=20, min_samples_split=60, n_estimators=15, subsample=0.5 \n"
     ]
    },
    {
     "name": "stderr",
     "output_type": "stream",
     "text": [
      "C:\\ProgramData\\Anaconda3\\lib\\site-packages\\sklearn\\utils\\validation.py:578: DataConversionWarning: A column-vector y was passed when a 1d array was expected. Please change the shape of y to (n_samples, ), for example using ravel().\n",
      "  y = column_or_1d(y, warn=True)\n"
     ]
    },
    {
     "name": "stdout",
     "output_type": "stream",
     "text": [
      "[CV]  max_depth=4, min_samples_leaf=20, min_samples_split=60, n_estimators=15, subsample=0.5, total=   0.1s\n",
      "[CV] max_depth=4, min_samples_leaf=20, min_samples_split=60, n_estimators=15, subsample=0.5 \n"
     ]
    },
    {
     "name": "stderr",
     "output_type": "stream",
     "text": [
      "C:\\ProgramData\\Anaconda3\\lib\\site-packages\\sklearn\\utils\\validation.py:578: DataConversionWarning: A column-vector y was passed when a 1d array was expected. Please change the shape of y to (n_samples, ), for example using ravel().\n",
      "  y = column_or_1d(y, warn=True)\n"
     ]
    },
    {
     "name": "stdout",
     "output_type": "stream",
     "text": [
      "[CV]  max_depth=4, min_samples_leaf=20, min_samples_split=60, n_estimators=15, subsample=0.5, total=   0.1s\n",
      "[CV] max_depth=4, min_samples_leaf=40, min_samples_split=40, n_estimators=10, subsample=0.25 \n",
      "[CV]  max_depth=4, min_samples_leaf=40, min_samples_split=40, n_estimators=10, subsample=0.25, total=   0.0s\n",
      "[CV] max_depth=4, min_samples_leaf=40, min_samples_split=40, n_estimators=10, subsample=0.25 \n"
     ]
    },
    {
     "name": "stderr",
     "output_type": "stream",
     "text": [
      "C:\\ProgramData\\Anaconda3\\lib\\site-packages\\sklearn\\utils\\validation.py:578: DataConversionWarning: A column-vector y was passed when a 1d array was expected. Please change the shape of y to (n_samples, ), for example using ravel().\n",
      "  y = column_or_1d(y, warn=True)\n",
      "C:\\ProgramData\\Anaconda3\\lib\\site-packages\\sklearn\\utils\\validation.py:578: DataConversionWarning: A column-vector y was passed when a 1d array was expected. Please change the shape of y to (n_samples, ), for example using ravel().\n",
      "  y = column_or_1d(y, warn=True)\n"
     ]
    },
    {
     "name": "stdout",
     "output_type": "stream",
     "text": [
      "[CV]  max_depth=4, min_samples_leaf=40, min_samples_split=40, n_estimators=10, subsample=0.25, total=   0.0s\n",
      "[CV] max_depth=4, min_samples_leaf=40, min_samples_split=40, n_estimators=10, subsample=0.25 \n",
      "[CV]  max_depth=4, min_samples_leaf=40, min_samples_split=40, n_estimators=10, subsample=0.25, total=   0.0s\n",
      "[CV] max_depth=4, min_samples_leaf=40, min_samples_split=40, n_estimators=10, subsample=0.5 \n"
     ]
    },
    {
     "name": "stderr",
     "output_type": "stream",
     "text": [
      "C:\\ProgramData\\Anaconda3\\lib\\site-packages\\sklearn\\utils\\validation.py:578: DataConversionWarning: A column-vector y was passed when a 1d array was expected. Please change the shape of y to (n_samples, ), for example using ravel().\n",
      "  y = column_or_1d(y, warn=True)\n",
      "C:\\ProgramData\\Anaconda3\\lib\\site-packages\\sklearn\\utils\\validation.py:578: DataConversionWarning: A column-vector y was passed when a 1d array was expected. Please change the shape of y to (n_samples, ), for example using ravel().\n",
      "  y = column_or_1d(y, warn=True)\n"
     ]
    },
    {
     "name": "stdout",
     "output_type": "stream",
     "text": [
      "[CV]  max_depth=4, min_samples_leaf=40, min_samples_split=40, n_estimators=10, subsample=0.5, total=   0.1s\n",
      "[CV] max_depth=4, min_samples_leaf=40, min_samples_split=40, n_estimators=10, subsample=0.5 \n",
      "[CV]  max_depth=4, min_samples_leaf=40, min_samples_split=40, n_estimators=10, subsample=0.5, total=   0.1s\n",
      "[CV] max_depth=4, min_samples_leaf=40, min_samples_split=40, n_estimators=10, subsample=0.5 \n"
     ]
    },
    {
     "name": "stderr",
     "output_type": "stream",
     "text": [
      "C:\\ProgramData\\Anaconda3\\lib\\site-packages\\sklearn\\utils\\validation.py:578: DataConversionWarning: A column-vector y was passed when a 1d array was expected. Please change the shape of y to (n_samples, ), for example using ravel().\n",
      "  y = column_or_1d(y, warn=True)\n",
      "C:\\ProgramData\\Anaconda3\\lib\\site-packages\\sklearn\\utils\\validation.py:578: DataConversionWarning: A column-vector y was passed when a 1d array was expected. Please change the shape of y to (n_samples, ), for example using ravel().\n",
      "  y = column_or_1d(y, warn=True)\n"
     ]
    },
    {
     "name": "stdout",
     "output_type": "stream",
     "text": [
      "[CV]  max_depth=4, min_samples_leaf=40, min_samples_split=40, n_estimators=10, subsample=0.5, total=   0.0s\n",
      "[CV] max_depth=4, min_samples_leaf=40, min_samples_split=40, n_estimators=15, subsample=0.25 \n",
      "[CV]  max_depth=4, min_samples_leaf=40, min_samples_split=40, n_estimators=15, subsample=0.25, total=   0.1s\n"
     ]
    },
    {
     "name": "stderr",
     "output_type": "stream",
     "text": [
      "C:\\ProgramData\\Anaconda3\\lib\\site-packages\\sklearn\\utils\\validation.py:578: DataConversionWarning: A column-vector y was passed when a 1d array was expected. Please change the shape of y to (n_samples, ), for example using ravel().\n",
      "  y = column_or_1d(y, warn=True)\n"
     ]
    },
    {
     "name": "stdout",
     "output_type": "stream",
     "text": [
      "[CV] max_depth=4, min_samples_leaf=40, min_samples_split=40, n_estimators=15, subsample=0.25 \n"
     ]
    },
    {
     "name": "stderr",
     "output_type": "stream",
     "text": [
      "C:\\ProgramData\\Anaconda3\\lib\\site-packages\\sklearn\\utils\\validation.py:578: DataConversionWarning: A column-vector y was passed when a 1d array was expected. Please change the shape of y to (n_samples, ), for example using ravel().\n",
      "  y = column_or_1d(y, warn=True)\n"
     ]
    },
    {
     "name": "stdout",
     "output_type": "stream",
     "text": [
      "[CV]  max_depth=4, min_samples_leaf=40, min_samples_split=40, n_estimators=15, subsample=0.25, total=   0.1s\n",
      "[CV] max_depth=4, min_samples_leaf=40, min_samples_split=40, n_estimators=15, subsample=0.25 \n"
     ]
    },
    {
     "name": "stderr",
     "output_type": "stream",
     "text": [
      "C:\\ProgramData\\Anaconda3\\lib\\site-packages\\sklearn\\utils\\validation.py:578: DataConversionWarning: A column-vector y was passed when a 1d array was expected. Please change the shape of y to (n_samples, ), for example using ravel().\n",
      "  y = column_or_1d(y, warn=True)\n"
     ]
    },
    {
     "name": "stdout",
     "output_type": "stream",
     "text": [
      "[CV]  max_depth=4, min_samples_leaf=40, min_samples_split=40, n_estimators=15, subsample=0.25, total=   0.1s\n",
      "[CV] max_depth=4, min_samples_leaf=40, min_samples_split=40, n_estimators=15, subsample=0.5 \n"
     ]
    },
    {
     "name": "stderr",
     "output_type": "stream",
     "text": [
      "C:\\ProgramData\\Anaconda3\\lib\\site-packages\\sklearn\\utils\\validation.py:578: DataConversionWarning: A column-vector y was passed when a 1d array was expected. Please change the shape of y to (n_samples, ), for example using ravel().\n",
      "  y = column_or_1d(y, warn=True)\n"
     ]
    },
    {
     "name": "stdout",
     "output_type": "stream",
     "text": [
      "[CV]  max_depth=4, min_samples_leaf=40, min_samples_split=40, n_estimators=15, subsample=0.5, total=   0.2s\n",
      "[CV] max_depth=4, min_samples_leaf=40, min_samples_split=40, n_estimators=15, subsample=0.5 \n"
     ]
    },
    {
     "name": "stderr",
     "output_type": "stream",
     "text": [
      "C:\\ProgramData\\Anaconda3\\lib\\site-packages\\sklearn\\utils\\validation.py:578: DataConversionWarning: A column-vector y was passed when a 1d array was expected. Please change the shape of y to (n_samples, ), for example using ravel().\n",
      "  y = column_or_1d(y, warn=True)\n"
     ]
    },
    {
     "name": "stdout",
     "output_type": "stream",
     "text": [
      "[CV]  max_depth=4, min_samples_leaf=40, min_samples_split=40, n_estimators=15, subsample=0.5, total=   0.2s\n",
      "[CV] max_depth=4, min_samples_leaf=40, min_samples_split=40, n_estimators=15, subsample=0.5 \n"
     ]
    },
    {
     "name": "stderr",
     "output_type": "stream",
     "text": [
      "C:\\ProgramData\\Anaconda3\\lib\\site-packages\\sklearn\\utils\\validation.py:578: DataConversionWarning: A column-vector y was passed when a 1d array was expected. Please change the shape of y to (n_samples, ), for example using ravel().\n",
      "  y = column_or_1d(y, warn=True)\n"
     ]
    },
    {
     "name": "stdout",
     "output_type": "stream",
     "text": [
      "[CV]  max_depth=4, min_samples_leaf=40, min_samples_split=40, n_estimators=15, subsample=0.5, total=   0.1s\n",
      "[CV] max_depth=4, min_samples_leaf=40, min_samples_split=60, n_estimators=10, subsample=0.25 \n",
      "[CV]  max_depth=4, min_samples_leaf=40, min_samples_split=60, n_estimators=10, subsample=0.25, total=   0.0s\n",
      "[CV] max_depth=4, min_samples_leaf=40, min_samples_split=60, n_estimators=10, subsample=0.25 \n"
     ]
    },
    {
     "name": "stderr",
     "output_type": "stream",
     "text": [
      "C:\\ProgramData\\Anaconda3\\lib\\site-packages\\sklearn\\utils\\validation.py:578: DataConversionWarning: A column-vector y was passed when a 1d array was expected. Please change the shape of y to (n_samples, ), for example using ravel().\n",
      "  y = column_or_1d(y, warn=True)\n",
      "C:\\ProgramData\\Anaconda3\\lib\\site-packages\\sklearn\\utils\\validation.py:578: DataConversionWarning: A column-vector y was passed when a 1d array was expected. Please change the shape of y to (n_samples, ), for example using ravel().\n",
      "  y = column_or_1d(y, warn=True)\n"
     ]
    },
    {
     "name": "stdout",
     "output_type": "stream",
     "text": [
      "[CV]  max_depth=4, min_samples_leaf=40, min_samples_split=60, n_estimators=10, subsample=0.25, total=   0.1s\n",
      "[CV] max_depth=4, min_samples_leaf=40, min_samples_split=60, n_estimators=10, subsample=0.25 \n",
      "[CV]  max_depth=4, min_samples_leaf=40, min_samples_split=60, n_estimators=10, subsample=0.25, total=   0.0s\n",
      "[CV] max_depth=4, min_samples_leaf=40, min_samples_split=60, n_estimators=10, subsample=0.5 \n"
     ]
    },
    {
     "name": "stderr",
     "output_type": "stream",
     "text": [
      "C:\\ProgramData\\Anaconda3\\lib\\site-packages\\sklearn\\utils\\validation.py:578: DataConversionWarning: A column-vector y was passed when a 1d array was expected. Please change the shape of y to (n_samples, ), for example using ravel().\n",
      "  y = column_or_1d(y, warn=True)\n",
      "C:\\ProgramData\\Anaconda3\\lib\\site-packages\\sklearn\\utils\\validation.py:578: DataConversionWarning: A column-vector y was passed when a 1d array was expected. Please change the shape of y to (n_samples, ), for example using ravel().\n",
      "  y = column_or_1d(y, warn=True)\n"
     ]
    },
    {
     "name": "stdout",
     "output_type": "stream",
     "text": [
      "[CV]  max_depth=4, min_samples_leaf=40, min_samples_split=60, n_estimators=10, subsample=0.5, total=   0.1s\n",
      "[CV] max_depth=4, min_samples_leaf=40, min_samples_split=60, n_estimators=10, subsample=0.5 \n",
      "[CV]  max_depth=4, min_samples_leaf=40, min_samples_split=60, n_estimators=10, subsample=0.5, total=   0.0s\n",
      "[CV] max_depth=4, min_samples_leaf=40, min_samples_split=60, n_estimators=10, subsample=0.5 \n"
     ]
    },
    {
     "name": "stderr",
     "output_type": "stream",
     "text": [
      "C:\\ProgramData\\Anaconda3\\lib\\site-packages\\sklearn\\utils\\validation.py:578: DataConversionWarning: A column-vector y was passed when a 1d array was expected. Please change the shape of y to (n_samples, ), for example using ravel().\n",
      "  y = column_or_1d(y, warn=True)\n",
      "C:\\ProgramData\\Anaconda3\\lib\\site-packages\\sklearn\\utils\\validation.py:578: DataConversionWarning: A column-vector y was passed when a 1d array was expected. Please change the shape of y to (n_samples, ), for example using ravel().\n",
      "  y = column_or_1d(y, warn=True)\n"
     ]
    },
    {
     "name": "stdout",
     "output_type": "stream",
     "text": [
      "[CV]  max_depth=4, min_samples_leaf=40, min_samples_split=60, n_estimators=10, subsample=0.5, total=   0.0s\n",
      "[CV] max_depth=4, min_samples_leaf=40, min_samples_split=60, n_estimators=15, subsample=0.25 \n"
     ]
    },
    {
     "name": "stderr",
     "output_type": "stream",
     "text": [
      "C:\\ProgramData\\Anaconda3\\lib\\site-packages\\sklearn\\utils\\validation.py:578: DataConversionWarning: A column-vector y was passed when a 1d array was expected. Please change the shape of y to (n_samples, ), for example using ravel().\n",
      "  y = column_or_1d(y, warn=True)\n"
     ]
    },
    {
     "name": "stdout",
     "output_type": "stream",
     "text": [
      "[CV]  max_depth=4, min_samples_leaf=40, min_samples_split=60, n_estimators=15, subsample=0.25, total=   0.1s\n",
      "[CV] max_depth=4, min_samples_leaf=40, min_samples_split=60, n_estimators=15, subsample=0.25 \n"
     ]
    },
    {
     "name": "stderr",
     "output_type": "stream",
     "text": [
      "C:\\ProgramData\\Anaconda3\\lib\\site-packages\\sklearn\\utils\\validation.py:578: DataConversionWarning: A column-vector y was passed when a 1d array was expected. Please change the shape of y to (n_samples, ), for example using ravel().\n",
      "  y = column_or_1d(y, warn=True)\n"
     ]
    },
    {
     "name": "stdout",
     "output_type": "stream",
     "text": [
      "[CV]  max_depth=4, min_samples_leaf=40, min_samples_split=60, n_estimators=15, subsample=0.25, total=   0.1s\n",
      "[CV] max_depth=4, min_samples_leaf=40, min_samples_split=60, n_estimators=15, subsample=0.25 \n",
      "[CV]  max_depth=4, min_samples_leaf=40, min_samples_split=60, n_estimators=15, subsample=0.25, total=   0.1s\n",
      "[CV] max_depth=4, min_samples_leaf=40, min_samples_split=60, n_estimators=15, subsample=0.5 \n"
     ]
    },
    {
     "name": "stderr",
     "output_type": "stream",
     "text": [
      "C:\\ProgramData\\Anaconda3\\lib\\site-packages\\sklearn\\utils\\validation.py:578: DataConversionWarning: A column-vector y was passed when a 1d array was expected. Please change the shape of y to (n_samples, ), for example using ravel().\n",
      "  y = column_or_1d(y, warn=True)\n",
      "C:\\ProgramData\\Anaconda3\\lib\\site-packages\\sklearn\\utils\\validation.py:578: DataConversionWarning: A column-vector y was passed when a 1d array was expected. Please change the shape of y to (n_samples, ), for example using ravel().\n",
      "  y = column_or_1d(y, warn=True)\n"
     ]
    },
    {
     "name": "stdout",
     "output_type": "stream",
     "text": [
      "[CV]  max_depth=4, min_samples_leaf=40, min_samples_split=60, n_estimators=15, subsample=0.5, total=   0.1s\n",
      "[CV] max_depth=4, min_samples_leaf=40, min_samples_split=60, n_estimators=15, subsample=0.5 \n"
     ]
    },
    {
     "name": "stderr",
     "output_type": "stream",
     "text": [
      "C:\\ProgramData\\Anaconda3\\lib\\site-packages\\sklearn\\utils\\validation.py:578: DataConversionWarning: A column-vector y was passed when a 1d array was expected. Please change the shape of y to (n_samples, ), for example using ravel().\n",
      "  y = column_or_1d(y, warn=True)\n"
     ]
    },
    {
     "name": "stdout",
     "output_type": "stream",
     "text": [
      "[CV]  max_depth=4, min_samples_leaf=40, min_samples_split=60, n_estimators=15, subsample=0.5, total=   0.1s\n",
      "[CV] max_depth=4, min_samples_leaf=40, min_samples_split=60, n_estimators=15, subsample=0.5 \n"
     ]
    },
    {
     "name": "stderr",
     "output_type": "stream",
     "text": [
      "C:\\ProgramData\\Anaconda3\\lib\\site-packages\\sklearn\\utils\\validation.py:578: DataConversionWarning: A column-vector y was passed when a 1d array was expected. Please change the shape of y to (n_samples, ), for example using ravel().\n",
      "  y = column_or_1d(y, warn=True)\n"
     ]
    },
    {
     "name": "stdout",
     "output_type": "stream",
     "text": [
      "[CV]  max_depth=4, min_samples_leaf=40, min_samples_split=60, n_estimators=15, subsample=0.5, total=   0.1s\n"
     ]
    },
    {
     "name": "stderr",
     "output_type": "stream",
     "text": [
      "[Parallel(n_jobs=1)]: Done  96 out of  96 | elapsed:   17.6s finished\n",
      "C:\\ProgramData\\Anaconda3\\lib\\site-packages\\sklearn\\utils\\validation.py:578: DataConversionWarning: A column-vector y was passed when a 1d array was expected. Please change the shape of y to (n_samples, ), for example using ravel().\n",
      "  y = column_or_1d(y, warn=True)\n"
     ]
    },
    {
     "data": {
      "text/plain": [
       "GridSearchCV(cv=None, error_score='raise',\n",
       "       estimator=GradientBoostingClassifier(criterion='friedman_mse', init=None,\n",
       "              learning_rate=0.1, loss='deviance', max_depth=3,\n",
       "              max_features=None, max_leaf_nodes=None,\n",
       "              min_impurity_decrease=0.0, min_impurity_split=None,\n",
       "              min_samples_leaf=1, min_samples_split=2,\n",
       "              min_weight_fraction_leaf=0.0, n_estimators=100,\n",
       "              presort='auto', random_state=None, subsample=1.0, verbose=0,\n",
       "              warm_start=False),\n",
       "       fit_params=None, iid=True, n_jobs=1,\n",
       "       param_grid={'n_estimators': [10, 15], 'subsample': [0.25, 0.5], 'max_depth': [3, 4], 'min_samples_split': [40, 60], 'min_samples_leaf': [20, 40]},\n",
       "       pre_dispatch='2*n_jobs', refit=True, return_train_score='warn',\n",
       "       scoring=None, verbose=2)"
      ]
     },
     "execution_count": 18,
     "metadata": {},
     "output_type": "execute_result"
    }
   ],
   "source": [
    "params = {\n",
    "    'n_estimators': [10, 15], \n",
    "    'subsample': [0.25, 0.5], \n",
    "    'max_depth': [3, 4],\n",
    "    'min_samples_split': [40, 60],\n",
    "    'min_samples_leaf': [20, 40]\n",
    "}\n",
    "gbt = GradientBoostingClassifier() # RandomForestClassifier()\n",
    "grid_gbt = GridSearchCV(estimator=gbt, param_grid=params, verbose=2)\n",
    "grid_gbt.fit(X_tr, y_tr)"
   ]
  },
  {
   "cell_type": "code",
   "execution_count": 19,
   "metadata": {},
   "outputs": [
    {
     "name": "stdout",
     "output_type": "stream",
     "text": [
      "GradientBoostingClassifier(criterion='friedman_mse', init=None,\n",
      "              learning_rate=0.1, loss='deviance', max_depth=4,\n",
      "              max_features=None, max_leaf_nodes=None,\n",
      "              min_impurity_decrease=0.0, min_impurity_split=None,\n",
      "              min_samples_leaf=20, min_samples_split=40,\n",
      "              min_weight_fraction_leaf=0.0, n_estimators=15,\n",
      "              presort='auto', random_state=None, subsample=0.5, verbose=0,\n",
      "              warm_start=False)\n",
      "0.8269399905283811\n"
     ]
    },
    {
     "name": "stderr",
     "output_type": "stream",
     "text": [
      "C:\\ProgramData\\Anaconda3\\lib\\site-packages\\sklearn\\utils\\deprecation.py:122: FutureWarning: You are accessing a training score ('split0_train_score'), which will not be available by default any more in 0.21. If you need training scores, please set return_train_score=True\n",
      "  warnings.warn(*warn_args, **warn_kwargs)\n",
      "C:\\ProgramData\\Anaconda3\\lib\\site-packages\\sklearn\\utils\\deprecation.py:122: FutureWarning: You are accessing a training score ('split1_train_score'), which will not be available by default any more in 0.21. If you need training scores, please set return_train_score=True\n",
      "  warnings.warn(*warn_args, **warn_kwargs)\n",
      "C:\\ProgramData\\Anaconda3\\lib\\site-packages\\sklearn\\utils\\deprecation.py:122: FutureWarning: You are accessing a training score ('split2_train_score'), which will not be available by default any more in 0.21. If you need training scores, please set return_train_score=True\n",
      "  warnings.warn(*warn_args, **warn_kwargs)\n",
      "C:\\ProgramData\\Anaconda3\\lib\\site-packages\\sklearn\\utils\\deprecation.py:122: FutureWarning: You are accessing a training score ('mean_train_score'), which will not be available by default any more in 0.21. If you need training scores, please set return_train_score=True\n",
      "  warnings.warn(*warn_args, **warn_kwargs)\n",
      "C:\\ProgramData\\Anaconda3\\lib\\site-packages\\sklearn\\utils\\deprecation.py:122: FutureWarning: You are accessing a training score ('std_train_score'), which will not be available by default any more in 0.21. If you need training scores, please set return_train_score=True\n",
      "  warnings.warn(*warn_args, **warn_kwargs)\n"
     ]
    },
    {
     "data": {
      "text/html": [
       "<div>\n",
       "<style scoped>\n",
       "    .dataframe tbody tr th:only-of-type {\n",
       "        vertical-align: middle;\n",
       "    }\n",
       "\n",
       "    .dataframe tbody tr th {\n",
       "        vertical-align: top;\n",
       "    }\n",
       "\n",
       "    .dataframe thead th {\n",
       "        text-align: right;\n",
       "    }\n",
       "</style>\n",
       "<table border=\"1\" class=\"dataframe\">\n",
       "  <thead>\n",
       "    <tr style=\"text-align: right;\">\n",
       "      <th></th>\n",
       "      <th>mean_fit_time</th>\n",
       "      <th>std_fit_time</th>\n",
       "      <th>mean_score_time</th>\n",
       "      <th>std_score_time</th>\n",
       "      <th>param_max_depth</th>\n",
       "      <th>param_min_samples_leaf</th>\n",
       "      <th>param_min_samples_split</th>\n",
       "      <th>param_n_estimators</th>\n",
       "      <th>param_subsample</th>\n",
       "      <th>params</th>\n",
       "      <th>...</th>\n",
       "      <th>split1_test_score</th>\n",
       "      <th>split2_test_score</th>\n",
       "      <th>mean_test_score</th>\n",
       "      <th>std_test_score</th>\n",
       "      <th>rank_test_score</th>\n",
       "      <th>split0_train_score</th>\n",
       "      <th>split1_train_score</th>\n",
       "      <th>split2_train_score</th>\n",
       "      <th>mean_train_score</th>\n",
       "      <th>std_train_score</th>\n",
       "    </tr>\n",
       "  </thead>\n",
       "  <tbody>\n",
       "    <tr>\n",
       "      <th>0</th>\n",
       "      <td>0.117183</td>\n",
       "      <td>0.004935</td>\n",
       "      <td>0.005369</td>\n",
       "      <td>1.944110e-03</td>\n",
       "      <td>3</td>\n",
       "      <td>20</td>\n",
       "      <td>40</td>\n",
       "      <td>10</td>\n",
       "      <td>0.25</td>\n",
       "      <td>{'max_depth': 3, 'min_samples_leaf': 20, 'min_...</td>\n",
       "      <td>...</td>\n",
       "      <td>0.826771</td>\n",
       "      <td>0.826771</td>\n",
       "      <td>0.826771</td>\n",
       "      <td>0.000000</td>\n",
       "      <td>3</td>\n",
       "      <td>0.826771</td>\n",
       "      <td>0.826771</td>\n",
       "      <td>0.826771</td>\n",
       "      <td>0.826771</td>\n",
       "      <td>0.000000</td>\n",
       "    </tr>\n",
       "    <tr>\n",
       "      <th>1</th>\n",
       "      <td>0.137205</td>\n",
       "      <td>0.002671</td>\n",
       "      <td>0.001262</td>\n",
       "      <td>1.784329e-03</td>\n",
       "      <td>3</td>\n",
       "      <td>20</td>\n",
       "      <td>40</td>\n",
       "      <td>10</td>\n",
       "      <td>0.5</td>\n",
       "      <td>{'max_depth': 3, 'min_samples_leaf': 20, 'min_...</td>\n",
       "      <td>...</td>\n",
       "      <td>0.826771</td>\n",
       "      <td>0.826771</td>\n",
       "      <td>0.826771</td>\n",
       "      <td>0.000000</td>\n",
       "      <td>3</td>\n",
       "      <td>0.826771</td>\n",
       "      <td>0.826771</td>\n",
       "      <td>0.826771</td>\n",
       "      <td>0.826771</td>\n",
       "      <td>0.000000</td>\n",
       "    </tr>\n",
       "    <tr>\n",
       "      <th>2</th>\n",
       "      <td>0.168185</td>\n",
       "      <td>0.002950</td>\n",
       "      <td>0.008327</td>\n",
       "      <td>6.419159e-03</td>\n",
       "      <td>3</td>\n",
       "      <td>20</td>\n",
       "      <td>40</td>\n",
       "      <td>15</td>\n",
       "      <td>0.25</td>\n",
       "      <td>{'max_depth': 3, 'min_samples_leaf': 20, 'min_...</td>\n",
       "      <td>...</td>\n",
       "      <td>0.826568</td>\n",
       "      <td>0.826466</td>\n",
       "      <td>0.826737</td>\n",
       "      <td>0.000314</td>\n",
       "      <td>26</td>\n",
       "      <td>0.827126</td>\n",
       "      <td>0.826974</td>\n",
       "      <td>0.827380</td>\n",
       "      <td>0.827160</td>\n",
       "      <td>0.000167</td>\n",
       "    </tr>\n",
       "    <tr>\n",
       "      <th>3</th>\n",
       "      <td>0.197297</td>\n",
       "      <td>0.021556</td>\n",
       "      <td>0.007332</td>\n",
       "      <td>6.413868e-03</td>\n",
       "      <td>3</td>\n",
       "      <td>20</td>\n",
       "      <td>40</td>\n",
       "      <td>15</td>\n",
       "      <td>0.5</td>\n",
       "      <td>{'max_depth': 3, 'min_samples_leaf': 20, 'min_...</td>\n",
       "      <td>...</td>\n",
       "      <td>0.826669</td>\n",
       "      <td>0.826771</td>\n",
       "      <td>0.826737</td>\n",
       "      <td>0.000048</td>\n",
       "      <td>26</td>\n",
       "      <td>0.826771</td>\n",
       "      <td>0.827177</td>\n",
       "      <td>0.826771</td>\n",
       "      <td>0.826906</td>\n",
       "      <td>0.000191</td>\n",
       "    </tr>\n",
       "    <tr>\n",
       "      <th>4</th>\n",
       "      <td>0.107653</td>\n",
       "      <td>0.007932</td>\n",
       "      <td>0.008824</td>\n",
       "      <td>5.939620e-03</td>\n",
       "      <td>3</td>\n",
       "      <td>20</td>\n",
       "      <td>60</td>\n",
       "      <td>10</td>\n",
       "      <td>0.25</td>\n",
       "      <td>{'max_depth': 3, 'min_samples_leaf': 20, 'min_...</td>\n",
       "      <td>...</td>\n",
       "      <td>0.826771</td>\n",
       "      <td>0.826771</td>\n",
       "      <td>0.826771</td>\n",
       "      <td>0.000000</td>\n",
       "      <td>3</td>\n",
       "      <td>0.826771</td>\n",
       "      <td>0.826771</td>\n",
       "      <td>0.826771</td>\n",
       "      <td>0.826771</td>\n",
       "      <td>0.000000</td>\n",
       "    </tr>\n",
       "    <tr>\n",
       "      <th>5</th>\n",
       "      <td>0.133324</td>\n",
       "      <td>0.003370</td>\n",
       "      <td>0.001333</td>\n",
       "      <td>1.885594e-03</td>\n",
       "      <td>3</td>\n",
       "      <td>20</td>\n",
       "      <td>60</td>\n",
       "      <td>10</td>\n",
       "      <td>0.5</td>\n",
       "      <td>{'max_depth': 3, 'min_samples_leaf': 20, 'min_...</td>\n",
       "      <td>...</td>\n",
       "      <td>0.826771</td>\n",
       "      <td>0.826771</td>\n",
       "      <td>0.826771</td>\n",
       "      <td>0.000000</td>\n",
       "      <td>3</td>\n",
       "      <td>0.826771</td>\n",
       "      <td>0.826771</td>\n",
       "      <td>0.826771</td>\n",
       "      <td>0.826771</td>\n",
       "      <td>0.000000</td>\n",
       "    </tr>\n",
       "    <tr>\n",
       "      <th>6</th>\n",
       "      <td>0.162047</td>\n",
       "      <td>0.007383</td>\n",
       "      <td>0.001371</td>\n",
       "      <td>1.938755e-03</td>\n",
       "      <td>3</td>\n",
       "      <td>20</td>\n",
       "      <td>60</td>\n",
       "      <td>15</td>\n",
       "      <td>0.25</td>\n",
       "      <td>{'max_depth': 3, 'min_samples_leaf': 20, 'min_...</td>\n",
       "      <td>...</td>\n",
       "      <td>0.826771</td>\n",
       "      <td>0.826771</td>\n",
       "      <td>0.826771</td>\n",
       "      <td>0.000000</td>\n",
       "      <td>3</td>\n",
       "      <td>0.826771</td>\n",
       "      <td>0.826771</td>\n",
       "      <td>0.826771</td>\n",
       "      <td>0.826771</td>\n",
       "      <td>0.000000</td>\n",
       "    </tr>\n",
       "    <tr>\n",
       "      <th>7</th>\n",
       "      <td>0.197936</td>\n",
       "      <td>0.011614</td>\n",
       "      <td>0.002507</td>\n",
       "      <td>2.849411e-03</td>\n",
       "      <td>3</td>\n",
       "      <td>20</td>\n",
       "      <td>60</td>\n",
       "      <td>15</td>\n",
       "      <td>0.5</td>\n",
       "      <td>{'max_depth': 3, 'min_samples_leaf': 20, 'min_...</td>\n",
       "      <td>...</td>\n",
       "      <td>0.827075</td>\n",
       "      <td>0.826771</td>\n",
       "      <td>0.826872</td>\n",
       "      <td>0.000144</td>\n",
       "      <td>2</td>\n",
       "      <td>0.826771</td>\n",
       "      <td>0.827380</td>\n",
       "      <td>0.826771</td>\n",
       "      <td>0.826974</td>\n",
       "      <td>0.000287</td>\n",
       "    </tr>\n",
       "    <tr>\n",
       "      <th>8</th>\n",
       "      <td>0.120033</td>\n",
       "      <td>0.009830</td>\n",
       "      <td>0.001347</td>\n",
       "      <td>1.905262e-03</td>\n",
       "      <td>3</td>\n",
       "      <td>40</td>\n",
       "      <td>40</td>\n",
       "      <td>10</td>\n",
       "      <td>0.25</td>\n",
       "      <td>{'max_depth': 3, 'min_samples_leaf': 40, 'min_...</td>\n",
       "      <td>...</td>\n",
       "      <td>0.826771</td>\n",
       "      <td>0.826771</td>\n",
       "      <td>0.826771</td>\n",
       "      <td>0.000000</td>\n",
       "      <td>3</td>\n",
       "      <td>0.826771</td>\n",
       "      <td>0.826771</td>\n",
       "      <td>0.826771</td>\n",
       "      <td>0.826771</td>\n",
       "      <td>0.000000</td>\n",
       "    </tr>\n",
       "    <tr>\n",
       "      <th>9</th>\n",
       "      <td>0.130706</td>\n",
       "      <td>0.013097</td>\n",
       "      <td>0.009516</td>\n",
       "      <td>5.700791e-03</td>\n",
       "      <td>3</td>\n",
       "      <td>40</td>\n",
       "      <td>40</td>\n",
       "      <td>10</td>\n",
       "      <td>0.5</td>\n",
       "      <td>{'max_depth': 3, 'min_samples_leaf': 40, 'min_...</td>\n",
       "      <td>...</td>\n",
       "      <td>0.826771</td>\n",
       "      <td>0.826771</td>\n",
       "      <td>0.826771</td>\n",
       "      <td>0.000000</td>\n",
       "      <td>3</td>\n",
       "      <td>0.826771</td>\n",
       "      <td>0.826771</td>\n",
       "      <td>0.826771</td>\n",
       "      <td>0.826771</td>\n",
       "      <td>0.000000</td>\n",
       "    </tr>\n",
       "    <tr>\n",
       "      <th>10</th>\n",
       "      <td>0.169870</td>\n",
       "      <td>0.005407</td>\n",
       "      <td>0.009287</td>\n",
       "      <td>8.101115e-03</td>\n",
       "      <td>3</td>\n",
       "      <td>40</td>\n",
       "      <td>40</td>\n",
       "      <td>15</td>\n",
       "      <td>0.25</td>\n",
       "      <td>{'max_depth': 3, 'min_samples_leaf': 40, 'min_...</td>\n",
       "      <td>...</td>\n",
       "      <td>0.826771</td>\n",
       "      <td>0.826771</td>\n",
       "      <td>0.826771</td>\n",
       "      <td>0.000000</td>\n",
       "      <td>3</td>\n",
       "      <td>0.826771</td>\n",
       "      <td>0.826771</td>\n",
       "      <td>0.826771</td>\n",
       "      <td>0.826771</td>\n",
       "      <td>0.000000</td>\n",
       "    </tr>\n",
       "    <tr>\n",
       "      <th>11</th>\n",
       "      <td>0.193268</td>\n",
       "      <td>0.002992</td>\n",
       "      <td>0.008362</td>\n",
       "      <td>6.464810e-03</td>\n",
       "      <td>3</td>\n",
       "      <td>40</td>\n",
       "      <td>40</td>\n",
       "      <td>15</td>\n",
       "      <td>0.5</td>\n",
       "      <td>{'max_depth': 3, 'min_samples_leaf': 40, 'min_...</td>\n",
       "      <td>...</td>\n",
       "      <td>0.826771</td>\n",
       "      <td>0.826771</td>\n",
       "      <td>0.826771</td>\n",
       "      <td>0.000000</td>\n",
       "      <td>3</td>\n",
       "      <td>0.826771</td>\n",
       "      <td>0.826771</td>\n",
       "      <td>0.826771</td>\n",
       "      <td>0.826771</td>\n",
       "      <td>0.000000</td>\n",
       "    </tr>\n",
       "    <tr>\n",
       "      <th>12</th>\n",
       "      <td>0.114671</td>\n",
       "      <td>0.011337</td>\n",
       "      <td>0.007982</td>\n",
       "      <td>6.490689e-03</td>\n",
       "      <td>3</td>\n",
       "      <td>40</td>\n",
       "      <td>60</td>\n",
       "      <td>10</td>\n",
       "      <td>0.25</td>\n",
       "      <td>{'max_depth': 3, 'min_samples_leaf': 40, 'min_...</td>\n",
       "      <td>...</td>\n",
       "      <td>0.826771</td>\n",
       "      <td>0.826771</td>\n",
       "      <td>0.826771</td>\n",
       "      <td>0.000000</td>\n",
       "      <td>3</td>\n",
       "      <td>0.826771</td>\n",
       "      <td>0.826771</td>\n",
       "      <td>0.826771</td>\n",
       "      <td>0.826771</td>\n",
       "      <td>0.000000</td>\n",
       "    </tr>\n",
       "    <tr>\n",
       "      <th>13</th>\n",
       "      <td>0.146329</td>\n",
       "      <td>0.003520</td>\n",
       "      <td>0.003224</td>\n",
       "      <td>2.474713e-03</td>\n",
       "      <td>3</td>\n",
       "      <td>40</td>\n",
       "      <td>60</td>\n",
       "      <td>10</td>\n",
       "      <td>0.5</td>\n",
       "      <td>{'max_depth': 3, 'min_samples_leaf': 40, 'min_...</td>\n",
       "      <td>...</td>\n",
       "      <td>0.826771</td>\n",
       "      <td>0.826771</td>\n",
       "      <td>0.826771</td>\n",
       "      <td>0.000000</td>\n",
       "      <td>3</td>\n",
       "      <td>0.826771</td>\n",
       "      <td>0.826771</td>\n",
       "      <td>0.826771</td>\n",
       "      <td>0.826771</td>\n",
       "      <td>0.000000</td>\n",
       "    </tr>\n",
       "    <tr>\n",
       "      <th>14</th>\n",
       "      <td>0.160563</td>\n",
       "      <td>0.004609</td>\n",
       "      <td>0.003951</td>\n",
       "      <td>2.794182e-03</td>\n",
       "      <td>3</td>\n",
       "      <td>40</td>\n",
       "      <td>60</td>\n",
       "      <td>15</td>\n",
       "      <td>0.25</td>\n",
       "      <td>{'max_depth': 3, 'min_samples_leaf': 40, 'min_...</td>\n",
       "      <td>...</td>\n",
       "      <td>0.826771</td>\n",
       "      <td>0.826771</td>\n",
       "      <td>0.826771</td>\n",
       "      <td>0.000000</td>\n",
       "      <td>3</td>\n",
       "      <td>0.826771</td>\n",
       "      <td>0.826771</td>\n",
       "      <td>0.826771</td>\n",
       "      <td>0.826771</td>\n",
       "      <td>0.000000</td>\n",
       "    </tr>\n",
       "    <tr>\n",
       "      <th>15</th>\n",
       "      <td>0.195939</td>\n",
       "      <td>0.006344</td>\n",
       "      <td>0.005780</td>\n",
       "      <td>8.173566e-03</td>\n",
       "      <td>3</td>\n",
       "      <td>40</td>\n",
       "      <td>60</td>\n",
       "      <td>15</td>\n",
       "      <td>0.5</td>\n",
       "      <td>{'max_depth': 3, 'min_samples_leaf': 40, 'min_...</td>\n",
       "      <td>...</td>\n",
       "      <td>0.826771</td>\n",
       "      <td>0.826466</td>\n",
       "      <td>0.826669</td>\n",
       "      <td>0.000144</td>\n",
       "      <td>30</td>\n",
       "      <td>0.826771</td>\n",
       "      <td>0.826771</td>\n",
       "      <td>0.827329</td>\n",
       "      <td>0.826957</td>\n",
       "      <td>0.000263</td>\n",
       "    </tr>\n",
       "    <tr>\n",
       "      <th>16</th>\n",
       "      <td>0.130036</td>\n",
       "      <td>0.007980</td>\n",
       "      <td>0.009635</td>\n",
       "      <td>5.124555e-03</td>\n",
       "      <td>4</td>\n",
       "      <td>20</td>\n",
       "      <td>40</td>\n",
       "      <td>10</td>\n",
       "      <td>0.25</td>\n",
       "      <td>{'max_depth': 4, 'min_samples_leaf': 20, 'min_...</td>\n",
       "      <td>...</td>\n",
       "      <td>0.826771</td>\n",
       "      <td>0.826771</td>\n",
       "      <td>0.826771</td>\n",
       "      <td>0.000000</td>\n",
       "      <td>3</td>\n",
       "      <td>0.826771</td>\n",
       "      <td>0.826771</td>\n",
       "      <td>0.826771</td>\n",
       "      <td>0.826771</td>\n",
       "      <td>0.000000</td>\n",
       "    </tr>\n",
       "    <tr>\n",
       "      <th>17</th>\n",
       "      <td>0.157947</td>\n",
       "      <td>0.009965</td>\n",
       "      <td>0.005208</td>\n",
       "      <td>7.365808e-03</td>\n",
       "      <td>4</td>\n",
       "      <td>20</td>\n",
       "      <td>40</td>\n",
       "      <td>10</td>\n",
       "      <td>0.5</td>\n",
       "      <td>{'max_depth': 4, 'min_samples_leaf': 20, 'min_...</td>\n",
       "      <td>...</td>\n",
       "      <td>0.826771</td>\n",
       "      <td>0.826771</td>\n",
       "      <td>0.826771</td>\n",
       "      <td>0.000000</td>\n",
       "      <td>3</td>\n",
       "      <td>0.826771</td>\n",
       "      <td>0.826771</td>\n",
       "      <td>0.826771</td>\n",
       "      <td>0.826771</td>\n",
       "      <td>0.000000</td>\n",
       "    </tr>\n",
       "    <tr>\n",
       "      <th>18</th>\n",
       "      <td>0.179776</td>\n",
       "      <td>0.007856</td>\n",
       "      <td>0.005247</td>\n",
       "      <td>7.419868e-03</td>\n",
       "      <td>4</td>\n",
       "      <td>20</td>\n",
       "      <td>40</td>\n",
       "      <td>15</td>\n",
       "      <td>0.25</td>\n",
       "      <td>{'max_depth': 4, 'min_samples_leaf': 20, 'min_...</td>\n",
       "      <td>...</td>\n",
       "      <td>0.826771</td>\n",
       "      <td>0.826771</td>\n",
       "      <td>0.826703</td>\n",
       "      <td>0.000096</td>\n",
       "      <td>28</td>\n",
       "      <td>0.827025</td>\n",
       "      <td>0.827025</td>\n",
       "      <td>0.826771</td>\n",
       "      <td>0.826940</td>\n",
       "      <td>0.000120</td>\n",
       "    </tr>\n",
       "    <tr>\n",
       "      <th>19</th>\n",
       "      <td>0.208081</td>\n",
       "      <td>0.013485</td>\n",
       "      <td>0.007802</td>\n",
       "      <td>6.377332e-03</td>\n",
       "      <td>4</td>\n",
       "      <td>20</td>\n",
       "      <td>40</td>\n",
       "      <td>15</td>\n",
       "      <td>0.5</td>\n",
       "      <td>{'max_depth': 4, 'min_samples_leaf': 20, 'min_...</td>\n",
       "      <td>...</td>\n",
       "      <td>0.827075</td>\n",
       "      <td>0.826974</td>\n",
       "      <td>0.826940</td>\n",
       "      <td>0.000127</td>\n",
       "      <td>1</td>\n",
       "      <td>0.826822</td>\n",
       "      <td>0.827430</td>\n",
       "      <td>0.827938</td>\n",
       "      <td>0.827397</td>\n",
       "      <td>0.000456</td>\n",
       "    </tr>\n",
       "    <tr>\n",
       "      <th>20</th>\n",
       "      <td>0.126504</td>\n",
       "      <td>0.014304</td>\n",
       "      <td>0.006604</td>\n",
       "      <td>6.675795e-03</td>\n",
       "      <td>4</td>\n",
       "      <td>20</td>\n",
       "      <td>60</td>\n",
       "      <td>10</td>\n",
       "      <td>0.25</td>\n",
       "      <td>{'max_depth': 4, 'min_samples_leaf': 20, 'min_...</td>\n",
       "      <td>...</td>\n",
       "      <td>0.826771</td>\n",
       "      <td>0.826771</td>\n",
       "      <td>0.826771</td>\n",
       "      <td>0.000000</td>\n",
       "      <td>3</td>\n",
       "      <td>0.826771</td>\n",
       "      <td>0.826771</td>\n",
       "      <td>0.826771</td>\n",
       "      <td>0.826771</td>\n",
       "      <td>0.000000</td>\n",
       "    </tr>\n",
       "    <tr>\n",
       "      <th>21</th>\n",
       "      <td>0.145022</td>\n",
       "      <td>0.003139</td>\n",
       "      <td>0.015621</td>\n",
       "      <td>5.619580e-07</td>\n",
       "      <td>4</td>\n",
       "      <td>20</td>\n",
       "      <td>60</td>\n",
       "      <td>10</td>\n",
       "      <td>0.5</td>\n",
       "      <td>{'max_depth': 4, 'min_samples_leaf': 20, 'min_...</td>\n",
       "      <td>...</td>\n",
       "      <td>0.826771</td>\n",
       "      <td>0.826771</td>\n",
       "      <td>0.826771</td>\n",
       "      <td>0.000000</td>\n",
       "      <td>3</td>\n",
       "      <td>0.826771</td>\n",
       "      <td>0.826771</td>\n",
       "      <td>0.826771</td>\n",
       "      <td>0.826771</td>\n",
       "      <td>0.000000</td>\n",
       "    </tr>\n",
       "    <tr>\n",
       "      <th>22</th>\n",
       "      <td>0.182989</td>\n",
       "      <td>0.019647</td>\n",
       "      <td>0.010418</td>\n",
       "      <td>7.366877e-03</td>\n",
       "      <td>4</td>\n",
       "      <td>20</td>\n",
       "      <td>60</td>\n",
       "      <td>15</td>\n",
       "      <td>0.25</td>\n",
       "      <td>{'max_depth': 4, 'min_samples_leaf': 20, 'min_...</td>\n",
       "      <td>...</td>\n",
       "      <td>0.826568</td>\n",
       "      <td>0.826771</td>\n",
       "      <td>0.826703</td>\n",
       "      <td>0.000096</td>\n",
       "      <td>28</td>\n",
       "      <td>0.826771</td>\n",
       "      <td>0.826923</td>\n",
       "      <td>0.826771</td>\n",
       "      <td>0.826822</td>\n",
       "      <td>0.000072</td>\n",
       "    </tr>\n",
       "    <tr>\n",
       "      <th>23</th>\n",
       "      <td>0.211572</td>\n",
       "      <td>0.021614</td>\n",
       "      <td>0.010361</td>\n",
       "      <td>9.711726e-03</td>\n",
       "      <td>4</td>\n",
       "      <td>20</td>\n",
       "      <td>60</td>\n",
       "      <td>15</td>\n",
       "      <td>0.5</td>\n",
       "      <td>{'max_depth': 4, 'min_samples_leaf': 20, 'min_...</td>\n",
       "      <td>...</td>\n",
       "      <td>0.826669</td>\n",
       "      <td>0.826669</td>\n",
       "      <td>0.826568</td>\n",
       "      <td>0.000144</td>\n",
       "      <td>32</td>\n",
       "      <td>0.827380</td>\n",
       "      <td>0.827228</td>\n",
       "      <td>0.827481</td>\n",
       "      <td>0.827363</td>\n",
       "      <td>0.000104</td>\n",
       "    </tr>\n",
       "    <tr>\n",
       "      <th>24</th>\n",
       "      <td>0.125304</td>\n",
       "      <td>0.009307</td>\n",
       "      <td>0.008855</td>\n",
       "      <td>7.140051e-03</td>\n",
       "      <td>4</td>\n",
       "      <td>40</td>\n",
       "      <td>40</td>\n",
       "      <td>10</td>\n",
       "      <td>0.25</td>\n",
       "      <td>{'max_depth': 4, 'min_samples_leaf': 40, 'min_...</td>\n",
       "      <td>...</td>\n",
       "      <td>0.826771</td>\n",
       "      <td>0.826771</td>\n",
       "      <td>0.826771</td>\n",
       "      <td>0.000000</td>\n",
       "      <td>3</td>\n",
       "      <td>0.826771</td>\n",
       "      <td>0.826771</td>\n",
       "      <td>0.826771</td>\n",
       "      <td>0.826771</td>\n",
       "      <td>0.000000</td>\n",
       "    </tr>\n",
       "    <tr>\n",
       "      <th>25</th>\n",
       "      <td>0.140877</td>\n",
       "      <td>0.007865</td>\n",
       "      <td>0.012602</td>\n",
       "      <td>4.296006e-03</td>\n",
       "      <td>4</td>\n",
       "      <td>40</td>\n",
       "      <td>40</td>\n",
       "      <td>10</td>\n",
       "      <td>0.5</td>\n",
       "      <td>{'max_depth': 4, 'min_samples_leaf': 40, 'min_...</td>\n",
       "      <td>...</td>\n",
       "      <td>0.826771</td>\n",
       "      <td>0.826771</td>\n",
       "      <td>0.826771</td>\n",
       "      <td>0.000000</td>\n",
       "      <td>3</td>\n",
       "      <td>0.826771</td>\n",
       "      <td>0.826771</td>\n",
       "      <td>0.826771</td>\n",
       "      <td>0.826771</td>\n",
       "      <td>0.000000</td>\n",
       "    </tr>\n",
       "    <tr>\n",
       "      <th>26</th>\n",
       "      <td>0.187286</td>\n",
       "      <td>0.017435</td>\n",
       "      <td>0.003553</td>\n",
       "      <td>4.315635e-03</td>\n",
       "      <td>4</td>\n",
       "      <td>40</td>\n",
       "      <td>40</td>\n",
       "      <td>15</td>\n",
       "      <td>0.25</td>\n",
       "      <td>{'max_depth': 4, 'min_samples_leaf': 40, 'min_...</td>\n",
       "      <td>...</td>\n",
       "      <td>0.826771</td>\n",
       "      <td>0.826771</td>\n",
       "      <td>0.826771</td>\n",
       "      <td>0.000000</td>\n",
       "      <td>3</td>\n",
       "      <td>0.826771</td>\n",
       "      <td>0.826771</td>\n",
       "      <td>0.826771</td>\n",
       "      <td>0.826771</td>\n",
       "      <td>0.000000</td>\n",
       "    </tr>\n",
       "    <tr>\n",
       "      <th>27</th>\n",
       "      <td>0.233218</td>\n",
       "      <td>0.019645</td>\n",
       "      <td>0.009881</td>\n",
       "      <td>2.127876e-03</td>\n",
       "      <td>4</td>\n",
       "      <td>40</td>\n",
       "      <td>40</td>\n",
       "      <td>15</td>\n",
       "      <td>0.5</td>\n",
       "      <td>{'max_depth': 4, 'min_samples_leaf': 40, 'min_...</td>\n",
       "      <td>...</td>\n",
       "      <td>0.826771</td>\n",
       "      <td>0.826466</td>\n",
       "      <td>0.826669</td>\n",
       "      <td>0.000144</td>\n",
       "      <td>30</td>\n",
       "      <td>0.826771</td>\n",
       "      <td>0.826923</td>\n",
       "      <td>0.827228</td>\n",
       "      <td>0.826974</td>\n",
       "      <td>0.000190</td>\n",
       "    </tr>\n",
       "    <tr>\n",
       "      <th>28</th>\n",
       "      <td>0.135075</td>\n",
       "      <td>0.008433</td>\n",
       "      <td>0.012821</td>\n",
       "      <td>4.141748e-03</td>\n",
       "      <td>4</td>\n",
       "      <td>40</td>\n",
       "      <td>60</td>\n",
       "      <td>10</td>\n",
       "      <td>0.25</td>\n",
       "      <td>{'max_depth': 4, 'min_samples_leaf': 40, 'min_...</td>\n",
       "      <td>...</td>\n",
       "      <td>0.826771</td>\n",
       "      <td>0.826771</td>\n",
       "      <td>0.826771</td>\n",
       "      <td>0.000000</td>\n",
       "      <td>3</td>\n",
       "      <td>0.826771</td>\n",
       "      <td>0.826771</td>\n",
       "      <td>0.826771</td>\n",
       "      <td>0.826771</td>\n",
       "      <td>0.000000</td>\n",
       "    </tr>\n",
       "    <tr>\n",
       "      <th>29</th>\n",
       "      <td>0.158093</td>\n",
       "      <td>0.015777</td>\n",
       "      <td>0.002452</td>\n",
       "      <td>3.468292e-03</td>\n",
       "      <td>4</td>\n",
       "      <td>40</td>\n",
       "      <td>60</td>\n",
       "      <td>10</td>\n",
       "      <td>0.5</td>\n",
       "      <td>{'max_depth': 4, 'min_samples_leaf': 40, 'min_...</td>\n",
       "      <td>...</td>\n",
       "      <td>0.826771</td>\n",
       "      <td>0.826771</td>\n",
       "      <td>0.826771</td>\n",
       "      <td>0.000000</td>\n",
       "      <td>3</td>\n",
       "      <td>0.826771</td>\n",
       "      <td>0.826771</td>\n",
       "      <td>0.826771</td>\n",
       "      <td>0.826771</td>\n",
       "      <td>0.000000</td>\n",
       "    </tr>\n",
       "    <tr>\n",
       "      <th>30</th>\n",
       "      <td>0.193372</td>\n",
       "      <td>0.016440</td>\n",
       "      <td>0.003101</td>\n",
       "      <td>4.385520e-03</td>\n",
       "      <td>4</td>\n",
       "      <td>40</td>\n",
       "      <td>60</td>\n",
       "      <td>15</td>\n",
       "      <td>0.25</td>\n",
       "      <td>{'max_depth': 4, 'min_samples_leaf': 40, 'min_...</td>\n",
       "      <td>...</td>\n",
       "      <td>0.826771</td>\n",
       "      <td>0.826771</td>\n",
       "      <td>0.826771</td>\n",
       "      <td>0.000000</td>\n",
       "      <td>3</td>\n",
       "      <td>0.826771</td>\n",
       "      <td>0.826771</td>\n",
       "      <td>0.826771</td>\n",
       "      <td>0.826771</td>\n",
       "      <td>0.000000</td>\n",
       "    </tr>\n",
       "    <tr>\n",
       "      <th>31</th>\n",
       "      <td>0.219915</td>\n",
       "      <td>0.017960</td>\n",
       "      <td>0.004820</td>\n",
       "      <td>3.434402e-03</td>\n",
       "      <td>4</td>\n",
       "      <td>40</td>\n",
       "      <td>60</td>\n",
       "      <td>15</td>\n",
       "      <td>0.5</td>\n",
       "      <td>{'max_depth': 4, 'min_samples_leaf': 40, 'min_...</td>\n",
       "      <td>...</td>\n",
       "      <td>0.826771</td>\n",
       "      <td>0.826771</td>\n",
       "      <td>0.826771</td>\n",
       "      <td>0.000000</td>\n",
       "      <td>3</td>\n",
       "      <td>0.826771</td>\n",
       "      <td>0.826771</td>\n",
       "      <td>0.826771</td>\n",
       "      <td>0.826771</td>\n",
       "      <td>0.000000</td>\n",
       "    </tr>\n",
       "  </tbody>\n",
       "</table>\n",
       "<p>32 rows × 21 columns</p>\n",
       "</div>"
      ],
      "text/plain": [
       "    mean_fit_time  std_fit_time  mean_score_time  std_score_time  \\\n",
       "0        0.117183      0.004935         0.005369    1.944110e-03   \n",
       "1        0.137205      0.002671         0.001262    1.784329e-03   \n",
       "2        0.168185      0.002950         0.008327    6.419159e-03   \n",
       "3        0.197297      0.021556         0.007332    6.413868e-03   \n",
       "4        0.107653      0.007932         0.008824    5.939620e-03   \n",
       "5        0.133324      0.003370         0.001333    1.885594e-03   \n",
       "6        0.162047      0.007383         0.001371    1.938755e-03   \n",
       "7        0.197936      0.011614         0.002507    2.849411e-03   \n",
       "8        0.120033      0.009830         0.001347    1.905262e-03   \n",
       "9        0.130706      0.013097         0.009516    5.700791e-03   \n",
       "10       0.169870      0.005407         0.009287    8.101115e-03   \n",
       "11       0.193268      0.002992         0.008362    6.464810e-03   \n",
       "12       0.114671      0.011337         0.007982    6.490689e-03   \n",
       "13       0.146329      0.003520         0.003224    2.474713e-03   \n",
       "14       0.160563      0.004609         0.003951    2.794182e-03   \n",
       "15       0.195939      0.006344         0.005780    8.173566e-03   \n",
       "16       0.130036      0.007980         0.009635    5.124555e-03   \n",
       "17       0.157947      0.009965         0.005208    7.365808e-03   \n",
       "18       0.179776      0.007856         0.005247    7.419868e-03   \n",
       "19       0.208081      0.013485         0.007802    6.377332e-03   \n",
       "20       0.126504      0.014304         0.006604    6.675795e-03   \n",
       "21       0.145022      0.003139         0.015621    5.619580e-07   \n",
       "22       0.182989      0.019647         0.010418    7.366877e-03   \n",
       "23       0.211572      0.021614         0.010361    9.711726e-03   \n",
       "24       0.125304      0.009307         0.008855    7.140051e-03   \n",
       "25       0.140877      0.007865         0.012602    4.296006e-03   \n",
       "26       0.187286      0.017435         0.003553    4.315635e-03   \n",
       "27       0.233218      0.019645         0.009881    2.127876e-03   \n",
       "28       0.135075      0.008433         0.012821    4.141748e-03   \n",
       "29       0.158093      0.015777         0.002452    3.468292e-03   \n",
       "30       0.193372      0.016440         0.003101    4.385520e-03   \n",
       "31       0.219915      0.017960         0.004820    3.434402e-03   \n",
       "\n",
       "   param_max_depth param_min_samples_leaf param_min_samples_split  \\\n",
       "0                3                     20                      40   \n",
       "1                3                     20                      40   \n",
       "2                3                     20                      40   \n",
       "3                3                     20                      40   \n",
       "4                3                     20                      60   \n",
       "5                3                     20                      60   \n",
       "6                3                     20                      60   \n",
       "7                3                     20                      60   \n",
       "8                3                     40                      40   \n",
       "9                3                     40                      40   \n",
       "10               3                     40                      40   \n",
       "11               3                     40                      40   \n",
       "12               3                     40                      60   \n",
       "13               3                     40                      60   \n",
       "14               3                     40                      60   \n",
       "15               3                     40                      60   \n",
       "16               4                     20                      40   \n",
       "17               4                     20                      40   \n",
       "18               4                     20                      40   \n",
       "19               4                     20                      40   \n",
       "20               4                     20                      60   \n",
       "21               4                     20                      60   \n",
       "22               4                     20                      60   \n",
       "23               4                     20                      60   \n",
       "24               4                     40                      40   \n",
       "25               4                     40                      40   \n",
       "26               4                     40                      40   \n",
       "27               4                     40                      40   \n",
       "28               4                     40                      60   \n",
       "29               4                     40                      60   \n",
       "30               4                     40                      60   \n",
       "31               4                     40                      60   \n",
       "\n",
       "   param_n_estimators param_subsample  \\\n",
       "0                  10            0.25   \n",
       "1                  10             0.5   \n",
       "2                  15            0.25   \n",
       "3                  15             0.5   \n",
       "4                  10            0.25   \n",
       "5                  10             0.5   \n",
       "6                  15            0.25   \n",
       "7                  15             0.5   \n",
       "8                  10            0.25   \n",
       "9                  10             0.5   \n",
       "10                 15            0.25   \n",
       "11                 15             0.5   \n",
       "12                 10            0.25   \n",
       "13                 10             0.5   \n",
       "14                 15            0.25   \n",
       "15                 15             0.5   \n",
       "16                 10            0.25   \n",
       "17                 10             0.5   \n",
       "18                 15            0.25   \n",
       "19                 15             0.5   \n",
       "20                 10            0.25   \n",
       "21                 10             0.5   \n",
       "22                 15            0.25   \n",
       "23                 15             0.5   \n",
       "24                 10            0.25   \n",
       "25                 10             0.5   \n",
       "26                 15            0.25   \n",
       "27                 15             0.5   \n",
       "28                 10            0.25   \n",
       "29                 10             0.5   \n",
       "30                 15            0.25   \n",
       "31                 15             0.5   \n",
       "\n",
       "                                               params       ...         \\\n",
       "0   {'max_depth': 3, 'min_samples_leaf': 20, 'min_...       ...          \n",
       "1   {'max_depth': 3, 'min_samples_leaf': 20, 'min_...       ...          \n",
       "2   {'max_depth': 3, 'min_samples_leaf': 20, 'min_...       ...          \n",
       "3   {'max_depth': 3, 'min_samples_leaf': 20, 'min_...       ...          \n",
       "4   {'max_depth': 3, 'min_samples_leaf': 20, 'min_...       ...          \n",
       "5   {'max_depth': 3, 'min_samples_leaf': 20, 'min_...       ...          \n",
       "6   {'max_depth': 3, 'min_samples_leaf': 20, 'min_...       ...          \n",
       "7   {'max_depth': 3, 'min_samples_leaf': 20, 'min_...       ...          \n",
       "8   {'max_depth': 3, 'min_samples_leaf': 40, 'min_...       ...          \n",
       "9   {'max_depth': 3, 'min_samples_leaf': 40, 'min_...       ...          \n",
       "10  {'max_depth': 3, 'min_samples_leaf': 40, 'min_...       ...          \n",
       "11  {'max_depth': 3, 'min_samples_leaf': 40, 'min_...       ...          \n",
       "12  {'max_depth': 3, 'min_samples_leaf': 40, 'min_...       ...          \n",
       "13  {'max_depth': 3, 'min_samples_leaf': 40, 'min_...       ...          \n",
       "14  {'max_depth': 3, 'min_samples_leaf': 40, 'min_...       ...          \n",
       "15  {'max_depth': 3, 'min_samples_leaf': 40, 'min_...       ...          \n",
       "16  {'max_depth': 4, 'min_samples_leaf': 20, 'min_...       ...          \n",
       "17  {'max_depth': 4, 'min_samples_leaf': 20, 'min_...       ...          \n",
       "18  {'max_depth': 4, 'min_samples_leaf': 20, 'min_...       ...          \n",
       "19  {'max_depth': 4, 'min_samples_leaf': 20, 'min_...       ...          \n",
       "20  {'max_depth': 4, 'min_samples_leaf': 20, 'min_...       ...          \n",
       "21  {'max_depth': 4, 'min_samples_leaf': 20, 'min_...       ...          \n",
       "22  {'max_depth': 4, 'min_samples_leaf': 20, 'min_...       ...          \n",
       "23  {'max_depth': 4, 'min_samples_leaf': 20, 'min_...       ...          \n",
       "24  {'max_depth': 4, 'min_samples_leaf': 40, 'min_...       ...          \n",
       "25  {'max_depth': 4, 'min_samples_leaf': 40, 'min_...       ...          \n",
       "26  {'max_depth': 4, 'min_samples_leaf': 40, 'min_...       ...          \n",
       "27  {'max_depth': 4, 'min_samples_leaf': 40, 'min_...       ...          \n",
       "28  {'max_depth': 4, 'min_samples_leaf': 40, 'min_...       ...          \n",
       "29  {'max_depth': 4, 'min_samples_leaf': 40, 'min_...       ...          \n",
       "30  {'max_depth': 4, 'min_samples_leaf': 40, 'min_...       ...          \n",
       "31  {'max_depth': 4, 'min_samples_leaf': 40, 'min_...       ...          \n",
       "\n",
       "    split1_test_score  split2_test_score  mean_test_score  std_test_score  \\\n",
       "0            0.826771           0.826771         0.826771        0.000000   \n",
       "1            0.826771           0.826771         0.826771        0.000000   \n",
       "2            0.826568           0.826466         0.826737        0.000314   \n",
       "3            0.826669           0.826771         0.826737        0.000048   \n",
       "4            0.826771           0.826771         0.826771        0.000000   \n",
       "5            0.826771           0.826771         0.826771        0.000000   \n",
       "6            0.826771           0.826771         0.826771        0.000000   \n",
       "7            0.827075           0.826771         0.826872        0.000144   \n",
       "8            0.826771           0.826771         0.826771        0.000000   \n",
       "9            0.826771           0.826771         0.826771        0.000000   \n",
       "10           0.826771           0.826771         0.826771        0.000000   \n",
       "11           0.826771           0.826771         0.826771        0.000000   \n",
       "12           0.826771           0.826771         0.826771        0.000000   \n",
       "13           0.826771           0.826771         0.826771        0.000000   \n",
       "14           0.826771           0.826771         0.826771        0.000000   \n",
       "15           0.826771           0.826466         0.826669        0.000144   \n",
       "16           0.826771           0.826771         0.826771        0.000000   \n",
       "17           0.826771           0.826771         0.826771        0.000000   \n",
       "18           0.826771           0.826771         0.826703        0.000096   \n",
       "19           0.827075           0.826974         0.826940        0.000127   \n",
       "20           0.826771           0.826771         0.826771        0.000000   \n",
       "21           0.826771           0.826771         0.826771        0.000000   \n",
       "22           0.826568           0.826771         0.826703        0.000096   \n",
       "23           0.826669           0.826669         0.826568        0.000144   \n",
       "24           0.826771           0.826771         0.826771        0.000000   \n",
       "25           0.826771           0.826771         0.826771        0.000000   \n",
       "26           0.826771           0.826771         0.826771        0.000000   \n",
       "27           0.826771           0.826466         0.826669        0.000144   \n",
       "28           0.826771           0.826771         0.826771        0.000000   \n",
       "29           0.826771           0.826771         0.826771        0.000000   \n",
       "30           0.826771           0.826771         0.826771        0.000000   \n",
       "31           0.826771           0.826771         0.826771        0.000000   \n",
       "\n",
       "    rank_test_score  split0_train_score  split1_train_score  \\\n",
       "0                 3            0.826771            0.826771   \n",
       "1                 3            0.826771            0.826771   \n",
       "2                26            0.827126            0.826974   \n",
       "3                26            0.826771            0.827177   \n",
       "4                 3            0.826771            0.826771   \n",
       "5                 3            0.826771            0.826771   \n",
       "6                 3            0.826771            0.826771   \n",
       "7                 2            0.826771            0.827380   \n",
       "8                 3            0.826771            0.826771   \n",
       "9                 3            0.826771            0.826771   \n",
       "10                3            0.826771            0.826771   \n",
       "11                3            0.826771            0.826771   \n",
       "12                3            0.826771            0.826771   \n",
       "13                3            0.826771            0.826771   \n",
       "14                3            0.826771            0.826771   \n",
       "15               30            0.826771            0.826771   \n",
       "16                3            0.826771            0.826771   \n",
       "17                3            0.826771            0.826771   \n",
       "18               28            0.827025            0.827025   \n",
       "19                1            0.826822            0.827430   \n",
       "20                3            0.826771            0.826771   \n",
       "21                3            0.826771            0.826771   \n",
       "22               28            0.826771            0.826923   \n",
       "23               32            0.827380            0.827228   \n",
       "24                3            0.826771            0.826771   \n",
       "25                3            0.826771            0.826771   \n",
       "26                3            0.826771            0.826771   \n",
       "27               30            0.826771            0.826923   \n",
       "28                3            0.826771            0.826771   \n",
       "29                3            0.826771            0.826771   \n",
       "30                3            0.826771            0.826771   \n",
       "31                3            0.826771            0.826771   \n",
       "\n",
       "    split2_train_score  mean_train_score  std_train_score  \n",
       "0             0.826771          0.826771         0.000000  \n",
       "1             0.826771          0.826771         0.000000  \n",
       "2             0.827380          0.827160         0.000167  \n",
       "3             0.826771          0.826906         0.000191  \n",
       "4             0.826771          0.826771         0.000000  \n",
       "5             0.826771          0.826771         0.000000  \n",
       "6             0.826771          0.826771         0.000000  \n",
       "7             0.826771          0.826974         0.000287  \n",
       "8             0.826771          0.826771         0.000000  \n",
       "9             0.826771          0.826771         0.000000  \n",
       "10            0.826771          0.826771         0.000000  \n",
       "11            0.826771          0.826771         0.000000  \n",
       "12            0.826771          0.826771         0.000000  \n",
       "13            0.826771          0.826771         0.000000  \n",
       "14            0.826771          0.826771         0.000000  \n",
       "15            0.827329          0.826957         0.000263  \n",
       "16            0.826771          0.826771         0.000000  \n",
       "17            0.826771          0.826771         0.000000  \n",
       "18            0.826771          0.826940         0.000120  \n",
       "19            0.827938          0.827397         0.000456  \n",
       "20            0.826771          0.826771         0.000000  \n",
       "21            0.826771          0.826771         0.000000  \n",
       "22            0.826771          0.826822         0.000072  \n",
       "23            0.827481          0.827363         0.000104  \n",
       "24            0.826771          0.826771         0.000000  \n",
       "25            0.826771          0.826771         0.000000  \n",
       "26            0.826771          0.826771         0.000000  \n",
       "27            0.827228          0.826974         0.000190  \n",
       "28            0.826771          0.826771         0.000000  \n",
       "29            0.826771          0.826771         0.000000  \n",
       "30            0.826771          0.826771         0.000000  \n",
       "31            0.826771          0.826771         0.000000  \n",
       "\n",
       "[32 rows x 21 columns]"
      ]
     },
     "execution_count": 19,
     "metadata": {},
     "output_type": "execute_result"
    }
   ],
   "source": [
    "print(grid_gbt.best_estimator_)\n",
    "print(grid_gbt.best_score_)\n",
    "pd.DataFrame(grid_gbt.cv_results_)"
   ]
  },
  {
   "cell_type": "markdown",
   "metadata": {},
   "source": [
    "### Confusion Matrix"
   ]
  },
  {
   "cell_type": "code",
   "execution_count": 20,
   "metadata": {},
   "outputs": [
    {
     "data": {
      "text/plain": [
       "SalePrice1mill    0.174548\n",
       "dtype: float64"
      ]
     },
     "execution_count": 20,
     "metadata": {},
     "output_type": "execute_result"
    }
   ],
   "source": [
    "y_te.mean()"
   ]
  },
  {
   "cell_type": "code",
   "execution_count": 21,
   "metadata": {},
   "outputs": [
    {
     "name": "stderr",
     "output_type": "stream",
     "text": [
      "C:\\ProgramData\\Anaconda3\\lib\\site-packages\\plotnine\\utils.py:281: FutureWarning: Method .as_matrix will be removed in a future version. Use .values instead.\n",
      "  ndistinct = ids.apply(len_unique, axis=0).as_matrix()\n",
      "C:\\ProgramData\\Anaconda3\\lib\\site-packages\\pandas\\core\\generic.py:4388: FutureWarning: Attribute 'is_copy' is deprecated and will be removed in a future version.\n",
      "  object.__getattribute__(self, name)\n",
      "C:\\ProgramData\\Anaconda3\\lib\\site-packages\\pandas\\core\\generic.py:4389: FutureWarning: Attribute 'is_copy' is deprecated and will be removed in a future version.\n",
      "  return object.__setattr__(self, name, value)\n"
     ]
    },
    {
     "data": {
      "image/png": "[encoded data removed]",
      "text/plain": [
       "<Figure size 640x480 with 1 Axes>"
      ]
     },
     "metadata": {
      "needs_background": "light"
     },
     "output_type": "display_data"
    },
    {
     "data": {
      "text/plain": [
       "<ggplot: (-9223371920236621645)>"
      ]
     },
     "execution_count": 21,
     "metadata": {},
     "output_type": "execute_result"
    }
   ],
   "source": [
    "cnf_matrix = confusion_matrix( y_te, grid_gbt.predict(X_te) )\n",
    "plot_confusion_matrix(cnf_matrix, normalize=False)"
   ]
  },
  {
   "cell_type": "markdown",
   "metadata": {},
   "source": [
    "### Number of results of sales over 1 mill 1 = over 1 million   0 = under1 mill"
   ]
  },
  {
   "cell_type": "code",
   "execution_count": 22,
   "metadata": {},
   "outputs": [
    {
     "data": {
      "text/plain": [
       "0    32575\n",
       "1     6841\n",
       "Name: SalePrice1mill, dtype: int64"
      ]
     },
     "execution_count": 22,
     "metadata": {},
     "output_type": "execute_result"
    }
   ],
   "source": [
    "df.SalePrice1mill.value_counts()"
   ]
  },
  {
   "cell_type": "code",
   "execution_count": 23,
   "metadata": {},
   "outputs": [
    {
     "data": {
      "text/plain": [
       "0.1735589608280901"
      ]
     },
     "execution_count": 23,
     "metadata": {},
     "output_type": "execute_result"
    }
   ],
   "source": [
    "6841/(32575 +6841)"
   ]
  },
  {
   "cell_type": "markdown",
   "metadata": {},
   "source": [
    "### Confusion matrix result"
   ]
  },
  {
   "cell_type": "code",
   "execution_count": 24,
   "metadata": {},
   "outputs": [
    {
     "data": {
      "text/plain": [
       "0.21145807720678633"
      ]
     },
     "execution_count": 24,
     "metadata": {},
     "output_type": "execute_result"
    }
   ],
   "source": [
    "1720/8134"
   ]
  },
  {
   "cell_type": "markdown",
   "metadata": {},
   "source": [
    "### Model with more X features (3 \"X\" features)"
   ]
  },
  {
   "cell_type": "code",
   "execution_count": 25,
   "metadata": {},
   "outputs": [],
   "source": [
    "# from sklearn.model_selection import train_test_split\n",
    "# #Define X and y with patsy dmatrices\n",
    "# X = df[['GROSS SQUARE FEET','LAND SQUARE FEET','BOROUGH' \n",
    "          \n",
    "#           ]] #features we think may help predict y\n",
    "# y = df['SalePrice1mill'] #what we want to predict\n",
    "\n"
   ]
  },
  {
   "cell_type": "code",
   "execution_count": 26,
   "metadata": {},
   "outputs": [],
   "source": [
    "from patsy import dmatrices\n",
    "y, X = dmatrices('SalePrice1mill ~ Q(\"YEAR BUILT\") + Q(\"GROSS SQUARE FEET\") +Q(\"LAND SQUARE FEET\")',\n",
    "                 df, return_type = \"dataframe\")"
   ]
  },
  {
   "cell_type": "code",
   "execution_count": 27,
   "metadata": {},
   "outputs": [],
   "source": [
    "X_tr, X_te, y_tr, y_te = train_test_split(X, y, random_state=0)"
   ]
  },
  {
   "cell_type": "code",
   "execution_count": 28,
   "metadata": {},
   "outputs": [
    {
     "name": "stdout",
     "output_type": "stream",
     "text": [
      "29562\n",
      "9854\n",
      "29562\n",
      "9854\n"
     ]
    }
   ],
   "source": [
    "print(len(X_tr))\n",
    "print(len(X_te))\n",
    "print(len(y_tr))\n",
    "print(len(y_te))"
   ]
  },
  {
   "cell_type": "markdown",
   "metadata": {},
   "source": [
    "### Logistic"
   ]
  },
  {
   "cell_type": "code",
   "execution_count": 29,
   "metadata": {},
   "outputs": [],
   "source": [
    "# Fit a LogisticRegression here using GridSearchCV (already imported both above)\n",
    "# Create a params dictionary for the parameter: 'C'\n",
    "# Use multi_class='multinomial' and solver='lbfgs' in the LogisticRegression"
   ]
  },
  {
   "cell_type": "code",
   "execution_count": 30,
   "metadata": {},
   "outputs": [
    {
     "name": "stdout",
     "output_type": "stream",
     "text": [
      "Fitting 3 folds for each of 4 candidates, totalling 12 fits\n",
      "[CV] C=0.1 ...........................................................\n",
      "[CV] ............................................ C=0.1, total=   0.0s\n",
      "[CV] C=0.1 ...........................................................\n",
      "[CV] ............................................ C=0.1, total=   0.0s\n",
      "[CV] C=0.1 ...........................................................\n"
     ]
    },
    {
     "name": "stderr",
     "output_type": "stream",
     "text": [
      "C:\\ProgramData\\Anaconda3\\lib\\site-packages\\sklearn\\utils\\validation.py:578: DataConversionWarning: A column-vector y was passed when a 1d array was expected. Please change the shape of y to (n_samples, ), for example using ravel().\n",
      "  y = column_or_1d(y, warn=True)\n",
      "[Parallel(n_jobs=1)]: Done   1 out of   1 | elapsed:    0.0s remaining:    0.0s\n",
      "C:\\ProgramData\\Anaconda3\\lib\\site-packages\\sklearn\\utils\\validation.py:578: DataConversionWarning: A column-vector y was passed when a 1d array was expected. Please change the shape of y to (n_samples, ), for example using ravel().\n",
      "  y = column_or_1d(y, warn=True)\n",
      "C:\\ProgramData\\Anaconda3\\lib\\site-packages\\sklearn\\utils\\validation.py:578: DataConversionWarning: A column-vector y was passed when a 1d array was expected. Please change the shape of y to (n_samples, ), for example using ravel().\n",
      "  y = column_or_1d(y, warn=True)\n"
     ]
    },
    {
     "name": "stdout",
     "output_type": "stream",
     "text": [
      "[CV] ............................................ C=0.1, total=   0.0s\n",
      "[CV] C=1 .............................................................\n",
      "[CV] .............................................. C=1, total=   0.0s\n",
      "[CV] C=1 .............................................................\n",
      "[CV] .............................................. C=1, total=   0.0s\n",
      "[CV] C=1 .............................................................\n"
     ]
    },
    {
     "name": "stderr",
     "output_type": "stream",
     "text": [
      "C:\\ProgramData\\Anaconda3\\lib\\site-packages\\sklearn\\utils\\validation.py:578: DataConversionWarning: A column-vector y was passed when a 1d array was expected. Please change the shape of y to (n_samples, ), for example using ravel().\n",
      "  y = column_or_1d(y, warn=True)\n",
      "C:\\ProgramData\\Anaconda3\\lib\\site-packages\\sklearn\\utils\\validation.py:578: DataConversionWarning: A column-vector y was passed when a 1d array was expected. Please change the shape of y to (n_samples, ), for example using ravel().\n",
      "  y = column_or_1d(y, warn=True)\n",
      "C:\\ProgramData\\Anaconda3\\lib\\site-packages\\sklearn\\utils\\validation.py:578: DataConversionWarning: A column-vector y was passed when a 1d array was expected. Please change the shape of y to (n_samples, ), for example using ravel().\n",
      "  y = column_or_1d(y, warn=True)\n"
     ]
    },
    {
     "name": "stdout",
     "output_type": "stream",
     "text": [
      "[CV] .............................................. C=1, total=   0.0s\n",
      "[CV] C=10 ............................................................\n",
      "[CV] ............................................. C=10, total=   0.0s\n",
      "[CV] C=10 ............................................................\n",
      "[CV] ............................................. C=10, total=   0.0s\n",
      "[CV] C=10 ............................................................\n",
      "[CV] ............................................. C=10, total=   0.0s"
     ]
    },
    {
     "name": "stderr",
     "output_type": "stream",
     "text": [
      "C:\\ProgramData\\Anaconda3\\lib\\site-packages\\sklearn\\utils\\validation.py:578: DataConversionWarning: A column-vector y was passed when a 1d array was expected. Please change the shape of y to (n_samples, ), for example using ravel().\n",
      "  y = column_or_1d(y, warn=True)\n",
      "C:\\ProgramData\\Anaconda3\\lib\\site-packages\\sklearn\\utils\\validation.py:578: DataConversionWarning: A column-vector y was passed when a 1d array was expected. Please change the shape of y to (n_samples, ), for example using ravel().\n",
      "  y = column_or_1d(y, warn=True)\n",
      "C:\\ProgramData\\Anaconda3\\lib\\site-packages\\sklearn\\utils\\validation.py:578: DataConversionWarning: A column-vector y was passed when a 1d array was expected. Please change the shape of y to (n_samples, ), for example using ravel().\n",
      "  y = column_or_1d(y, warn=True)\n"
     ]
    },
    {
     "name": "stdout",
     "output_type": "stream",
     "text": [
      "\n",
      "[CV] C=100 ...........................................................\n",
      "[CV] ............................................ C=100, total=   0.0s\n",
      "[CV] C=100 ...........................................................\n",
      "[CV] ............................................ C=100, total=   0.0s\n",
      "[CV] C=100 ...........................................................\n",
      "[CV] ............................................ C=100, total=   0.0s\n"
     ]
    },
    {
     "name": "stderr",
     "output_type": "stream",
     "text": [
      "C:\\ProgramData\\Anaconda3\\lib\\site-packages\\sklearn\\utils\\validation.py:578: DataConversionWarning: A column-vector y was passed when a 1d array was expected. Please change the shape of y to (n_samples, ), for example using ravel().\n",
      "  y = column_or_1d(y, warn=True)\n",
      "C:\\ProgramData\\Anaconda3\\lib\\site-packages\\sklearn\\utils\\validation.py:578: DataConversionWarning: A column-vector y was passed when a 1d array was expected. Please change the shape of y to (n_samples, ), for example using ravel().\n",
      "  y = column_or_1d(y, warn=True)\n",
      "C:\\ProgramData\\Anaconda3\\lib\\site-packages\\sklearn\\utils\\validation.py:578: DataConversionWarning: A column-vector y was passed when a 1d array was expected. Please change the shape of y to (n_samples, ), for example using ravel().\n",
      "  y = column_or_1d(y, warn=True)\n",
      "[Parallel(n_jobs=1)]: Done  12 out of  12 | elapsed:    0.7s finished\n",
      "C:\\ProgramData\\Anaconda3\\lib\\site-packages\\sklearn\\utils\\validation.py:578: DataConversionWarning: A column-vector y was passed when a 1d array was expected. Please change the shape of y to (n_samples, ), for example using ravel().\n",
      "  y = column_or_1d(y, warn=True)\n"
     ]
    },
    {
     "data": {
      "text/plain": [
       "GridSearchCV(cv=None, error_score='raise',\n",
       "       estimator=LogisticRegression(C=1.0, class_weight=None, dual=False, fit_intercept=True,\n",
       "          intercept_scaling=1, max_iter=100, multi_class='ovr', n_jobs=1,\n",
       "          penalty='l2', random_state=None, solver='liblinear', tol=0.0001,\n",
       "          verbose=0, warm_start=False),\n",
       "       fit_params=None, iid=True, n_jobs=1,\n",
       "       param_grid={'C': [0.1, 1, 10, 100]}, pre_dispatch='2*n_jobs',\n",
       "       refit=True, return_train_score='warn', scoring=None, verbose=2)"
      ]
     },
     "execution_count": 30,
     "metadata": {},
     "output_type": "execute_result"
    }
   ],
   "source": [
    "params = {\n",
    "    'C': [0.1, 1, 10, 100]\n",
    "}\n",
    "regression = LogisticRegression()\n",
    "grid_logit = GridSearchCV(estimator=regression, param_grid=params, verbose=2)\n",
    "grid_logit.fit(X_tr, y_tr)"
   ]
  },
  {
   "cell_type": "code",
   "execution_count": 31,
   "metadata": {},
   "outputs": [
    {
     "name": "stdout",
     "output_type": "stream",
     "text": [
      "0.8328597523848184\n"
     ]
    }
   ],
   "source": [
    "print(grid_logit.best_score_)"
   ]
  },
  {
   "cell_type": "code",
   "execution_count": 32,
   "metadata": {},
   "outputs": [],
   "source": [
    "# Calculate test predictions\n",
    "# Create a test set confusion matrix and plot"
   ]
  },
  {
   "cell_type": "markdown",
   "metadata": {},
   "source": [
    "## Gradient Boosting"
   ]
  },
  {
   "cell_type": "code",
   "execution_count": 33,
   "metadata": {},
   "outputs": [],
   "source": [
    "# Fit a GradientBoostingClassifier here using GridSearchCV (already imported both above)\n",
    "# Create a params dictionary for the parameters:\n",
    "#      'n_estimators', 'subsample', 'max_depth', 'min_samples_split', 'min_samples_leaf'"
   ]
  },
  {
   "cell_type": "code",
   "execution_count": 34,
   "metadata": {},
   "outputs": [
    {
     "name": "stdout",
     "output_type": "stream",
     "text": [
      "Fitting 3 folds for each of 32 candidates, totalling 96 fits\n",
      "[CV] max_depth=3, min_samples_leaf=20, min_samples_split=40, n_estimators=10, subsample=0.25 \n"
     ]
    },
    {
     "name": "stderr",
     "output_type": "stream",
     "text": [
      "C:\\ProgramData\\Anaconda3\\lib\\site-packages\\sklearn\\utils\\validation.py:578: DataConversionWarning: A column-vector y was passed when a 1d array was expected. Please change the shape of y to (n_samples, ), for example using ravel().\n",
      "  y = column_or_1d(y, warn=True)\n"
     ]
    },
    {
     "name": "stdout",
     "output_type": "stream",
     "text": [
      "[CV]  max_depth=3, min_samples_leaf=20, min_samples_split=40, n_estimators=10, subsample=0.25, total=   0.1s\n",
      "[CV] max_depth=3, min_samples_leaf=20, min_samples_split=40, n_estimators=10, subsample=0.25 \n",
      "[CV]  max_depth=3, min_samples_leaf=20, min_samples_split=40, n_estimators=10, subsample=0.25, total=   0.0s\n",
      "[CV] max_depth=3, min_samples_leaf=20, min_samples_split=40, n_estimators=10, subsample=0.25 \n"
     ]
    },
    {
     "name": "stderr",
     "output_type": "stream",
     "text": [
      "[Parallel(n_jobs=1)]: Done   1 out of   1 | elapsed:    0.1s remaining:    0.0s\n",
      "C:\\ProgramData\\Anaconda3\\lib\\site-packages\\sklearn\\utils\\validation.py:578: DataConversionWarning: A column-vector y was passed when a 1d array was expected. Please change the shape of y to (n_samples, ), for example using ravel().\n",
      "  y = column_or_1d(y, warn=True)\n",
      "C:\\ProgramData\\Anaconda3\\lib\\site-packages\\sklearn\\utils\\validation.py:578: DataConversionWarning: A column-vector y was passed when a 1d array was expected. Please change the shape of y to (n_samples, ), for example using ravel().\n",
      "  y = column_or_1d(y, warn=True)\n"
     ]
    },
    {
     "name": "stdout",
     "output_type": "stream",
     "text": [
      "[CV]  max_depth=3, min_samples_leaf=20, min_samples_split=40, n_estimators=10, subsample=0.25, total=   0.1s\n",
      "[CV] max_depth=3, min_samples_leaf=20, min_samples_split=40, n_estimators=10, subsample=0.5 \n"
     ]
    },
    {
     "name": "stderr",
     "output_type": "stream",
     "text": [
      "C:\\ProgramData\\Anaconda3\\lib\\site-packages\\sklearn\\utils\\validation.py:578: DataConversionWarning: A column-vector y was passed when a 1d array was expected. Please change the shape of y to (n_samples, ), for example using ravel().\n",
      "  y = column_or_1d(y, warn=True)\n"
     ]
    },
    {
     "name": "stdout",
     "output_type": "stream",
     "text": [
      "[CV]  max_depth=3, min_samples_leaf=20, min_samples_split=40, n_estimators=10, subsample=0.5, total=   0.1s\n",
      "[CV] max_depth=3, min_samples_leaf=20, min_samples_split=40, n_estimators=10, subsample=0.5 \n",
      "[CV]  max_depth=3, min_samples_leaf=20, min_samples_split=40, n_estimators=10, subsample=0.5, total=   0.1s\n",
      "[CV] max_depth=3, min_samples_leaf=20, min_samples_split=40, n_estimators=10, subsample=0.5 \n"
     ]
    },
    {
     "name": "stderr",
     "output_type": "stream",
     "text": [
      "C:\\ProgramData\\Anaconda3\\lib\\site-packages\\sklearn\\utils\\validation.py:578: DataConversionWarning: A column-vector y was passed when a 1d array was expected. Please change the shape of y to (n_samples, ), for example using ravel().\n",
      "  y = column_or_1d(y, warn=True)\n",
      "C:\\ProgramData\\Anaconda3\\lib\\site-packages\\sklearn\\utils\\validation.py:578: DataConversionWarning: A column-vector y was passed when a 1d array was expected. Please change the shape of y to (n_samples, ), for example using ravel().\n",
      "  y = column_or_1d(y, warn=True)\n"
     ]
    },
    {
     "name": "stdout",
     "output_type": "stream",
     "text": [
      "[CV]  max_depth=3, min_samples_leaf=20, min_samples_split=40, n_estimators=10, subsample=0.5, total=   0.1s\n",
      "[CV] max_depth=3, min_samples_leaf=20, min_samples_split=40, n_estimators=15, subsample=0.25 \n"
     ]
    },
    {
     "name": "stderr",
     "output_type": "stream",
     "text": [
      "C:\\ProgramData\\Anaconda3\\lib\\site-packages\\sklearn\\utils\\validation.py:578: DataConversionWarning: A column-vector y was passed when a 1d array was expected. Please change the shape of y to (n_samples, ), for example using ravel().\n",
      "  y = column_or_1d(y, warn=True)\n"
     ]
    },
    {
     "name": "stdout",
     "output_type": "stream",
     "text": [
      "[CV]  max_depth=3, min_samples_leaf=20, min_samples_split=40, n_estimators=15, subsample=0.25, total=   0.1s\n",
      "[CV] max_depth=3, min_samples_leaf=20, min_samples_split=40, n_estimators=15, subsample=0.25 \n"
     ]
    },
    {
     "name": "stderr",
     "output_type": "stream",
     "text": [
      "C:\\ProgramData\\Anaconda3\\lib\\site-packages\\sklearn\\utils\\validation.py:578: DataConversionWarning: A column-vector y was passed when a 1d array was expected. Please change the shape of y to (n_samples, ), for example using ravel().\n",
      "  y = column_or_1d(y, warn=True)\n"
     ]
    },
    {
     "name": "stdout",
     "output_type": "stream",
     "text": [
      "[CV]  max_depth=3, min_samples_leaf=20, min_samples_split=40, n_estimators=15, subsample=0.25, total=   0.1s\n",
      "[CV] max_depth=3, min_samples_leaf=20, min_samples_split=40, n_estimators=15, subsample=0.25 \n"
     ]
    },
    {
     "name": "stderr",
     "output_type": "stream",
     "text": [
      "C:\\ProgramData\\Anaconda3\\lib\\site-packages\\sklearn\\utils\\validation.py:578: DataConversionWarning: A column-vector y was passed when a 1d array was expected. Please change the shape of y to (n_samples, ), for example using ravel().\n",
      "  y = column_or_1d(y, warn=True)\n"
     ]
    },
    {
     "name": "stdout",
     "output_type": "stream",
     "text": [
      "[CV]  max_depth=3, min_samples_leaf=20, min_samples_split=40, n_estimators=15, subsample=0.25, total=   0.1s\n",
      "[CV] max_depth=3, min_samples_leaf=20, min_samples_split=40, n_estimators=15, subsample=0.5 \n"
     ]
    },
    {
     "name": "stderr",
     "output_type": "stream",
     "text": [
      "C:\\ProgramData\\Anaconda3\\lib\\site-packages\\sklearn\\utils\\validation.py:578: DataConversionWarning: A column-vector y was passed when a 1d array was expected. Please change the shape of y to (n_samples, ), for example using ravel().\n",
      "  y = column_or_1d(y, warn=True)\n"
     ]
    },
    {
     "name": "stdout",
     "output_type": "stream",
     "text": [
      "[CV]  max_depth=3, min_samples_leaf=20, min_samples_split=40, n_estimators=15, subsample=0.5, total=   0.2s\n",
      "[CV] max_depth=3, min_samples_leaf=20, min_samples_split=40, n_estimators=15, subsample=0.5 \n"
     ]
    },
    {
     "name": "stderr",
     "output_type": "stream",
     "text": [
      "C:\\ProgramData\\Anaconda3\\lib\\site-packages\\sklearn\\utils\\validation.py:578: DataConversionWarning: A column-vector y was passed when a 1d array was expected. Please change the shape of y to (n_samples, ), for example using ravel().\n",
      "  y = column_or_1d(y, warn=True)\n"
     ]
    },
    {
     "name": "stdout",
     "output_type": "stream",
     "text": [
      "[CV]  max_depth=3, min_samples_leaf=20, min_samples_split=40, n_estimators=15, subsample=0.5, total=   0.2s\n",
      "[CV] max_depth=3, min_samples_leaf=20, min_samples_split=40, n_estimators=15, subsample=0.5 \n"
     ]
    },
    {
     "name": "stderr",
     "output_type": "stream",
     "text": [
      "C:\\ProgramData\\Anaconda3\\lib\\site-packages\\sklearn\\utils\\validation.py:578: DataConversionWarning: A column-vector y was passed when a 1d array was expected. Please change the shape of y to (n_samples, ), for example using ravel().\n",
      "  y = column_or_1d(y, warn=True)\n"
     ]
    },
    {
     "name": "stdout",
     "output_type": "stream",
     "text": [
      "[CV]  max_depth=3, min_samples_leaf=20, min_samples_split=40, n_estimators=15, subsample=0.5, total=   0.2s\n",
      "[CV] max_depth=3, min_samples_leaf=20, min_samples_split=60, n_estimators=10, subsample=0.25 \n",
      "[CV]  max_depth=3, min_samples_leaf=20, min_samples_split=60, n_estimators=10, subsample=0.25, total=   0.0s\n",
      "[CV] max_depth=3, min_samples_leaf=20, min_samples_split=60, n_estimators=10, subsample=0.25 \n"
     ]
    },
    {
     "name": "stderr",
     "output_type": "stream",
     "text": [
      "C:\\ProgramData\\Anaconda3\\lib\\site-packages\\sklearn\\utils\\validation.py:578: DataConversionWarning: A column-vector y was passed when a 1d array was expected. Please change the shape of y to (n_samples, ), for example using ravel().\n",
      "  y = column_or_1d(y, warn=True)\n",
      "C:\\ProgramData\\Anaconda3\\lib\\site-packages\\sklearn\\utils\\validation.py:578: DataConversionWarning: A column-vector y was passed when a 1d array was expected. Please change the shape of y to (n_samples, ), for example using ravel().\n",
      "  y = column_or_1d(y, warn=True)\n"
     ]
    },
    {
     "name": "stdout",
     "output_type": "stream",
     "text": [
      "[CV]  max_depth=3, min_samples_leaf=20, min_samples_split=60, n_estimators=10, subsample=0.25, total=   0.1s\n",
      "[CV] max_depth=3, min_samples_leaf=20, min_samples_split=60, n_estimators=10, subsample=0.25 \n",
      "[CV]  max_depth=3, min_samples_leaf=20, min_samples_split=60, n_estimators=10, subsample=0.25, total=   0.1s\n",
      "[CV] max_depth=3, min_samples_leaf=20, min_samples_split=60, n_estimators=10, subsample=0.5 \n"
     ]
    },
    {
     "name": "stderr",
     "output_type": "stream",
     "text": [
      "C:\\ProgramData\\Anaconda3\\lib\\site-packages\\sklearn\\utils\\validation.py:578: DataConversionWarning: A column-vector y was passed when a 1d array was expected. Please change the shape of y to (n_samples, ), for example using ravel().\n",
      "  y = column_or_1d(y, warn=True)\n",
      "C:\\ProgramData\\Anaconda3\\lib\\site-packages\\sklearn\\utils\\validation.py:578: DataConversionWarning: A column-vector y was passed when a 1d array was expected. Please change the shape of y to (n_samples, ), for example using ravel().\n",
      "  y = column_or_1d(y, warn=True)\n"
     ]
    },
    {
     "name": "stdout",
     "output_type": "stream",
     "text": [
      "[CV]  max_depth=3, min_samples_leaf=20, min_samples_split=60, n_estimators=10, subsample=0.5, total=   0.1s\n",
      "[CV] max_depth=3, min_samples_leaf=20, min_samples_split=60, n_estimators=10, subsample=0.5 \n",
      "[CV]  max_depth=3, min_samples_leaf=20, min_samples_split=60, n_estimators=10, subsample=0.5, total=   0.1s\n",
      "[CV] max_depth=3, min_samples_leaf=20, min_samples_split=60, n_estimators=10, subsample=0.5 \n"
     ]
    },
    {
     "name": "stderr",
     "output_type": "stream",
     "text": [
      "C:\\ProgramData\\Anaconda3\\lib\\site-packages\\sklearn\\utils\\validation.py:578: DataConversionWarning: A column-vector y was passed when a 1d array was expected. Please change the shape of y to (n_samples, ), for example using ravel().\n",
      "  y = column_or_1d(y, warn=True)\n",
      "C:\\ProgramData\\Anaconda3\\lib\\site-packages\\sklearn\\utils\\validation.py:578: DataConversionWarning: A column-vector y was passed when a 1d array was expected. Please change the shape of y to (n_samples, ), for example using ravel().\n",
      "  y = column_or_1d(y, warn=True)\n"
     ]
    },
    {
     "name": "stdout",
     "output_type": "stream",
     "text": [
      "[CV]  max_depth=3, min_samples_leaf=20, min_samples_split=60, n_estimators=10, subsample=0.5, total=   0.1s\n",
      "[CV] max_depth=3, min_samples_leaf=20, min_samples_split=60, n_estimators=15, subsample=0.25 \n"
     ]
    },
    {
     "name": "stderr",
     "output_type": "stream",
     "text": [
      "C:\\ProgramData\\Anaconda3\\lib\\site-packages\\sklearn\\utils\\validation.py:578: DataConversionWarning: A column-vector y was passed when a 1d array was expected. Please change the shape of y to (n_samples, ), for example using ravel().\n",
      "  y = column_or_1d(y, warn=True)\n"
     ]
    },
    {
     "name": "stdout",
     "output_type": "stream",
     "text": [
      "[CV]  max_depth=3, min_samples_leaf=20, min_samples_split=60, n_estimators=15, subsample=0.25, total=   0.1s\n",
      "[CV] max_depth=3, min_samples_leaf=20, min_samples_split=60, n_estimators=15, subsample=0.25 \n"
     ]
    },
    {
     "name": "stderr",
     "output_type": "stream",
     "text": [
      "C:\\ProgramData\\Anaconda3\\lib\\site-packages\\sklearn\\utils\\validation.py:578: DataConversionWarning: A column-vector y was passed when a 1d array was expected. Please change the shape of y to (n_samples, ), for example using ravel().\n",
      "  y = column_or_1d(y, warn=True)\n"
     ]
    },
    {
     "name": "stdout",
     "output_type": "stream",
     "text": [
      "[CV]  max_depth=3, min_samples_leaf=20, min_samples_split=60, n_estimators=15, subsample=0.25, total=   0.1s\n",
      "[CV] max_depth=3, min_samples_leaf=20, min_samples_split=60, n_estimators=15, subsample=0.25 \n"
     ]
    },
    {
     "name": "stderr",
     "output_type": "stream",
     "text": [
      "C:\\ProgramData\\Anaconda3\\lib\\site-packages\\sklearn\\utils\\validation.py:578: DataConversionWarning: A column-vector y was passed when a 1d array was expected. Please change the shape of y to (n_samples, ), for example using ravel().\n",
      "  y = column_or_1d(y, warn=True)\n"
     ]
    },
    {
     "name": "stdout",
     "output_type": "stream",
     "text": [
      "[CV]  max_depth=3, min_samples_leaf=20, min_samples_split=60, n_estimators=15, subsample=0.25, total=   0.1s\n",
      "[CV] max_depth=3, min_samples_leaf=20, min_samples_split=60, n_estimators=15, subsample=0.5 \n"
     ]
    },
    {
     "name": "stderr",
     "output_type": "stream",
     "text": [
      "C:\\ProgramData\\Anaconda3\\lib\\site-packages\\sklearn\\utils\\validation.py:578: DataConversionWarning: A column-vector y was passed when a 1d array was expected. Please change the shape of y to (n_samples, ), for example using ravel().\n",
      "  y = column_or_1d(y, warn=True)\n"
     ]
    },
    {
     "name": "stdout",
     "output_type": "stream",
     "text": [
      "[CV]  max_depth=3, min_samples_leaf=20, min_samples_split=60, n_estimators=15, subsample=0.5, total=   0.2s\n",
      "[CV] max_depth=3, min_samples_leaf=20, min_samples_split=60, n_estimators=15, subsample=0.5 \n"
     ]
    },
    {
     "name": "stderr",
     "output_type": "stream",
     "text": [
      "C:\\ProgramData\\Anaconda3\\lib\\site-packages\\sklearn\\utils\\validation.py:578: DataConversionWarning: A column-vector y was passed when a 1d array was expected. Please change the shape of y to (n_samples, ), for example using ravel().\n",
      "  y = column_or_1d(y, warn=True)\n"
     ]
    },
    {
     "name": "stdout",
     "output_type": "stream",
     "text": [
      "[CV]  max_depth=3, min_samples_leaf=20, min_samples_split=60, n_estimators=15, subsample=0.5, total=   0.2s\n",
      "[CV] max_depth=3, min_samples_leaf=20, min_samples_split=60, n_estimators=15, subsample=0.5 \n"
     ]
    },
    {
     "name": "stderr",
     "output_type": "stream",
     "text": [
      "C:\\ProgramData\\Anaconda3\\lib\\site-packages\\sklearn\\utils\\validation.py:578: DataConversionWarning: A column-vector y was passed when a 1d array was expected. Please change the shape of y to (n_samples, ), for example using ravel().\n",
      "  y = column_or_1d(y, warn=True)\n"
     ]
    },
    {
     "name": "stdout",
     "output_type": "stream",
     "text": [
      "[CV]  max_depth=3, min_samples_leaf=20, min_samples_split=60, n_estimators=15, subsample=0.5, total=   0.2s\n",
      "[CV] max_depth=3, min_samples_leaf=40, min_samples_split=40, n_estimators=10, subsample=0.25 \n",
      "[CV]  max_depth=3, min_samples_leaf=40, min_samples_split=40, n_estimators=10, subsample=0.25, total=   0.0s\n",
      "[CV] max_depth=3, min_samples_leaf=40, min_samples_split=40, n_estimators=10, subsample=0.25 \n"
     ]
    },
    {
     "name": "stderr",
     "output_type": "stream",
     "text": [
      "C:\\ProgramData\\Anaconda3\\lib\\site-packages\\sklearn\\utils\\validation.py:578: DataConversionWarning: A column-vector y was passed when a 1d array was expected. Please change the shape of y to (n_samples, ), for example using ravel().\n",
      "  y = column_or_1d(y, warn=True)\n",
      "C:\\ProgramData\\Anaconda3\\lib\\site-packages\\sklearn\\utils\\validation.py:578: DataConversionWarning: A column-vector y was passed when a 1d array was expected. Please change the shape of y to (n_samples, ), for example using ravel().\n",
      "  y = column_or_1d(y, warn=True)\n"
     ]
    },
    {
     "name": "stdout",
     "output_type": "stream",
     "text": [
      "[CV]  max_depth=3, min_samples_leaf=40, min_samples_split=40, n_estimators=10, subsample=0.25, total=   0.0s\n",
      "[CV] max_depth=3, min_samples_leaf=40, min_samples_split=40, n_estimators=10, subsample=0.25 \n",
      "[CV]  max_depth=3, min_samples_leaf=40, min_samples_split=40, n_estimators=10, subsample=0.25, total=   0.0s\n",
      "[CV] max_depth=3, min_samples_leaf=40, min_samples_split=40, n_estimators=10, subsample=0.5 \n"
     ]
    },
    {
     "name": "stderr",
     "output_type": "stream",
     "text": [
      "C:\\ProgramData\\Anaconda3\\lib\\site-packages\\sklearn\\utils\\validation.py:578: DataConversionWarning: A column-vector y was passed when a 1d array was expected. Please change the shape of y to (n_samples, ), for example using ravel().\n",
      "  y = column_or_1d(y, warn=True)\n",
      "C:\\ProgramData\\Anaconda3\\lib\\site-packages\\sklearn\\utils\\validation.py:578: DataConversionWarning: A column-vector y was passed when a 1d array was expected. Please change the shape of y to (n_samples, ), for example using ravel().\n",
      "  y = column_or_1d(y, warn=True)\n"
     ]
    },
    {
     "name": "stdout",
     "output_type": "stream",
     "text": [
      "[CV]  max_depth=3, min_samples_leaf=40, min_samples_split=40, n_estimators=10, subsample=0.5, total=   0.1s\n",
      "[CV] max_depth=3, min_samples_leaf=40, min_samples_split=40, n_estimators=10, subsample=0.5 \n"
     ]
    },
    {
     "name": "stderr",
     "output_type": "stream",
     "text": [
      "C:\\ProgramData\\Anaconda3\\lib\\site-packages\\sklearn\\utils\\validation.py:578: DataConversionWarning: A column-vector y was passed when a 1d array was expected. Please change the shape of y to (n_samples, ), for example using ravel().\n",
      "  y = column_or_1d(y, warn=True)\n"
     ]
    },
    {
     "name": "stdout",
     "output_type": "stream",
     "text": [
      "[CV]  max_depth=3, min_samples_leaf=40, min_samples_split=40, n_estimators=10, subsample=0.5, total=   0.1s\n",
      "[CV] max_depth=3, min_samples_leaf=40, min_samples_split=40, n_estimators=10, subsample=0.5 \n",
      "[CV]  max_depth=3, min_samples_leaf=40, min_samples_split=40, n_estimators=10, subsample=0.5, total=   0.1s\n"
     ]
    },
    {
     "name": "stderr",
     "output_type": "stream",
     "text": [
      "C:\\ProgramData\\Anaconda3\\lib\\site-packages\\sklearn\\utils\\validation.py:578: DataConversionWarning: A column-vector y was passed when a 1d array was expected. Please change the shape of y to (n_samples, ), for example using ravel().\n",
      "  y = column_or_1d(y, warn=True)\n",
      "C:\\ProgramData\\Anaconda3\\lib\\site-packages\\sklearn\\utils\\validation.py:578: DataConversionWarning: A column-vector y was passed when a 1d array was expected. Please change the shape of y to (n_samples, ), for example using ravel().\n",
      "  y = column_or_1d(y, warn=True)\n"
     ]
    },
    {
     "name": "stdout",
     "output_type": "stream",
     "text": [
      "[CV] max_depth=3, min_samples_leaf=40, min_samples_split=40, n_estimators=15, subsample=0.25 \n",
      "[CV]  max_depth=3, min_samples_leaf=40, min_samples_split=40, n_estimators=15, subsample=0.25, total=   0.1s\n",
      "[CV] max_depth=3, min_samples_leaf=40, min_samples_split=40, n_estimators=15, subsample=0.25 \n"
     ]
    },
    {
     "name": "stderr",
     "output_type": "stream",
     "text": [
      "C:\\ProgramData\\Anaconda3\\lib\\site-packages\\sklearn\\utils\\validation.py:578: DataConversionWarning: A column-vector y was passed when a 1d array was expected. Please change the shape of y to (n_samples, ), for example using ravel().\n",
      "  y = column_or_1d(y, warn=True)\n"
     ]
    },
    {
     "name": "stdout",
     "output_type": "stream",
     "text": [
      "[CV]  max_depth=3, min_samples_leaf=40, min_samples_split=40, n_estimators=15, subsample=0.25, total=   0.1s\n",
      "[CV] max_depth=3, min_samples_leaf=40, min_samples_split=40, n_estimators=15, subsample=0.25 \n"
     ]
    },
    {
     "name": "stderr",
     "output_type": "stream",
     "text": [
      "C:\\ProgramData\\Anaconda3\\lib\\site-packages\\sklearn\\utils\\validation.py:578: DataConversionWarning: A column-vector y was passed when a 1d array was expected. Please change the shape of y to (n_samples, ), for example using ravel().\n",
      "  y = column_or_1d(y, warn=True)\n"
     ]
    },
    {
     "name": "stdout",
     "output_type": "stream",
     "text": [
      "[CV]  max_depth=3, min_samples_leaf=40, min_samples_split=40, n_estimators=15, subsample=0.25, total=   0.1s\n",
      "[CV] max_depth=3, min_samples_leaf=40, min_samples_split=40, n_estimators=15, subsample=0.5 \n"
     ]
    },
    {
     "name": "stderr",
     "output_type": "stream",
     "text": [
      "C:\\ProgramData\\Anaconda3\\lib\\site-packages\\sklearn\\utils\\validation.py:578: DataConversionWarning: A column-vector y was passed when a 1d array was expected. Please change the shape of y to (n_samples, ), for example using ravel().\n",
      "  y = column_or_1d(y, warn=True)\n"
     ]
    },
    {
     "name": "stdout",
     "output_type": "stream",
     "text": [
      "[CV]  max_depth=3, min_samples_leaf=40, min_samples_split=40, n_estimators=15, subsample=0.5, total=   0.2s\n",
      "[CV] max_depth=3, min_samples_leaf=40, min_samples_split=40, n_estimators=15, subsample=0.5 \n"
     ]
    },
    {
     "name": "stderr",
     "output_type": "stream",
     "text": [
      "C:\\ProgramData\\Anaconda3\\lib\\site-packages\\sklearn\\utils\\validation.py:578: DataConversionWarning: A column-vector y was passed when a 1d array was expected. Please change the shape of y to (n_samples, ), for example using ravel().\n",
      "  y = column_or_1d(y, warn=True)\n"
     ]
    },
    {
     "name": "stdout",
     "output_type": "stream",
     "text": [
      "[CV]  max_depth=3, min_samples_leaf=40, min_samples_split=40, n_estimators=15, subsample=0.5, total=   0.2s\n",
      "[CV] max_depth=3, min_samples_leaf=40, min_samples_split=40, n_estimators=15, subsample=0.5 \n"
     ]
    },
    {
     "name": "stderr",
     "output_type": "stream",
     "text": [
      "C:\\ProgramData\\Anaconda3\\lib\\site-packages\\sklearn\\utils\\validation.py:578: DataConversionWarning: A column-vector y was passed when a 1d array was expected. Please change the shape of y to (n_samples, ), for example using ravel().\n",
      "  y = column_or_1d(y, warn=True)\n"
     ]
    },
    {
     "name": "stdout",
     "output_type": "stream",
     "text": [
      "[CV]  max_depth=3, min_samples_leaf=40, min_samples_split=40, n_estimators=15, subsample=0.5, total=   0.2s\n",
      "[CV] max_depth=3, min_samples_leaf=40, min_samples_split=60, n_estimators=10, subsample=0.25 \n",
      "[CV]  max_depth=3, min_samples_leaf=40, min_samples_split=60, n_estimators=10, subsample=0.25, total=   0.1s\n",
      "[CV] max_depth=3, min_samples_leaf=40, min_samples_split=60, n_estimators=10, subsample=0.25 \n"
     ]
    },
    {
     "name": "stderr",
     "output_type": "stream",
     "text": [
      "C:\\ProgramData\\Anaconda3\\lib\\site-packages\\sklearn\\utils\\validation.py:578: DataConversionWarning: A column-vector y was passed when a 1d array was expected. Please change the shape of y to (n_samples, ), for example using ravel().\n",
      "  y = column_or_1d(y, warn=True)\n",
      "C:\\ProgramData\\Anaconda3\\lib\\site-packages\\sklearn\\utils\\validation.py:578: DataConversionWarning: A column-vector y was passed when a 1d array was expected. Please change the shape of y to (n_samples, ), for example using ravel().\n",
      "  y = column_or_1d(y, warn=True)\n",
      "C:\\ProgramData\\Anaconda3\\lib\\site-packages\\sklearn\\utils\\validation.py:578: DataConversionWarning: A column-vector y was passed when a 1d array was expected. Please change the shape of y to (n_samples, ), for example using ravel().\n",
      "  y = column_or_1d(y, warn=True)\n"
     ]
    },
    {
     "name": "stdout",
     "output_type": "stream",
     "text": [
      "[CV]  max_depth=3, min_samples_leaf=40, min_samples_split=60, n_estimators=10, subsample=0.25, total=   0.1s\n",
      "[CV] max_depth=3, min_samples_leaf=40, min_samples_split=60, n_estimators=10, subsample=0.25 \n",
      "[CV]  max_depth=3, min_samples_leaf=40, min_samples_split=60, n_estimators=10, subsample=0.25, total=   0.0s\n",
      "[CV] max_depth=3, min_samples_leaf=40, min_samples_split=60, n_estimators=10, subsample=0.5 \n"
     ]
    },
    {
     "name": "stderr",
     "output_type": "stream",
     "text": [
      "C:\\ProgramData\\Anaconda3\\lib\\site-packages\\sklearn\\utils\\validation.py:578: DataConversionWarning: A column-vector y was passed when a 1d array was expected. Please change the shape of y to (n_samples, ), for example using ravel().\n",
      "  y = column_or_1d(y, warn=True)\n"
     ]
    },
    {
     "name": "stdout",
     "output_type": "stream",
     "text": [
      "[CV]  max_depth=3, min_samples_leaf=40, min_samples_split=60, n_estimators=10, subsample=0.5, total=   0.1s\n",
      "[CV] max_depth=3, min_samples_leaf=40, min_samples_split=60, n_estimators=10, subsample=0.5 \n",
      "[CV]  max_depth=3, min_samples_leaf=40, min_samples_split=60, n_estimators=10, subsample=0.5, total=   0.1s\n"
     ]
    },
    {
     "name": "stderr",
     "output_type": "stream",
     "text": [
      "C:\\ProgramData\\Anaconda3\\lib\\site-packages\\sklearn\\utils\\validation.py:578: DataConversionWarning: A column-vector y was passed when a 1d array was expected. Please change the shape of y to (n_samples, ), for example using ravel().\n",
      "  y = column_or_1d(y, warn=True)\n",
      "C:\\ProgramData\\Anaconda3\\lib\\site-packages\\sklearn\\utils\\validation.py:578: DataConversionWarning: A column-vector y was passed when a 1d array was expected. Please change the shape of y to (n_samples, ), for example using ravel().\n",
      "  y = column_or_1d(y, warn=True)\n"
     ]
    },
    {
     "name": "stdout",
     "output_type": "stream",
     "text": [
      "[CV] max_depth=3, min_samples_leaf=40, min_samples_split=60, n_estimators=10, subsample=0.5 \n",
      "[CV]  max_depth=3, min_samples_leaf=40, min_samples_split=60, n_estimators=10, subsample=0.5, total=   0.1s\n",
      "[CV] max_depth=3, min_samples_leaf=40, min_samples_split=60, n_estimators=15, subsample=0.25 \n"
     ]
    },
    {
     "name": "stderr",
     "output_type": "stream",
     "text": [
      "C:\\ProgramData\\Anaconda3\\lib\\site-packages\\sklearn\\utils\\validation.py:578: DataConversionWarning: A column-vector y was passed when a 1d array was expected. Please change the shape of y to (n_samples, ), for example using ravel().\n",
      "  y = column_or_1d(y, warn=True)\n"
     ]
    },
    {
     "name": "stdout",
     "output_type": "stream",
     "text": [
      "[CV]  max_depth=3, min_samples_leaf=40, min_samples_split=60, n_estimators=15, subsample=0.25, total=   0.1s\n",
      "[CV] max_depth=3, min_samples_leaf=40, min_samples_split=60, n_estimators=15, subsample=0.25 \n"
     ]
    },
    {
     "name": "stderr",
     "output_type": "stream",
     "text": [
      "C:\\ProgramData\\Anaconda3\\lib\\site-packages\\sklearn\\utils\\validation.py:578: DataConversionWarning: A column-vector y was passed when a 1d array was expected. Please change the shape of y to (n_samples, ), for example using ravel().\n",
      "  y = column_or_1d(y, warn=True)\n"
     ]
    },
    {
     "name": "stdout",
     "output_type": "stream",
     "text": [
      "[CV]  max_depth=3, min_samples_leaf=40, min_samples_split=60, n_estimators=15, subsample=0.25, total=   0.1s\n",
      "[CV] max_depth=3, min_samples_leaf=40, min_samples_split=60, n_estimators=15, subsample=0.25 \n"
     ]
    },
    {
     "name": "stderr",
     "output_type": "stream",
     "text": [
      "C:\\ProgramData\\Anaconda3\\lib\\site-packages\\sklearn\\utils\\validation.py:578: DataConversionWarning: A column-vector y was passed when a 1d array was expected. Please change the shape of y to (n_samples, ), for example using ravel().\n",
      "  y = column_or_1d(y, warn=True)\n"
     ]
    },
    {
     "name": "stdout",
     "output_type": "stream",
     "text": [
      "[CV]  max_depth=3, min_samples_leaf=40, min_samples_split=60, n_estimators=15, subsample=0.25, total=   0.1s\n",
      "[CV] max_depth=3, min_samples_leaf=40, min_samples_split=60, n_estimators=15, subsample=0.5 \n"
     ]
    },
    {
     "name": "stderr",
     "output_type": "stream",
     "text": [
      "C:\\ProgramData\\Anaconda3\\lib\\site-packages\\sklearn\\utils\\validation.py:578: DataConversionWarning: A column-vector y was passed when a 1d array was expected. Please change the shape of y to (n_samples, ), for example using ravel().\n",
      "  y = column_or_1d(y, warn=True)\n"
     ]
    },
    {
     "name": "stdout",
     "output_type": "stream",
     "text": [
      "[CV]  max_depth=3, min_samples_leaf=40, min_samples_split=60, n_estimators=15, subsample=0.5, total=   0.2s\n",
      "[CV] max_depth=3, min_samples_leaf=40, min_samples_split=60, n_estimators=15, subsample=0.5 \n"
     ]
    },
    {
     "name": "stderr",
     "output_type": "stream",
     "text": [
      "C:\\ProgramData\\Anaconda3\\lib\\site-packages\\sklearn\\utils\\validation.py:578: DataConversionWarning: A column-vector y was passed when a 1d array was expected. Please change the shape of y to (n_samples, ), for example using ravel().\n",
      "  y = column_or_1d(y, warn=True)\n"
     ]
    },
    {
     "name": "stdout",
     "output_type": "stream",
     "text": [
      "[CV]  max_depth=3, min_samples_leaf=40, min_samples_split=60, n_estimators=15, subsample=0.5, total=   0.2s\n",
      "[CV] max_depth=3, min_samples_leaf=40, min_samples_split=60, n_estimators=15, subsample=0.5 \n"
     ]
    },
    {
     "name": "stderr",
     "output_type": "stream",
     "text": [
      "C:\\ProgramData\\Anaconda3\\lib\\site-packages\\sklearn\\utils\\validation.py:578: DataConversionWarning: A column-vector y was passed when a 1d array was expected. Please change the shape of y to (n_samples, ), for example using ravel().\n",
      "  y = column_or_1d(y, warn=True)\n"
     ]
    },
    {
     "name": "stdout",
     "output_type": "stream",
     "text": [
      "[CV]  max_depth=3, min_samples_leaf=40, min_samples_split=60, n_estimators=15, subsample=0.5, total=   0.2s\n",
      "[CV] max_depth=4, min_samples_leaf=20, min_samples_split=40, n_estimators=10, subsample=0.25 \n"
     ]
    },
    {
     "name": "stderr",
     "output_type": "stream",
     "text": [
      "C:\\ProgramData\\Anaconda3\\lib\\site-packages\\sklearn\\utils\\validation.py:578: DataConversionWarning: A column-vector y was passed when a 1d array was expected. Please change the shape of y to (n_samples, ), for example using ravel().\n",
      "  y = column_or_1d(y, warn=True)\n"
     ]
    },
    {
     "name": "stdout",
     "output_type": "stream",
     "text": [
      "[CV]  max_depth=4, min_samples_leaf=20, min_samples_split=40, n_estimators=10, subsample=0.25, total=   0.1s\n",
      "[CV] max_depth=4, min_samples_leaf=20, min_samples_split=40, n_estimators=10, subsample=0.25 \n"
     ]
    },
    {
     "name": "stderr",
     "output_type": "stream",
     "text": [
      "C:\\ProgramData\\Anaconda3\\lib\\site-packages\\sklearn\\utils\\validation.py:578: DataConversionWarning: A column-vector y was passed when a 1d array was expected. Please change the shape of y to (n_samples, ), for example using ravel().\n",
      "  y = column_or_1d(y, warn=True)\n"
     ]
    },
    {
     "name": "stdout",
     "output_type": "stream",
     "text": [
      "[CV]  max_depth=4, min_samples_leaf=20, min_samples_split=40, n_estimators=10, subsample=0.25, total=   0.1s\n",
      "[CV] max_depth=4, min_samples_leaf=20, min_samples_split=40, n_estimators=10, subsample=0.25 \n",
      "[CV]  max_depth=4, min_samples_leaf=20, min_samples_split=40, n_estimators=10, subsample=0.25, total=   0.1s\n"
     ]
    },
    {
     "name": "stderr",
     "output_type": "stream",
     "text": [
      "C:\\ProgramData\\Anaconda3\\lib\\site-packages\\sklearn\\utils\\validation.py:578: DataConversionWarning: A column-vector y was passed when a 1d array was expected. Please change the shape of y to (n_samples, ), for example using ravel().\n",
      "  y = column_or_1d(y, warn=True)\n"
     ]
    },
    {
     "name": "stdout",
     "output_type": "stream",
     "text": [
      "[CV] max_depth=4, min_samples_leaf=20, min_samples_split=40, n_estimators=10, subsample=0.5 \n"
     ]
    },
    {
     "name": "stderr",
     "output_type": "stream",
     "text": [
      "C:\\ProgramData\\Anaconda3\\lib\\site-packages\\sklearn\\utils\\validation.py:578: DataConversionWarning: A column-vector y was passed when a 1d array was expected. Please change the shape of y to (n_samples, ), for example using ravel().\n",
      "  y = column_or_1d(y, warn=True)\n"
     ]
    },
    {
     "name": "stdout",
     "output_type": "stream",
     "text": [
      "[CV]  max_depth=4, min_samples_leaf=20, min_samples_split=40, n_estimators=10, subsample=0.5, total=   0.1s\n",
      "[CV] max_depth=4, min_samples_leaf=20, min_samples_split=40, n_estimators=10, subsample=0.5 \n"
     ]
    },
    {
     "name": "stderr",
     "output_type": "stream",
     "text": [
      "C:\\ProgramData\\Anaconda3\\lib\\site-packages\\sklearn\\utils\\validation.py:578: DataConversionWarning: A column-vector y was passed when a 1d array was expected. Please change the shape of y to (n_samples, ), for example using ravel().\n",
      "  y = column_or_1d(y, warn=True)\n"
     ]
    },
    {
     "name": "stdout",
     "output_type": "stream",
     "text": [
      "[CV]  max_depth=4, min_samples_leaf=20, min_samples_split=40, n_estimators=10, subsample=0.5, total=   0.1s\n",
      "[CV] max_depth=4, min_samples_leaf=20, min_samples_split=40, n_estimators=10, subsample=0.5 \n"
     ]
    },
    {
     "name": "stderr",
     "output_type": "stream",
     "text": [
      "C:\\ProgramData\\Anaconda3\\lib\\site-packages\\sklearn\\utils\\validation.py:578: DataConversionWarning: A column-vector y was passed when a 1d array was expected. Please change the shape of y to (n_samples, ), for example using ravel().\n",
      "  y = column_or_1d(y, warn=True)\n"
     ]
    },
    {
     "name": "stdout",
     "output_type": "stream",
     "text": [
      "[CV]  max_depth=4, min_samples_leaf=20, min_samples_split=40, n_estimators=10, subsample=0.5, total=   0.1s\n",
      "[CV] max_depth=4, min_samples_leaf=20, min_samples_split=40, n_estimators=15, subsample=0.25 \n"
     ]
    },
    {
     "name": "stderr",
     "output_type": "stream",
     "text": [
      "C:\\ProgramData\\Anaconda3\\lib\\site-packages\\sklearn\\utils\\validation.py:578: DataConversionWarning: A column-vector y was passed when a 1d array was expected. Please change the shape of y to (n_samples, ), for example using ravel().\n",
      "  y = column_or_1d(y, warn=True)\n"
     ]
    },
    {
     "name": "stdout",
     "output_type": "stream",
     "text": [
      "[CV]  max_depth=4, min_samples_leaf=20, min_samples_split=40, n_estimators=15, subsample=0.25, total=   0.2s\n",
      "[CV] max_depth=4, min_samples_leaf=20, min_samples_split=40, n_estimators=15, subsample=0.25 \n"
     ]
    },
    {
     "name": "stderr",
     "output_type": "stream",
     "text": [
      "C:\\ProgramData\\Anaconda3\\lib\\site-packages\\sklearn\\utils\\validation.py:578: DataConversionWarning: A column-vector y was passed when a 1d array was expected. Please change the shape of y to (n_samples, ), for example using ravel().\n",
      "  y = column_or_1d(y, warn=True)\n"
     ]
    },
    {
     "name": "stdout",
     "output_type": "stream",
     "text": [
      "[CV]  max_depth=4, min_samples_leaf=20, min_samples_split=40, n_estimators=15, subsample=0.25, total=   0.1s\n",
      "[CV] max_depth=4, min_samples_leaf=20, min_samples_split=40, n_estimators=15, subsample=0.25 \n"
     ]
    },
    {
     "name": "stderr",
     "output_type": "stream",
     "text": [
      "C:\\ProgramData\\Anaconda3\\lib\\site-packages\\sklearn\\utils\\validation.py:578: DataConversionWarning: A column-vector y was passed when a 1d array was expected. Please change the shape of y to (n_samples, ), for example using ravel().\n",
      "  y = column_or_1d(y, warn=True)\n"
     ]
    },
    {
     "name": "stdout",
     "output_type": "stream",
     "text": [
      "[CV]  max_depth=4, min_samples_leaf=20, min_samples_split=40, n_estimators=15, subsample=0.25, total=   0.2s\n",
      "[CV] max_depth=4, min_samples_leaf=20, min_samples_split=40, n_estimators=15, subsample=0.5 \n"
     ]
    },
    {
     "name": "stderr",
     "output_type": "stream",
     "text": [
      "C:\\ProgramData\\Anaconda3\\lib\\site-packages\\sklearn\\utils\\validation.py:578: DataConversionWarning: A column-vector y was passed when a 1d array was expected. Please change the shape of y to (n_samples, ), for example using ravel().\n",
      "  y = column_or_1d(y, warn=True)\n"
     ]
    },
    {
     "name": "stdout",
     "output_type": "stream",
     "text": [
      "[CV]  max_depth=4, min_samples_leaf=20, min_samples_split=40, n_estimators=15, subsample=0.5, total=   0.2s\n",
      "[CV] max_depth=4, min_samples_leaf=20, min_samples_split=40, n_estimators=15, subsample=0.5 \n"
     ]
    },
    {
     "name": "stderr",
     "output_type": "stream",
     "text": [
      "C:\\ProgramData\\Anaconda3\\lib\\site-packages\\sklearn\\utils\\validation.py:578: DataConversionWarning: A column-vector y was passed when a 1d array was expected. Please change the shape of y to (n_samples, ), for example using ravel().\n",
      "  y = column_or_1d(y, warn=True)\n"
     ]
    },
    {
     "name": "stdout",
     "output_type": "stream",
     "text": [
      "[CV]  max_depth=4, min_samples_leaf=20, min_samples_split=40, n_estimators=15, subsample=0.5, total=   0.2s\n",
      "[CV] max_depth=4, min_samples_leaf=20, min_samples_split=40, n_estimators=15, subsample=0.5 \n"
     ]
    },
    {
     "name": "stderr",
     "output_type": "stream",
     "text": [
      "C:\\ProgramData\\Anaconda3\\lib\\site-packages\\sklearn\\utils\\validation.py:578: DataConversionWarning: A column-vector y was passed when a 1d array was expected. Please change the shape of y to (n_samples, ), for example using ravel().\n",
      "  y = column_or_1d(y, warn=True)\n"
     ]
    },
    {
     "name": "stdout",
     "output_type": "stream",
     "text": [
      "[CV]  max_depth=4, min_samples_leaf=20, min_samples_split=40, n_estimators=15, subsample=0.5, total=   0.2s\n",
      "[CV] max_depth=4, min_samples_leaf=20, min_samples_split=60, n_estimators=10, subsample=0.25 \n",
      "[CV]  max_depth=4, min_samples_leaf=20, min_samples_split=60, n_estimators=10, subsample=0.25, total=   0.1s\n"
     ]
    },
    {
     "name": "stderr",
     "output_type": "stream",
     "text": [
      "C:\\ProgramData\\Anaconda3\\lib\\site-packages\\sklearn\\utils\\validation.py:578: DataConversionWarning: A column-vector y was passed when a 1d array was expected. Please change the shape of y to (n_samples, ), for example using ravel().\n",
      "  y = column_or_1d(y, warn=True)\n",
      "C:\\ProgramData\\Anaconda3\\lib\\site-packages\\sklearn\\utils\\validation.py:578: DataConversionWarning: A column-vector y was passed when a 1d array was expected. Please change the shape of y to (n_samples, ), for example using ravel().\n",
      "  y = column_or_1d(y, warn=True)\n",
      "C:\\ProgramData\\Anaconda3\\lib\\site-packages\\sklearn\\utils\\validation.py:578: DataConversionWarning: A column-vector y was passed when a 1d array was expected. Please change the shape of y to (n_samples, ), for example using ravel().\n",
      "  y = column_or_1d(y, warn=True)\n"
     ]
    },
    {
     "name": "stdout",
     "output_type": "stream",
     "text": [
      "[CV] max_depth=4, min_samples_leaf=20, min_samples_split=60, n_estimators=10, subsample=0.25 \n",
      "[CV]  max_depth=4, min_samples_leaf=20, min_samples_split=60, n_estimators=10, subsample=0.25, total=   0.1s\n",
      "[CV] max_depth=4, min_samples_leaf=20, min_samples_split=60, n_estimators=10, subsample=0.25 \n",
      "[CV]  max_depth=4, min_samples_leaf=20, min_samples_split=60, n_estimators=10, subsample=0.25, total=   0.1s\n",
      "[CV] max_depth=4, min_samples_leaf=20, min_samples_split=60, n_estimators=10, subsample=0.5 \n"
     ]
    },
    {
     "name": "stderr",
     "output_type": "stream",
     "text": [
      "C:\\ProgramData\\Anaconda3\\lib\\site-packages\\sklearn\\utils\\validation.py:578: DataConversionWarning: A column-vector y was passed when a 1d array was expected. Please change the shape of y to (n_samples, ), for example using ravel().\n",
      "  y = column_or_1d(y, warn=True)\n"
     ]
    },
    {
     "name": "stdout",
     "output_type": "stream",
     "text": [
      "[CV]  max_depth=4, min_samples_leaf=20, min_samples_split=60, n_estimators=10, subsample=0.5, total=   0.1s\n",
      "[CV] max_depth=4, min_samples_leaf=20, min_samples_split=60, n_estimators=10, subsample=0.5 \n"
     ]
    },
    {
     "name": "stderr",
     "output_type": "stream",
     "text": [
      "C:\\ProgramData\\Anaconda3\\lib\\site-packages\\sklearn\\utils\\validation.py:578: DataConversionWarning: A column-vector y was passed when a 1d array was expected. Please change the shape of y to (n_samples, ), for example using ravel().\n",
      "  y = column_or_1d(y, warn=True)\n"
     ]
    },
    {
     "name": "stdout",
     "output_type": "stream",
     "text": [
      "[CV]  max_depth=4, min_samples_leaf=20, min_samples_split=60, n_estimators=10, subsample=0.5, total=   0.1s\n",
      "[CV] max_depth=4, min_samples_leaf=20, min_samples_split=60, n_estimators=10, subsample=0.5 \n"
     ]
    },
    {
     "name": "stderr",
     "output_type": "stream",
     "text": [
      "C:\\ProgramData\\Anaconda3\\lib\\site-packages\\sklearn\\utils\\validation.py:578: DataConversionWarning: A column-vector y was passed when a 1d array was expected. Please change the shape of y to (n_samples, ), for example using ravel().\n",
      "  y = column_or_1d(y, warn=True)\n"
     ]
    },
    {
     "name": "stdout",
     "output_type": "stream",
     "text": [
      "[CV]  max_depth=4, min_samples_leaf=20, min_samples_split=60, n_estimators=10, subsample=0.5, total=   0.1s\n",
      "[CV] max_depth=4, min_samples_leaf=20, min_samples_split=60, n_estimators=15, subsample=0.25 \n"
     ]
    },
    {
     "name": "stderr",
     "output_type": "stream",
     "text": [
      "C:\\ProgramData\\Anaconda3\\lib\\site-packages\\sklearn\\utils\\validation.py:578: DataConversionWarning: A column-vector y was passed when a 1d array was expected. Please change the shape of y to (n_samples, ), for example using ravel().\n",
      "  y = column_or_1d(y, warn=True)\n"
     ]
    },
    {
     "name": "stdout",
     "output_type": "stream",
     "text": [
      "[CV]  max_depth=4, min_samples_leaf=20, min_samples_split=60, n_estimators=15, subsample=0.25, total=   0.2s\n",
      "[CV] max_depth=4, min_samples_leaf=20, min_samples_split=60, n_estimators=15, subsample=0.25 \n"
     ]
    },
    {
     "name": "stderr",
     "output_type": "stream",
     "text": [
      "C:\\ProgramData\\Anaconda3\\lib\\site-packages\\sklearn\\utils\\validation.py:578: DataConversionWarning: A column-vector y was passed when a 1d array was expected. Please change the shape of y to (n_samples, ), for example using ravel().\n",
      "  y = column_or_1d(y, warn=True)\n"
     ]
    },
    {
     "name": "stdout",
     "output_type": "stream",
     "text": [
      "[CV]  max_depth=4, min_samples_leaf=20, min_samples_split=60, n_estimators=15, subsample=0.25, total=   0.1s\n",
      "[CV] max_depth=4, min_samples_leaf=20, min_samples_split=60, n_estimators=15, subsample=0.25 \n"
     ]
    },
    {
     "name": "stderr",
     "output_type": "stream",
     "text": [
      "C:\\ProgramData\\Anaconda3\\lib\\site-packages\\sklearn\\utils\\validation.py:578: DataConversionWarning: A column-vector y was passed when a 1d array was expected. Please change the shape of y to (n_samples, ), for example using ravel().\n",
      "  y = column_or_1d(y, warn=True)\n"
     ]
    },
    {
     "name": "stdout",
     "output_type": "stream",
     "text": [
      "[CV]  max_depth=4, min_samples_leaf=20, min_samples_split=60, n_estimators=15, subsample=0.25, total=   0.2s\n",
      "[CV] max_depth=4, min_samples_leaf=20, min_samples_split=60, n_estimators=15, subsample=0.5 \n"
     ]
    },
    {
     "name": "stderr",
     "output_type": "stream",
     "text": [
      "C:\\ProgramData\\Anaconda3\\lib\\site-packages\\sklearn\\utils\\validation.py:578: DataConversionWarning: A column-vector y was passed when a 1d array was expected. Please change the shape of y to (n_samples, ), for example using ravel().\n",
      "  y = column_or_1d(y, warn=True)\n"
     ]
    },
    {
     "name": "stdout",
     "output_type": "stream",
     "text": [
      "[CV]  max_depth=4, min_samples_leaf=20, min_samples_split=60, n_estimators=15, subsample=0.5, total=   0.2s\n",
      "[CV] max_depth=4, min_samples_leaf=20, min_samples_split=60, n_estimators=15, subsample=0.5 \n"
     ]
    },
    {
     "name": "stderr",
     "output_type": "stream",
     "text": [
      "C:\\ProgramData\\Anaconda3\\lib\\site-packages\\sklearn\\utils\\validation.py:578: DataConversionWarning: A column-vector y was passed when a 1d array was expected. Please change the shape of y to (n_samples, ), for example using ravel().\n",
      "  y = column_or_1d(y, warn=True)\n"
     ]
    },
    {
     "name": "stdout",
     "output_type": "stream",
     "text": [
      "[CV]  max_depth=4, min_samples_leaf=20, min_samples_split=60, n_estimators=15, subsample=0.5, total=   0.2s\n",
      "[CV] max_depth=4, min_samples_leaf=20, min_samples_split=60, n_estimators=15, subsample=0.5 \n"
     ]
    },
    {
     "name": "stderr",
     "output_type": "stream",
     "text": [
      "C:\\ProgramData\\Anaconda3\\lib\\site-packages\\sklearn\\utils\\validation.py:578: DataConversionWarning: A column-vector y was passed when a 1d array was expected. Please change the shape of y to (n_samples, ), for example using ravel().\n",
      "  y = column_or_1d(y, warn=True)\n"
     ]
    },
    {
     "name": "stdout",
     "output_type": "stream",
     "text": [
      "[CV]  max_depth=4, min_samples_leaf=20, min_samples_split=60, n_estimators=15, subsample=0.5, total=   0.2s\n",
      "[CV] max_depth=4, min_samples_leaf=40, min_samples_split=40, n_estimators=10, subsample=0.25 \n",
      "[CV]  max_depth=4, min_samples_leaf=40, min_samples_split=40, n_estimators=10, subsample=0.25, total=   0.1s\n"
     ]
    },
    {
     "name": "stderr",
     "output_type": "stream",
     "text": [
      "C:\\ProgramData\\Anaconda3\\lib\\site-packages\\sklearn\\utils\\validation.py:578: DataConversionWarning: A column-vector y was passed when a 1d array was expected. Please change the shape of y to (n_samples, ), for example using ravel().\n",
      "  y = column_or_1d(y, warn=True)\n",
      "C:\\ProgramData\\Anaconda3\\lib\\site-packages\\sklearn\\utils\\validation.py:578: DataConversionWarning: A column-vector y was passed when a 1d array was expected. Please change the shape of y to (n_samples, ), for example using ravel().\n",
      "  y = column_or_1d(y, warn=True)\n"
     ]
    },
    {
     "name": "stdout",
     "output_type": "stream",
     "text": [
      "[CV] max_depth=4, min_samples_leaf=40, min_samples_split=40, n_estimators=10, subsample=0.25 \n",
      "[CV]  max_depth=4, min_samples_leaf=40, min_samples_split=40, n_estimators=10, subsample=0.25, total=   0.1s\n",
      "[CV] max_depth=4, min_samples_leaf=40, min_samples_split=40, n_estimators=10, subsample=0.25 \n",
      "[CV]  max_depth=4, min_samples_leaf=40, min_samples_split=40, n_estimators=10, subsample=0.25, total=   0.1s\n"
     ]
    },
    {
     "name": "stderr",
     "output_type": "stream",
     "text": [
      "C:\\ProgramData\\Anaconda3\\lib\\site-packages\\sklearn\\utils\\validation.py:578: DataConversionWarning: A column-vector y was passed when a 1d array was expected. Please change the shape of y to (n_samples, ), for example using ravel().\n",
      "  y = column_or_1d(y, warn=True)\n",
      "C:\\ProgramData\\Anaconda3\\lib\\site-packages\\sklearn\\utils\\validation.py:578: DataConversionWarning: A column-vector y was passed when a 1d array was expected. Please change the shape of y to (n_samples, ), for example using ravel().\n",
      "  y = column_or_1d(y, warn=True)\n"
     ]
    },
    {
     "name": "stdout",
     "output_type": "stream",
     "text": [
      "[CV] max_depth=4, min_samples_leaf=40, min_samples_split=40, n_estimators=10, subsample=0.5 \n",
      "[CV]  max_depth=4, min_samples_leaf=40, min_samples_split=40, n_estimators=10, subsample=0.5, total=   0.1s\n",
      "[CV] max_depth=4, min_samples_leaf=40, min_samples_split=40, n_estimators=10, subsample=0.5 \n"
     ]
    },
    {
     "name": "stderr",
     "output_type": "stream",
     "text": [
      "C:\\ProgramData\\Anaconda3\\lib\\site-packages\\sklearn\\utils\\validation.py:578: DataConversionWarning: A column-vector y was passed when a 1d array was expected. Please change the shape of y to (n_samples, ), for example using ravel().\n",
      "  y = column_or_1d(y, warn=True)\n"
     ]
    },
    {
     "name": "stdout",
     "output_type": "stream",
     "text": [
      "[CV]  max_depth=4, min_samples_leaf=40, min_samples_split=40, n_estimators=10, subsample=0.5, total=   0.1s\n",
      "[CV] max_depth=4, min_samples_leaf=40, min_samples_split=40, n_estimators=10, subsample=0.5 \n"
     ]
    },
    {
     "name": "stderr",
     "output_type": "stream",
     "text": [
      "C:\\ProgramData\\Anaconda3\\lib\\site-packages\\sklearn\\utils\\validation.py:578: DataConversionWarning: A column-vector y was passed when a 1d array was expected. Please change the shape of y to (n_samples, ), for example using ravel().\n",
      "  y = column_or_1d(y, warn=True)\n"
     ]
    },
    {
     "name": "stdout",
     "output_type": "stream",
     "text": [
      "[CV]  max_depth=4, min_samples_leaf=40, min_samples_split=40, n_estimators=10, subsample=0.5, total=   0.1s\n",
      "[CV] max_depth=4, min_samples_leaf=40, min_samples_split=40, n_estimators=15, subsample=0.25 \n"
     ]
    },
    {
     "name": "stderr",
     "output_type": "stream",
     "text": [
      "C:\\ProgramData\\Anaconda3\\lib\\site-packages\\sklearn\\utils\\validation.py:578: DataConversionWarning: A column-vector y was passed when a 1d array was expected. Please change the shape of y to (n_samples, ), for example using ravel().\n",
      "  y = column_or_1d(y, warn=True)\n"
     ]
    },
    {
     "name": "stdout",
     "output_type": "stream",
     "text": [
      "[CV]  max_depth=4, min_samples_leaf=40, min_samples_split=40, n_estimators=15, subsample=0.25, total=   0.1s\n",
      "[CV] max_depth=4, min_samples_leaf=40, min_samples_split=40, n_estimators=15, subsample=0.25 \n"
     ]
    },
    {
     "name": "stderr",
     "output_type": "stream",
     "text": [
      "C:\\ProgramData\\Anaconda3\\lib\\site-packages\\sklearn\\utils\\validation.py:578: DataConversionWarning: A column-vector y was passed when a 1d array was expected. Please change the shape of y to (n_samples, ), for example using ravel().\n",
      "  y = column_or_1d(y, warn=True)\n"
     ]
    },
    {
     "name": "stdout",
     "output_type": "stream",
     "text": [
      "[CV]  max_depth=4, min_samples_leaf=40, min_samples_split=40, n_estimators=15, subsample=0.25, total=   0.2s\n",
      "[CV] max_depth=4, min_samples_leaf=40, min_samples_split=40, n_estimators=15, subsample=0.25 \n"
     ]
    },
    {
     "name": "stderr",
     "output_type": "stream",
     "text": [
      "C:\\ProgramData\\Anaconda3\\lib\\site-packages\\sklearn\\utils\\validation.py:578: DataConversionWarning: A column-vector y was passed when a 1d array was expected. Please change the shape of y to (n_samples, ), for example using ravel().\n",
      "  y = column_or_1d(y, warn=True)\n"
     ]
    },
    {
     "name": "stdout",
     "output_type": "stream",
     "text": [
      "[CV]  max_depth=4, min_samples_leaf=40, min_samples_split=40, n_estimators=15, subsample=0.25, total=   0.1s\n",
      "[CV] max_depth=4, min_samples_leaf=40, min_samples_split=40, n_estimators=15, subsample=0.5 \n"
     ]
    },
    {
     "name": "stderr",
     "output_type": "stream",
     "text": [
      "C:\\ProgramData\\Anaconda3\\lib\\site-packages\\sklearn\\utils\\validation.py:578: DataConversionWarning: A column-vector y was passed when a 1d array was expected. Please change the shape of y to (n_samples, ), for example using ravel().\n",
      "  y = column_or_1d(y, warn=True)\n"
     ]
    },
    {
     "name": "stdout",
     "output_type": "stream",
     "text": [
      "[CV]  max_depth=4, min_samples_leaf=40, min_samples_split=40, n_estimators=15, subsample=0.5, total=   0.2s\n",
      "[CV] max_depth=4, min_samples_leaf=40, min_samples_split=40, n_estimators=15, subsample=0.5 \n"
     ]
    },
    {
     "name": "stderr",
     "output_type": "stream",
     "text": [
      "C:\\ProgramData\\Anaconda3\\lib\\site-packages\\sklearn\\utils\\validation.py:578: DataConversionWarning: A column-vector y was passed when a 1d array was expected. Please change the shape of y to (n_samples, ), for example using ravel().\n",
      "  y = column_or_1d(y, warn=True)\n"
     ]
    },
    {
     "name": "stdout",
     "output_type": "stream",
     "text": [
      "[CV]  max_depth=4, min_samples_leaf=40, min_samples_split=40, n_estimators=15, subsample=0.5, total=   0.2s\n",
      "[CV] max_depth=4, min_samples_leaf=40, min_samples_split=40, n_estimators=15, subsample=0.5 \n"
     ]
    },
    {
     "name": "stderr",
     "output_type": "stream",
     "text": [
      "C:\\ProgramData\\Anaconda3\\lib\\site-packages\\sklearn\\utils\\validation.py:578: DataConversionWarning: A column-vector y was passed when a 1d array was expected. Please change the shape of y to (n_samples, ), for example using ravel().\n",
      "  y = column_or_1d(y, warn=True)\n"
     ]
    },
    {
     "name": "stdout",
     "output_type": "stream",
     "text": [
      "[CV]  max_depth=4, min_samples_leaf=40, min_samples_split=40, n_estimators=15, subsample=0.5, total=   0.2s\n",
      "[CV] max_depth=4, min_samples_leaf=40, min_samples_split=60, n_estimators=10, subsample=0.25 \n",
      "[CV]  max_depth=4, min_samples_leaf=40, min_samples_split=60, n_estimators=10, subsample=0.25, total=   0.1s\n",
      "[CV] max_depth=4, min_samples_leaf=40, min_samples_split=60, n_estimators=10, subsample=0.25 \n"
     ]
    },
    {
     "name": "stderr",
     "output_type": "stream",
     "text": [
      "C:\\ProgramData\\Anaconda3\\lib\\site-packages\\sklearn\\utils\\validation.py:578: DataConversionWarning: A column-vector y was passed when a 1d array was expected. Please change the shape of y to (n_samples, ), for example using ravel().\n",
      "  y = column_or_1d(y, warn=True)\n",
      "C:\\ProgramData\\Anaconda3\\lib\\site-packages\\sklearn\\utils\\validation.py:578: DataConversionWarning: A column-vector y was passed when a 1d array was expected. Please change the shape of y to (n_samples, ), for example using ravel().\n",
      "  y = column_or_1d(y, warn=True)\n"
     ]
    },
    {
     "name": "stdout",
     "output_type": "stream",
     "text": [
      "[CV]  max_depth=4, min_samples_leaf=40, min_samples_split=60, n_estimators=10, subsample=0.25, total=   0.1s\n",
      "[CV] max_depth=4, min_samples_leaf=40, min_samples_split=60, n_estimators=10, subsample=0.25 \n"
     ]
    },
    {
     "name": "stderr",
     "output_type": "stream",
     "text": [
      "C:\\ProgramData\\Anaconda3\\lib\\site-packages\\sklearn\\utils\\validation.py:578: DataConversionWarning: A column-vector y was passed when a 1d array was expected. Please change the shape of y to (n_samples, ), for example using ravel().\n",
      "  y = column_or_1d(y, warn=True)\n"
     ]
    },
    {
     "name": "stdout",
     "output_type": "stream",
     "text": [
      "[CV]  max_depth=4, min_samples_leaf=40, min_samples_split=60, n_estimators=10, subsample=0.25, total=   0.1s\n",
      "[CV] max_depth=4, min_samples_leaf=40, min_samples_split=60, n_estimators=10, subsample=0.5 \n"
     ]
    },
    {
     "name": "stderr",
     "output_type": "stream",
     "text": [
      "C:\\ProgramData\\Anaconda3\\lib\\site-packages\\sklearn\\utils\\validation.py:578: DataConversionWarning: A column-vector y was passed when a 1d array was expected. Please change the shape of y to (n_samples, ), for example using ravel().\n",
      "  y = column_or_1d(y, warn=True)\n"
     ]
    },
    {
     "name": "stdout",
     "output_type": "stream",
     "text": [
      "[CV]  max_depth=4, min_samples_leaf=40, min_samples_split=60, n_estimators=10, subsample=0.5, total=   0.1s\n",
      "[CV] max_depth=4, min_samples_leaf=40, min_samples_split=60, n_estimators=10, subsample=0.5 \n"
     ]
    },
    {
     "name": "stderr",
     "output_type": "stream",
     "text": [
      "C:\\ProgramData\\Anaconda3\\lib\\site-packages\\sklearn\\utils\\validation.py:578: DataConversionWarning: A column-vector y was passed when a 1d array was expected. Please change the shape of y to (n_samples, ), for example using ravel().\n",
      "  y = column_or_1d(y, warn=True)\n"
     ]
    },
    {
     "name": "stdout",
     "output_type": "stream",
     "text": [
      "[CV]  max_depth=4, min_samples_leaf=40, min_samples_split=60, n_estimators=10, subsample=0.5, total=   0.1s\n",
      "[CV] max_depth=4, min_samples_leaf=40, min_samples_split=60, n_estimators=10, subsample=0.5 \n"
     ]
    },
    {
     "name": "stderr",
     "output_type": "stream",
     "text": [
      "C:\\ProgramData\\Anaconda3\\lib\\site-packages\\sklearn\\utils\\validation.py:578: DataConversionWarning: A column-vector y was passed when a 1d array was expected. Please change the shape of y to (n_samples, ), for example using ravel().\n",
      "  y = column_or_1d(y, warn=True)\n"
     ]
    },
    {
     "name": "stdout",
     "output_type": "stream",
     "text": [
      "[CV]  max_depth=4, min_samples_leaf=40, min_samples_split=60, n_estimators=10, subsample=0.5, total=   0.1s\n",
      "[CV] max_depth=4, min_samples_leaf=40, min_samples_split=60, n_estimators=15, subsample=0.25 \n"
     ]
    },
    {
     "name": "stderr",
     "output_type": "stream",
     "text": [
      "C:\\ProgramData\\Anaconda3\\lib\\site-packages\\sklearn\\utils\\validation.py:578: DataConversionWarning: A column-vector y was passed when a 1d array was expected. Please change the shape of y to (n_samples, ), for example using ravel().\n",
      "  y = column_or_1d(y, warn=True)\n"
     ]
    },
    {
     "name": "stdout",
     "output_type": "stream",
     "text": [
      "[CV]  max_depth=4, min_samples_leaf=40, min_samples_split=60, n_estimators=15, subsample=0.25, total=   0.2s\n",
      "[CV] max_depth=4, min_samples_leaf=40, min_samples_split=60, n_estimators=15, subsample=0.25 \n"
     ]
    },
    {
     "name": "stderr",
     "output_type": "stream",
     "text": [
      "C:\\ProgramData\\Anaconda3\\lib\\site-packages\\sklearn\\utils\\validation.py:578: DataConversionWarning: A column-vector y was passed when a 1d array was expected. Please change the shape of y to (n_samples, ), for example using ravel().\n",
      "  y = column_or_1d(y, warn=True)\n"
     ]
    },
    {
     "name": "stdout",
     "output_type": "stream",
     "text": [
      "[CV]  max_depth=4, min_samples_leaf=40, min_samples_split=60, n_estimators=15, subsample=0.25, total=   0.2s\n",
      "[CV] max_depth=4, min_samples_leaf=40, min_samples_split=60, n_estimators=15, subsample=0.25 \n"
     ]
    },
    {
     "name": "stderr",
     "output_type": "stream",
     "text": [
      "C:\\ProgramData\\Anaconda3\\lib\\site-packages\\sklearn\\utils\\validation.py:578: DataConversionWarning: A column-vector y was passed when a 1d array was expected. Please change the shape of y to (n_samples, ), for example using ravel().\n",
      "  y = column_or_1d(y, warn=True)\n"
     ]
    },
    {
     "name": "stdout",
     "output_type": "stream",
     "text": [
      "[CV]  max_depth=4, min_samples_leaf=40, min_samples_split=60, n_estimators=15, subsample=0.25, total=   0.2s\n",
      "[CV] max_depth=4, min_samples_leaf=40, min_samples_split=60, n_estimators=15, subsample=0.5 \n"
     ]
    },
    {
     "name": "stderr",
     "output_type": "stream",
     "text": [
      "C:\\ProgramData\\Anaconda3\\lib\\site-packages\\sklearn\\utils\\validation.py:578: DataConversionWarning: A column-vector y was passed when a 1d array was expected. Please change the shape of y to (n_samples, ), for example using ravel().\n",
      "  y = column_or_1d(y, warn=True)\n"
     ]
    },
    {
     "name": "stdout",
     "output_type": "stream",
     "text": [
      "[CV]  max_depth=4, min_samples_leaf=40, min_samples_split=60, n_estimators=15, subsample=0.5, total=   0.2s\n",
      "[CV] max_depth=4, min_samples_leaf=40, min_samples_split=60, n_estimators=15, subsample=0.5 \n"
     ]
    },
    {
     "name": "stderr",
     "output_type": "stream",
     "text": [
      "C:\\ProgramData\\Anaconda3\\lib\\site-packages\\sklearn\\utils\\validation.py:578: DataConversionWarning: A column-vector y was passed when a 1d array was expected. Please change the shape of y to (n_samples, ), for example using ravel().\n",
      "  y = column_or_1d(y, warn=True)\n"
     ]
    },
    {
     "name": "stdout",
     "output_type": "stream",
     "text": [
      "[CV]  max_depth=4, min_samples_leaf=40, min_samples_split=60, n_estimators=15, subsample=0.5, total=   0.2s\n",
      "[CV] max_depth=4, min_samples_leaf=40, min_samples_split=60, n_estimators=15, subsample=0.5 \n"
     ]
    },
    {
     "name": "stderr",
     "output_type": "stream",
     "text": [
      "C:\\ProgramData\\Anaconda3\\lib\\site-packages\\sklearn\\utils\\validation.py:578: DataConversionWarning: A column-vector y was passed when a 1d array was expected. Please change the shape of y to (n_samples, ), for example using ravel().\n",
      "  y = column_or_1d(y, warn=True)\n"
     ]
    },
    {
     "name": "stdout",
     "output_type": "stream",
     "text": [
      "[CV]  max_depth=4, min_samples_leaf=40, min_samples_split=60, n_estimators=15, subsample=0.5, total=   0.2s\n"
     ]
    },
    {
     "name": "stderr",
     "output_type": "stream",
     "text": [
      "[Parallel(n_jobs=1)]: Done  96 out of  96 | elapsed:   23.3s finished\n",
      "C:\\ProgramData\\Anaconda3\\lib\\site-packages\\sklearn\\utils\\validation.py:578: DataConversionWarning: A column-vector y was passed when a 1d array was expected. Please change the shape of y to (n_samples, ), for example using ravel().\n",
      "  y = column_or_1d(y, warn=True)\n"
     ]
    },
    {
     "data": {
      "text/plain": [
       "GridSearchCV(cv=None, error_score='raise',\n",
       "       estimator=GradientBoostingClassifier(criterion='friedman_mse', init=None,\n",
       "              learning_rate=0.1, loss='deviance', max_depth=3,\n",
       "              max_features=None, max_leaf_nodes=None,\n",
       "              min_impurity_decrease=0.0, min_impurity_split=None,\n",
       "              min_samples_leaf=1, min_samples_split=2,\n",
       "              min_weight_fraction_leaf=0.0, n_estimators=100,\n",
       "              presort='auto', random_state=None, subsample=1.0, verbose=0,\n",
       "              warm_start=False),\n",
       "       fit_params=None, iid=True, n_jobs=1,\n",
       "       param_grid={'n_estimators': [10, 15], 'subsample': [0.25, 0.5], 'max_depth': [3, 4], 'min_samples_split': [40, 60], 'min_samples_leaf': [20, 40]},\n",
       "       pre_dispatch='2*n_jobs', refit=True, return_train_score='warn',\n",
       "       scoring=None, verbose=2)"
      ]
     },
     "execution_count": 34,
     "metadata": {},
     "output_type": "execute_result"
    }
   ],
   "source": [
    "\n",
    "params = {\n",
    "    'n_estimators': [10, 15], \n",
    "    'subsample': [0.25, 0.5], \n",
    "    'max_depth': [3, 4],\n",
    "    'min_samples_split': [40, 60],\n",
    "    'min_samples_leaf': [20, 40]\n",
    "}\n",
    "gbt = GradientBoostingClassifier() # RandomForestClassifier()\n",
    "grid_gbt = GridSearchCV(estimator=gbt, param_grid=params, verbose=2)\n",
    "grid_gbt.fit(X_tr, y_tr)"
   ]
  },
  {
   "cell_type": "code",
   "execution_count": 35,
   "metadata": {},
   "outputs": [],
   "source": [
    "# Print the best model, best test score (and associated train score)"
   ]
  },
  {
   "cell_type": "code",
   "execution_count": 36,
   "metadata": {
    "scrolled": true
   },
   "outputs": [
    {
     "name": "stdout",
     "output_type": "stream",
     "text": [
      "GradientBoostingClassifier(criterion='friedman_mse', init=None,\n",
      "              learning_rate=0.1, loss='deviance', max_depth=4,\n",
      "              max_features=None, max_leaf_nodes=None,\n",
      "              min_impurity_decrease=0.0, min_impurity_split=None,\n",
      "              min_samples_leaf=40, min_samples_split=40,\n",
      "              min_weight_fraction_leaf=0.0, n_estimators=15,\n",
      "              presort='auto', random_state=None, subsample=0.5, verbose=0,\n",
      "              warm_start=False)\n",
      "0.8368513632365875\n"
     ]
    },
    {
     "name": "stderr",
     "output_type": "stream",
     "text": [
      "C:\\ProgramData\\Anaconda3\\lib\\site-packages\\sklearn\\utils\\deprecation.py:122: FutureWarning: You are accessing a training score ('split0_train_score'), which will not be available by default any more in 0.21. If you need training scores, please set return_train_score=True\n",
      "  warnings.warn(*warn_args, **warn_kwargs)\n",
      "C:\\ProgramData\\Anaconda3\\lib\\site-packages\\sklearn\\utils\\deprecation.py:122: FutureWarning: You are accessing a training score ('split1_train_score'), which will not be available by default any more in 0.21. If you need training scores, please set return_train_score=True\n",
      "  warnings.warn(*warn_args, **warn_kwargs)\n",
      "C:\\ProgramData\\Anaconda3\\lib\\site-packages\\sklearn\\utils\\deprecation.py:122: FutureWarning: You are accessing a training score ('split2_train_score'), which will not be available by default any more in 0.21. If you need training scores, please set return_train_score=True\n",
      "  warnings.warn(*warn_args, **warn_kwargs)\n",
      "C:\\ProgramData\\Anaconda3\\lib\\site-packages\\sklearn\\utils\\deprecation.py:122: FutureWarning: You are accessing a training score ('mean_train_score'), which will not be available by default any more in 0.21. If you need training scores, please set return_train_score=True\n",
      "  warnings.warn(*warn_args, **warn_kwargs)\n",
      "C:\\ProgramData\\Anaconda3\\lib\\site-packages\\sklearn\\utils\\deprecation.py:122: FutureWarning: You are accessing a training score ('std_train_score'), which will not be available by default any more in 0.21. If you need training scores, please set return_train_score=True\n",
      "  warnings.warn(*warn_args, **warn_kwargs)\n"
     ]
    },
    {
     "data": {
      "text/html": [
       "<div>\n",
       "<style scoped>\n",
       "    .dataframe tbody tr th:only-of-type {\n",
       "        vertical-align: middle;\n",
       "    }\n",
       "\n",
       "    .dataframe tbody tr th {\n",
       "        vertical-align: top;\n",
       "    }\n",
       "\n",
       "    .dataframe thead th {\n",
       "        text-align: right;\n",
       "    }\n",
       "</style>\n",
       "<table border=\"1\" class=\"dataframe\">\n",
       "  <thead>\n",
       "    <tr style=\"text-align: right;\">\n",
       "      <th></th>\n",
       "      <th>mean_fit_time</th>\n",
       "      <th>std_fit_time</th>\n",
       "      <th>mean_score_time</th>\n",
       "      <th>std_score_time</th>\n",
       "      <th>param_max_depth</th>\n",
       "      <th>param_min_samples_leaf</th>\n",
       "      <th>param_min_samples_split</th>\n",
       "      <th>param_n_estimators</th>\n",
       "      <th>param_subsample</th>\n",
       "      <th>params</th>\n",
       "      <th>...</th>\n",
       "      <th>split1_test_score</th>\n",
       "      <th>split2_test_score</th>\n",
       "      <th>mean_test_score</th>\n",
       "      <th>std_test_score</th>\n",
       "      <th>rank_test_score</th>\n",
       "      <th>split0_train_score</th>\n",
       "      <th>split1_train_score</th>\n",
       "      <th>split2_train_score</th>\n",
       "      <th>mean_train_score</th>\n",
       "      <th>std_train_score</th>\n",
       "    </tr>\n",
       "  </thead>\n",
       "  <tbody>\n",
       "    <tr>\n",
       "      <th>0</th>\n",
       "      <td>0.150249</td>\n",
       "      <td>0.014004</td>\n",
       "      <td>0.010461</td>\n",
       "      <td>0.007397</td>\n",
       "      <td>3</td>\n",
       "      <td>20</td>\n",
       "      <td>40</td>\n",
       "      <td>10</td>\n",
       "      <td>0.25</td>\n",
       "      <td>{'max_depth': 3, 'min_samples_leaf': 20, 'min_...</td>\n",
       "      <td>...</td>\n",
       "      <td>0.831642</td>\n",
       "      <td>0.832961</td>\n",
       "      <td>0.831676</td>\n",
       "      <td>0.001036</td>\n",
       "      <td>24</td>\n",
       "      <td>0.832961</td>\n",
       "      <td>0.833215</td>\n",
       "      <td>0.833773</td>\n",
       "      <td>0.833316</td>\n",
       "      <td>0.000339</td>\n",
       "    </tr>\n",
       "    <tr>\n",
       "      <th>1</th>\n",
       "      <td>0.182405</td>\n",
       "      <td>0.008653</td>\n",
       "      <td>0.002932</td>\n",
       "      <td>0.004146</td>\n",
       "      <td>3</td>\n",
       "      <td>20</td>\n",
       "      <td>40</td>\n",
       "      <td>10</td>\n",
       "      <td>0.5</td>\n",
       "      <td>{'max_depth': 3, 'min_samples_leaf': 20, 'min_...</td>\n",
       "      <td>...</td>\n",
       "      <td>0.830120</td>\n",
       "      <td>0.831946</td>\n",
       "      <td>0.831067</td>\n",
       "      <td>0.000747</td>\n",
       "      <td>26</td>\n",
       "      <td>0.831743</td>\n",
       "      <td>0.831642</td>\n",
       "      <td>0.831084</td>\n",
       "      <td>0.831490</td>\n",
       "      <td>0.000290</td>\n",
       "    </tr>\n",
       "    <tr>\n",
       "      <th>2</th>\n",
       "      <td>0.215745</td>\n",
       "      <td>0.008479</td>\n",
       "      <td>0.005706</td>\n",
       "      <td>0.002066</td>\n",
       "      <td>3</td>\n",
       "      <td>20</td>\n",
       "      <td>40</td>\n",
       "      <td>15</td>\n",
       "      <td>0.25</td>\n",
       "      <td>{'max_depth': 3, 'min_samples_leaf': 20, 'min_...</td>\n",
       "      <td>...</td>\n",
       "      <td>0.836513</td>\n",
       "      <td>0.835397</td>\n",
       "      <td>0.835261</td>\n",
       "      <td>0.001081</td>\n",
       "      <td>11</td>\n",
       "      <td>0.836919</td>\n",
       "      <td>0.836716</td>\n",
       "      <td>0.836006</td>\n",
       "      <td>0.836547</td>\n",
       "      <td>0.000392</td>\n",
       "    </tr>\n",
       "    <tr>\n",
       "      <th>3</th>\n",
       "      <td>0.256082</td>\n",
       "      <td>0.008900</td>\n",
       "      <td>0.008986</td>\n",
       "      <td>0.002113</td>\n",
       "      <td>3</td>\n",
       "      <td>20</td>\n",
       "      <td>40</td>\n",
       "      <td>15</td>\n",
       "      <td>0.5</td>\n",
       "      <td>{'max_depth': 3, 'min_samples_leaf': 20, 'min_...</td>\n",
       "      <td>...</td>\n",
       "      <td>0.835397</td>\n",
       "      <td>0.835092</td>\n",
       "      <td>0.834483</td>\n",
       "      <td>0.001084</td>\n",
       "      <td>16</td>\n",
       "      <td>0.837579</td>\n",
       "      <td>0.836767</td>\n",
       "      <td>0.836107</td>\n",
       "      <td>0.836818</td>\n",
       "      <td>0.000602</td>\n",
       "    </tr>\n",
       "    <tr>\n",
       "      <th>4</th>\n",
       "      <td>0.148735</td>\n",
       "      <td>0.004652</td>\n",
       "      <td>0.005248</td>\n",
       "      <td>0.007422</td>\n",
       "      <td>3</td>\n",
       "      <td>20</td>\n",
       "      <td>60</td>\n",
       "      <td>10</td>\n",
       "      <td>0.25</td>\n",
       "      <td>{'max_depth': 3, 'min_samples_leaf': 20, 'min_...</td>\n",
       "      <td>...</td>\n",
       "      <td>0.829815</td>\n",
       "      <td>0.831033</td>\n",
       "      <td>0.830492</td>\n",
       "      <td>0.000506</td>\n",
       "      <td>29</td>\n",
       "      <td>0.831743</td>\n",
       "      <td>0.831084</td>\n",
       "      <td>0.831946</td>\n",
       "      <td>0.831591</td>\n",
       "      <td>0.000368</td>\n",
       "    </tr>\n",
       "    <tr>\n",
       "      <th>5</th>\n",
       "      <td>0.178478</td>\n",
       "      <td>0.004298</td>\n",
       "      <td>0.006389</td>\n",
       "      <td>0.006687</td>\n",
       "      <td>3</td>\n",
       "      <td>20</td>\n",
       "      <td>60</td>\n",
       "      <td>10</td>\n",
       "      <td>0.5</td>\n",
       "      <td>{'max_depth': 3, 'min_samples_leaf': 20, 'min_...</td>\n",
       "      <td>...</td>\n",
       "      <td>0.830120</td>\n",
       "      <td>0.831845</td>\n",
       "      <td>0.830999</td>\n",
       "      <td>0.000705</td>\n",
       "      <td>27</td>\n",
       "      <td>0.832606</td>\n",
       "      <td>0.831338</td>\n",
       "      <td>0.831896</td>\n",
       "      <td>0.831946</td>\n",
       "      <td>0.000519</td>\n",
       "    </tr>\n",
       "    <tr>\n",
       "      <th>6</th>\n",
       "      <td>0.214040</td>\n",
       "      <td>0.007640</td>\n",
       "      <td>0.005099</td>\n",
       "      <td>0.002485</td>\n",
       "      <td>3</td>\n",
       "      <td>20</td>\n",
       "      <td>60</td>\n",
       "      <td>15</td>\n",
       "      <td>0.25</td>\n",
       "      <td>{'max_depth': 3, 'min_samples_leaf': 20, 'min_...</td>\n",
       "      <td>...</td>\n",
       "      <td>0.834179</td>\n",
       "      <td>0.835397</td>\n",
       "      <td>0.835126</td>\n",
       "      <td>0.000690</td>\n",
       "      <td>12</td>\n",
       "      <td>0.837325</td>\n",
       "      <td>0.836970</td>\n",
       "      <td>0.837122</td>\n",
       "      <td>0.837139</td>\n",
       "      <td>0.000145</td>\n",
       "    </tr>\n",
       "    <tr>\n",
       "      <th>7</th>\n",
       "      <td>0.252638</td>\n",
       "      <td>0.008613</td>\n",
       "      <td>0.010122</td>\n",
       "      <td>0.004272</td>\n",
       "      <td>3</td>\n",
       "      <td>20</td>\n",
       "      <td>60</td>\n",
       "      <td>15</td>\n",
       "      <td>0.5</td>\n",
       "      <td>{'max_depth': 3, 'min_samples_leaf': 20, 'min_...</td>\n",
       "      <td>...</td>\n",
       "      <td>0.836209</td>\n",
       "      <td>0.835803</td>\n",
       "      <td>0.835498</td>\n",
       "      <td>0.000736</td>\n",
       "      <td>9</td>\n",
       "      <td>0.836158</td>\n",
       "      <td>0.836665</td>\n",
       "      <td>0.836107</td>\n",
       "      <td>0.836310</td>\n",
       "      <td>0.000252</td>\n",
       "    </tr>\n",
       "    <tr>\n",
       "      <th>8</th>\n",
       "      <td>0.146384</td>\n",
       "      <td>0.000707</td>\n",
       "      <td>0.000000</td>\n",
       "      <td>0.000000</td>\n",
       "      <td>3</td>\n",
       "      <td>40</td>\n",
       "      <td>40</td>\n",
       "      <td>10</td>\n",
       "      <td>0.25</td>\n",
       "      <td>{'max_depth': 3, 'min_samples_leaf': 40, 'min_...</td>\n",
       "      <td>...</td>\n",
       "      <td>0.828902</td>\n",
       "      <td>0.829206</td>\n",
       "      <td>0.829646</td>\n",
       "      <td>0.000846</td>\n",
       "      <td>32</td>\n",
       "      <td>0.831540</td>\n",
       "      <td>0.830526</td>\n",
       "      <td>0.829714</td>\n",
       "      <td>0.830593</td>\n",
       "      <td>0.000747</td>\n",
       "    </tr>\n",
       "    <tr>\n",
       "      <th>9</th>\n",
       "      <td>0.175161</td>\n",
       "      <td>0.009677</td>\n",
       "      <td>0.010458</td>\n",
       "      <td>0.007395</td>\n",
       "      <td>3</td>\n",
       "      <td>40</td>\n",
       "      <td>40</td>\n",
       "      <td>10</td>\n",
       "      <td>0.5</td>\n",
       "      <td>{'max_depth': 3, 'min_samples_leaf': 40, 'min_...</td>\n",
       "      <td>...</td>\n",
       "      <td>0.828800</td>\n",
       "      <td>0.830627</td>\n",
       "      <td>0.829748</td>\n",
       "      <td>0.000747</td>\n",
       "      <td>31</td>\n",
       "      <td>0.831084</td>\n",
       "      <td>0.830120</td>\n",
       "      <td>0.830881</td>\n",
       "      <td>0.830695</td>\n",
       "      <td>0.000415</td>\n",
       "    </tr>\n",
       "    <tr>\n",
       "      <th>10</th>\n",
       "      <td>0.216656</td>\n",
       "      <td>0.013734</td>\n",
       "      <td>0.004159</td>\n",
       "      <td>0.003116</td>\n",
       "      <td>3</td>\n",
       "      <td>40</td>\n",
       "      <td>40</td>\n",
       "      <td>15</td>\n",
       "      <td>0.25</td>\n",
       "      <td>{'max_depth': 3, 'min_samples_leaf': 40, 'min_...</td>\n",
       "      <td>...</td>\n",
       "      <td>0.834585</td>\n",
       "      <td>0.835904</td>\n",
       "      <td>0.835363</td>\n",
       "      <td>0.000564</td>\n",
       "      <td>10</td>\n",
       "      <td>0.837426</td>\n",
       "      <td>0.835752</td>\n",
       "      <td>0.836462</td>\n",
       "      <td>0.836547</td>\n",
       "      <td>0.000686</td>\n",
       "    </tr>\n",
       "    <tr>\n",
       "      <th>11</th>\n",
       "      <td>0.265865</td>\n",
       "      <td>0.006463</td>\n",
       "      <td>0.001775</td>\n",
       "      <td>0.002510</td>\n",
       "      <td>3</td>\n",
       "      <td>40</td>\n",
       "      <td>40</td>\n",
       "      <td>15</td>\n",
       "      <td>0.5</td>\n",
       "      <td>{'max_depth': 3, 'min_samples_leaf': 40, 'min_...</td>\n",
       "      <td>...</td>\n",
       "      <td>0.835397</td>\n",
       "      <td>0.836412</td>\n",
       "      <td>0.835566</td>\n",
       "      <td>0.000633</td>\n",
       "      <td>8</td>\n",
       "      <td>0.836615</td>\n",
       "      <td>0.836361</td>\n",
       "      <td>0.835904</td>\n",
       "      <td>0.836293</td>\n",
       "      <td>0.000294</td>\n",
       "    </tr>\n",
       "    <tr>\n",
       "      <th>12</th>\n",
       "      <td>0.155478</td>\n",
       "      <td>0.006730</td>\n",
       "      <td>0.005249</td>\n",
       "      <td>0.007424</td>\n",
       "      <td>3</td>\n",
       "      <td>40</td>\n",
       "      <td>60</td>\n",
       "      <td>10</td>\n",
       "      <td>0.25</td>\n",
       "      <td>{'max_depth': 3, 'min_samples_leaf': 40, 'min_...</td>\n",
       "      <td>...</td>\n",
       "      <td>0.828598</td>\n",
       "      <td>0.832657</td>\n",
       "      <td>0.830932</td>\n",
       "      <td>0.001712</td>\n",
       "      <td>28</td>\n",
       "      <td>0.832809</td>\n",
       "      <td>0.829206</td>\n",
       "      <td>0.832251</td>\n",
       "      <td>0.831422</td>\n",
       "      <td>0.001583</td>\n",
       "    </tr>\n",
       "    <tr>\n",
       "      <th>13</th>\n",
       "      <td>0.187609</td>\n",
       "      <td>0.005608</td>\n",
       "      <td>0.000000</td>\n",
       "      <td>0.000000</td>\n",
       "      <td>3</td>\n",
       "      <td>40</td>\n",
       "      <td>60</td>\n",
       "      <td>10</td>\n",
       "      <td>0.5</td>\n",
       "      <td>{'max_depth': 3, 'min_samples_leaf': 40, 'min_...</td>\n",
       "      <td>...</td>\n",
       "      <td>0.829409</td>\n",
       "      <td>0.830526</td>\n",
       "      <td>0.830255</td>\n",
       "      <td>0.000611</td>\n",
       "      <td>30</td>\n",
       "      <td>0.831794</td>\n",
       "      <td>0.831338</td>\n",
       "      <td>0.829866</td>\n",
       "      <td>0.830999</td>\n",
       "      <td>0.000823</td>\n",
       "    </tr>\n",
       "    <tr>\n",
       "      <th>14</th>\n",
       "      <td>0.212281</td>\n",
       "      <td>0.014810</td>\n",
       "      <td>0.011995</td>\n",
       "      <td>0.002592</td>\n",
       "      <td>3</td>\n",
       "      <td>40</td>\n",
       "      <td>60</td>\n",
       "      <td>15</td>\n",
       "      <td>0.25</td>\n",
       "      <td>{'max_depth': 3, 'min_samples_leaf': 40, 'min_...</td>\n",
       "      <td>...</td>\n",
       "      <td>0.834788</td>\n",
       "      <td>0.835600</td>\n",
       "      <td>0.835025</td>\n",
       "      <td>0.000409</td>\n",
       "      <td>13</td>\n",
       "      <td>0.837426</td>\n",
       "      <td>0.836107</td>\n",
       "      <td>0.836564</td>\n",
       "      <td>0.836699</td>\n",
       "      <td>0.000547</td>\n",
       "    </tr>\n",
       "    <tr>\n",
       "      <th>15</th>\n",
       "      <td>0.259947</td>\n",
       "      <td>0.015312</td>\n",
       "      <td>0.004446</td>\n",
       "      <td>0.003324</td>\n",
       "      <td>3</td>\n",
       "      <td>40</td>\n",
       "      <td>60</td>\n",
       "      <td>15</td>\n",
       "      <td>0.5</td>\n",
       "      <td>{'max_depth': 3, 'min_samples_leaf': 40, 'min_...</td>\n",
       "      <td>...</td>\n",
       "      <td>0.835397</td>\n",
       "      <td>0.834991</td>\n",
       "      <td>0.834957</td>\n",
       "      <td>0.000374</td>\n",
       "      <td>15</td>\n",
       "      <td>0.835295</td>\n",
       "      <td>0.836513</td>\n",
       "      <td>0.836462</td>\n",
       "      <td>0.836090</td>\n",
       "      <td>0.000562</td>\n",
       "    </tr>\n",
       "    <tr>\n",
       "      <th>16</th>\n",
       "      <td>0.175736</td>\n",
       "      <td>0.009439</td>\n",
       "      <td>0.007808</td>\n",
       "      <td>0.006382</td>\n",
       "      <td>4</td>\n",
       "      <td>20</td>\n",
       "      <td>40</td>\n",
       "      <td>10</td>\n",
       "      <td>0.25</td>\n",
       "      <td>{'max_depth': 4, 'min_samples_leaf': 20, 'min_...</td>\n",
       "      <td>...</td>\n",
       "      <td>0.831642</td>\n",
       "      <td>0.832860</td>\n",
       "      <td>0.832555</td>\n",
       "      <td>0.000658</td>\n",
       "      <td>20</td>\n",
       "      <td>0.835752</td>\n",
       "      <td>0.832099</td>\n",
       "      <td>0.833722</td>\n",
       "      <td>0.833858</td>\n",
       "      <td>0.001495</td>\n",
       "    </tr>\n",
       "    <tr>\n",
       "      <th>17</th>\n",
       "      <td>0.215315</td>\n",
       "      <td>0.010363</td>\n",
       "      <td>0.004343</td>\n",
       "      <td>0.006142</td>\n",
       "      <td>4</td>\n",
       "      <td>20</td>\n",
       "      <td>40</td>\n",
       "      <td>10</td>\n",
       "      <td>0.5</td>\n",
       "      <td>{'max_depth': 4, 'min_samples_leaf': 20, 'min_...</td>\n",
       "      <td>...</td>\n",
       "      <td>0.833367</td>\n",
       "      <td>0.832860</td>\n",
       "      <td>0.832657</td>\n",
       "      <td>0.000678</td>\n",
       "      <td>18</td>\n",
       "      <td>0.834534</td>\n",
       "      <td>0.834991</td>\n",
       "      <td>0.833215</td>\n",
       "      <td>0.834247</td>\n",
       "      <td>0.000753</td>\n",
       "    </tr>\n",
       "    <tr>\n",
       "      <th>18</th>\n",
       "      <td>0.250407</td>\n",
       "      <td>0.009261</td>\n",
       "      <td>0.012753</td>\n",
       "      <td>0.002222</td>\n",
       "      <td>4</td>\n",
       "      <td>20</td>\n",
       "      <td>40</td>\n",
       "      <td>15</td>\n",
       "      <td>0.25</td>\n",
       "      <td>{'max_depth': 4, 'min_samples_leaf': 20, 'min_...</td>\n",
       "      <td>...</td>\n",
       "      <td>0.834991</td>\n",
       "      <td>0.837325</td>\n",
       "      <td>0.836242</td>\n",
       "      <td>0.000960</td>\n",
       "      <td>6</td>\n",
       "      <td>0.839710</td>\n",
       "      <td>0.838137</td>\n",
       "      <td>0.838238</td>\n",
       "      <td>0.838695</td>\n",
       "      <td>0.000719</td>\n",
       "    </tr>\n",
       "    <tr>\n",
       "      <th>19</th>\n",
       "      <td>0.299538</td>\n",
       "      <td>0.005308</td>\n",
       "      <td>0.014229</td>\n",
       "      <td>0.002047</td>\n",
       "      <td>4</td>\n",
       "      <td>20</td>\n",
       "      <td>40</td>\n",
       "      <td>15</td>\n",
       "      <td>0.5</td>\n",
       "      <td>{'max_depth': 4, 'min_samples_leaf': 20, 'min_...</td>\n",
       "      <td>...</td>\n",
       "      <td>0.836615</td>\n",
       "      <td>0.837223</td>\n",
       "      <td>0.836716</td>\n",
       "      <td>0.000380</td>\n",
       "      <td>2</td>\n",
       "      <td>0.840877</td>\n",
       "      <td>0.838441</td>\n",
       "      <td>0.838238</td>\n",
       "      <td>0.839185</td>\n",
       "      <td>0.001199</td>\n",
       "    </tr>\n",
       "    <tr>\n",
       "      <th>20</th>\n",
       "      <td>0.173309</td>\n",
       "      <td>0.013452</td>\n",
       "      <td>0.005206</td>\n",
       "      <td>0.007362</td>\n",
       "      <td>4</td>\n",
       "      <td>20</td>\n",
       "      <td>60</td>\n",
       "      <td>10</td>\n",
       "      <td>0.25</td>\n",
       "      <td>{'max_depth': 4, 'min_samples_leaf': 20, 'min_...</td>\n",
       "      <td>...</td>\n",
       "      <td>0.831946</td>\n",
       "      <td>0.832961</td>\n",
       "      <td>0.832488</td>\n",
       "      <td>0.000417</td>\n",
       "      <td>21</td>\n",
       "      <td>0.834483</td>\n",
       "      <td>0.833215</td>\n",
       "      <td>0.832048</td>\n",
       "      <td>0.833249</td>\n",
       "      <td>0.000995</td>\n",
       "    </tr>\n",
       "    <tr>\n",
       "      <th>21</th>\n",
       "      <td>0.204978</td>\n",
       "      <td>0.005572</td>\n",
       "      <td>0.003557</td>\n",
       "      <td>0.002738</td>\n",
       "      <td>4</td>\n",
       "      <td>20</td>\n",
       "      <td>60</td>\n",
       "      <td>10</td>\n",
       "      <td>0.5</td>\n",
       "      <td>{'max_depth': 4, 'min_samples_leaf': 20, 'min_...</td>\n",
       "      <td>...</td>\n",
       "      <td>0.832048</td>\n",
       "      <td>0.831135</td>\n",
       "      <td>0.831642</td>\n",
       "      <td>0.000380</td>\n",
       "      <td>25</td>\n",
       "      <td>0.834280</td>\n",
       "      <td>0.833621</td>\n",
       "      <td>0.833367</td>\n",
       "      <td>0.833756</td>\n",
       "      <td>0.000385</td>\n",
       "    </tr>\n",
       "    <tr>\n",
       "      <th>22</th>\n",
       "      <td>0.240262</td>\n",
       "      <td>0.005040</td>\n",
       "      <td>0.009427</td>\n",
       "      <td>0.001896</td>\n",
       "      <td>4</td>\n",
       "      <td>20</td>\n",
       "      <td>60</td>\n",
       "      <td>15</td>\n",
       "      <td>0.25</td>\n",
       "      <td>{'max_depth': 4, 'min_samples_leaf': 20, 'min_...</td>\n",
       "      <td>...</td>\n",
       "      <td>0.834382</td>\n",
       "      <td>0.838035</td>\n",
       "      <td>0.836209</td>\n",
       "      <td>0.001491</td>\n",
       "      <td>7</td>\n",
       "      <td>0.838796</td>\n",
       "      <td>0.837274</td>\n",
       "      <td>0.837782</td>\n",
       "      <td>0.837951</td>\n",
       "      <td>0.000633</td>\n",
       "    </tr>\n",
       "    <tr>\n",
       "      <th>23</th>\n",
       "      <td>0.307096</td>\n",
       "      <td>0.008421</td>\n",
       "      <td>0.015664</td>\n",
       "      <td>0.000060</td>\n",
       "      <td>4</td>\n",
       "      <td>20</td>\n",
       "      <td>60</td>\n",
       "      <td>15</td>\n",
       "      <td>0.5</td>\n",
       "      <td>{'max_depth': 4, 'min_samples_leaf': 20, 'min_...</td>\n",
       "      <td>...</td>\n",
       "      <td>0.836513</td>\n",
       "      <td>0.836919</td>\n",
       "      <td>0.836513</td>\n",
       "      <td>0.000331</td>\n",
       "      <td>3</td>\n",
       "      <td>0.840420</td>\n",
       "      <td>0.839558</td>\n",
       "      <td>0.838949</td>\n",
       "      <td>0.839642</td>\n",
       "      <td>0.000604</td>\n",
       "    </tr>\n",
       "    <tr>\n",
       "      <th>24</th>\n",
       "      <td>0.177506</td>\n",
       "      <td>0.004101</td>\n",
       "      <td>0.002968</td>\n",
       "      <td>0.004197</td>\n",
       "      <td>4</td>\n",
       "      <td>40</td>\n",
       "      <td>40</td>\n",
       "      <td>10</td>\n",
       "      <td>0.25</td>\n",
       "      <td>{'max_depth': 4, 'min_samples_leaf': 40, 'min_...</td>\n",
       "      <td>...</td>\n",
       "      <td>0.832454</td>\n",
       "      <td>0.833773</td>\n",
       "      <td>0.832860</td>\n",
       "      <td>0.000647</td>\n",
       "      <td>17</td>\n",
       "      <td>0.834230</td>\n",
       "      <td>0.832708</td>\n",
       "      <td>0.832860</td>\n",
       "      <td>0.833266</td>\n",
       "      <td>0.000685</td>\n",
       "    </tr>\n",
       "    <tr>\n",
       "      <th>25</th>\n",
       "      <td>0.212708</td>\n",
       "      <td>0.003893</td>\n",
       "      <td>0.005174</td>\n",
       "      <td>0.003672</td>\n",
       "      <td>4</td>\n",
       "      <td>40</td>\n",
       "      <td>40</td>\n",
       "      <td>10</td>\n",
       "      <td>0.5</td>\n",
       "      <td>{'max_depth': 4, 'min_samples_leaf': 40, 'min_...</td>\n",
       "      <td>...</td>\n",
       "      <td>0.831743</td>\n",
       "      <td>0.831946</td>\n",
       "      <td>0.832217</td>\n",
       "      <td>0.000533</td>\n",
       "      <td>23</td>\n",
       "      <td>0.836056</td>\n",
       "      <td>0.833875</td>\n",
       "      <td>0.834280</td>\n",
       "      <td>0.834737</td>\n",
       "      <td>0.000947</td>\n",
       "    </tr>\n",
       "    <tr>\n",
       "      <th>26</th>\n",
       "      <td>0.245486</td>\n",
       "      <td>0.013588</td>\n",
       "      <td>0.008446</td>\n",
       "      <td>0.000681</td>\n",
       "      <td>4</td>\n",
       "      <td>40</td>\n",
       "      <td>40</td>\n",
       "      <td>15</td>\n",
       "      <td>0.25</td>\n",
       "      <td>{'max_depth': 4, 'min_samples_leaf': 40, 'min_...</td>\n",
       "      <td>...</td>\n",
       "      <td>0.835803</td>\n",
       "      <td>0.837528</td>\n",
       "      <td>0.836344</td>\n",
       "      <td>0.000838</td>\n",
       "      <td>4</td>\n",
       "      <td>0.837883</td>\n",
       "      <td>0.837122</td>\n",
       "      <td>0.838391</td>\n",
       "      <td>0.837799</td>\n",
       "      <td>0.000521</td>\n",
       "    </tr>\n",
       "    <tr>\n",
       "      <th>27</th>\n",
       "      <td>0.299790</td>\n",
       "      <td>0.029174</td>\n",
       "      <td>0.016133</td>\n",
       "      <td>0.000637</td>\n",
       "      <td>4</td>\n",
       "      <td>40</td>\n",
       "      <td>40</td>\n",
       "      <td>15</td>\n",
       "      <td>0.5</td>\n",
       "      <td>{'max_depth': 4, 'min_samples_leaf': 40, 'min_...</td>\n",
       "      <td>...</td>\n",
       "      <td>0.837528</td>\n",
       "      <td>0.837528</td>\n",
       "      <td>0.836851</td>\n",
       "      <td>0.000957</td>\n",
       "      <td>1</td>\n",
       "      <td>0.839253</td>\n",
       "      <td>0.838949</td>\n",
       "      <td>0.840116</td>\n",
       "      <td>0.839439</td>\n",
       "      <td>0.000494</td>\n",
       "    </tr>\n",
       "    <tr>\n",
       "      <th>28</th>\n",
       "      <td>0.174366</td>\n",
       "      <td>0.007055</td>\n",
       "      <td>0.002736</td>\n",
       "      <td>0.003869</td>\n",
       "      <td>4</td>\n",
       "      <td>40</td>\n",
       "      <td>60</td>\n",
       "      <td>10</td>\n",
       "      <td>0.25</td>\n",
       "      <td>{'max_depth': 4, 'min_samples_leaf': 40, 'min_...</td>\n",
       "      <td>...</td>\n",
       "      <td>0.831236</td>\n",
       "      <td>0.834585</td>\n",
       "      <td>0.832454</td>\n",
       "      <td>0.001512</td>\n",
       "      <td>22</td>\n",
       "      <td>0.833215</td>\n",
       "      <td>0.832606</td>\n",
       "      <td>0.834737</td>\n",
       "      <td>0.833519</td>\n",
       "      <td>0.000896</td>\n",
       "    </tr>\n",
       "    <tr>\n",
       "      <th>29</th>\n",
       "      <td>0.213082</td>\n",
       "      <td>0.014212</td>\n",
       "      <td>0.012882</td>\n",
       "      <td>0.002756</td>\n",
       "      <td>4</td>\n",
       "      <td>40</td>\n",
       "      <td>60</td>\n",
       "      <td>10</td>\n",
       "      <td>0.5</td>\n",
       "      <td>{'max_depth': 4, 'min_samples_leaf': 40, 'min_...</td>\n",
       "      <td>...</td>\n",
       "      <td>0.832352</td>\n",
       "      <td>0.832758</td>\n",
       "      <td>0.832589</td>\n",
       "      <td>0.000172</td>\n",
       "      <td>19</td>\n",
       "      <td>0.834128</td>\n",
       "      <td>0.833976</td>\n",
       "      <td>0.833875</td>\n",
       "      <td>0.833993</td>\n",
       "      <td>0.000104</td>\n",
       "    </tr>\n",
       "    <tr>\n",
       "      <th>30</th>\n",
       "      <td>0.249960</td>\n",
       "      <td>0.004182</td>\n",
       "      <td>0.011708</td>\n",
       "      <td>0.002081</td>\n",
       "      <td>4</td>\n",
       "      <td>40</td>\n",
       "      <td>60</td>\n",
       "      <td>15</td>\n",
       "      <td>0.25</td>\n",
       "      <td>{'max_depth': 4, 'min_samples_leaf': 40, 'min_...</td>\n",
       "      <td>...</td>\n",
       "      <td>0.835194</td>\n",
       "      <td>0.836310</td>\n",
       "      <td>0.835025</td>\n",
       "      <td>0.001125</td>\n",
       "      <td>13</td>\n",
       "      <td>0.838086</td>\n",
       "      <td>0.836767</td>\n",
       "      <td>0.836970</td>\n",
       "      <td>0.837274</td>\n",
       "      <td>0.000580</td>\n",
       "    </tr>\n",
       "    <tr>\n",
       "      <th>31</th>\n",
       "      <td>0.305325</td>\n",
       "      <td>0.007447</td>\n",
       "      <td>0.010415</td>\n",
       "      <td>0.007365</td>\n",
       "      <td>4</td>\n",
       "      <td>40</td>\n",
       "      <td>60</td>\n",
       "      <td>15</td>\n",
       "      <td>0.5</td>\n",
       "      <td>{'max_depth': 4, 'min_samples_leaf': 40, 'min_...</td>\n",
       "      <td>...</td>\n",
       "      <td>0.836818</td>\n",
       "      <td>0.835904</td>\n",
       "      <td>0.836344</td>\n",
       "      <td>0.000374</td>\n",
       "      <td>4</td>\n",
       "      <td>0.839811</td>\n",
       "      <td>0.838898</td>\n",
       "      <td>0.838238</td>\n",
       "      <td>0.838982</td>\n",
       "      <td>0.000645</td>\n",
       "    </tr>\n",
       "  </tbody>\n",
       "</table>\n",
       "<p>32 rows × 21 columns</p>\n",
       "</div>"
      ],
      "text/plain": [
       "    mean_fit_time  std_fit_time  mean_score_time  std_score_time  \\\n",
       "0        0.150249      0.014004         0.010461        0.007397   \n",
       "1        0.182405      0.008653         0.002932        0.004146   \n",
       "2        0.215745      0.008479         0.005706        0.002066   \n",
       "3        0.256082      0.008900         0.008986        0.002113   \n",
       "4        0.148735      0.004652         0.005248        0.007422   \n",
       "5        0.178478      0.004298         0.006389        0.006687   \n",
       "6        0.214040      0.007640         0.005099        0.002485   \n",
       "7        0.252638      0.008613         0.010122        0.004272   \n",
       "8        0.146384      0.000707         0.000000        0.000000   \n",
       "9        0.175161      0.009677         0.010458        0.007395   \n",
       "10       0.216656      0.013734         0.004159        0.003116   \n",
       "11       0.265865      0.006463         0.001775        0.002510   \n",
       "12       0.155478      0.006730         0.005249        0.007424   \n",
       "13       0.187609      0.005608         0.000000        0.000000   \n",
       "14       0.212281      0.014810         0.011995        0.002592   \n",
       "15       0.259947      0.015312         0.004446        0.003324   \n",
       "16       0.175736      0.009439         0.007808        0.006382   \n",
       "17       0.215315      0.010363         0.004343        0.006142   \n",
       "18       0.250407      0.009261         0.012753        0.002222   \n",
       "19       0.299538      0.005308         0.014229        0.002047   \n",
       "20       0.173309      0.013452         0.005206        0.007362   \n",
       "21       0.204978      0.005572         0.003557        0.002738   \n",
       "22       0.240262      0.005040         0.009427        0.001896   \n",
       "23       0.307096      0.008421         0.015664        0.000060   \n",
       "24       0.177506      0.004101         0.002968        0.004197   \n",
       "25       0.212708      0.003893         0.005174        0.003672   \n",
       "26       0.245486      0.013588         0.008446        0.000681   \n",
       "27       0.299790      0.029174         0.016133        0.000637   \n",
       "28       0.174366      0.007055         0.002736        0.003869   \n",
       "29       0.213082      0.014212         0.012882        0.002756   \n",
       "30       0.249960      0.004182         0.011708        0.002081   \n",
       "31       0.305325      0.007447         0.010415        0.007365   \n",
       "\n",
       "   param_max_depth param_min_samples_leaf param_min_samples_split  \\\n",
       "0                3                     20                      40   \n",
       "1                3                     20                      40   \n",
       "2                3                     20                      40   \n",
       "3                3                     20                      40   \n",
       "4                3                     20                      60   \n",
       "5                3                     20                      60   \n",
       "6                3                     20                      60   \n",
       "7                3                     20                      60   \n",
       "8                3                     40                      40   \n",
       "9                3                     40                      40   \n",
       "10               3                     40                      40   \n",
       "11               3                     40                      40   \n",
       "12               3                     40                      60   \n",
       "13               3                     40                      60   \n",
       "14               3                     40                      60   \n",
       "15               3                     40                      60   \n",
       "16               4                     20                      40   \n",
       "17               4                     20                      40   \n",
       "18               4                     20                      40   \n",
       "19               4                     20                      40   \n",
       "20               4                     20                      60   \n",
       "21               4                     20                      60   \n",
       "22               4                     20                      60   \n",
       "23               4                     20                      60   \n",
       "24               4                     40                      40   \n",
       "25               4                     40                      40   \n",
       "26               4                     40                      40   \n",
       "27               4                     40                      40   \n",
       "28               4                     40                      60   \n",
       "29               4                     40                      60   \n",
       "30               4                     40                      60   \n",
       "31               4                     40                      60   \n",
       "\n",
       "   param_n_estimators param_subsample  \\\n",
       "0                  10            0.25   \n",
       "1                  10             0.5   \n",
       "2                  15            0.25   \n",
       "3                  15             0.5   \n",
       "4                  10            0.25   \n",
       "5                  10             0.5   \n",
       "6                  15            0.25   \n",
       "7                  15             0.5   \n",
       "8                  10            0.25   \n",
       "9                  10             0.5   \n",
       "10                 15            0.25   \n",
       "11                 15             0.5   \n",
       "12                 10            0.25   \n",
       "13                 10             0.5   \n",
       "14                 15            0.25   \n",
       "15                 15             0.5   \n",
       "16                 10            0.25   \n",
       "17                 10             0.5   \n",
       "18                 15            0.25   \n",
       "19                 15             0.5   \n",
       "20                 10            0.25   \n",
       "21                 10             0.5   \n",
       "22                 15            0.25   \n",
       "23                 15             0.5   \n",
       "24                 10            0.25   \n",
       "25                 10             0.5   \n",
       "26                 15            0.25   \n",
       "27                 15             0.5   \n",
       "28                 10            0.25   \n",
       "29                 10             0.5   \n",
       "30                 15            0.25   \n",
       "31                 15             0.5   \n",
       "\n",
       "                                               params       ...         \\\n",
       "0   {'max_depth': 3, 'min_samples_leaf': 20, 'min_...       ...          \n",
       "1   {'max_depth': 3, 'min_samples_leaf': 20, 'min_...       ...          \n",
       "2   {'max_depth': 3, 'min_samples_leaf': 20, 'min_...       ...          \n",
       "3   {'max_depth': 3, 'min_samples_leaf': 20, 'min_...       ...          \n",
       "4   {'max_depth': 3, 'min_samples_leaf': 20, 'min_...       ...          \n",
       "5   {'max_depth': 3, 'min_samples_leaf': 20, 'min_...       ...          \n",
       "6   {'max_depth': 3, 'min_samples_leaf': 20, 'min_...       ...          \n",
       "7   {'max_depth': 3, 'min_samples_leaf': 20, 'min_...       ...          \n",
       "8   {'max_depth': 3, 'min_samples_leaf': 40, 'min_...       ...          \n",
       "9   {'max_depth': 3, 'min_samples_leaf': 40, 'min_...       ...          \n",
       "10  {'max_depth': 3, 'min_samples_leaf': 40, 'min_...       ...          \n",
       "11  {'max_depth': 3, 'min_samples_leaf': 40, 'min_...       ...          \n",
       "12  {'max_depth': 3, 'min_samples_leaf': 40, 'min_...       ...          \n",
       "13  {'max_depth': 3, 'min_samples_leaf': 40, 'min_...       ...          \n",
       "14  {'max_depth': 3, 'min_samples_leaf': 40, 'min_...       ...          \n",
       "15  {'max_depth': 3, 'min_samples_leaf': 40, 'min_...       ...          \n",
       "16  {'max_depth': 4, 'min_samples_leaf': 20, 'min_...       ...          \n",
       "17  {'max_depth': 4, 'min_samples_leaf': 20, 'min_...       ...          \n",
       "18  {'max_depth': 4, 'min_samples_leaf': 20, 'min_...       ...          \n",
       "19  {'max_depth': 4, 'min_samples_leaf': 20, 'min_...       ...          \n",
       "20  {'max_depth': 4, 'min_samples_leaf': 20, 'min_...       ...          \n",
       "21  {'max_depth': 4, 'min_samples_leaf': 20, 'min_...       ...          \n",
       "22  {'max_depth': 4, 'min_samples_leaf': 20, 'min_...       ...          \n",
       "23  {'max_depth': 4, 'min_samples_leaf': 20, 'min_...       ...          \n",
       "24  {'max_depth': 4, 'min_samples_leaf': 40, 'min_...       ...          \n",
       "25  {'max_depth': 4, 'min_samples_leaf': 40, 'min_...       ...          \n",
       "26  {'max_depth': 4, 'min_samples_leaf': 40, 'min_...       ...          \n",
       "27  {'max_depth': 4, 'min_samples_leaf': 40, 'min_...       ...          \n",
       "28  {'max_depth': 4, 'min_samples_leaf': 40, 'min_...       ...          \n",
       "29  {'max_depth': 4, 'min_samples_leaf': 40, 'min_...       ...          \n",
       "30  {'max_depth': 4, 'min_samples_leaf': 40, 'min_...       ...          \n",
       "31  {'max_depth': 4, 'min_samples_leaf': 40, 'min_...       ...          \n",
       "\n",
       "    split1_test_score  split2_test_score  mean_test_score  std_test_score  \\\n",
       "0            0.831642           0.832961         0.831676        0.001036   \n",
       "1            0.830120           0.831946         0.831067        0.000747   \n",
       "2            0.836513           0.835397         0.835261        0.001081   \n",
       "3            0.835397           0.835092         0.834483        0.001084   \n",
       "4            0.829815           0.831033         0.830492        0.000506   \n",
       "5            0.830120           0.831845         0.830999        0.000705   \n",
       "6            0.834179           0.835397         0.835126        0.000690   \n",
       "7            0.836209           0.835803         0.835498        0.000736   \n",
       "8            0.828902           0.829206         0.829646        0.000846   \n",
       "9            0.828800           0.830627         0.829748        0.000747   \n",
       "10           0.834585           0.835904         0.835363        0.000564   \n",
       "11           0.835397           0.836412         0.835566        0.000633   \n",
       "12           0.828598           0.832657         0.830932        0.001712   \n",
       "13           0.829409           0.830526         0.830255        0.000611   \n",
       "14           0.834788           0.835600         0.835025        0.000409   \n",
       "15           0.835397           0.834991         0.834957        0.000374   \n",
       "16           0.831642           0.832860         0.832555        0.000658   \n",
       "17           0.833367           0.832860         0.832657        0.000678   \n",
       "18           0.834991           0.837325         0.836242        0.000960   \n",
       "19           0.836615           0.837223         0.836716        0.000380   \n",
       "20           0.831946           0.832961         0.832488        0.000417   \n",
       "21           0.832048           0.831135         0.831642        0.000380   \n",
       "22           0.834382           0.838035         0.836209        0.001491   \n",
       "23           0.836513           0.836919         0.836513        0.000331   \n",
       "24           0.832454           0.833773         0.832860        0.000647   \n",
       "25           0.831743           0.831946         0.832217        0.000533   \n",
       "26           0.835803           0.837528         0.836344        0.000838   \n",
       "27           0.837528           0.837528         0.836851        0.000957   \n",
       "28           0.831236           0.834585         0.832454        0.001512   \n",
       "29           0.832352           0.832758         0.832589        0.000172   \n",
       "30           0.835194           0.836310         0.835025        0.001125   \n",
       "31           0.836818           0.835904         0.836344        0.000374   \n",
       "\n",
       "    rank_test_score  split0_train_score  split1_train_score  \\\n",
       "0                24            0.832961            0.833215   \n",
       "1                26            0.831743            0.831642   \n",
       "2                11            0.836919            0.836716   \n",
       "3                16            0.837579            0.836767   \n",
       "4                29            0.831743            0.831084   \n",
       "5                27            0.832606            0.831338   \n",
       "6                12            0.837325            0.836970   \n",
       "7                 9            0.836158            0.836665   \n",
       "8                32            0.831540            0.830526   \n",
       "9                31            0.831084            0.830120   \n",
       "10               10            0.837426            0.835752   \n",
       "11                8            0.836615            0.836361   \n",
       "12               28            0.832809            0.829206   \n",
       "13               30            0.831794            0.831338   \n",
       "14               13            0.837426            0.836107   \n",
       "15               15            0.835295            0.836513   \n",
       "16               20            0.835752            0.832099   \n",
       "17               18            0.834534            0.834991   \n",
       "18                6            0.839710            0.838137   \n",
       "19                2            0.840877            0.838441   \n",
       "20               21            0.834483            0.833215   \n",
       "21               25            0.834280            0.833621   \n",
       "22                7            0.838796            0.837274   \n",
       "23                3            0.840420            0.839558   \n",
       "24               17            0.834230            0.832708   \n",
       "25               23            0.836056            0.833875   \n",
       "26                4            0.837883            0.837122   \n",
       "27                1            0.839253            0.838949   \n",
       "28               22            0.833215            0.832606   \n",
       "29               19            0.834128            0.833976   \n",
       "30               13            0.838086            0.836767   \n",
       "31                4            0.839811            0.838898   \n",
       "\n",
       "    split2_train_score  mean_train_score  std_train_score  \n",
       "0             0.833773          0.833316         0.000339  \n",
       "1             0.831084          0.831490         0.000290  \n",
       "2             0.836006          0.836547         0.000392  \n",
       "3             0.836107          0.836818         0.000602  \n",
       "4             0.831946          0.831591         0.000368  \n",
       "5             0.831896          0.831946         0.000519  \n",
       "6             0.837122          0.837139         0.000145  \n",
       "7             0.836107          0.836310         0.000252  \n",
       "8             0.829714          0.830593         0.000747  \n",
       "9             0.830881          0.830695         0.000415  \n",
       "10            0.836462          0.836547         0.000686  \n",
       "11            0.835904          0.836293         0.000294  \n",
       "12            0.832251          0.831422         0.001583  \n",
       "13            0.829866          0.830999         0.000823  \n",
       "14            0.836564          0.836699         0.000547  \n",
       "15            0.836462          0.836090         0.000562  \n",
       "16            0.833722          0.833858         0.001495  \n",
       "17            0.833215          0.834247         0.000753  \n",
       "18            0.838238          0.838695         0.000719  \n",
       "19            0.838238          0.839185         0.001199  \n",
       "20            0.832048          0.833249         0.000995  \n",
       "21            0.833367          0.833756         0.000385  \n",
       "22            0.837782          0.837951         0.000633  \n",
       "23            0.838949          0.839642         0.000604  \n",
       "24            0.832860          0.833266         0.000685  \n",
       "25            0.834280          0.834737         0.000947  \n",
       "26            0.838391          0.837799         0.000521  \n",
       "27            0.840116          0.839439         0.000494  \n",
       "28            0.834737          0.833519         0.000896  \n",
       "29            0.833875          0.833993         0.000104  \n",
       "30            0.836970          0.837274         0.000580  \n",
       "31            0.838238          0.838982         0.000645  \n",
       "\n",
       "[32 rows x 21 columns]"
      ]
     },
     "execution_count": 36,
     "metadata": {},
     "output_type": "execute_result"
    }
   ],
   "source": [
    "print(grid_gbt.best_estimator_)\n",
    "print(grid_gbt.best_score_)\n",
    "pd.DataFrame(grid_gbt.cv_results_)"
   ]
  },
  {
   "cell_type": "code",
   "execution_count": 37,
   "metadata": {},
   "outputs": [],
   "source": [
    "# Calculate test predictions\n",
    "# Create a test set confusion matrix and plot"
   ]
  },
  {
   "cell_type": "markdown",
   "metadata": {},
   "source": [
    "### Confusion Matrix"
   ]
  },
  {
   "cell_type": "code",
   "execution_count": 38,
   "metadata": {},
   "outputs": [
    {
     "name": "stderr",
     "output_type": "stream",
     "text": [
      "C:\\ProgramData\\Anaconda3\\lib\\site-packages\\plotnine\\utils.py:281: FutureWarning: Method .as_matrix will be removed in a future version. Use .values instead.\n",
      "  ndistinct = ids.apply(len_unique, axis=0).as_matrix()\n",
      "C:\\ProgramData\\Anaconda3\\lib\\site-packages\\pandas\\core\\generic.py:4388: FutureWarning: Attribute 'is_copy' is deprecated and will be removed in a future version.\n",
      "  object.__getattribute__(self, name)\n",
      "C:\\ProgramData\\Anaconda3\\lib\\site-packages\\pandas\\core\\generic.py:4389: FutureWarning: Attribute 'is_copy' is deprecated and will be removed in a future version.\n",
      "  return object.__setattr__(self, name, value)\n"
     ]
    },
    {
     "data": {
      "image/png": "[encoded data removed]",
      "text/plain": [
       "<Figure size 640x480 with 1 Axes>"
      ]
     },
     "metadata": {
      "needs_background": "light"
     },
     "output_type": "display_data"
    },
    {
     "data": {
      "text/plain": [
       "<ggplot: (-9223371920236629595)>"
      ]
     },
     "execution_count": 38,
     "metadata": {},
     "output_type": "execute_result"
    }
   ],
   "source": [
    "cnf_matrix = confusion_matrix( y_te, grid_logit.predict(X_te) )\n",
    "plot_confusion_matrix(cnf_matrix, normalize=False)\n"
   ]
  },
  {
   "cell_type": "code",
   "execution_count": 39,
   "metadata": {},
   "outputs": [
    {
     "data": {
      "text/plain": [
       "0.8320478993302213"
      ]
     },
     "execution_count": 39,
     "metadata": {},
     "output_type": "execute_result"
    }
   ],
   "source": [
    "(8062+137)/(1583+72+137+8062)"
   ]
  },
  {
   "cell_type": "markdown",
   "metadata": {},
   "source": [
    "### Another analysis with more  \"X\"  5 features "
   ]
  },
  {
   "cell_type": "code",
   "execution_count": 40,
   "metadata": {},
   "outputs": [],
   "source": [
    "# from sklearn.model_selection import train_test_split\n",
    "# #Define X and y with patsy dmatrices\n",
    "# X = df[['GROSS SQUARE FEET','LAND SQUARE FEET','BOROUGH', 'BUILDING CLASS CATEGORY'\n",
    "          \n",
    "#           ]] #features we think may help predict y\n",
    "# y = df['SalePrice1mill'] #what we want to predict \n",
    "# #X_tr, X_te, y_tr, y_te = train_test_split(X, y, random_state = 0)\n",
    "# #A brief preview of our train test split\n",
    "# #print(len(X_tr), len(X_te), len(y_tr), len(y_te))\n",
    "\n",
    "\n",
    "\n"
   ]
  },
  {
   "cell_type": "code",
   "execution_count": 41,
   "metadata": {},
   "outputs": [],
   "source": [
    "from patsy import dmatrices\n",
    "y, X = dmatrices('SalePrice1mill ~ BOROUGH + Q(\"GROSS SQUARE FEET\") +Q(\"LAND SQUARE FEET\")+Q(\"BUILDING CLASS CATEGORY\")+Q(\"YEAR BUILT\") ',\n",
    "                 df, return_type = \"dataframe\")"
   ]
  },
  {
   "cell_type": "code",
   "execution_count": 42,
   "metadata": {},
   "outputs": [],
   "source": [
    "X_tr, X_te, y_tr, y_te = train_test_split(X, y, random_state=0)"
   ]
  },
  {
   "cell_type": "markdown",
   "metadata": {},
   "source": [
    "### Logistic"
   ]
  },
  {
   "cell_type": "code",
   "execution_count": 43,
   "metadata": {},
   "outputs": [
    {
     "name": "stdout",
     "output_type": "stream",
     "text": [
      "Fitting 3 folds for each of 4 candidates, totalling 12 fits\n"
     ]
    },
    {
     "name": "stderr",
     "output_type": "stream",
     "text": [
      "C:\\ProgramData\\Anaconda3\\lib\\site-packages\\sklearn\\utils\\validation.py:578: DataConversionWarning: A column-vector y was passed when a 1d array was expected. Please change the shape of y to (n_samples, ), for example using ravel().\n",
      "  y = column_or_1d(y, warn=True)\n",
      "C:\\ProgramData\\Anaconda3\\lib\\site-packages\\sklearn\\utils\\validation.py:578: DataConversionWarning: A column-vector y was passed when a 1d array was expected. Please change the shape of y to (n_samples, ), for example using ravel().\n",
      "  y = column_or_1d(y, warn=True)\n",
      "C:\\ProgramData\\Anaconda3\\lib\\site-packages\\sklearn\\utils\\validation.py:578: DataConversionWarning: A column-vector y was passed when a 1d array was expected. Please change the shape of y to (n_samples, ), for example using ravel().\n",
      "  y = column_or_1d(y, warn=True)\n",
      "C:\\ProgramData\\Anaconda3\\lib\\site-packages\\sklearn\\utils\\validation.py:578: DataConversionWarning: A column-vector y was passed when a 1d array was expected. Please change the shape of y to (n_samples, ), for example using ravel().\n",
      "  y = column_or_1d(y, warn=True)\n",
      "C:\\ProgramData\\Anaconda3\\lib\\site-packages\\sklearn\\utils\\validation.py:578: DataConversionWarning: A column-vector y was passed when a 1d array was expected. Please change the shape of y to (n_samples, ), for example using ravel().\n",
      "  y = column_or_1d(y, warn=True)\n",
      "C:\\ProgramData\\Anaconda3\\lib\\site-packages\\sklearn\\utils\\validation.py:578: DataConversionWarning: A column-vector y was passed when a 1d array was expected. Please change the shape of y to (n_samples, ), for example using ravel().\n",
      "  y = column_or_1d(y, warn=True)\n",
      "C:\\ProgramData\\Anaconda3\\lib\\site-packages\\sklearn\\utils\\validation.py:578: DataConversionWarning: A column-vector y was passed when a 1d array was expected. Please change the shape of y to (n_samples, ), for example using ravel().\n",
      "  y = column_or_1d(y, warn=True)\n",
      "C:\\ProgramData\\Anaconda3\\lib\\site-packages\\sklearn\\utils\\validation.py:578: DataConversionWarning: A column-vector y was passed when a 1d array was expected. Please change the shape of y to (n_samples, ), for example using ravel().\n",
      "  y = column_or_1d(y, warn=True)\n",
      "C:\\ProgramData\\Anaconda3\\lib\\site-packages\\sklearn\\utils\\validation.py:578: DataConversionWarning: A column-vector y was passed when a 1d array was expected. Please change the shape of y to (n_samples, ), for example using ravel().\n",
      "  y = column_or_1d(y, warn=True)\n",
      "C:\\ProgramData\\Anaconda3\\lib\\site-packages\\sklearn\\utils\\validation.py:578: DataConversionWarning: A column-vector y was passed when a 1d array was expected. Please change the shape of y to (n_samples, ), for example using ravel().\n",
      "  y = column_or_1d(y, warn=True)\n",
      "C:\\ProgramData\\Anaconda3\\lib\\site-packages\\sklearn\\utils\\validation.py:578: DataConversionWarning: A column-vector y was passed when a 1d array was expected. Please change the shape of y to (n_samples, ), for example using ravel().\n",
      "  y = column_or_1d(y, warn=True)\n",
      "C:\\ProgramData\\Anaconda3\\lib\\site-packages\\sklearn\\utils\\validation.py:578: DataConversionWarning: A column-vector y was passed when a 1d array was expected. Please change the shape of y to (n_samples, ), for example using ravel().\n",
      "  y = column_or_1d(y, warn=True)\n",
      "[Parallel(n_jobs=1)]: Done  12 out of  12 | elapsed:    1.8s finished\n",
      "C:\\ProgramData\\Anaconda3\\lib\\site-packages\\sklearn\\utils\\validation.py:578: DataConversionWarning: A column-vector y was passed when a 1d array was expected. Please change the shape of y to (n_samples, ), for example using ravel().\n",
      "  y = column_or_1d(y, warn=True)\n"
     ]
    },
    {
     "data": {
      "text/plain": [
       "GridSearchCV(cv=None, error_score='raise',\n",
       "       estimator=LogisticRegression(C=1.0, class_weight=None, dual=False, fit_intercept=True,\n",
       "          intercept_scaling=1, max_iter=100, multi_class='ovr', n_jobs=1,\n",
       "          penalty='l2', random_state=None, solver='liblinear', tol=0.0001,\n",
       "          verbose=0, warm_start=False),\n",
       "       fit_params=None, iid=True, n_jobs=1,\n",
       "       param_grid={'C': [0.1, 1, 10, 100]}, pre_dispatch='2*n_jobs',\n",
       "       refit=True, return_train_score='warn', scoring=None, verbose=1)"
      ]
     },
     "execution_count": 43,
     "metadata": {},
     "output_type": "execute_result"
    }
   ],
   "source": [
    "params = {\n",
    "    'C': [0.1, 1, 10, 100]\n",
    "}\n",
    "regression = LogisticRegression()\n",
    "grid_logit = GridSearchCV(estimator=regression, param_grid=params, verbose=1)\n",
    "grid_logit.fit(X_tr, y_tr)"
   ]
  },
  {
   "cell_type": "code",
   "execution_count": 44,
   "metadata": {},
   "outputs": [
    {
     "name": "stdout",
     "output_type": "stream",
     "text": [
      "0.8341790135985386\n"
     ]
    }
   ],
   "source": [
    "print(grid_logit.best_score_)"
   ]
  },
  {
   "cell_type": "markdown",
   "metadata": {},
   "source": [
    "### Gradient Boosting"
   ]
  },
  {
   "cell_type": "code",
   "execution_count": 45,
   "metadata": {},
   "outputs": [
    {
     "name": "stdout",
     "output_type": "stream",
     "text": [
      "Fitting 3 folds for each of 32 candidates, totalling 96 fits\n",
      "[CV] max_depth=3, min_samples_leaf=20, min_samples_split=40, n_estimators=10, subsample=0.25 \n"
     ]
    },
    {
     "name": "stderr",
     "output_type": "stream",
     "text": [
      "C:\\ProgramData\\Anaconda3\\lib\\site-packages\\sklearn\\utils\\validation.py:578: DataConversionWarning: A column-vector y was passed when a 1d array was expected. Please change the shape of y to (n_samples, ), for example using ravel().\n",
      "  y = column_or_1d(y, warn=True)\n"
     ]
    },
    {
     "name": "stdout",
     "output_type": "stream",
     "text": [
      "[CV]  max_depth=3, min_samples_leaf=20, min_samples_split=40, n_estimators=10, subsample=0.25, total=   0.4s\n",
      "[CV] max_depth=3, min_samples_leaf=20, min_samples_split=40, n_estimators=10, subsample=0.25 \n"
     ]
    },
    {
     "name": "stderr",
     "output_type": "stream",
     "text": [
      "[Parallel(n_jobs=1)]: Done   1 out of   1 | elapsed:    0.4s remaining:    0.0s\n",
      "C:\\ProgramData\\Anaconda3\\lib\\site-packages\\sklearn\\utils\\validation.py:578: DataConversionWarning: A column-vector y was passed when a 1d array was expected. Please change the shape of y to (n_samples, ), for example using ravel().\n",
      "  y = column_or_1d(y, warn=True)\n"
     ]
    },
    {
     "name": "stdout",
     "output_type": "stream",
     "text": [
      "[CV]  max_depth=3, min_samples_leaf=20, min_samples_split=40, n_estimators=10, subsample=0.25, total=   0.3s\n",
      "[CV] max_depth=3, min_samples_leaf=20, min_samples_split=40, n_estimators=10, subsample=0.25 \n"
     ]
    },
    {
     "name": "stderr",
     "output_type": "stream",
     "text": [
      "C:\\ProgramData\\Anaconda3\\lib\\site-packages\\sklearn\\utils\\validation.py:578: DataConversionWarning: A column-vector y was passed when a 1d array was expected. Please change the shape of y to (n_samples, ), for example using ravel().\n",
      "  y = column_or_1d(y, warn=True)\n"
     ]
    },
    {
     "name": "stdout",
     "output_type": "stream",
     "text": [
      "[CV]  max_depth=3, min_samples_leaf=20, min_samples_split=40, n_estimators=10, subsample=0.25, total=   0.3s\n",
      "[CV] max_depth=3, min_samples_leaf=20, min_samples_split=40, n_estimators=10, subsample=0.5 \n"
     ]
    },
    {
     "name": "stderr",
     "output_type": "stream",
     "text": [
      "C:\\ProgramData\\Anaconda3\\lib\\site-packages\\sklearn\\utils\\validation.py:578: DataConversionWarning: A column-vector y was passed when a 1d array was expected. Please change the shape of y to (n_samples, ), for example using ravel().\n",
      "  y = column_or_1d(y, warn=True)\n"
     ]
    },
    {
     "name": "stdout",
     "output_type": "stream",
     "text": [
      "[CV]  max_depth=3, min_samples_leaf=20, min_samples_split=40, n_estimators=10, subsample=0.5, total=   0.5s\n",
      "[CV] max_depth=3, min_samples_leaf=20, min_samples_split=40, n_estimators=10, subsample=0.5 \n"
     ]
    },
    {
     "name": "stderr",
     "output_type": "stream",
     "text": [
      "C:\\ProgramData\\Anaconda3\\lib\\site-packages\\sklearn\\utils\\validation.py:578: DataConversionWarning: A column-vector y was passed when a 1d array was expected. Please change the shape of y to (n_samples, ), for example using ravel().\n",
      "  y = column_or_1d(y, warn=True)\n"
     ]
    },
    {
     "name": "stdout",
     "output_type": "stream",
     "text": [
      "[CV]  max_depth=3, min_samples_leaf=20, min_samples_split=40, n_estimators=10, subsample=0.5, total=   0.5s\n",
      "[CV] max_depth=3, min_samples_leaf=20, min_samples_split=40, n_estimators=10, subsample=0.5 \n"
     ]
    },
    {
     "name": "stderr",
     "output_type": "stream",
     "text": [
      "C:\\ProgramData\\Anaconda3\\lib\\site-packages\\sklearn\\utils\\validation.py:578: DataConversionWarning: A column-vector y was passed when a 1d array was expected. Please change the shape of y to (n_samples, ), for example using ravel().\n",
      "  y = column_or_1d(y, warn=True)\n"
     ]
    },
    {
     "name": "stdout",
     "output_type": "stream",
     "text": [
      "[CV]  max_depth=3, min_samples_leaf=20, min_samples_split=40, n_estimators=10, subsample=0.5, total=   0.5s\n",
      "[CV] max_depth=3, min_samples_leaf=20, min_samples_split=40, n_estimators=15, subsample=0.25 \n"
     ]
    },
    {
     "name": "stderr",
     "output_type": "stream",
     "text": [
      "C:\\ProgramData\\Anaconda3\\lib\\site-packages\\sklearn\\utils\\validation.py:578: DataConversionWarning: A column-vector y was passed when a 1d array was expected. Please change the shape of y to (n_samples, ), for example using ravel().\n",
      "  y = column_or_1d(y, warn=True)\n"
     ]
    },
    {
     "name": "stdout",
     "output_type": "stream",
     "text": [
      "[CV]  max_depth=3, min_samples_leaf=20, min_samples_split=40, n_estimators=15, subsample=0.25, total=   0.5s\n",
      "[CV] max_depth=3, min_samples_leaf=20, min_samples_split=40, n_estimators=15, subsample=0.25 \n"
     ]
    },
    {
     "name": "stderr",
     "output_type": "stream",
     "text": [
      "C:\\ProgramData\\Anaconda3\\lib\\site-packages\\sklearn\\utils\\validation.py:578: DataConversionWarning: A column-vector y was passed when a 1d array was expected. Please change the shape of y to (n_samples, ), for example using ravel().\n",
      "  y = column_or_1d(y, warn=True)\n"
     ]
    },
    {
     "name": "stdout",
     "output_type": "stream",
     "text": [
      "[CV]  max_depth=3, min_samples_leaf=20, min_samples_split=40, n_estimators=15, subsample=0.25, total=   0.5s\n",
      "[CV] max_depth=3, min_samples_leaf=20, min_samples_split=40, n_estimators=15, subsample=0.25 \n"
     ]
    },
    {
     "name": "stderr",
     "output_type": "stream",
     "text": [
      "C:\\ProgramData\\Anaconda3\\lib\\site-packages\\sklearn\\utils\\validation.py:578: DataConversionWarning: A column-vector y was passed when a 1d array was expected. Please change the shape of y to (n_samples, ), for example using ravel().\n",
      "  y = column_or_1d(y, warn=True)\n"
     ]
    },
    {
     "name": "stdout",
     "output_type": "stream",
     "text": [
      "[CV]  max_depth=3, min_samples_leaf=20, min_samples_split=40, n_estimators=15, subsample=0.25, total=   0.5s\n",
      "[CV] max_depth=3, min_samples_leaf=20, min_samples_split=40, n_estimators=15, subsample=0.5 \n"
     ]
    },
    {
     "name": "stderr",
     "output_type": "stream",
     "text": [
      "C:\\ProgramData\\Anaconda3\\lib\\site-packages\\sklearn\\utils\\validation.py:578: DataConversionWarning: A column-vector y was passed when a 1d array was expected. Please change the shape of y to (n_samples, ), for example using ravel().\n",
      "  y = column_or_1d(y, warn=True)\n"
     ]
    },
    {
     "name": "stdout",
     "output_type": "stream",
     "text": [
      "[CV]  max_depth=3, min_samples_leaf=20, min_samples_split=40, n_estimators=15, subsample=0.5, total=   0.8s\n",
      "[CV] max_depth=3, min_samples_leaf=20, min_samples_split=40, n_estimators=15, subsample=0.5 \n"
     ]
    },
    {
     "name": "stderr",
     "output_type": "stream",
     "text": [
      "C:\\ProgramData\\Anaconda3\\lib\\site-packages\\sklearn\\utils\\validation.py:578: DataConversionWarning: A column-vector y was passed when a 1d array was expected. Please change the shape of y to (n_samples, ), for example using ravel().\n",
      "  y = column_or_1d(y, warn=True)\n"
     ]
    },
    {
     "name": "stdout",
     "output_type": "stream",
     "text": [
      "[CV]  max_depth=3, min_samples_leaf=20, min_samples_split=40, n_estimators=15, subsample=0.5, total=   0.8s\n",
      "[CV] max_depth=3, min_samples_leaf=20, min_samples_split=40, n_estimators=15, subsample=0.5 \n"
     ]
    },
    {
     "name": "stderr",
     "output_type": "stream",
     "text": [
      "C:\\ProgramData\\Anaconda3\\lib\\site-packages\\sklearn\\utils\\validation.py:578: DataConversionWarning: A column-vector y was passed when a 1d array was expected. Please change the shape of y to (n_samples, ), for example using ravel().\n",
      "  y = column_or_1d(y, warn=True)\n"
     ]
    },
    {
     "name": "stdout",
     "output_type": "stream",
     "text": [
      "[CV]  max_depth=3, min_samples_leaf=20, min_samples_split=40, n_estimators=15, subsample=0.5, total=   0.8s\n",
      "[CV] max_depth=3, min_samples_leaf=20, min_samples_split=60, n_estimators=10, subsample=0.25 \n"
     ]
    },
    {
     "name": "stderr",
     "output_type": "stream",
     "text": [
      "C:\\ProgramData\\Anaconda3\\lib\\site-packages\\sklearn\\utils\\validation.py:578: DataConversionWarning: A column-vector y was passed when a 1d array was expected. Please change the shape of y to (n_samples, ), for example using ravel().\n",
      "  y = column_or_1d(y, warn=True)\n"
     ]
    },
    {
     "name": "stdout",
     "output_type": "stream",
     "text": [
      "[CV]  max_depth=3, min_samples_leaf=20, min_samples_split=60, n_estimators=10, subsample=0.25, total=   0.3s\n",
      "[CV] max_depth=3, min_samples_leaf=20, min_samples_split=60, n_estimators=10, subsample=0.25 \n"
     ]
    },
    {
     "name": "stderr",
     "output_type": "stream",
     "text": [
      "C:\\ProgramData\\Anaconda3\\lib\\site-packages\\sklearn\\utils\\validation.py:578: DataConversionWarning: A column-vector y was passed when a 1d array was expected. Please change the shape of y to (n_samples, ), for example using ravel().\n",
      "  y = column_or_1d(y, warn=True)\n"
     ]
    },
    {
     "name": "stdout",
     "output_type": "stream",
     "text": [
      "[CV]  max_depth=3, min_samples_leaf=20, min_samples_split=60, n_estimators=10, subsample=0.25, total=   0.3s\n",
      "[CV] max_depth=3, min_samples_leaf=20, min_samples_split=60, n_estimators=10, subsample=0.25 \n"
     ]
    },
    {
     "name": "stderr",
     "output_type": "stream",
     "text": [
      "C:\\ProgramData\\Anaconda3\\lib\\site-packages\\sklearn\\utils\\validation.py:578: DataConversionWarning: A column-vector y was passed when a 1d array was expected. Please change the shape of y to (n_samples, ), for example using ravel().\n",
      "  y = column_or_1d(y, warn=True)\n"
     ]
    },
    {
     "name": "stdout",
     "output_type": "stream",
     "text": [
      "[CV]  max_depth=3, min_samples_leaf=20, min_samples_split=60, n_estimators=10, subsample=0.25, total=   0.3s\n",
      "[CV] max_depth=3, min_samples_leaf=20, min_samples_split=60, n_estimators=10, subsample=0.5 \n"
     ]
    },
    {
     "name": "stderr",
     "output_type": "stream",
     "text": [
      "C:\\ProgramData\\Anaconda3\\lib\\site-packages\\sklearn\\utils\\validation.py:578: DataConversionWarning: A column-vector y was passed when a 1d array was expected. Please change the shape of y to (n_samples, ), for example using ravel().\n",
      "  y = column_or_1d(y, warn=True)\n"
     ]
    },
    {
     "name": "stdout",
     "output_type": "stream",
     "text": [
      "[CV]  max_depth=3, min_samples_leaf=20, min_samples_split=60, n_estimators=10, subsample=0.5, total=   0.5s\n",
      "[CV] max_depth=3, min_samples_leaf=20, min_samples_split=60, n_estimators=10, subsample=0.5 \n"
     ]
    },
    {
     "name": "stderr",
     "output_type": "stream",
     "text": [
      "C:\\ProgramData\\Anaconda3\\lib\\site-packages\\sklearn\\utils\\validation.py:578: DataConversionWarning: A column-vector y was passed when a 1d array was expected. Please change the shape of y to (n_samples, ), for example using ravel().\n",
      "  y = column_or_1d(y, warn=True)\n"
     ]
    },
    {
     "name": "stdout",
     "output_type": "stream",
     "text": [
      "[CV]  max_depth=3, min_samples_leaf=20, min_samples_split=60, n_estimators=10, subsample=0.5, total=   0.5s\n",
      "[CV] max_depth=3, min_samples_leaf=20, min_samples_split=60, n_estimators=10, subsample=0.5 \n"
     ]
    },
    {
     "name": "stderr",
     "output_type": "stream",
     "text": [
      "C:\\ProgramData\\Anaconda3\\lib\\site-packages\\sklearn\\utils\\validation.py:578: DataConversionWarning: A column-vector y was passed when a 1d array was expected. Please change the shape of y to (n_samples, ), for example using ravel().\n",
      "  y = column_or_1d(y, warn=True)\n"
     ]
    },
    {
     "name": "stdout",
     "output_type": "stream",
     "text": [
      "[CV]  max_depth=3, min_samples_leaf=20, min_samples_split=60, n_estimators=10, subsample=0.5, total=   0.5s\n",
      "[CV] max_depth=3, min_samples_leaf=20, min_samples_split=60, n_estimators=15, subsample=0.25 \n"
     ]
    },
    {
     "name": "stderr",
     "output_type": "stream",
     "text": [
      "C:\\ProgramData\\Anaconda3\\lib\\site-packages\\sklearn\\utils\\validation.py:578: DataConversionWarning: A column-vector y was passed when a 1d array was expected. Please change the shape of y to (n_samples, ), for example using ravel().\n",
      "  y = column_or_1d(y, warn=True)\n"
     ]
    },
    {
     "name": "stdout",
     "output_type": "stream",
     "text": [
      "[CV]  max_depth=3, min_samples_leaf=20, min_samples_split=60, n_estimators=15, subsample=0.25, total=   0.5s\n",
      "[CV] max_depth=3, min_samples_leaf=20, min_samples_split=60, n_estimators=15, subsample=0.25 \n"
     ]
    },
    {
     "name": "stderr",
     "output_type": "stream",
     "text": [
      "C:\\ProgramData\\Anaconda3\\lib\\site-packages\\sklearn\\utils\\validation.py:578: DataConversionWarning: A column-vector y was passed when a 1d array was expected. Please change the shape of y to (n_samples, ), for example using ravel().\n",
      "  y = column_or_1d(y, warn=True)\n"
     ]
    },
    {
     "name": "stdout",
     "output_type": "stream",
     "text": [
      "[CV]  max_depth=3, min_samples_leaf=20, min_samples_split=60, n_estimators=15, subsample=0.25, total=   0.5s\n",
      "[CV] max_depth=3, min_samples_leaf=20, min_samples_split=60, n_estimators=15, subsample=0.25 \n"
     ]
    },
    {
     "name": "stderr",
     "output_type": "stream",
     "text": [
      "C:\\ProgramData\\Anaconda3\\lib\\site-packages\\sklearn\\utils\\validation.py:578: DataConversionWarning: A column-vector y was passed when a 1d array was expected. Please change the shape of y to (n_samples, ), for example using ravel().\n",
      "  y = column_or_1d(y, warn=True)\n"
     ]
    },
    {
     "name": "stdout",
     "output_type": "stream",
     "text": [
      "[CV]  max_depth=3, min_samples_leaf=20, min_samples_split=60, n_estimators=15, subsample=0.25, total=   0.5s\n",
      "[CV] max_depth=3, min_samples_leaf=20, min_samples_split=60, n_estimators=15, subsample=0.5 \n"
     ]
    },
    {
     "name": "stderr",
     "output_type": "stream",
     "text": [
      "C:\\ProgramData\\Anaconda3\\lib\\site-packages\\sklearn\\utils\\validation.py:578: DataConversionWarning: A column-vector y was passed when a 1d array was expected. Please change the shape of y to (n_samples, ), for example using ravel().\n",
      "  y = column_or_1d(y, warn=True)\n"
     ]
    },
    {
     "name": "stdout",
     "output_type": "stream",
     "text": [
      "[CV]  max_depth=3, min_samples_leaf=20, min_samples_split=60, n_estimators=15, subsample=0.5, total=   0.8s\n",
      "[CV] max_depth=3, min_samples_leaf=20, min_samples_split=60, n_estimators=15, subsample=0.5 \n"
     ]
    },
    {
     "name": "stderr",
     "output_type": "stream",
     "text": [
      "C:\\ProgramData\\Anaconda3\\lib\\site-packages\\sklearn\\utils\\validation.py:578: DataConversionWarning: A column-vector y was passed when a 1d array was expected. Please change the shape of y to (n_samples, ), for example using ravel().\n",
      "  y = column_or_1d(y, warn=True)\n"
     ]
    },
    {
     "name": "stdout",
     "output_type": "stream",
     "text": [
      "[CV]  max_depth=3, min_samples_leaf=20, min_samples_split=60, n_estimators=15, subsample=0.5, total=   0.7s\n",
      "[CV] max_depth=3, min_samples_leaf=20, min_samples_split=60, n_estimators=15, subsample=0.5 \n"
     ]
    },
    {
     "name": "stderr",
     "output_type": "stream",
     "text": [
      "C:\\ProgramData\\Anaconda3\\lib\\site-packages\\sklearn\\utils\\validation.py:578: DataConversionWarning: A column-vector y was passed when a 1d array was expected. Please change the shape of y to (n_samples, ), for example using ravel().\n",
      "  y = column_or_1d(y, warn=True)\n"
     ]
    },
    {
     "name": "stdout",
     "output_type": "stream",
     "text": [
      "[CV]  max_depth=3, min_samples_leaf=20, min_samples_split=60, n_estimators=15, subsample=0.5, total=   0.7s\n",
      "[CV] max_depth=3, min_samples_leaf=40, min_samples_split=40, n_estimators=10, subsample=0.25 \n"
     ]
    },
    {
     "name": "stderr",
     "output_type": "stream",
     "text": [
      "C:\\ProgramData\\Anaconda3\\lib\\site-packages\\sklearn\\utils\\validation.py:578: DataConversionWarning: A column-vector y was passed when a 1d array was expected. Please change the shape of y to (n_samples, ), for example using ravel().\n",
      "  y = column_or_1d(y, warn=True)\n"
     ]
    },
    {
     "name": "stdout",
     "output_type": "stream",
     "text": [
      "[CV]  max_depth=3, min_samples_leaf=40, min_samples_split=40, n_estimators=10, subsample=0.25, total=   0.3s\n",
      "[CV] max_depth=3, min_samples_leaf=40, min_samples_split=40, n_estimators=10, subsample=0.25 \n"
     ]
    },
    {
     "name": "stderr",
     "output_type": "stream",
     "text": [
      "C:\\ProgramData\\Anaconda3\\lib\\site-packages\\sklearn\\utils\\validation.py:578: DataConversionWarning: A column-vector y was passed when a 1d array was expected. Please change the shape of y to (n_samples, ), for example using ravel().\n",
      "  y = column_or_1d(y, warn=True)\n"
     ]
    },
    {
     "name": "stdout",
     "output_type": "stream",
     "text": [
      "[CV]  max_depth=3, min_samples_leaf=40, min_samples_split=40, n_estimators=10, subsample=0.25, total=   0.3s\n",
      "[CV] max_depth=3, min_samples_leaf=40, min_samples_split=40, n_estimators=10, subsample=0.25 \n"
     ]
    },
    {
     "name": "stderr",
     "output_type": "stream",
     "text": [
      "C:\\ProgramData\\Anaconda3\\lib\\site-packages\\sklearn\\utils\\validation.py:578: DataConversionWarning: A column-vector y was passed when a 1d array was expected. Please change the shape of y to (n_samples, ), for example using ravel().\n",
      "  y = column_or_1d(y, warn=True)\n"
     ]
    },
    {
     "name": "stdout",
     "output_type": "stream",
     "text": [
      "[CV]  max_depth=3, min_samples_leaf=40, min_samples_split=40, n_estimators=10, subsample=0.25, total=   0.3s\n",
      "[CV] max_depth=3, min_samples_leaf=40, min_samples_split=40, n_estimators=10, subsample=0.5 \n"
     ]
    },
    {
     "name": "stderr",
     "output_type": "stream",
     "text": [
      "C:\\ProgramData\\Anaconda3\\lib\\site-packages\\sklearn\\utils\\validation.py:578: DataConversionWarning: A column-vector y was passed when a 1d array was expected. Please change the shape of y to (n_samples, ), for example using ravel().\n",
      "  y = column_or_1d(y, warn=True)\n"
     ]
    },
    {
     "name": "stdout",
     "output_type": "stream",
     "text": [
      "[CV]  max_depth=3, min_samples_leaf=40, min_samples_split=40, n_estimators=10, subsample=0.5, total=   0.5s\n",
      "[CV] max_depth=3, min_samples_leaf=40, min_samples_split=40, n_estimators=10, subsample=0.5 \n"
     ]
    },
    {
     "name": "stderr",
     "output_type": "stream",
     "text": [
      "C:\\ProgramData\\Anaconda3\\lib\\site-packages\\sklearn\\utils\\validation.py:578: DataConversionWarning: A column-vector y was passed when a 1d array was expected. Please change the shape of y to (n_samples, ), for example using ravel().\n",
      "  y = column_or_1d(y, warn=True)\n"
     ]
    },
    {
     "name": "stdout",
     "output_type": "stream",
     "text": [
      "[CV]  max_depth=3, min_samples_leaf=40, min_samples_split=40, n_estimators=10, subsample=0.5, total=   0.5s\n",
      "[CV] max_depth=3, min_samples_leaf=40, min_samples_split=40, n_estimators=10, subsample=0.5 \n"
     ]
    },
    {
     "name": "stderr",
     "output_type": "stream",
     "text": [
      "C:\\ProgramData\\Anaconda3\\lib\\site-packages\\sklearn\\utils\\validation.py:578: DataConversionWarning: A column-vector y was passed when a 1d array was expected. Please change the shape of y to (n_samples, ), for example using ravel().\n",
      "  y = column_or_1d(y, warn=True)\n"
     ]
    },
    {
     "name": "stdout",
     "output_type": "stream",
     "text": [
      "[CV]  max_depth=3, min_samples_leaf=40, min_samples_split=40, n_estimators=10, subsample=0.5, total=   0.5s\n",
      "[CV] max_depth=3, min_samples_leaf=40, min_samples_split=40, n_estimators=15, subsample=0.25 \n"
     ]
    },
    {
     "name": "stderr",
     "output_type": "stream",
     "text": [
      "C:\\ProgramData\\Anaconda3\\lib\\site-packages\\sklearn\\utils\\validation.py:578: DataConversionWarning: A column-vector y was passed when a 1d array was expected. Please change the shape of y to (n_samples, ), for example using ravel().\n",
      "  y = column_or_1d(y, warn=True)\n"
     ]
    },
    {
     "name": "stdout",
     "output_type": "stream",
     "text": [
      "[CV]  max_depth=3, min_samples_leaf=40, min_samples_split=40, n_estimators=15, subsample=0.25, total=   0.5s\n",
      "[CV] max_depth=3, min_samples_leaf=40, min_samples_split=40, n_estimators=15, subsample=0.25 \n"
     ]
    },
    {
     "name": "stderr",
     "output_type": "stream",
     "text": [
      "C:\\ProgramData\\Anaconda3\\lib\\site-packages\\sklearn\\utils\\validation.py:578: DataConversionWarning: A column-vector y was passed when a 1d array was expected. Please change the shape of y to (n_samples, ), for example using ravel().\n",
      "  y = column_or_1d(y, warn=True)\n"
     ]
    },
    {
     "name": "stdout",
     "output_type": "stream",
     "text": [
      "[CV]  max_depth=3, min_samples_leaf=40, min_samples_split=40, n_estimators=15, subsample=0.25, total=   0.5s\n",
      "[CV] max_depth=3, min_samples_leaf=40, min_samples_split=40, n_estimators=15, subsample=0.25 \n"
     ]
    },
    {
     "name": "stderr",
     "output_type": "stream",
     "text": [
      "C:\\ProgramData\\Anaconda3\\lib\\site-packages\\sklearn\\utils\\validation.py:578: DataConversionWarning: A column-vector y was passed when a 1d array was expected. Please change the shape of y to (n_samples, ), for example using ravel().\n",
      "  y = column_or_1d(y, warn=True)\n"
     ]
    },
    {
     "name": "stdout",
     "output_type": "stream",
     "text": [
      "[CV]  max_depth=3, min_samples_leaf=40, min_samples_split=40, n_estimators=15, subsample=0.25, total=   0.5s\n",
      "[CV] max_depth=3, min_samples_leaf=40, min_samples_split=40, n_estimators=15, subsample=0.5 \n"
     ]
    },
    {
     "name": "stderr",
     "output_type": "stream",
     "text": [
      "C:\\ProgramData\\Anaconda3\\lib\\site-packages\\sklearn\\utils\\validation.py:578: DataConversionWarning: A column-vector y was passed when a 1d array was expected. Please change the shape of y to (n_samples, ), for example using ravel().\n",
      "  y = column_or_1d(y, warn=True)\n"
     ]
    },
    {
     "name": "stdout",
     "output_type": "stream",
     "text": [
      "[CV]  max_depth=3, min_samples_leaf=40, min_samples_split=40, n_estimators=15, subsample=0.5, total=   0.7s\n",
      "[CV] max_depth=3, min_samples_leaf=40, min_samples_split=40, n_estimators=15, subsample=0.5 \n"
     ]
    },
    {
     "name": "stderr",
     "output_type": "stream",
     "text": [
      "C:\\ProgramData\\Anaconda3\\lib\\site-packages\\sklearn\\utils\\validation.py:578: DataConversionWarning: A column-vector y was passed when a 1d array was expected. Please change the shape of y to (n_samples, ), for example using ravel().\n",
      "  y = column_or_1d(y, warn=True)\n"
     ]
    },
    {
     "name": "stdout",
     "output_type": "stream",
     "text": [
      "[CV]  max_depth=3, min_samples_leaf=40, min_samples_split=40, n_estimators=15, subsample=0.5, total=   0.7s\n",
      "[CV] max_depth=3, min_samples_leaf=40, min_samples_split=40, n_estimators=15, subsample=0.5 \n"
     ]
    },
    {
     "name": "stderr",
     "output_type": "stream",
     "text": [
      "C:\\ProgramData\\Anaconda3\\lib\\site-packages\\sklearn\\utils\\validation.py:578: DataConversionWarning: A column-vector y was passed when a 1d array was expected. Please change the shape of y to (n_samples, ), for example using ravel().\n",
      "  y = column_or_1d(y, warn=True)\n"
     ]
    },
    {
     "name": "stdout",
     "output_type": "stream",
     "text": [
      "[CV]  max_depth=3, min_samples_leaf=40, min_samples_split=40, n_estimators=15, subsample=0.5, total=   0.7s\n",
      "[CV] max_depth=3, min_samples_leaf=40, min_samples_split=60, n_estimators=10, subsample=0.25 \n"
     ]
    },
    {
     "name": "stderr",
     "output_type": "stream",
     "text": [
      "C:\\ProgramData\\Anaconda3\\lib\\site-packages\\sklearn\\utils\\validation.py:578: DataConversionWarning: A column-vector y was passed when a 1d array was expected. Please change the shape of y to (n_samples, ), for example using ravel().\n",
      "  y = column_or_1d(y, warn=True)\n"
     ]
    },
    {
     "name": "stdout",
     "output_type": "stream",
     "text": [
      "[CV]  max_depth=3, min_samples_leaf=40, min_samples_split=60, n_estimators=10, subsample=0.25, total=   0.3s\n",
      "[CV] max_depth=3, min_samples_leaf=40, min_samples_split=60, n_estimators=10, subsample=0.25 \n"
     ]
    },
    {
     "name": "stderr",
     "output_type": "stream",
     "text": [
      "C:\\ProgramData\\Anaconda3\\lib\\site-packages\\sklearn\\utils\\validation.py:578: DataConversionWarning: A column-vector y was passed when a 1d array was expected. Please change the shape of y to (n_samples, ), for example using ravel().\n",
      "  y = column_or_1d(y, warn=True)\n"
     ]
    },
    {
     "name": "stdout",
     "output_type": "stream",
     "text": [
      "[CV]  max_depth=3, min_samples_leaf=40, min_samples_split=60, n_estimators=10, subsample=0.25, total=   0.3s\n",
      "[CV] max_depth=3, min_samples_leaf=40, min_samples_split=60, n_estimators=10, subsample=0.25 \n"
     ]
    },
    {
     "name": "stderr",
     "output_type": "stream",
     "text": [
      "C:\\ProgramData\\Anaconda3\\lib\\site-packages\\sklearn\\utils\\validation.py:578: DataConversionWarning: A column-vector y was passed when a 1d array was expected. Please change the shape of y to (n_samples, ), for example using ravel().\n",
      "  y = column_or_1d(y, warn=True)\n"
     ]
    },
    {
     "name": "stdout",
     "output_type": "stream",
     "text": [
      "[CV]  max_depth=3, min_samples_leaf=40, min_samples_split=60, n_estimators=10, subsample=0.25, total=   0.3s\n",
      "[CV] max_depth=3, min_samples_leaf=40, min_samples_split=60, n_estimators=10, subsample=0.5 \n"
     ]
    },
    {
     "name": "stderr",
     "output_type": "stream",
     "text": [
      "C:\\ProgramData\\Anaconda3\\lib\\site-packages\\sklearn\\utils\\validation.py:578: DataConversionWarning: A column-vector y was passed when a 1d array was expected. Please change the shape of y to (n_samples, ), for example using ravel().\n",
      "  y = column_or_1d(y, warn=True)\n"
     ]
    },
    {
     "name": "stdout",
     "output_type": "stream",
     "text": [
      "[CV]  max_depth=3, min_samples_leaf=40, min_samples_split=60, n_estimators=10, subsample=0.5, total=   0.5s\n",
      "[CV] max_depth=3, min_samples_leaf=40, min_samples_split=60, n_estimators=10, subsample=0.5 \n"
     ]
    },
    {
     "name": "stderr",
     "output_type": "stream",
     "text": [
      "C:\\ProgramData\\Anaconda3\\lib\\site-packages\\sklearn\\utils\\validation.py:578: DataConversionWarning: A column-vector y was passed when a 1d array was expected. Please change the shape of y to (n_samples, ), for example using ravel().\n",
      "  y = column_or_1d(y, warn=True)\n"
     ]
    },
    {
     "name": "stdout",
     "output_type": "stream",
     "text": [
      "[CV]  max_depth=3, min_samples_leaf=40, min_samples_split=60, n_estimators=10, subsample=0.5, total=   0.5s\n",
      "[CV] max_depth=3, min_samples_leaf=40, min_samples_split=60, n_estimators=10, subsample=0.5 \n"
     ]
    },
    {
     "name": "stderr",
     "output_type": "stream",
     "text": [
      "C:\\ProgramData\\Anaconda3\\lib\\site-packages\\sklearn\\utils\\validation.py:578: DataConversionWarning: A column-vector y was passed when a 1d array was expected. Please change the shape of y to (n_samples, ), for example using ravel().\n",
      "  y = column_or_1d(y, warn=True)\n"
     ]
    },
    {
     "name": "stdout",
     "output_type": "stream",
     "text": [
      "[CV]  max_depth=3, min_samples_leaf=40, min_samples_split=60, n_estimators=10, subsample=0.5, total=   0.5s\n",
      "[CV] max_depth=3, min_samples_leaf=40, min_samples_split=60, n_estimators=15, subsample=0.25 \n"
     ]
    },
    {
     "name": "stderr",
     "output_type": "stream",
     "text": [
      "C:\\ProgramData\\Anaconda3\\lib\\site-packages\\sklearn\\utils\\validation.py:578: DataConversionWarning: A column-vector y was passed when a 1d array was expected. Please change the shape of y to (n_samples, ), for example using ravel().\n",
      "  y = column_or_1d(y, warn=True)\n"
     ]
    },
    {
     "name": "stdout",
     "output_type": "stream",
     "text": [
      "[CV]  max_depth=3, min_samples_leaf=40, min_samples_split=60, n_estimators=15, subsample=0.25, total=   0.5s\n",
      "[CV] max_depth=3, min_samples_leaf=40, min_samples_split=60, n_estimators=15, subsample=0.25 \n"
     ]
    },
    {
     "name": "stderr",
     "output_type": "stream",
     "text": [
      "C:\\ProgramData\\Anaconda3\\lib\\site-packages\\sklearn\\utils\\validation.py:578: DataConversionWarning: A column-vector y was passed when a 1d array was expected. Please change the shape of y to (n_samples, ), for example using ravel().\n",
      "  y = column_or_1d(y, warn=True)\n"
     ]
    },
    {
     "name": "stdout",
     "output_type": "stream",
     "text": [
      "[CV]  max_depth=3, min_samples_leaf=40, min_samples_split=60, n_estimators=15, subsample=0.25, total=   0.5s\n",
      "[CV] max_depth=3, min_samples_leaf=40, min_samples_split=60, n_estimators=15, subsample=0.25 \n"
     ]
    },
    {
     "name": "stderr",
     "output_type": "stream",
     "text": [
      "C:\\ProgramData\\Anaconda3\\lib\\site-packages\\sklearn\\utils\\validation.py:578: DataConversionWarning: A column-vector y was passed when a 1d array was expected. Please change the shape of y to (n_samples, ), for example using ravel().\n",
      "  y = column_or_1d(y, warn=True)\n"
     ]
    },
    {
     "name": "stdout",
     "output_type": "stream",
     "text": [
      "[CV]  max_depth=3, min_samples_leaf=40, min_samples_split=60, n_estimators=15, subsample=0.25, total=   0.5s\n",
      "[CV] max_depth=3, min_samples_leaf=40, min_samples_split=60, n_estimators=15, subsample=0.5 \n"
     ]
    },
    {
     "name": "stderr",
     "output_type": "stream",
     "text": [
      "C:\\ProgramData\\Anaconda3\\lib\\site-packages\\sklearn\\utils\\validation.py:578: DataConversionWarning: A column-vector y was passed when a 1d array was expected. Please change the shape of y to (n_samples, ), for example using ravel().\n",
      "  y = column_or_1d(y, warn=True)\n"
     ]
    },
    {
     "name": "stdout",
     "output_type": "stream",
     "text": [
      "[CV]  max_depth=3, min_samples_leaf=40, min_samples_split=60, n_estimators=15, subsample=0.5, total=   0.8s\n",
      "[CV] max_depth=3, min_samples_leaf=40, min_samples_split=60, n_estimators=15, subsample=0.5 \n"
     ]
    },
    {
     "name": "stderr",
     "output_type": "stream",
     "text": [
      "C:\\ProgramData\\Anaconda3\\lib\\site-packages\\sklearn\\utils\\validation.py:578: DataConversionWarning: A column-vector y was passed when a 1d array was expected. Please change the shape of y to (n_samples, ), for example using ravel().\n",
      "  y = column_or_1d(y, warn=True)\n"
     ]
    },
    {
     "name": "stdout",
     "output_type": "stream",
     "text": [
      "[CV]  max_depth=3, min_samples_leaf=40, min_samples_split=60, n_estimators=15, subsample=0.5, total=   0.7s\n",
      "[CV] max_depth=3, min_samples_leaf=40, min_samples_split=60, n_estimators=15, subsample=0.5 \n"
     ]
    },
    {
     "name": "stderr",
     "output_type": "stream",
     "text": [
      "C:\\ProgramData\\Anaconda3\\lib\\site-packages\\sklearn\\utils\\validation.py:578: DataConversionWarning: A column-vector y was passed when a 1d array was expected. Please change the shape of y to (n_samples, ), for example using ravel().\n",
      "  y = column_or_1d(y, warn=True)\n"
     ]
    },
    {
     "name": "stdout",
     "output_type": "stream",
     "text": [
      "[CV]  max_depth=3, min_samples_leaf=40, min_samples_split=60, n_estimators=15, subsample=0.5, total=   0.7s\n",
      "[CV] max_depth=4, min_samples_leaf=20, min_samples_split=40, n_estimators=10, subsample=0.25 \n"
     ]
    },
    {
     "name": "stderr",
     "output_type": "stream",
     "text": [
      "C:\\ProgramData\\Anaconda3\\lib\\site-packages\\sklearn\\utils\\validation.py:578: DataConversionWarning: A column-vector y was passed when a 1d array was expected. Please change the shape of y to (n_samples, ), for example using ravel().\n",
      "  y = column_or_1d(y, warn=True)\n"
     ]
    },
    {
     "name": "stdout",
     "output_type": "stream",
     "text": [
      "[CV]  max_depth=4, min_samples_leaf=20, min_samples_split=40, n_estimators=10, subsample=0.25, total=   0.4s\n",
      "[CV] max_depth=4, min_samples_leaf=20, min_samples_split=40, n_estimators=10, subsample=0.25 \n"
     ]
    },
    {
     "name": "stderr",
     "output_type": "stream",
     "text": [
      "C:\\ProgramData\\Anaconda3\\lib\\site-packages\\sklearn\\utils\\validation.py:578: DataConversionWarning: A column-vector y was passed when a 1d array was expected. Please change the shape of y to (n_samples, ), for example using ravel().\n",
      "  y = column_or_1d(y, warn=True)\n"
     ]
    },
    {
     "name": "stdout",
     "output_type": "stream",
     "text": [
      "[CV]  max_depth=4, min_samples_leaf=20, min_samples_split=40, n_estimators=10, subsample=0.25, total=   0.4s\n",
      "[CV] max_depth=4, min_samples_leaf=20, min_samples_split=40, n_estimators=10, subsample=0.25 \n"
     ]
    },
    {
     "name": "stderr",
     "output_type": "stream",
     "text": [
      "C:\\ProgramData\\Anaconda3\\lib\\site-packages\\sklearn\\utils\\validation.py:578: DataConversionWarning: A column-vector y was passed when a 1d array was expected. Please change the shape of y to (n_samples, ), for example using ravel().\n",
      "  y = column_or_1d(y, warn=True)\n"
     ]
    },
    {
     "name": "stdout",
     "output_type": "stream",
     "text": [
      "[CV]  max_depth=4, min_samples_leaf=20, min_samples_split=40, n_estimators=10, subsample=0.25, total=   0.4s\n",
      "[CV] max_depth=4, min_samples_leaf=20, min_samples_split=40, n_estimators=10, subsample=0.5 \n"
     ]
    },
    {
     "name": "stderr",
     "output_type": "stream",
     "text": [
      "C:\\ProgramData\\Anaconda3\\lib\\site-packages\\sklearn\\utils\\validation.py:578: DataConversionWarning: A column-vector y was passed when a 1d array was expected. Please change the shape of y to (n_samples, ), for example using ravel().\n",
      "  y = column_or_1d(y, warn=True)\n"
     ]
    },
    {
     "name": "stdout",
     "output_type": "stream",
     "text": [
      "[CV]  max_depth=4, min_samples_leaf=20, min_samples_split=40, n_estimators=10, subsample=0.5, total=   0.6s\n",
      "[CV] max_depth=4, min_samples_leaf=20, min_samples_split=40, n_estimators=10, subsample=0.5 \n"
     ]
    },
    {
     "name": "stderr",
     "output_type": "stream",
     "text": [
      "C:\\ProgramData\\Anaconda3\\lib\\site-packages\\sklearn\\utils\\validation.py:578: DataConversionWarning: A column-vector y was passed when a 1d array was expected. Please change the shape of y to (n_samples, ), for example using ravel().\n",
      "  y = column_or_1d(y, warn=True)\n"
     ]
    },
    {
     "name": "stdout",
     "output_type": "stream",
     "text": [
      "[CV]  max_depth=4, min_samples_leaf=20, min_samples_split=40, n_estimators=10, subsample=0.5, total=   0.6s\n",
      "[CV] max_depth=4, min_samples_leaf=20, min_samples_split=40, n_estimators=10, subsample=0.5 \n"
     ]
    },
    {
     "name": "stderr",
     "output_type": "stream",
     "text": [
      "C:\\ProgramData\\Anaconda3\\lib\\site-packages\\sklearn\\utils\\validation.py:578: DataConversionWarning: A column-vector y was passed when a 1d array was expected. Please change the shape of y to (n_samples, ), for example using ravel().\n",
      "  y = column_or_1d(y, warn=True)\n"
     ]
    },
    {
     "name": "stdout",
     "output_type": "stream",
     "text": [
      "[CV]  max_depth=4, min_samples_leaf=20, min_samples_split=40, n_estimators=10, subsample=0.5, total=   0.6s\n",
      "[CV] max_depth=4, min_samples_leaf=20, min_samples_split=40, n_estimators=15, subsample=0.25 \n"
     ]
    },
    {
     "name": "stderr",
     "output_type": "stream",
     "text": [
      "C:\\ProgramData\\Anaconda3\\lib\\site-packages\\sklearn\\utils\\validation.py:578: DataConversionWarning: A column-vector y was passed when a 1d array was expected. Please change the shape of y to (n_samples, ), for example using ravel().\n",
      "  y = column_or_1d(y, warn=True)\n"
     ]
    },
    {
     "name": "stdout",
     "output_type": "stream",
     "text": [
      "[CV]  max_depth=4, min_samples_leaf=20, min_samples_split=40, n_estimators=15, subsample=0.25, total=   0.6s\n",
      "[CV] max_depth=4, min_samples_leaf=20, min_samples_split=40, n_estimators=15, subsample=0.25 \n"
     ]
    },
    {
     "name": "stderr",
     "output_type": "stream",
     "text": [
      "C:\\ProgramData\\Anaconda3\\lib\\site-packages\\sklearn\\utils\\validation.py:578: DataConversionWarning: A column-vector y was passed when a 1d array was expected. Please change the shape of y to (n_samples, ), for example using ravel().\n",
      "  y = column_or_1d(y, warn=True)\n"
     ]
    },
    {
     "name": "stdout",
     "output_type": "stream",
     "text": [
      "[CV]  max_depth=4, min_samples_leaf=20, min_samples_split=40, n_estimators=15, subsample=0.25, total=   0.6s\n",
      "[CV] max_depth=4, min_samples_leaf=20, min_samples_split=40, n_estimators=15, subsample=0.25 \n"
     ]
    },
    {
     "name": "stderr",
     "output_type": "stream",
     "text": [
      "C:\\ProgramData\\Anaconda3\\lib\\site-packages\\sklearn\\utils\\validation.py:578: DataConversionWarning: A column-vector y was passed when a 1d array was expected. Please change the shape of y to (n_samples, ), for example using ravel().\n",
      "  y = column_or_1d(y, warn=True)\n"
     ]
    },
    {
     "name": "stdout",
     "output_type": "stream",
     "text": [
      "[CV]  max_depth=4, min_samples_leaf=20, min_samples_split=40, n_estimators=15, subsample=0.25, total=   0.6s\n",
      "[CV] max_depth=4, min_samples_leaf=20, min_samples_split=40, n_estimators=15, subsample=0.5 \n"
     ]
    },
    {
     "name": "stderr",
     "output_type": "stream",
     "text": [
      "C:\\ProgramData\\Anaconda3\\lib\\site-packages\\sklearn\\utils\\validation.py:578: DataConversionWarning: A column-vector y was passed when a 1d array was expected. Please change the shape of y to (n_samples, ), for example using ravel().\n",
      "  y = column_or_1d(y, warn=True)\n"
     ]
    },
    {
     "name": "stdout",
     "output_type": "stream",
     "text": [
      "[CV]  max_depth=4, min_samples_leaf=20, min_samples_split=40, n_estimators=15, subsample=0.5, total=   1.0s\n",
      "[CV] max_depth=4, min_samples_leaf=20, min_samples_split=40, n_estimators=15, subsample=0.5 \n"
     ]
    },
    {
     "name": "stderr",
     "output_type": "stream",
     "text": [
      "C:\\ProgramData\\Anaconda3\\lib\\site-packages\\sklearn\\utils\\validation.py:578: DataConversionWarning: A column-vector y was passed when a 1d array was expected. Please change the shape of y to (n_samples, ), for example using ravel().\n",
      "  y = column_or_1d(y, warn=True)\n"
     ]
    },
    {
     "name": "stdout",
     "output_type": "stream",
     "text": [
      "[CV]  max_depth=4, min_samples_leaf=20, min_samples_split=40, n_estimators=15, subsample=0.5, total=   1.0s\n",
      "[CV] max_depth=4, min_samples_leaf=20, min_samples_split=40, n_estimators=15, subsample=0.5 \n"
     ]
    },
    {
     "name": "stderr",
     "output_type": "stream",
     "text": [
      "C:\\ProgramData\\Anaconda3\\lib\\site-packages\\sklearn\\utils\\validation.py:578: DataConversionWarning: A column-vector y was passed when a 1d array was expected. Please change the shape of y to (n_samples, ), for example using ravel().\n",
      "  y = column_or_1d(y, warn=True)\n"
     ]
    },
    {
     "name": "stdout",
     "output_type": "stream",
     "text": [
      "[CV]  max_depth=4, min_samples_leaf=20, min_samples_split=40, n_estimators=15, subsample=0.5, total=   0.9s\n",
      "[CV] max_depth=4, min_samples_leaf=20, min_samples_split=60, n_estimators=10, subsample=0.25 \n"
     ]
    },
    {
     "name": "stderr",
     "output_type": "stream",
     "text": [
      "C:\\ProgramData\\Anaconda3\\lib\\site-packages\\sklearn\\utils\\validation.py:578: DataConversionWarning: A column-vector y was passed when a 1d array was expected. Please change the shape of y to (n_samples, ), for example using ravel().\n",
      "  y = column_or_1d(y, warn=True)\n"
     ]
    },
    {
     "name": "stdout",
     "output_type": "stream",
     "text": [
      "[CV]  max_depth=4, min_samples_leaf=20, min_samples_split=60, n_estimators=10, subsample=0.25, total=   0.4s\n",
      "[CV] max_depth=4, min_samples_leaf=20, min_samples_split=60, n_estimators=10, subsample=0.25 \n"
     ]
    },
    {
     "name": "stderr",
     "output_type": "stream",
     "text": [
      "C:\\ProgramData\\Anaconda3\\lib\\site-packages\\sklearn\\utils\\validation.py:578: DataConversionWarning: A column-vector y was passed when a 1d array was expected. Please change the shape of y to (n_samples, ), for example using ravel().\n",
      "  y = column_or_1d(y, warn=True)\n"
     ]
    },
    {
     "name": "stdout",
     "output_type": "stream",
     "text": [
      "[CV]  max_depth=4, min_samples_leaf=20, min_samples_split=60, n_estimators=10, subsample=0.25, total=   0.4s\n",
      "[CV] max_depth=4, min_samples_leaf=20, min_samples_split=60, n_estimators=10, subsample=0.25 \n"
     ]
    },
    {
     "name": "stderr",
     "output_type": "stream",
     "text": [
      "C:\\ProgramData\\Anaconda3\\lib\\site-packages\\sklearn\\utils\\validation.py:578: DataConversionWarning: A column-vector y was passed when a 1d array was expected. Please change the shape of y to (n_samples, ), for example using ravel().\n",
      "  y = column_or_1d(y, warn=True)\n"
     ]
    },
    {
     "name": "stdout",
     "output_type": "stream",
     "text": [
      "[CV]  max_depth=4, min_samples_leaf=20, min_samples_split=60, n_estimators=10, subsample=0.25, total=   0.4s\n",
      "[CV] max_depth=4, min_samples_leaf=20, min_samples_split=60, n_estimators=10, subsample=0.5 \n"
     ]
    },
    {
     "name": "stderr",
     "output_type": "stream",
     "text": [
      "C:\\ProgramData\\Anaconda3\\lib\\site-packages\\sklearn\\utils\\validation.py:578: DataConversionWarning: A column-vector y was passed when a 1d array was expected. Please change the shape of y to (n_samples, ), for example using ravel().\n",
      "  y = column_or_1d(y, warn=True)\n"
     ]
    },
    {
     "name": "stdout",
     "output_type": "stream",
     "text": [
      "[CV]  max_depth=4, min_samples_leaf=20, min_samples_split=60, n_estimators=10, subsample=0.5, total=   0.7s\n",
      "[CV] max_depth=4, min_samples_leaf=20, min_samples_split=60, n_estimators=10, subsample=0.5 \n"
     ]
    },
    {
     "name": "stderr",
     "output_type": "stream",
     "text": [
      "C:\\ProgramData\\Anaconda3\\lib\\site-packages\\sklearn\\utils\\validation.py:578: DataConversionWarning: A column-vector y was passed when a 1d array was expected. Please change the shape of y to (n_samples, ), for example using ravel().\n",
      "  y = column_or_1d(y, warn=True)\n"
     ]
    },
    {
     "name": "stdout",
     "output_type": "stream",
     "text": [
      "[CV]  max_depth=4, min_samples_leaf=20, min_samples_split=60, n_estimators=10, subsample=0.5, total=   0.8s\n",
      "[CV] max_depth=4, min_samples_leaf=20, min_samples_split=60, n_estimators=10, subsample=0.5 \n"
     ]
    },
    {
     "name": "stderr",
     "output_type": "stream",
     "text": [
      "C:\\ProgramData\\Anaconda3\\lib\\site-packages\\sklearn\\utils\\validation.py:578: DataConversionWarning: A column-vector y was passed when a 1d array was expected. Please change the shape of y to (n_samples, ), for example using ravel().\n",
      "  y = column_or_1d(y, warn=True)\n"
     ]
    },
    {
     "name": "stdout",
     "output_type": "stream",
     "text": [
      "[CV]  max_depth=4, min_samples_leaf=20, min_samples_split=60, n_estimators=10, subsample=0.5, total=   0.7s\n",
      "[CV] max_depth=4, min_samples_leaf=20, min_samples_split=60, n_estimators=15, subsample=0.25 \n"
     ]
    },
    {
     "name": "stderr",
     "output_type": "stream",
     "text": [
      "C:\\ProgramData\\Anaconda3\\lib\\site-packages\\sklearn\\utils\\validation.py:578: DataConversionWarning: A column-vector y was passed when a 1d array was expected. Please change the shape of y to (n_samples, ), for example using ravel().\n",
      "  y = column_or_1d(y, warn=True)\n"
     ]
    },
    {
     "name": "stdout",
     "output_type": "stream",
     "text": [
      "[CV]  max_depth=4, min_samples_leaf=20, min_samples_split=60, n_estimators=15, subsample=0.25, total=   0.8s\n",
      "[CV] max_depth=4, min_samples_leaf=20, min_samples_split=60, n_estimators=15, subsample=0.25 \n"
     ]
    },
    {
     "name": "stderr",
     "output_type": "stream",
     "text": [
      "C:\\ProgramData\\Anaconda3\\lib\\site-packages\\sklearn\\utils\\validation.py:578: DataConversionWarning: A column-vector y was passed when a 1d array was expected. Please change the shape of y to (n_samples, ), for example using ravel().\n",
      "  y = column_or_1d(y, warn=True)\n"
     ]
    },
    {
     "name": "stdout",
     "output_type": "stream",
     "text": [
      "[CV]  max_depth=4, min_samples_leaf=20, min_samples_split=60, n_estimators=15, subsample=0.25, total=   0.7s\n",
      "[CV] max_depth=4, min_samples_leaf=20, min_samples_split=60, n_estimators=15, subsample=0.25 \n"
     ]
    },
    {
     "name": "stderr",
     "output_type": "stream",
     "text": [
      "C:\\ProgramData\\Anaconda3\\lib\\site-packages\\sklearn\\utils\\validation.py:578: DataConversionWarning: A column-vector y was passed when a 1d array was expected. Please change the shape of y to (n_samples, ), for example using ravel().\n",
      "  y = column_or_1d(y, warn=True)\n"
     ]
    },
    {
     "name": "stdout",
     "output_type": "stream",
     "text": [
      "[CV]  max_depth=4, min_samples_leaf=20, min_samples_split=60, n_estimators=15, subsample=0.25, total=   0.7s\n",
      "[CV] max_depth=4, min_samples_leaf=20, min_samples_split=60, n_estimators=15, subsample=0.5 \n"
     ]
    },
    {
     "name": "stderr",
     "output_type": "stream",
     "text": [
      "C:\\ProgramData\\Anaconda3\\lib\\site-packages\\sklearn\\utils\\validation.py:578: DataConversionWarning: A column-vector y was passed when a 1d array was expected. Please change the shape of y to (n_samples, ), for example using ravel().\n",
      "  y = column_or_1d(y, warn=True)\n"
     ]
    },
    {
     "name": "stdout",
     "output_type": "stream",
     "text": [
      "[CV]  max_depth=4, min_samples_leaf=20, min_samples_split=60, n_estimators=15, subsample=0.5, total=   1.0s\n",
      "[CV] max_depth=4, min_samples_leaf=20, min_samples_split=60, n_estimators=15, subsample=0.5 \n"
     ]
    },
    {
     "name": "stderr",
     "output_type": "stream",
     "text": [
      "C:\\ProgramData\\Anaconda3\\lib\\site-packages\\sklearn\\utils\\validation.py:578: DataConversionWarning: A column-vector y was passed when a 1d array was expected. Please change the shape of y to (n_samples, ), for example using ravel().\n",
      "  y = column_or_1d(y, warn=True)\n"
     ]
    },
    {
     "name": "stdout",
     "output_type": "stream",
     "text": [
      "[CV]  max_depth=4, min_samples_leaf=20, min_samples_split=60, n_estimators=15, subsample=0.5, total=   0.9s\n",
      "[CV] max_depth=4, min_samples_leaf=20, min_samples_split=60, n_estimators=15, subsample=0.5 \n"
     ]
    },
    {
     "name": "stderr",
     "output_type": "stream",
     "text": [
      "C:\\ProgramData\\Anaconda3\\lib\\site-packages\\sklearn\\utils\\validation.py:578: DataConversionWarning: A column-vector y was passed when a 1d array was expected. Please change the shape of y to (n_samples, ), for example using ravel().\n",
      "  y = column_or_1d(y, warn=True)\n"
     ]
    },
    {
     "name": "stdout",
     "output_type": "stream",
     "text": [
      "[CV]  max_depth=4, min_samples_leaf=20, min_samples_split=60, n_estimators=15, subsample=0.5, total=   0.9s\n",
      "[CV] max_depth=4, min_samples_leaf=40, min_samples_split=40, n_estimators=10, subsample=0.25 \n"
     ]
    },
    {
     "name": "stderr",
     "output_type": "stream",
     "text": [
      "C:\\ProgramData\\Anaconda3\\lib\\site-packages\\sklearn\\utils\\validation.py:578: DataConversionWarning: A column-vector y was passed when a 1d array was expected. Please change the shape of y to (n_samples, ), for example using ravel().\n",
      "  y = column_or_1d(y, warn=True)\n"
     ]
    },
    {
     "name": "stdout",
     "output_type": "stream",
     "text": [
      "[CV]  max_depth=4, min_samples_leaf=40, min_samples_split=40, n_estimators=10, subsample=0.25, total=   0.4s\n",
      "[CV] max_depth=4, min_samples_leaf=40, min_samples_split=40, n_estimators=10, subsample=0.25 \n"
     ]
    },
    {
     "name": "stderr",
     "output_type": "stream",
     "text": [
      "C:\\ProgramData\\Anaconda3\\lib\\site-packages\\sklearn\\utils\\validation.py:578: DataConversionWarning: A column-vector y was passed when a 1d array was expected. Please change the shape of y to (n_samples, ), for example using ravel().\n",
      "  y = column_or_1d(y, warn=True)\n"
     ]
    },
    {
     "name": "stdout",
     "output_type": "stream",
     "text": [
      "[CV]  max_depth=4, min_samples_leaf=40, min_samples_split=40, n_estimators=10, subsample=0.25, total=   0.4s\n",
      "[CV] max_depth=4, min_samples_leaf=40, min_samples_split=40, n_estimators=10, subsample=0.25 \n"
     ]
    },
    {
     "name": "stderr",
     "output_type": "stream",
     "text": [
      "C:\\ProgramData\\Anaconda3\\lib\\site-packages\\sklearn\\utils\\validation.py:578: DataConversionWarning: A column-vector y was passed when a 1d array was expected. Please change the shape of y to (n_samples, ), for example using ravel().\n",
      "  y = column_or_1d(y, warn=True)\n"
     ]
    },
    {
     "name": "stdout",
     "output_type": "stream",
     "text": [
      "[CV]  max_depth=4, min_samples_leaf=40, min_samples_split=40, n_estimators=10, subsample=0.25, total=   0.4s\n",
      "[CV] max_depth=4, min_samples_leaf=40, min_samples_split=40, n_estimators=10, subsample=0.5 \n"
     ]
    },
    {
     "name": "stderr",
     "output_type": "stream",
     "text": [
      "C:\\ProgramData\\Anaconda3\\lib\\site-packages\\sklearn\\utils\\validation.py:578: DataConversionWarning: A column-vector y was passed when a 1d array was expected. Please change the shape of y to (n_samples, ), for example using ravel().\n",
      "  y = column_or_1d(y, warn=True)\n"
     ]
    },
    {
     "name": "stdout",
     "output_type": "stream",
     "text": [
      "[CV]  max_depth=4, min_samples_leaf=40, min_samples_split=40, n_estimators=10, subsample=0.5, total=   0.6s\n",
      "[CV] max_depth=4, min_samples_leaf=40, min_samples_split=40, n_estimators=10, subsample=0.5 \n"
     ]
    },
    {
     "name": "stderr",
     "output_type": "stream",
     "text": [
      "C:\\ProgramData\\Anaconda3\\lib\\site-packages\\sklearn\\utils\\validation.py:578: DataConversionWarning: A column-vector y was passed when a 1d array was expected. Please change the shape of y to (n_samples, ), for example using ravel().\n",
      "  y = column_or_1d(y, warn=True)\n"
     ]
    },
    {
     "name": "stdout",
     "output_type": "stream",
     "text": [
      "[CV]  max_depth=4, min_samples_leaf=40, min_samples_split=40, n_estimators=10, subsample=0.5, total=   0.6s\n",
      "[CV] max_depth=4, min_samples_leaf=40, min_samples_split=40, n_estimators=10, subsample=0.5 \n"
     ]
    },
    {
     "name": "stderr",
     "output_type": "stream",
     "text": [
      "C:\\ProgramData\\Anaconda3\\lib\\site-packages\\sklearn\\utils\\validation.py:578: DataConversionWarning: A column-vector y was passed when a 1d array was expected. Please change the shape of y to (n_samples, ), for example using ravel().\n",
      "  y = column_or_1d(y, warn=True)\n"
     ]
    },
    {
     "name": "stdout",
     "output_type": "stream",
     "text": [
      "[CV]  max_depth=4, min_samples_leaf=40, min_samples_split=40, n_estimators=10, subsample=0.5, total=   0.6s\n",
      "[CV] max_depth=4, min_samples_leaf=40, min_samples_split=40, n_estimators=15, subsample=0.25 \n"
     ]
    },
    {
     "name": "stderr",
     "output_type": "stream",
     "text": [
      "C:\\ProgramData\\Anaconda3\\lib\\site-packages\\sklearn\\utils\\validation.py:578: DataConversionWarning: A column-vector y was passed when a 1d array was expected. Please change the shape of y to (n_samples, ), for example using ravel().\n",
      "  y = column_or_1d(y, warn=True)\n"
     ]
    },
    {
     "name": "stdout",
     "output_type": "stream",
     "text": [
      "[CV]  max_depth=4, min_samples_leaf=40, min_samples_split=40, n_estimators=15, subsample=0.25, total=   0.6s\n",
      "[CV] max_depth=4, min_samples_leaf=40, min_samples_split=40, n_estimators=15, subsample=0.25 \n"
     ]
    },
    {
     "name": "stderr",
     "output_type": "stream",
     "text": [
      "C:\\ProgramData\\Anaconda3\\lib\\site-packages\\sklearn\\utils\\validation.py:578: DataConversionWarning: A column-vector y was passed when a 1d array was expected. Please change the shape of y to (n_samples, ), for example using ravel().\n",
      "  y = column_or_1d(y, warn=True)\n"
     ]
    },
    {
     "name": "stdout",
     "output_type": "stream",
     "text": [
      "[CV]  max_depth=4, min_samples_leaf=40, min_samples_split=40, n_estimators=15, subsample=0.25, total=   0.6s\n",
      "[CV] max_depth=4, min_samples_leaf=40, min_samples_split=40, n_estimators=15, subsample=0.25 \n"
     ]
    },
    {
     "name": "stderr",
     "output_type": "stream",
     "text": [
      "C:\\ProgramData\\Anaconda3\\lib\\site-packages\\sklearn\\utils\\validation.py:578: DataConversionWarning: A column-vector y was passed when a 1d array was expected. Please change the shape of y to (n_samples, ), for example using ravel().\n",
      "  y = column_or_1d(y, warn=True)\n"
     ]
    },
    {
     "name": "stdout",
     "output_type": "stream",
     "text": [
      "[CV]  max_depth=4, min_samples_leaf=40, min_samples_split=40, n_estimators=15, subsample=0.25, total=   0.6s\n",
      "[CV] max_depth=4, min_samples_leaf=40, min_samples_split=40, n_estimators=15, subsample=0.5 \n"
     ]
    },
    {
     "name": "stderr",
     "output_type": "stream",
     "text": [
      "C:\\ProgramData\\Anaconda3\\lib\\site-packages\\sklearn\\utils\\validation.py:578: DataConversionWarning: A column-vector y was passed when a 1d array was expected. Please change the shape of y to (n_samples, ), for example using ravel().\n",
      "  y = column_or_1d(y, warn=True)\n"
     ]
    },
    {
     "name": "stdout",
     "output_type": "stream",
     "text": [
      "[CV]  max_depth=4, min_samples_leaf=40, min_samples_split=40, n_estimators=15, subsample=0.5, total=   0.9s\n",
      "[CV] max_depth=4, min_samples_leaf=40, min_samples_split=40, n_estimators=15, subsample=0.5 \n"
     ]
    },
    {
     "name": "stderr",
     "output_type": "stream",
     "text": [
      "C:\\ProgramData\\Anaconda3\\lib\\site-packages\\sklearn\\utils\\validation.py:578: DataConversionWarning: A column-vector y was passed when a 1d array was expected. Please change the shape of y to (n_samples, ), for example using ravel().\n",
      "  y = column_or_1d(y, warn=True)\n"
     ]
    },
    {
     "name": "stdout",
     "output_type": "stream",
     "text": [
      "[CV]  max_depth=4, min_samples_leaf=40, min_samples_split=40, n_estimators=15, subsample=0.5, total=   0.9s\n",
      "[CV] max_depth=4, min_samples_leaf=40, min_samples_split=40, n_estimators=15, subsample=0.5 \n"
     ]
    },
    {
     "name": "stderr",
     "output_type": "stream",
     "text": [
      "C:\\ProgramData\\Anaconda3\\lib\\site-packages\\sklearn\\utils\\validation.py:578: DataConversionWarning: A column-vector y was passed when a 1d array was expected. Please change the shape of y to (n_samples, ), for example using ravel().\n",
      "  y = column_or_1d(y, warn=True)\n"
     ]
    },
    {
     "name": "stdout",
     "output_type": "stream",
     "text": [
      "[CV]  max_depth=4, min_samples_leaf=40, min_samples_split=40, n_estimators=15, subsample=0.5, total=   0.9s\n",
      "[CV] max_depth=4, min_samples_leaf=40, min_samples_split=60, n_estimators=10, subsample=0.25 \n"
     ]
    },
    {
     "name": "stderr",
     "output_type": "stream",
     "text": [
      "C:\\ProgramData\\Anaconda3\\lib\\site-packages\\sklearn\\utils\\validation.py:578: DataConversionWarning: A column-vector y was passed when a 1d array was expected. Please change the shape of y to (n_samples, ), for example using ravel().\n",
      "  y = column_or_1d(y, warn=True)\n"
     ]
    },
    {
     "name": "stdout",
     "output_type": "stream",
     "text": [
      "[CV]  max_depth=4, min_samples_leaf=40, min_samples_split=60, n_estimators=10, subsample=0.25, total=   0.4s\n",
      "[CV] max_depth=4, min_samples_leaf=40, min_samples_split=60, n_estimators=10, subsample=0.25 \n"
     ]
    },
    {
     "name": "stderr",
     "output_type": "stream",
     "text": [
      "C:\\ProgramData\\Anaconda3\\lib\\site-packages\\sklearn\\utils\\validation.py:578: DataConversionWarning: A column-vector y was passed when a 1d array was expected. Please change the shape of y to (n_samples, ), for example using ravel().\n",
      "  y = column_or_1d(y, warn=True)\n"
     ]
    },
    {
     "name": "stdout",
     "output_type": "stream",
     "text": [
      "[CV]  max_depth=4, min_samples_leaf=40, min_samples_split=60, n_estimators=10, subsample=0.25, total=   0.4s\n",
      "[CV] max_depth=4, min_samples_leaf=40, min_samples_split=60, n_estimators=10, subsample=0.25 \n"
     ]
    },
    {
     "name": "stderr",
     "output_type": "stream",
     "text": [
      "C:\\ProgramData\\Anaconda3\\lib\\site-packages\\sklearn\\utils\\validation.py:578: DataConversionWarning: A column-vector y was passed when a 1d array was expected. Please change the shape of y to (n_samples, ), for example using ravel().\n",
      "  y = column_or_1d(y, warn=True)\n"
     ]
    },
    {
     "name": "stdout",
     "output_type": "stream",
     "text": [
      "[CV]  max_depth=4, min_samples_leaf=40, min_samples_split=60, n_estimators=10, subsample=0.25, total=   0.4s\n",
      "[CV] max_depth=4, min_samples_leaf=40, min_samples_split=60, n_estimators=10, subsample=0.5 \n"
     ]
    },
    {
     "name": "stderr",
     "output_type": "stream",
     "text": [
      "C:\\ProgramData\\Anaconda3\\lib\\site-packages\\sklearn\\utils\\validation.py:578: DataConversionWarning: A column-vector y was passed when a 1d array was expected. Please change the shape of y to (n_samples, ), for example using ravel().\n",
      "  y = column_or_1d(y, warn=True)\n"
     ]
    },
    {
     "name": "stdout",
     "output_type": "stream",
     "text": [
      "[CV]  max_depth=4, min_samples_leaf=40, min_samples_split=60, n_estimators=10, subsample=0.5, total=   0.6s\n",
      "[CV] max_depth=4, min_samples_leaf=40, min_samples_split=60, n_estimators=10, subsample=0.5 \n"
     ]
    },
    {
     "name": "stderr",
     "output_type": "stream",
     "text": [
      "C:\\ProgramData\\Anaconda3\\lib\\site-packages\\sklearn\\utils\\validation.py:578: DataConversionWarning: A column-vector y was passed when a 1d array was expected. Please change the shape of y to (n_samples, ), for example using ravel().\n",
      "  y = column_or_1d(y, warn=True)\n"
     ]
    },
    {
     "name": "stdout",
     "output_type": "stream",
     "text": [
      "[CV]  max_depth=4, min_samples_leaf=40, min_samples_split=60, n_estimators=10, subsample=0.5, total=   0.6s\n",
      "[CV] max_depth=4, min_samples_leaf=40, min_samples_split=60, n_estimators=10, subsample=0.5 \n"
     ]
    },
    {
     "name": "stderr",
     "output_type": "stream",
     "text": [
      "C:\\ProgramData\\Anaconda3\\lib\\site-packages\\sklearn\\utils\\validation.py:578: DataConversionWarning: A column-vector y was passed when a 1d array was expected. Please change the shape of y to (n_samples, ), for example using ravel().\n",
      "  y = column_or_1d(y, warn=True)\n"
     ]
    },
    {
     "name": "stdout",
     "output_type": "stream",
     "text": [
      "[CV]  max_depth=4, min_samples_leaf=40, min_samples_split=60, n_estimators=10, subsample=0.5, total=   0.6s\n",
      "[CV] max_depth=4, min_samples_leaf=40, min_samples_split=60, n_estimators=15, subsample=0.25 \n"
     ]
    },
    {
     "name": "stderr",
     "output_type": "stream",
     "text": [
      "C:\\ProgramData\\Anaconda3\\lib\\site-packages\\sklearn\\utils\\validation.py:578: DataConversionWarning: A column-vector y was passed when a 1d array was expected. Please change the shape of y to (n_samples, ), for example using ravel().\n",
      "  y = column_or_1d(y, warn=True)\n"
     ]
    },
    {
     "name": "stdout",
     "output_type": "stream",
     "text": [
      "[CV]  max_depth=4, min_samples_leaf=40, min_samples_split=60, n_estimators=15, subsample=0.25, total=   0.6s\n",
      "[CV] max_depth=4, min_samples_leaf=40, min_samples_split=60, n_estimators=15, subsample=0.25 \n"
     ]
    },
    {
     "name": "stderr",
     "output_type": "stream",
     "text": [
      "C:\\ProgramData\\Anaconda3\\lib\\site-packages\\sklearn\\utils\\validation.py:578: DataConversionWarning: A column-vector y was passed when a 1d array was expected. Please change the shape of y to (n_samples, ), for example using ravel().\n",
      "  y = column_or_1d(y, warn=True)\n"
     ]
    },
    {
     "name": "stdout",
     "output_type": "stream",
     "text": [
      "[CV]  max_depth=4, min_samples_leaf=40, min_samples_split=60, n_estimators=15, subsample=0.25, total=   0.6s\n",
      "[CV] max_depth=4, min_samples_leaf=40, min_samples_split=60, n_estimators=15, subsample=0.25 \n"
     ]
    },
    {
     "name": "stderr",
     "output_type": "stream",
     "text": [
      "C:\\ProgramData\\Anaconda3\\lib\\site-packages\\sklearn\\utils\\validation.py:578: DataConversionWarning: A column-vector y was passed when a 1d array was expected. Please change the shape of y to (n_samples, ), for example using ravel().\n",
      "  y = column_or_1d(y, warn=True)\n"
     ]
    },
    {
     "name": "stdout",
     "output_type": "stream",
     "text": [
      "[CV]  max_depth=4, min_samples_leaf=40, min_samples_split=60, n_estimators=15, subsample=0.25, total=   0.6s\n",
      "[CV] max_depth=4, min_samples_leaf=40, min_samples_split=60, n_estimators=15, subsample=0.5 \n"
     ]
    },
    {
     "name": "stderr",
     "output_type": "stream",
     "text": [
      "C:\\ProgramData\\Anaconda3\\lib\\site-packages\\sklearn\\utils\\validation.py:578: DataConversionWarning: A column-vector y was passed when a 1d array was expected. Please change the shape of y to (n_samples, ), for example using ravel().\n",
      "  y = column_or_1d(y, warn=True)\n"
     ]
    },
    {
     "name": "stdout",
     "output_type": "stream",
     "text": [
      "[CV]  max_depth=4, min_samples_leaf=40, min_samples_split=60, n_estimators=15, subsample=0.5, total=   0.9s\n",
      "[CV] max_depth=4, min_samples_leaf=40, min_samples_split=60, n_estimators=15, subsample=0.5 \n"
     ]
    },
    {
     "name": "stderr",
     "output_type": "stream",
     "text": [
      "C:\\ProgramData\\Anaconda3\\lib\\site-packages\\sklearn\\utils\\validation.py:578: DataConversionWarning: A column-vector y was passed when a 1d array was expected. Please change the shape of y to (n_samples, ), for example using ravel().\n",
      "  y = column_or_1d(y, warn=True)\n"
     ]
    },
    {
     "name": "stdout",
     "output_type": "stream",
     "text": [
      "[CV]  max_depth=4, min_samples_leaf=40, min_samples_split=60, n_estimators=15, subsample=0.5, total=   0.9s\n",
      "[CV] max_depth=4, min_samples_leaf=40, min_samples_split=60, n_estimators=15, subsample=0.5 \n"
     ]
    },
    {
     "name": "stderr",
     "output_type": "stream",
     "text": [
      "C:\\ProgramData\\Anaconda3\\lib\\site-packages\\sklearn\\utils\\validation.py:578: DataConversionWarning: A column-vector y was passed when a 1d array was expected. Please change the shape of y to (n_samples, ), for example using ravel().\n",
      "  y = column_or_1d(y, warn=True)\n"
     ]
    },
    {
     "name": "stdout",
     "output_type": "stream",
     "text": [
      "[CV]  max_depth=4, min_samples_leaf=40, min_samples_split=60, n_estimators=15, subsample=0.5, total=   0.9s\n"
     ]
    },
    {
     "name": "stderr",
     "output_type": "stream",
     "text": [
      "[Parallel(n_jobs=1)]: Done  96 out of  96 | elapsed:  1.1min finished\n",
      "C:\\ProgramData\\Anaconda3\\lib\\site-packages\\sklearn\\utils\\validation.py:578: DataConversionWarning: A column-vector y was passed when a 1d array was expected. Please change the shape of y to (n_samples, ), for example using ravel().\n",
      "  y = column_or_1d(y, warn=True)\n"
     ]
    },
    {
     "data": {
      "text/plain": [
       "GridSearchCV(cv=None, error_score='raise',\n",
       "       estimator=GradientBoostingClassifier(criterion='friedman_mse', init=None,\n",
       "              learning_rate=0.1, loss='deviance', max_depth=3,\n",
       "              max_features=None, max_leaf_nodes=None,\n",
       "              min_impurity_decrease=0.0, min_impurity_split=None,\n",
       "              min_samples_leaf=1, min_samples_split=2,\n",
       "              min_weight_fraction_leaf=0.0, n_estimators=100,\n",
       "              presort='auto', random_state=None, subsample=1.0, verbose=0,\n",
       "              warm_start=False),\n",
       "       fit_params=None, iid=True, n_jobs=1,\n",
       "       param_grid={'n_estimators': [10, 15], 'subsample': [0.25, 0.5], 'max_depth': [3, 4], 'min_samples_split': [40, 60], 'min_samples_leaf': [20, 40]},\n",
       "       pre_dispatch='2*n_jobs', refit=True, return_train_score='warn',\n",
       "       scoring=None, verbose=2)"
      ]
     },
     "execution_count": 45,
     "metadata": {},
     "output_type": "execute_result"
    }
   ],
   "source": [
    "params = {\n",
    "    'n_estimators': [10, 15], \n",
    "    'subsample': [0.25, 0.5], \n",
    "    'max_depth': [3, 4],\n",
    "    'min_samples_split': [40, 60],\n",
    "    'min_samples_leaf': [20, 40]\n",
    "}\n",
    "gbt = GradientBoostingClassifier() # RandomForestClassifier()\n",
    "grid_gbt = GridSearchCV(estimator=gbt, param_grid=params, verbose=2)\n",
    "grid_gbt.fit(X_tr, y_tr)"
   ]
  },
  {
   "cell_type": "code",
   "execution_count": 46,
   "metadata": {},
   "outputs": [
    {
     "name": "stdout",
     "output_type": "stream",
     "text": [
      "GradientBoostingClassifier(criterion='friedman_mse', init=None,\n",
      "              learning_rate=0.1, loss='deviance', max_depth=4,\n",
      "              max_features=None, max_leaf_nodes=None,\n",
      "              min_impurity_decrease=0.0, min_impurity_split=None,\n",
      "              min_samples_leaf=20, min_samples_split=40,\n",
      "              min_weight_fraction_leaf=0.0, n_estimators=15,\n",
      "              presort='auto', random_state=None, subsample=0.5, verbose=0,\n",
      "              warm_start=False)\n",
      "0.8485555781070293\n"
     ]
    },
    {
     "name": "stderr",
     "output_type": "stream",
     "text": [
      "C:\\ProgramData\\Anaconda3\\lib\\site-packages\\sklearn\\utils\\deprecation.py:122: FutureWarning: You are accessing a training score ('split0_train_score'), which will not be available by default any more in 0.21. If you need training scores, please set return_train_score=True\n",
      "  warnings.warn(*warn_args, **warn_kwargs)\n",
      "C:\\ProgramData\\Anaconda3\\lib\\site-packages\\sklearn\\utils\\deprecation.py:122: FutureWarning: You are accessing a training score ('split1_train_score'), which will not be available by default any more in 0.21. If you need training scores, please set return_train_score=True\n",
      "  warnings.warn(*warn_args, **warn_kwargs)\n",
      "C:\\ProgramData\\Anaconda3\\lib\\site-packages\\sklearn\\utils\\deprecation.py:122: FutureWarning: You are accessing a training score ('split2_train_score'), which will not be available by default any more in 0.21. If you need training scores, please set return_train_score=True\n",
      "  warnings.warn(*warn_args, **warn_kwargs)\n",
      "C:\\ProgramData\\Anaconda3\\lib\\site-packages\\sklearn\\utils\\deprecation.py:122: FutureWarning: You are accessing a training score ('mean_train_score'), which will not be available by default any more in 0.21. If you need training scores, please set return_train_score=True\n",
      "  warnings.warn(*warn_args, **warn_kwargs)\n",
      "C:\\ProgramData\\Anaconda3\\lib\\site-packages\\sklearn\\utils\\deprecation.py:122: FutureWarning: You are accessing a training score ('std_train_score'), which will not be available by default any more in 0.21. If you need training scores, please set return_train_score=True\n",
      "  warnings.warn(*warn_args, **warn_kwargs)\n"
     ]
    },
    {
     "data": {
      "text/html": [
       "<div>\n",
       "<style scoped>\n",
       "    .dataframe tbody tr th:only-of-type {\n",
       "        vertical-align: middle;\n",
       "    }\n",
       "\n",
       "    .dataframe tbody tr th {\n",
       "        vertical-align: top;\n",
       "    }\n",
       "\n",
       "    .dataframe thead th {\n",
       "        text-align: right;\n",
       "    }\n",
       "</style>\n",
       "<table border=\"1\" class=\"dataframe\">\n",
       "  <thead>\n",
       "    <tr style=\"text-align: right;\">\n",
       "      <th></th>\n",
       "      <th>mean_fit_time</th>\n",
       "      <th>std_fit_time</th>\n",
       "      <th>mean_score_time</th>\n",
       "      <th>std_score_time</th>\n",
       "      <th>param_max_depth</th>\n",
       "      <th>param_min_samples_leaf</th>\n",
       "      <th>param_min_samples_split</th>\n",
       "      <th>param_n_estimators</th>\n",
       "      <th>param_subsample</th>\n",
       "      <th>params</th>\n",
       "      <th>...</th>\n",
       "      <th>split1_test_score</th>\n",
       "      <th>split2_test_score</th>\n",
       "      <th>mean_test_score</th>\n",
       "      <th>std_test_score</th>\n",
       "      <th>rank_test_score</th>\n",
       "      <th>split0_train_score</th>\n",
       "      <th>split1_train_score</th>\n",
       "      <th>split2_train_score</th>\n",
       "      <th>mean_train_score</th>\n",
       "      <th>std_train_score</th>\n",
       "    </tr>\n",
       "  </thead>\n",
       "  <tbody>\n",
       "    <tr>\n",
       "      <th>0</th>\n",
       "      <td>0.416539</td>\n",
       "      <td>0.016875</td>\n",
       "      <td>0.008969</td>\n",
       "      <td>0.006584</td>\n",
       "      <td>3</td>\n",
       "      <td>20</td>\n",
       "      <td>40</td>\n",
       "      <td>10</td>\n",
       "      <td>0.25</td>\n",
       "      <td>{'max_depth': 3, 'min_samples_leaf': 20, 'min_...</td>\n",
       "      <td>...</td>\n",
       "      <td>0.843211</td>\n",
       "      <td>0.842399</td>\n",
       "      <td>0.842534</td>\n",
       "      <td>0.000506</td>\n",
       "      <td>30</td>\n",
       "      <td>0.843515</td>\n",
       "      <td>0.841131</td>\n",
       "      <td>0.843566</td>\n",
       "      <td>0.842737</td>\n",
       "      <td>0.001136</td>\n",
       "    </tr>\n",
       "    <tr>\n",
       "      <th>1</th>\n",
       "      <td>0.569014</td>\n",
       "      <td>0.007976</td>\n",
       "      <td>0.012387</td>\n",
       "      <td>0.002288</td>\n",
       "      <td>3</td>\n",
       "      <td>20</td>\n",
       "      <td>40</td>\n",
       "      <td>10</td>\n",
       "      <td>0.5</td>\n",
       "      <td>{'max_depth': 3, 'min_samples_leaf': 20, 'min_...</td>\n",
       "      <td>...</td>\n",
       "      <td>0.846052</td>\n",
       "      <td>0.843718</td>\n",
       "      <td>0.843955</td>\n",
       "      <td>0.001624</td>\n",
       "      <td>24</td>\n",
       "      <td>0.843515</td>\n",
       "      <td>0.842602</td>\n",
       "      <td>0.845697</td>\n",
       "      <td>0.843938</td>\n",
       "      <td>0.001298</td>\n",
       "    </tr>\n",
       "    <tr>\n",
       "      <th>2</th>\n",
       "      <td>0.556583</td>\n",
       "      <td>0.003854</td>\n",
       "      <td>0.015616</td>\n",
       "      <td>0.000003</td>\n",
       "      <td>3</td>\n",
       "      <td>20</td>\n",
       "      <td>40</td>\n",
       "      <td>15</td>\n",
       "      <td>0.25</td>\n",
       "      <td>{'max_depth': 3, 'min_samples_leaf': 20, 'min_...</td>\n",
       "      <td>...</td>\n",
       "      <td>0.846255</td>\n",
       "      <td>0.844226</td>\n",
       "      <td>0.845579</td>\n",
       "      <td>0.000957</td>\n",
       "      <td>14</td>\n",
       "      <td>0.848082</td>\n",
       "      <td>0.844835</td>\n",
       "      <td>0.846864</td>\n",
       "      <td>0.846594</td>\n",
       "      <td>0.001339</td>\n",
       "    </tr>\n",
       "    <tr>\n",
       "      <th>3</th>\n",
       "      <td>0.840475</td>\n",
       "      <td>0.007780</td>\n",
       "      <td>0.016592</td>\n",
       "      <td>0.001377</td>\n",
       "      <td>3</td>\n",
       "      <td>20</td>\n",
       "      <td>40</td>\n",
       "      <td>15</td>\n",
       "      <td>0.5</td>\n",
       "      <td>{'max_depth': 3, 'min_samples_leaf': 20, 'min_...</td>\n",
       "      <td>...</td>\n",
       "      <td>0.847981</td>\n",
       "      <td>0.847169</td>\n",
       "      <td>0.846729</td>\n",
       "      <td>0.001241</td>\n",
       "      <td>8</td>\n",
       "      <td>0.846712</td>\n",
       "      <td>0.846002</td>\n",
       "      <td>0.849807</td>\n",
       "      <td>0.847507</td>\n",
       "      <td>0.001652</td>\n",
       "    </tr>\n",
       "    <tr>\n",
       "      <th>4</th>\n",
       "      <td>0.417804</td>\n",
       "      <td>0.007734</td>\n",
       "      <td>0.009358</td>\n",
       "      <td>0.006742</td>\n",
       "      <td>3</td>\n",
       "      <td>20</td>\n",
       "      <td>60</td>\n",
       "      <td>10</td>\n",
       "      <td>0.25</td>\n",
       "      <td>{'max_depth': 3, 'min_samples_leaf': 20, 'min_...</td>\n",
       "      <td>...</td>\n",
       "      <td>0.845951</td>\n",
       "      <td>0.842703</td>\n",
       "      <td>0.843549</td>\n",
       "      <td>0.001723</td>\n",
       "      <td>26</td>\n",
       "      <td>0.843921</td>\n",
       "      <td>0.844073</td>\n",
       "      <td>0.845038</td>\n",
       "      <td>0.844344</td>\n",
       "      <td>0.000494</td>\n",
       "    </tr>\n",
       "    <tr>\n",
       "      <th>5</th>\n",
       "      <td>0.563144</td>\n",
       "      <td>0.014514</td>\n",
       "      <td>0.010762</td>\n",
       "      <td>0.007624</td>\n",
       "      <td>3</td>\n",
       "      <td>20</td>\n",
       "      <td>60</td>\n",
       "      <td>10</td>\n",
       "      <td>0.5</td>\n",
       "      <td>{'max_depth': 3, 'min_samples_leaf': 20, 'min_...</td>\n",
       "      <td>...</td>\n",
       "      <td>0.843921</td>\n",
       "      <td>0.843008</td>\n",
       "      <td>0.842906</td>\n",
       "      <td>0.000873</td>\n",
       "      <td>27</td>\n",
       "      <td>0.843515</td>\n",
       "      <td>0.842196</td>\n",
       "      <td>0.845494</td>\n",
       "      <td>0.843735</td>\n",
       "      <td>0.001355</td>\n",
       "    </tr>\n",
       "    <tr>\n",
       "      <th>6</th>\n",
       "      <td>0.587697</td>\n",
       "      <td>0.019970</td>\n",
       "      <td>0.012632</td>\n",
       "      <td>0.009337</td>\n",
       "      <td>3</td>\n",
       "      <td>20</td>\n",
       "      <td>60</td>\n",
       "      <td>15</td>\n",
       "      <td>0.25</td>\n",
       "      <td>{'max_depth': 3, 'min_samples_leaf': 20, 'min_...</td>\n",
       "      <td>...</td>\n",
       "      <td>0.846661</td>\n",
       "      <td>0.843718</td>\n",
       "      <td>0.845342</td>\n",
       "      <td>0.001221</td>\n",
       "      <td>16</td>\n",
       "      <td>0.845900</td>\n",
       "      <td>0.842856</td>\n",
       "      <td>0.846458</td>\n",
       "      <td>0.845071</td>\n",
       "      <td>0.001583</td>\n",
       "    </tr>\n",
       "    <tr>\n",
       "      <th>7</th>\n",
       "      <td>0.816565</td>\n",
       "      <td>0.017923</td>\n",
       "      <td>0.010715</td>\n",
       "      <td>0.006946</td>\n",
       "      <td>3</td>\n",
       "      <td>20</td>\n",
       "      <td>60</td>\n",
       "      <td>15</td>\n",
       "      <td>0.5</td>\n",
       "      <td>{'max_depth': 3, 'min_samples_leaf': 20, 'min_...</td>\n",
       "      <td>...</td>\n",
       "      <td>0.848285</td>\n",
       "      <td>0.846357</td>\n",
       "      <td>0.847101</td>\n",
       "      <td>0.000846</td>\n",
       "      <td>6</td>\n",
       "      <td>0.848539</td>\n",
       "      <td>0.845799</td>\n",
       "      <td>0.849756</td>\n",
       "      <td>0.848031</td>\n",
       "      <td>0.001655</td>\n",
       "    </tr>\n",
       "    <tr>\n",
       "      <th>8</th>\n",
       "      <td>0.414932</td>\n",
       "      <td>0.015147</td>\n",
       "      <td>0.010412</td>\n",
       "      <td>0.007362</td>\n",
       "      <td>3</td>\n",
       "      <td>40</td>\n",
       "      <td>40</td>\n",
       "      <td>10</td>\n",
       "      <td>0.25</td>\n",
       "      <td>{'max_depth': 3, 'min_samples_leaf': 40, 'min_...</td>\n",
       "      <td>...</td>\n",
       "      <td>0.843109</td>\n",
       "      <td>0.839963</td>\n",
       "      <td>0.840978</td>\n",
       "      <td>0.001507</td>\n",
       "      <td>32</td>\n",
       "      <td>0.841232</td>\n",
       "      <td>0.841131</td>\n",
       "      <td>0.840369</td>\n",
       "      <td>0.840911</td>\n",
       "      <td>0.000385</td>\n",
       "    </tr>\n",
       "    <tr>\n",
       "      <th>9</th>\n",
       "      <td>0.569043</td>\n",
       "      <td>0.015510</td>\n",
       "      <td>0.008439</td>\n",
       "      <td>0.006437</td>\n",
       "      <td>3</td>\n",
       "      <td>40</td>\n",
       "      <td>40</td>\n",
       "      <td>10</td>\n",
       "      <td>0.5</td>\n",
       "      <td>{'max_depth': 3, 'min_samples_leaf': 40, 'min_...</td>\n",
       "      <td>...</td>\n",
       "      <td>0.845748</td>\n",
       "      <td>0.843414</td>\n",
       "      <td>0.843820</td>\n",
       "      <td>0.001438</td>\n",
       "      <td>25</td>\n",
       "      <td>0.844226</td>\n",
       "      <td>0.843871</td>\n",
       "      <td>0.845646</td>\n",
       "      <td>0.844581</td>\n",
       "      <td>0.000767</td>\n",
       "    </tr>\n",
       "    <tr>\n",
       "      <th>10</th>\n",
       "      <td>0.562360</td>\n",
       "      <td>0.011134</td>\n",
       "      <td>0.005193</td>\n",
       "      <td>0.007344</td>\n",
       "      <td>3</td>\n",
       "      <td>40</td>\n",
       "      <td>40</td>\n",
       "      <td>15</td>\n",
       "      <td>0.25</td>\n",
       "      <td>{'max_depth': 3, 'min_samples_leaf': 40, 'min_...</td>\n",
       "      <td>...</td>\n",
       "      <td>0.845545</td>\n",
       "      <td>0.843718</td>\n",
       "      <td>0.844665</td>\n",
       "      <td>0.000747</td>\n",
       "      <td>21</td>\n",
       "      <td>0.845038</td>\n",
       "      <td>0.843566</td>\n",
       "      <td>0.845849</td>\n",
       "      <td>0.844818</td>\n",
       "      <td>0.000945</td>\n",
       "    </tr>\n",
       "    <tr>\n",
       "      <th>11</th>\n",
       "      <td>0.816166</td>\n",
       "      <td>0.004345</td>\n",
       "      <td>0.010648</td>\n",
       "      <td>0.007535</td>\n",
       "      <td>3</td>\n",
       "      <td>40</td>\n",
       "      <td>40</td>\n",
       "      <td>15</td>\n",
       "      <td>0.5</td>\n",
       "      <td>{'max_depth': 3, 'min_samples_leaf': 40, 'min_...</td>\n",
       "      <td>...</td>\n",
       "      <td>0.845748</td>\n",
       "      <td>0.844835</td>\n",
       "      <td>0.845071</td>\n",
       "      <td>0.000486</td>\n",
       "      <td>17</td>\n",
       "      <td>0.846560</td>\n",
       "      <td>0.843921</td>\n",
       "      <td>0.847219</td>\n",
       "      <td>0.845900</td>\n",
       "      <td>0.001425</td>\n",
       "    </tr>\n",
       "    <tr>\n",
       "      <th>12</th>\n",
       "      <td>0.411314</td>\n",
       "      <td>0.007798</td>\n",
       "      <td>0.015816</td>\n",
       "      <td>0.000307</td>\n",
       "      <td>3</td>\n",
       "      <td>40</td>\n",
       "      <td>60</td>\n",
       "      <td>10</td>\n",
       "      <td>0.25</td>\n",
       "      <td>{'max_depth': 3, 'min_samples_leaf': 40, 'min_...</td>\n",
       "      <td>...</td>\n",
       "      <td>0.843515</td>\n",
       "      <td>0.839659</td>\n",
       "      <td>0.841587</td>\n",
       "      <td>0.001574</td>\n",
       "      <td>31</td>\n",
       "      <td>0.843211</td>\n",
       "      <td>0.841587</td>\n",
       "      <td>0.841384</td>\n",
       "      <td>0.842061</td>\n",
       "      <td>0.000817</td>\n",
       "    </tr>\n",
       "    <tr>\n",
       "      <th>13</th>\n",
       "      <td>0.616554</td>\n",
       "      <td>0.008213</td>\n",
       "      <td>0.006289</td>\n",
       "      <td>0.007533</td>\n",
       "      <td>3</td>\n",
       "      <td>40</td>\n",
       "      <td>60</td>\n",
       "      <td>10</td>\n",
       "      <td>0.5</td>\n",
       "      <td>{'max_depth': 3, 'min_samples_leaf': 40, 'min_...</td>\n",
       "      <td>...</td>\n",
       "      <td>0.846255</td>\n",
       "      <td>0.844530</td>\n",
       "      <td>0.844124</td>\n",
       "      <td>0.001927</td>\n",
       "      <td>23</td>\n",
       "      <td>0.843312</td>\n",
       "      <td>0.843871</td>\n",
       "      <td>0.845951</td>\n",
       "      <td>0.844378</td>\n",
       "      <td>0.001135</td>\n",
       "    </tr>\n",
       "    <tr>\n",
       "      <th>14</th>\n",
       "      <td>0.545098</td>\n",
       "      <td>0.007191</td>\n",
       "      <td>0.015767</td>\n",
       "      <td>0.000168</td>\n",
       "      <td>3</td>\n",
       "      <td>40</td>\n",
       "      <td>60</td>\n",
       "      <td>15</td>\n",
       "      <td>0.25</td>\n",
       "      <td>{'max_depth': 3, 'min_samples_leaf': 40, 'min_...</td>\n",
       "      <td>...</td>\n",
       "      <td>0.845849</td>\n",
       "      <td>0.843820</td>\n",
       "      <td>0.844192</td>\n",
       "      <td>0.001230</td>\n",
       "      <td>22</td>\n",
       "      <td>0.844936</td>\n",
       "      <td>0.843921</td>\n",
       "      <td>0.845900</td>\n",
       "      <td>0.844919</td>\n",
       "      <td>0.000808</td>\n",
       "    </tr>\n",
       "    <tr>\n",
       "      <th>15</th>\n",
       "      <td>0.833795</td>\n",
       "      <td>0.016043</td>\n",
       "      <td>0.011296</td>\n",
       "      <td>0.008060</td>\n",
       "      <td>3</td>\n",
       "      <td>40</td>\n",
       "      <td>60</td>\n",
       "      <td>15</td>\n",
       "      <td>0.5</td>\n",
       "      <td>{'max_depth': 3, 'min_samples_leaf': 40, 'min_...</td>\n",
       "      <td>...</td>\n",
       "      <td>0.846357</td>\n",
       "      <td>0.844632</td>\n",
       "      <td>0.845004</td>\n",
       "      <td>0.000989</td>\n",
       "      <td>18</td>\n",
       "      <td>0.846560</td>\n",
       "      <td>0.843160</td>\n",
       "      <td>0.847016</td>\n",
       "      <td>0.845579</td>\n",
       "      <td>0.001720</td>\n",
       "    </tr>\n",
       "    <tr>\n",
       "      <th>16</th>\n",
       "      <td>0.486430</td>\n",
       "      <td>0.008284</td>\n",
       "      <td>0.020645</td>\n",
       "      <td>0.003829</td>\n",
       "      <td>4</td>\n",
       "      <td>20</td>\n",
       "      <td>40</td>\n",
       "      <td>10</td>\n",
       "      <td>0.25</td>\n",
       "      <td>{'max_depth': 4, 'min_samples_leaf': 20, 'min_...</td>\n",
       "      <td>...</td>\n",
       "      <td>0.846763</td>\n",
       "      <td>0.845038</td>\n",
       "      <td>0.844868</td>\n",
       "      <td>0.001620</td>\n",
       "      <td>20</td>\n",
       "      <td>0.845190</td>\n",
       "      <td>0.844632</td>\n",
       "      <td>0.847067</td>\n",
       "      <td>0.845630</td>\n",
       "      <td>0.001042</td>\n",
       "    </tr>\n",
       "    <tr>\n",
       "      <th>17</th>\n",
       "      <td>0.723449</td>\n",
       "      <td>0.015558</td>\n",
       "      <td>0.010456</td>\n",
       "      <td>0.007394</td>\n",
       "      <td>4</td>\n",
       "      <td>20</td>\n",
       "      <td>40</td>\n",
       "      <td>10</td>\n",
       "      <td>0.5</td>\n",
       "      <td>{'max_depth': 4, 'min_samples_leaf': 20, 'min_...</td>\n",
       "      <td>...</td>\n",
       "      <td>0.851431</td>\n",
       "      <td>0.845748</td>\n",
       "      <td>0.847372</td>\n",
       "      <td>0.002889</td>\n",
       "      <td>4</td>\n",
       "      <td>0.848183</td>\n",
       "      <td>0.846915</td>\n",
       "      <td>0.848995</td>\n",
       "      <td>0.848031</td>\n",
       "      <td>0.000856</td>\n",
       "    </tr>\n",
       "    <tr>\n",
       "      <th>18</th>\n",
       "      <td>0.710917</td>\n",
       "      <td>0.012109</td>\n",
       "      <td>0.009307</td>\n",
       "      <td>0.006720</td>\n",
       "      <td>4</td>\n",
       "      <td>20</td>\n",
       "      <td>40</td>\n",
       "      <td>15</td>\n",
       "      <td>0.25</td>\n",
       "      <td>{'max_depth': 4, 'min_samples_leaf': 20, 'min_...</td>\n",
       "      <td>...</td>\n",
       "      <td>0.847067</td>\n",
       "      <td>0.846966</td>\n",
       "      <td>0.846729</td>\n",
       "      <td>0.000409</td>\n",
       "      <td>8</td>\n",
       "      <td>0.848792</td>\n",
       "      <td>0.847321</td>\n",
       "      <td>0.849604</td>\n",
       "      <td>0.848572</td>\n",
       "      <td>0.000945</td>\n",
       "    </tr>\n",
       "    <tr>\n",
       "      <th>19</th>\n",
       "      <td>1.031896</td>\n",
       "      <td>0.013878</td>\n",
       "      <td>0.021482</td>\n",
       "      <td>0.009493</td>\n",
       "      <td>4</td>\n",
       "      <td>20</td>\n",
       "      <td>40</td>\n",
       "      <td>15</td>\n",
       "      <td>0.5</td>\n",
       "      <td>{'max_depth': 4, 'min_samples_leaf': 20, 'min_...</td>\n",
       "      <td>...</td>\n",
       "      <td>0.850315</td>\n",
       "      <td>0.847575</td>\n",
       "      <td>0.848556</td>\n",
       "      <td>0.001247</td>\n",
       "      <td>1</td>\n",
       "      <td>0.850315</td>\n",
       "      <td>0.848792</td>\n",
       "      <td>0.850518</td>\n",
       "      <td>0.849875</td>\n",
       "      <td>0.000770</td>\n",
       "    </tr>\n",
       "    <tr>\n",
       "      <th>20</th>\n",
       "      <td>0.506946</td>\n",
       "      <td>0.015111</td>\n",
       "      <td>0.015752</td>\n",
       "      <td>0.000003</td>\n",
       "      <td>4</td>\n",
       "      <td>20</td>\n",
       "      <td>60</td>\n",
       "      <td>10</td>\n",
       "      <td>0.25</td>\n",
       "      <td>{'max_depth': 4, 'min_samples_leaf': 20, 'min_...</td>\n",
       "      <td>...</td>\n",
       "      <td>0.846154</td>\n",
       "      <td>0.845646</td>\n",
       "      <td>0.845004</td>\n",
       "      <td>0.001285</td>\n",
       "      <td>18</td>\n",
       "      <td>0.845494</td>\n",
       "      <td>0.844023</td>\n",
       "      <td>0.848792</td>\n",
       "      <td>0.846103</td>\n",
       "      <td>0.001994</td>\n",
       "    </tr>\n",
       "    <tr>\n",
       "      <th>21</th>\n",
       "      <td>0.804433</td>\n",
       "      <td>0.033815</td>\n",
       "      <td>0.010390</td>\n",
       "      <td>0.003050</td>\n",
       "      <td>4</td>\n",
       "      <td>20</td>\n",
       "      <td>60</td>\n",
       "      <td>10</td>\n",
       "      <td>0.5</td>\n",
       "      <td>{'max_depth': 4, 'min_samples_leaf': 20, 'min_...</td>\n",
       "      <td>...</td>\n",
       "      <td>0.848183</td>\n",
       "      <td>0.845849</td>\n",
       "      <td>0.846661</td>\n",
       "      <td>0.001077</td>\n",
       "      <td>10</td>\n",
       "      <td>0.848539</td>\n",
       "      <td>0.844835</td>\n",
       "      <td>0.848691</td>\n",
       "      <td>0.847355</td>\n",
       "      <td>0.001783</td>\n",
       "    </tr>\n",
       "    <tr>\n",
       "      <th>22</th>\n",
       "      <td>0.787743</td>\n",
       "      <td>0.041449</td>\n",
       "      <td>0.018121</td>\n",
       "      <td>0.002160</td>\n",
       "      <td>4</td>\n",
       "      <td>20</td>\n",
       "      <td>60</td>\n",
       "      <td>15</td>\n",
       "      <td>0.25</td>\n",
       "      <td>{'max_depth': 4, 'min_samples_leaf': 20, 'min_...</td>\n",
       "      <td>...</td>\n",
       "      <td>0.848792</td>\n",
       "      <td>0.846864</td>\n",
       "      <td>0.847067</td>\n",
       "      <td>0.001333</td>\n",
       "      <td>7</td>\n",
       "      <td>0.849503</td>\n",
       "      <td>0.847727</td>\n",
       "      <td>0.849503</td>\n",
       "      <td>0.848911</td>\n",
       "      <td>0.000837</td>\n",
       "    </tr>\n",
       "    <tr>\n",
       "      <th>23</th>\n",
       "      <td>1.035799</td>\n",
       "      <td>0.010895</td>\n",
       "      <td>0.010459</td>\n",
       "      <td>0.007396</td>\n",
       "      <td>4</td>\n",
       "      <td>20</td>\n",
       "      <td>60</td>\n",
       "      <td>15</td>\n",
       "      <td>0.5</td>\n",
       "      <td>{'max_depth': 4, 'min_samples_leaf': 20, 'min_...</td>\n",
       "      <td>...</td>\n",
       "      <td>0.850416</td>\n",
       "      <td>0.847676</td>\n",
       "      <td>0.848420</td>\n",
       "      <td>0.001426</td>\n",
       "      <td>2</td>\n",
       "      <td>0.849756</td>\n",
       "      <td>0.849452</td>\n",
       "      <td>0.851634</td>\n",
       "      <td>0.850281</td>\n",
       "      <td>0.000965</td>\n",
       "    </tr>\n",
       "    <tr>\n",
       "      <th>24</th>\n",
       "      <td>0.486004</td>\n",
       "      <td>0.011547</td>\n",
       "      <td>0.010846</td>\n",
       "      <td>0.007690</td>\n",
       "      <td>4</td>\n",
       "      <td>40</td>\n",
       "      <td>40</td>\n",
       "      <td>10</td>\n",
       "      <td>0.25</td>\n",
       "      <td>{'max_depth': 4, 'min_samples_leaf': 40, 'min_...</td>\n",
       "      <td>...</td>\n",
       "      <td>0.845443</td>\n",
       "      <td>0.841486</td>\n",
       "      <td>0.842568</td>\n",
       "      <td>0.002054</td>\n",
       "      <td>29</td>\n",
       "      <td>0.842551</td>\n",
       "      <td>0.843312</td>\n",
       "      <td>0.843008</td>\n",
       "      <td>0.842957</td>\n",
       "      <td>0.000313</td>\n",
       "    </tr>\n",
       "    <tr>\n",
       "      <th>25</th>\n",
       "      <td>0.719631</td>\n",
       "      <td>0.008844</td>\n",
       "      <td>0.015498</td>\n",
       "      <td>0.000167</td>\n",
       "      <td>4</td>\n",
       "      <td>40</td>\n",
       "      <td>40</td>\n",
       "      <td>10</td>\n",
       "      <td>0.5</td>\n",
       "      <td>{'max_depth': 4, 'min_samples_leaf': 40, 'min_...</td>\n",
       "      <td>...</td>\n",
       "      <td>0.846763</td>\n",
       "      <td>0.845748</td>\n",
       "      <td>0.845714</td>\n",
       "      <td>0.000870</td>\n",
       "      <td>13</td>\n",
       "      <td>0.847981</td>\n",
       "      <td>0.843718</td>\n",
       "      <td>0.848640</td>\n",
       "      <td>0.846780</td>\n",
       "      <td>0.002181</td>\n",
       "    </tr>\n",
       "    <tr>\n",
       "      <th>26</th>\n",
       "      <td>0.662368</td>\n",
       "      <td>0.014748</td>\n",
       "      <td>0.010411</td>\n",
       "      <td>0.007362</td>\n",
       "      <td>4</td>\n",
       "      <td>40</td>\n",
       "      <td>40</td>\n",
       "      <td>15</td>\n",
       "      <td>0.25</td>\n",
       "      <td>{'max_depth': 4, 'min_samples_leaf': 40, 'min_...</td>\n",
       "      <td>...</td>\n",
       "      <td>0.846052</td>\n",
       "      <td>0.845545</td>\n",
       "      <td>0.845545</td>\n",
       "      <td>0.000414</td>\n",
       "      <td>15</td>\n",
       "      <td>0.848183</td>\n",
       "      <td>0.844784</td>\n",
       "      <td>0.849198</td>\n",
       "      <td>0.847389</td>\n",
       "      <td>0.001888</td>\n",
       "    </tr>\n",
       "    <tr>\n",
       "      <th>27</th>\n",
       "      <td>0.992916</td>\n",
       "      <td>0.003828</td>\n",
       "      <td>0.010412</td>\n",
       "      <td>0.007362</td>\n",
       "      <td>4</td>\n",
       "      <td>40</td>\n",
       "      <td>40</td>\n",
       "      <td>15</td>\n",
       "      <td>0.5</td>\n",
       "      <td>{'max_depth': 4, 'min_samples_leaf': 40, 'min_...</td>\n",
       "      <td>...</td>\n",
       "      <td>0.847879</td>\n",
       "      <td>0.846763</td>\n",
       "      <td>0.847575</td>\n",
       "      <td>0.000580</td>\n",
       "      <td>3</td>\n",
       "      <td>0.849909</td>\n",
       "      <td>0.847321</td>\n",
       "      <td>0.849503</td>\n",
       "      <td>0.848911</td>\n",
       "      <td>0.001136</td>\n",
       "    </tr>\n",
       "    <tr>\n",
       "      <th>28</th>\n",
       "      <td>0.475966</td>\n",
       "      <td>0.003486</td>\n",
       "      <td>0.010804</td>\n",
       "      <td>0.007652</td>\n",
       "      <td>4</td>\n",
       "      <td>40</td>\n",
       "      <td>60</td>\n",
       "      <td>10</td>\n",
       "      <td>0.25</td>\n",
       "      <td>{'max_depth': 4, 'min_samples_leaf': 40, 'min_...</td>\n",
       "      <td>...</td>\n",
       "      <td>0.844124</td>\n",
       "      <td>0.841689</td>\n",
       "      <td>0.842737</td>\n",
       "      <td>0.001023</td>\n",
       "      <td>28</td>\n",
       "      <td>0.843515</td>\n",
       "      <td>0.843414</td>\n",
       "      <td>0.842906</td>\n",
       "      <td>0.843279</td>\n",
       "      <td>0.000266</td>\n",
       "    </tr>\n",
       "    <tr>\n",
       "      <th>29</th>\n",
       "      <td>0.704382</td>\n",
       "      <td>0.016349</td>\n",
       "      <td>0.015591</td>\n",
       "      <td>0.000017</td>\n",
       "      <td>4</td>\n",
       "      <td>40</td>\n",
       "      <td>60</td>\n",
       "      <td>10</td>\n",
       "      <td>0.5</td>\n",
       "      <td>{'max_depth': 4, 'min_samples_leaf': 40, 'min_...</td>\n",
       "      <td>...</td>\n",
       "      <td>0.846763</td>\n",
       "      <td>0.845646</td>\n",
       "      <td>0.846019</td>\n",
       "      <td>0.000526</td>\n",
       "      <td>12</td>\n",
       "      <td>0.848133</td>\n",
       "      <td>0.843921</td>\n",
       "      <td>0.848133</td>\n",
       "      <td>0.846729</td>\n",
       "      <td>0.001985</td>\n",
       "    </tr>\n",
       "    <tr>\n",
       "      <th>30</th>\n",
       "      <td>0.674066</td>\n",
       "      <td>0.007815</td>\n",
       "      <td>0.010526</td>\n",
       "      <td>0.007444</td>\n",
       "      <td>4</td>\n",
       "      <td>40</td>\n",
       "      <td>60</td>\n",
       "      <td>15</td>\n",
       "      <td>0.25</td>\n",
       "      <td>{'max_depth': 4, 'min_samples_leaf': 40, 'min_...</td>\n",
       "      <td>...</td>\n",
       "      <td>0.846255</td>\n",
       "      <td>0.847270</td>\n",
       "      <td>0.846357</td>\n",
       "      <td>0.000708</td>\n",
       "      <td>11</td>\n",
       "      <td>0.846763</td>\n",
       "      <td>0.844276</td>\n",
       "      <td>0.849503</td>\n",
       "      <td>0.846847</td>\n",
       "      <td>0.002134</td>\n",
       "    </tr>\n",
       "    <tr>\n",
       "      <th>31</th>\n",
       "      <td>1.015347</td>\n",
       "      <td>0.011270</td>\n",
       "      <td>0.015637</td>\n",
       "      <td>0.000017</td>\n",
       "      <td>4</td>\n",
       "      <td>40</td>\n",
       "      <td>60</td>\n",
       "      <td>15</td>\n",
       "      <td>0.5</td>\n",
       "      <td>{'max_depth': 4, 'min_samples_leaf': 40, 'min_...</td>\n",
       "      <td>...</td>\n",
       "      <td>0.848386</td>\n",
       "      <td>0.846154</td>\n",
       "      <td>0.847270</td>\n",
       "      <td>0.000911</td>\n",
       "      <td>5</td>\n",
       "      <td>0.850112</td>\n",
       "      <td>0.847625</td>\n",
       "      <td>0.849706</td>\n",
       "      <td>0.849148</td>\n",
       "      <td>0.001089</td>\n",
       "    </tr>\n",
       "  </tbody>\n",
       "</table>\n",
       "<p>32 rows × 21 columns</p>\n",
       "</div>"
      ],
      "text/plain": [
       "    mean_fit_time  std_fit_time  mean_score_time  std_score_time  \\\n",
       "0        0.416539      0.016875         0.008969        0.006584   \n",
       "1        0.569014      0.007976         0.012387        0.002288   \n",
       "2        0.556583      0.003854         0.015616        0.000003   \n",
       "3        0.840475      0.007780         0.016592        0.001377   \n",
       "4        0.417804      0.007734         0.009358        0.006742   \n",
       "5        0.563144      0.014514         0.010762        0.007624   \n",
       "6        0.587697      0.019970         0.012632        0.009337   \n",
       "7        0.816565      0.017923         0.010715        0.006946   \n",
       "8        0.414932      0.015147         0.010412        0.007362   \n",
       "9        0.569043      0.015510         0.008439        0.006437   \n",
       "10       0.562360      0.011134         0.005193        0.007344   \n",
       "11       0.816166      0.004345         0.010648        0.007535   \n",
       "12       0.411314      0.007798         0.015816        0.000307   \n",
       "13       0.616554      0.008213         0.006289        0.007533   \n",
       "14       0.545098      0.007191         0.015767        0.000168   \n",
       "15       0.833795      0.016043         0.011296        0.008060   \n",
       "16       0.486430      0.008284         0.020645        0.003829   \n",
       "17       0.723449      0.015558         0.010456        0.007394   \n",
       "18       0.710917      0.012109         0.009307        0.006720   \n",
       "19       1.031896      0.013878         0.021482        0.009493   \n",
       "20       0.506946      0.015111         0.015752        0.000003   \n",
       "21       0.804433      0.033815         0.010390        0.003050   \n",
       "22       0.787743      0.041449         0.018121        0.002160   \n",
       "23       1.035799      0.010895         0.010459        0.007396   \n",
       "24       0.486004      0.011547         0.010846        0.007690   \n",
       "25       0.719631      0.008844         0.015498        0.000167   \n",
       "26       0.662368      0.014748         0.010411        0.007362   \n",
       "27       0.992916      0.003828         0.010412        0.007362   \n",
       "28       0.475966      0.003486         0.010804        0.007652   \n",
       "29       0.704382      0.016349         0.015591        0.000017   \n",
       "30       0.674066      0.007815         0.010526        0.007444   \n",
       "31       1.015347      0.011270         0.015637        0.000017   \n",
       "\n",
       "   param_max_depth param_min_samples_leaf param_min_samples_split  \\\n",
       "0                3                     20                      40   \n",
       "1                3                     20                      40   \n",
       "2                3                     20                      40   \n",
       "3                3                     20                      40   \n",
       "4                3                     20                      60   \n",
       "5                3                     20                      60   \n",
       "6                3                     20                      60   \n",
       "7                3                     20                      60   \n",
       "8                3                     40                      40   \n",
       "9                3                     40                      40   \n",
       "10               3                     40                      40   \n",
       "11               3                     40                      40   \n",
       "12               3                     40                      60   \n",
       "13               3                     40                      60   \n",
       "14               3                     40                      60   \n",
       "15               3                     40                      60   \n",
       "16               4                     20                      40   \n",
       "17               4                     20                      40   \n",
       "18               4                     20                      40   \n",
       "19               4                     20                      40   \n",
       "20               4                     20                      60   \n",
       "21               4                     20                      60   \n",
       "22               4                     20                      60   \n",
       "23               4                     20                      60   \n",
       "24               4                     40                      40   \n",
       "25               4                     40                      40   \n",
       "26               4                     40                      40   \n",
       "27               4                     40                      40   \n",
       "28               4                     40                      60   \n",
       "29               4                     40                      60   \n",
       "30               4                     40                      60   \n",
       "31               4                     40                      60   \n",
       "\n",
       "   param_n_estimators param_subsample  \\\n",
       "0                  10            0.25   \n",
       "1                  10             0.5   \n",
       "2                  15            0.25   \n",
       "3                  15             0.5   \n",
       "4                  10            0.25   \n",
       "5                  10             0.5   \n",
       "6                  15            0.25   \n",
       "7                  15             0.5   \n",
       "8                  10            0.25   \n",
       "9                  10             0.5   \n",
       "10                 15            0.25   \n",
       "11                 15             0.5   \n",
       "12                 10            0.25   \n",
       "13                 10             0.5   \n",
       "14                 15            0.25   \n",
       "15                 15             0.5   \n",
       "16                 10            0.25   \n",
       "17                 10             0.5   \n",
       "18                 15            0.25   \n",
       "19                 15             0.5   \n",
       "20                 10            0.25   \n",
       "21                 10             0.5   \n",
       "22                 15            0.25   \n",
       "23                 15             0.5   \n",
       "24                 10            0.25   \n",
       "25                 10             0.5   \n",
       "26                 15            0.25   \n",
       "27                 15             0.5   \n",
       "28                 10            0.25   \n",
       "29                 10             0.5   \n",
       "30                 15            0.25   \n",
       "31                 15             0.5   \n",
       "\n",
       "                                               params       ...         \\\n",
       "0   {'max_depth': 3, 'min_samples_leaf': 20, 'min_...       ...          \n",
       "1   {'max_depth': 3, 'min_samples_leaf': 20, 'min_...       ...          \n",
       "2   {'max_depth': 3, 'min_samples_leaf': 20, 'min_...       ...          \n",
       "3   {'max_depth': 3, 'min_samples_leaf': 20, 'min_...       ...          \n",
       "4   {'max_depth': 3, 'min_samples_leaf': 20, 'min_...       ...          \n",
       "5   {'max_depth': 3, 'min_samples_leaf': 20, 'min_...       ...          \n",
       "6   {'max_depth': 3, 'min_samples_leaf': 20, 'min_...       ...          \n",
       "7   {'max_depth': 3, 'min_samples_leaf': 20, 'min_...       ...          \n",
       "8   {'max_depth': 3, 'min_samples_leaf': 40, 'min_...       ...          \n",
       "9   {'max_depth': 3, 'min_samples_leaf': 40, 'min_...       ...          \n",
       "10  {'max_depth': 3, 'min_samples_leaf': 40, 'min_...       ...          \n",
       "11  {'max_depth': 3, 'min_samples_leaf': 40, 'min_...       ...          \n",
       "12  {'max_depth': 3, 'min_samples_leaf': 40, 'min_...       ...          \n",
       "13  {'max_depth': 3, 'min_samples_leaf': 40, 'min_...       ...          \n",
       "14  {'max_depth': 3, 'min_samples_leaf': 40, 'min_...       ...          \n",
       "15  {'max_depth': 3, 'min_samples_leaf': 40, 'min_...       ...          \n",
       "16  {'max_depth': 4, 'min_samples_leaf': 20, 'min_...       ...          \n",
       "17  {'max_depth': 4, 'min_samples_leaf': 20, 'min_...       ...          \n",
       "18  {'max_depth': 4, 'min_samples_leaf': 20, 'min_...       ...          \n",
       "19  {'max_depth': 4, 'min_samples_leaf': 20, 'min_...       ...          \n",
       "20  {'max_depth': 4, 'min_samples_leaf': 20, 'min_...       ...          \n",
       "21  {'max_depth': 4, 'min_samples_leaf': 20, 'min_...       ...          \n",
       "22  {'max_depth': 4, 'min_samples_leaf': 20, 'min_...       ...          \n",
       "23  {'max_depth': 4, 'min_samples_leaf': 20, 'min_...       ...          \n",
       "24  {'max_depth': 4, 'min_samples_leaf': 40, 'min_...       ...          \n",
       "25  {'max_depth': 4, 'min_samples_leaf': 40, 'min_...       ...          \n",
       "26  {'max_depth': 4, 'min_samples_leaf': 40, 'min_...       ...          \n",
       "27  {'max_depth': 4, 'min_samples_leaf': 40, 'min_...       ...          \n",
       "28  {'max_depth': 4, 'min_samples_leaf': 40, 'min_...       ...          \n",
       "29  {'max_depth': 4, 'min_samples_leaf': 40, 'min_...       ...          \n",
       "30  {'max_depth': 4, 'min_samples_leaf': 40, 'min_...       ...          \n",
       "31  {'max_depth': 4, 'min_samples_leaf': 40, 'min_...       ...          \n",
       "\n",
       "    split1_test_score  split2_test_score  mean_test_score  std_test_score  \\\n",
       "0            0.843211           0.842399         0.842534        0.000506   \n",
       "1            0.846052           0.843718         0.843955        0.001624   \n",
       "2            0.846255           0.844226         0.845579        0.000957   \n",
       "3            0.847981           0.847169         0.846729        0.001241   \n",
       "4            0.845951           0.842703         0.843549        0.001723   \n",
       "5            0.843921           0.843008         0.842906        0.000873   \n",
       "6            0.846661           0.843718         0.845342        0.001221   \n",
       "7            0.848285           0.846357         0.847101        0.000846   \n",
       "8            0.843109           0.839963         0.840978        0.001507   \n",
       "9            0.845748           0.843414         0.843820        0.001438   \n",
       "10           0.845545           0.843718         0.844665        0.000747   \n",
       "11           0.845748           0.844835         0.845071        0.000486   \n",
       "12           0.843515           0.839659         0.841587        0.001574   \n",
       "13           0.846255           0.844530         0.844124        0.001927   \n",
       "14           0.845849           0.843820         0.844192        0.001230   \n",
       "15           0.846357           0.844632         0.845004        0.000989   \n",
       "16           0.846763           0.845038         0.844868        0.001620   \n",
       "17           0.851431           0.845748         0.847372        0.002889   \n",
       "18           0.847067           0.846966         0.846729        0.000409   \n",
       "19           0.850315           0.847575         0.848556        0.001247   \n",
       "20           0.846154           0.845646         0.845004        0.001285   \n",
       "21           0.848183           0.845849         0.846661        0.001077   \n",
       "22           0.848792           0.846864         0.847067        0.001333   \n",
       "23           0.850416           0.847676         0.848420        0.001426   \n",
       "24           0.845443           0.841486         0.842568        0.002054   \n",
       "25           0.846763           0.845748         0.845714        0.000870   \n",
       "26           0.846052           0.845545         0.845545        0.000414   \n",
       "27           0.847879           0.846763         0.847575        0.000580   \n",
       "28           0.844124           0.841689         0.842737        0.001023   \n",
       "29           0.846763           0.845646         0.846019        0.000526   \n",
       "30           0.846255           0.847270         0.846357        0.000708   \n",
       "31           0.848386           0.846154         0.847270        0.000911   \n",
       "\n",
       "    rank_test_score  split0_train_score  split1_train_score  \\\n",
       "0                30            0.843515            0.841131   \n",
       "1                24            0.843515            0.842602   \n",
       "2                14            0.848082            0.844835   \n",
       "3                 8            0.846712            0.846002   \n",
       "4                26            0.843921            0.844073   \n",
       "5                27            0.843515            0.842196   \n",
       "6                16            0.845900            0.842856   \n",
       "7                 6            0.848539            0.845799   \n",
       "8                32            0.841232            0.841131   \n",
       "9                25            0.844226            0.843871   \n",
       "10               21            0.845038            0.843566   \n",
       "11               17            0.846560            0.843921   \n",
       "12               31            0.843211            0.841587   \n",
       "13               23            0.843312            0.843871   \n",
       "14               22            0.844936            0.843921   \n",
       "15               18            0.846560            0.843160   \n",
       "16               20            0.845190            0.844632   \n",
       "17                4            0.848183            0.846915   \n",
       "18                8            0.848792            0.847321   \n",
       "19                1            0.850315            0.848792   \n",
       "20               18            0.845494            0.844023   \n",
       "21               10            0.848539            0.844835   \n",
       "22                7            0.849503            0.847727   \n",
       "23                2            0.849756            0.849452   \n",
       "24               29            0.842551            0.843312   \n",
       "25               13            0.847981            0.843718   \n",
       "26               15            0.848183            0.844784   \n",
       "27                3            0.849909            0.847321   \n",
       "28               28            0.843515            0.843414   \n",
       "29               12            0.848133            0.843921   \n",
       "30               11            0.846763            0.844276   \n",
       "31                5            0.850112            0.847625   \n",
       "\n",
       "    split2_train_score  mean_train_score  std_train_score  \n",
       "0             0.843566          0.842737         0.001136  \n",
       "1             0.845697          0.843938         0.001298  \n",
       "2             0.846864          0.846594         0.001339  \n",
       "3             0.849807          0.847507         0.001652  \n",
       "4             0.845038          0.844344         0.000494  \n",
       "5             0.845494          0.843735         0.001355  \n",
       "6             0.846458          0.845071         0.001583  \n",
       "7             0.849756          0.848031         0.001655  \n",
       "8             0.840369          0.840911         0.000385  \n",
       "9             0.845646          0.844581         0.000767  \n",
       "10            0.845849          0.844818         0.000945  \n",
       "11            0.847219          0.845900         0.001425  \n",
       "12            0.841384          0.842061         0.000817  \n",
       "13            0.845951          0.844378         0.001135  \n",
       "14            0.845900          0.844919         0.000808  \n",
       "15            0.847016          0.845579         0.001720  \n",
       "16            0.847067          0.845630         0.001042  \n",
       "17            0.848995          0.848031         0.000856  \n",
       "18            0.849604          0.848572         0.000945  \n",
       "19            0.850518          0.849875         0.000770  \n",
       "20            0.848792          0.846103         0.001994  \n",
       "21            0.848691          0.847355         0.001783  \n",
       "22            0.849503          0.848911         0.000837  \n",
       "23            0.851634          0.850281         0.000965  \n",
       "24            0.843008          0.842957         0.000313  \n",
       "25            0.848640          0.846780         0.002181  \n",
       "26            0.849198          0.847389         0.001888  \n",
       "27            0.849503          0.848911         0.001136  \n",
       "28            0.842906          0.843279         0.000266  \n",
       "29            0.848133          0.846729         0.001985  \n",
       "30            0.849503          0.846847         0.002134  \n",
       "31            0.849706          0.849148         0.001089  \n",
       "\n",
       "[32 rows x 21 columns]"
      ]
     },
     "execution_count": 46,
     "metadata": {},
     "output_type": "execute_result"
    }
   ],
   "source": [
    "print(grid_gbt.best_estimator_)\n",
    "print(grid_gbt.best_score_)\n",
    "pd.DataFrame(grid_gbt.cv_results_)"
   ]
  },
  {
   "cell_type": "markdown",
   "metadata": {},
   "source": [
    "### Confusion Matrix"
   ]
  },
  {
   "cell_type": "markdown",
   "metadata": {},
   "source": [
    "### Winner!!!!! with 5 features"
   ]
  },
  {
   "cell_type": "code",
   "execution_count": 47,
   "metadata": {},
   "outputs": [
    {
     "name": "stderr",
     "output_type": "stream",
     "text": [
      "C:\\ProgramData\\Anaconda3\\lib\\site-packages\\plotnine\\utils.py:281: FutureWarning: Method .as_matrix will be removed in a future version. Use .values instead.\n",
      "  ndistinct = ids.apply(len_unique, axis=0).as_matrix()\n",
      "C:\\ProgramData\\Anaconda3\\lib\\site-packages\\pandas\\core\\generic.py:4388: FutureWarning: Attribute 'is_copy' is deprecated and will be removed in a future version.\n",
      "  object.__getattribute__(self, name)\n",
      "C:\\ProgramData\\Anaconda3\\lib\\site-packages\\pandas\\core\\generic.py:4389: FutureWarning: Attribute 'is_copy' is deprecated and will be removed in a future version.\n",
      "  return object.__setattr__(self, name, value)\n"
     ]
    },
    {
     "data": {
      "image/png": "[encoded data removed]",
      "text/plain": [
       "<Figure size 640x480 with 1 Axes>"
      ]
     },
     "metadata": {
      "needs_background": "light"
     },
     "output_type": "display_data"
    },
    {
     "data": {
      "text/plain": [
       "<ggplot: (116618678006)>"
      ]
     },
     "execution_count": 47,
     "metadata": {},
     "output_type": "execute_result"
    }
   ],
   "source": [
    "cnf_matrix = confusion_matrix( y_te, grid_logit.predict(X_te) )\n",
    "plot_confusion_matrix(cnf_matrix, normalize=False)"
   ]
  },
  {
   "cell_type": "code",
   "execution_count": 48,
   "metadata": {},
   "outputs": [
    {
     "data": {
      "text/plain": [
       "0.8320478993302213"
      ]
     },
     "execution_count": 48,
     "metadata": {},
     "output_type": "execute_result"
    }
   ],
   "source": [
    "(8032+167)/(1553+8032+102+167)"
   ]
  },
  {
   "cell_type": "markdown",
   "metadata": {},
   "source": [
    "### Another test with more features or \"X\" 9 features"
   ]
  },
  {
   "cell_type": "code",
   "execution_count": 49,
   "metadata": {},
   "outputs": [],
   "source": [
    "# from sklearn.model_selection import train_test_split\n",
    "# #Define X and y with patsy dmatrices\n",
    "# X = df[['GROSS SQUARE FEET','TOTAL UNITS','LAND SQUARE FEET','BOROUGH', 'BUILDING CLASS CATEGORY','NEIGHBORHOOD','RESIDENTIAL UNITS','BLOCK'\n",
    "          \n",
    "#           ]] #features we think may help predict y\n",
    "# y = df['SalePrice1mill'] #what we want to predict\n",
    "# #X_tr, X_te, y_tr, y_te = train_test_split(X, y, random_state = 0)\n",
    "# #A brief preview of our train test split\n",
    "# #print(len(X_tr), len(X_te), len(y_tr), len(y_te))\n",
    "\n"
   ]
  },
  {
   "cell_type": "code",
   "execution_count": 50,
   "metadata": {},
   "outputs": [],
   "source": [
    "from patsy import dmatrices\n",
    "y, X = dmatrices('SalePrice1mill ~ BOROUGH + NEIGHBORHOOD + Q(\"TOTAL UNITS\")+ BLOCK +Q(\"RESIDENTIAL UNITS\")+ Q(\"TOTAL UNITS\")+ Q(\"GROSS SQUARE FEET\") +Q(\"LAND SQUARE FEET\")+Q(\"BUILDING CLASS CATEGORY\")',\n",
    "                 df, return_type = \"dataframe\")"
   ]
  },
  {
   "cell_type": "markdown",
   "metadata": {},
   "source": [
    "### Logistic"
   ]
  },
  {
   "cell_type": "code",
   "execution_count": 51,
   "metadata": {
    "scrolled": true
   },
   "outputs": [
    {
     "name": "stdout",
     "output_type": "stream",
     "text": [
      "Fitting 3 folds for each of 4 candidates, totalling 12 fits\n"
     ]
    },
    {
     "name": "stderr",
     "output_type": "stream",
     "text": [
      "C:\\ProgramData\\Anaconda3\\lib\\site-packages\\sklearn\\utils\\validation.py:578: DataConversionWarning: A column-vector y was passed when a 1d array was expected. Please change the shape of y to (n_samples, ), for example using ravel().\n",
      "  y = column_or_1d(y, warn=True)\n",
      "C:\\ProgramData\\Anaconda3\\lib\\site-packages\\sklearn\\utils\\validation.py:578: DataConversionWarning: A column-vector y was passed when a 1d array was expected. Please change the shape of y to (n_samples, ), for example using ravel().\n",
      "  y = column_or_1d(y, warn=True)\n",
      "C:\\ProgramData\\Anaconda3\\lib\\site-packages\\sklearn\\utils\\validation.py:578: DataConversionWarning: A column-vector y was passed when a 1d array was expected. Please change the shape of y to (n_samples, ), for example using ravel().\n",
      "  y = column_or_1d(y, warn=True)\n",
      "C:\\ProgramData\\Anaconda3\\lib\\site-packages\\sklearn\\utils\\validation.py:578: DataConversionWarning: A column-vector y was passed when a 1d array was expected. Please change the shape of y to (n_samples, ), for example using ravel().\n",
      "  y = column_or_1d(y, warn=True)\n",
      "C:\\ProgramData\\Anaconda3\\lib\\site-packages\\sklearn\\utils\\validation.py:578: DataConversionWarning: A column-vector y was passed when a 1d array was expected. Please change the shape of y to (n_samples, ), for example using ravel().\n",
      "  y = column_or_1d(y, warn=True)\n",
      "C:\\ProgramData\\Anaconda3\\lib\\site-packages\\sklearn\\utils\\validation.py:578: DataConversionWarning: A column-vector y was passed when a 1d array was expected. Please change the shape of y to (n_samples, ), for example using ravel().\n",
      "  y = column_or_1d(y, warn=True)\n",
      "C:\\ProgramData\\Anaconda3\\lib\\site-packages\\sklearn\\utils\\validation.py:578: DataConversionWarning: A column-vector y was passed when a 1d array was expected. Please change the shape of y to (n_samples, ), for example using ravel().\n",
      "  y = column_or_1d(y, warn=True)\n",
      "C:\\ProgramData\\Anaconda3\\lib\\site-packages\\sklearn\\utils\\validation.py:578: DataConversionWarning: A column-vector y was passed when a 1d array was expected. Please change the shape of y to (n_samples, ), for example using ravel().\n",
      "  y = column_or_1d(y, warn=True)\n",
      "C:\\ProgramData\\Anaconda3\\lib\\site-packages\\sklearn\\utils\\validation.py:578: DataConversionWarning: A column-vector y was passed when a 1d array was expected. Please change the shape of y to (n_samples, ), for example using ravel().\n",
      "  y = column_or_1d(y, warn=True)\n",
      "C:\\ProgramData\\Anaconda3\\lib\\site-packages\\sklearn\\utils\\validation.py:578: DataConversionWarning: A column-vector y was passed when a 1d array was expected. Please change the shape of y to (n_samples, ), for example using ravel().\n",
      "  y = column_or_1d(y, warn=True)\n",
      "C:\\ProgramData\\Anaconda3\\lib\\site-packages\\sklearn\\utils\\validation.py:578: DataConversionWarning: A column-vector y was passed when a 1d array was expected. Please change the shape of y to (n_samples, ), for example using ravel().\n",
      "  y = column_or_1d(y, warn=True)\n",
      "C:\\ProgramData\\Anaconda3\\lib\\site-packages\\sklearn\\utils\\validation.py:578: DataConversionWarning: A column-vector y was passed when a 1d array was expected. Please change the shape of y to (n_samples, ), for example using ravel().\n",
      "  y = column_or_1d(y, warn=True)\n",
      "[Parallel(n_jobs=1)]: Done  12 out of  12 | elapsed:   11.2s finished\n",
      "C:\\ProgramData\\Anaconda3\\lib\\site-packages\\sklearn\\utils\\validation.py:578: DataConversionWarning: A column-vector y was passed when a 1d array was expected. Please change the shape of y to (n_samples, ), for example using ravel().\n",
      "  y = column_or_1d(y, warn=True)\n"
     ]
    },
    {
     "data": {
      "text/plain": [
       "GridSearchCV(cv=None, error_score='raise',\n",
       "       estimator=LogisticRegression(C=1.0, class_weight=None, dual=False, fit_intercept=True,\n",
       "          intercept_scaling=1, max_iter=100, multi_class='multinomial',\n",
       "          n_jobs=1, penalty='l2', random_state=None, solver='lbfgs',\n",
       "          tol=0.0001, verbose=0, warm_start=False),\n",
       "       fit_params=None, iid=True, n_jobs=1,\n",
       "       param_grid={'C': [0.1, 1, 10, 100]}, pre_dispatch='2*n_jobs',\n",
       "       refit=True, return_train_score='warn', scoring=None, verbose=1)"
      ]
     },
     "execution_count": 51,
     "metadata": {},
     "output_type": "execute_result"
    }
   ],
   "source": [
    "params = {\n",
    "    'C': [0.1, 1, 10, 100]\n",
    "}\n",
    "regression = LogisticRegression(multi_class='multinomial', solver='lbfgs')\n",
    "grid_logit = GridSearchCV(estimator=regression, param_grid=params, verbose=1)\n",
    "grid_logit.fit(X_tr, y_tr)"
   ]
  },
  {
   "cell_type": "code",
   "execution_count": 52,
   "metadata": {},
   "outputs": [
    {
     "name": "stdout",
     "output_type": "stream",
     "text": [
      "0.8390501319261213\n"
     ]
    }
   ],
   "source": [
    "print(grid_logit.best_score_)"
   ]
  },
  {
   "cell_type": "code",
   "execution_count": 53,
   "metadata": {},
   "outputs": [
    {
     "name": "stdout",
     "output_type": "stream",
     "text": [
      "Fitting 3 folds for each of 32 candidates, totalling 96 fits\n",
      "[CV] max_depth=3, min_samples_leaf=20, min_samples_split=40, n_estimators=10, subsample=0.25 \n"
     ]
    },
    {
     "name": "stderr",
     "output_type": "stream",
     "text": [
      "C:\\ProgramData\\Anaconda3\\lib\\site-packages\\sklearn\\utils\\validation.py:578: DataConversionWarning: A column-vector y was passed when a 1d array was expected. Please change the shape of y to (n_samples, ), for example using ravel().\n",
      "  y = column_or_1d(y, warn=True)\n"
     ]
    },
    {
     "name": "stdout",
     "output_type": "stream",
     "text": [
      "[CV]  max_depth=3, min_samples_leaf=20, min_samples_split=40, n_estimators=10, subsample=0.25, total=   0.4s\n",
      "[CV] max_depth=3, min_samples_leaf=20, min_samples_split=40, n_estimators=10, subsample=0.25 \n"
     ]
    },
    {
     "name": "stderr",
     "output_type": "stream",
     "text": [
      "[Parallel(n_jobs=1)]: Done   1 out of   1 | elapsed:    0.5s remaining:    0.0s\n",
      "C:\\ProgramData\\Anaconda3\\lib\\site-packages\\sklearn\\utils\\validation.py:578: DataConversionWarning: A column-vector y was passed when a 1d array was expected. Please change the shape of y to (n_samples, ), for example using ravel().\n",
      "  y = column_or_1d(y, warn=True)\n"
     ]
    },
    {
     "name": "stdout",
     "output_type": "stream",
     "text": [
      "[CV]  max_depth=3, min_samples_leaf=20, min_samples_split=40, n_estimators=10, subsample=0.25, total=   0.4s\n",
      "[CV] max_depth=3, min_samples_leaf=20, min_samples_split=40, n_estimators=10, subsample=0.25 \n"
     ]
    },
    {
     "name": "stderr",
     "output_type": "stream",
     "text": [
      "C:\\ProgramData\\Anaconda3\\lib\\site-packages\\sklearn\\utils\\validation.py:578: DataConversionWarning: A column-vector y was passed when a 1d array was expected. Please change the shape of y to (n_samples, ), for example using ravel().\n",
      "  y = column_or_1d(y, warn=True)\n"
     ]
    },
    {
     "name": "stdout",
     "output_type": "stream",
     "text": [
      "[CV]  max_depth=3, min_samples_leaf=20, min_samples_split=40, n_estimators=10, subsample=0.25, total=   0.3s\n",
      "[CV] max_depth=3, min_samples_leaf=20, min_samples_split=40, n_estimators=10, subsample=0.5 \n"
     ]
    },
    {
     "name": "stderr",
     "output_type": "stream",
     "text": [
      "C:\\ProgramData\\Anaconda3\\lib\\site-packages\\sklearn\\utils\\validation.py:578: DataConversionWarning: A column-vector y was passed when a 1d array was expected. Please change the shape of y to (n_samples, ), for example using ravel().\n",
      "  y = column_or_1d(y, warn=True)\n"
     ]
    },
    {
     "name": "stdout",
     "output_type": "stream",
     "text": [
      "[CV]  max_depth=3, min_samples_leaf=20, min_samples_split=40, n_estimators=10, subsample=0.5, total=   0.5s\n",
      "[CV] max_depth=3, min_samples_leaf=20, min_samples_split=40, n_estimators=10, subsample=0.5 \n"
     ]
    },
    {
     "name": "stderr",
     "output_type": "stream",
     "text": [
      "C:\\ProgramData\\Anaconda3\\lib\\site-packages\\sklearn\\utils\\validation.py:578: DataConversionWarning: A column-vector y was passed when a 1d array was expected. Please change the shape of y to (n_samples, ), for example using ravel().\n",
      "  y = column_or_1d(y, warn=True)\n"
     ]
    },
    {
     "name": "stdout",
     "output_type": "stream",
     "text": [
      "[CV]  max_depth=3, min_samples_leaf=20, min_samples_split=40, n_estimators=10, subsample=0.5, total=   0.5s\n",
      "[CV] max_depth=3, min_samples_leaf=20, min_samples_split=40, n_estimators=10, subsample=0.5 \n"
     ]
    },
    {
     "name": "stderr",
     "output_type": "stream",
     "text": [
      "C:\\ProgramData\\Anaconda3\\lib\\site-packages\\sklearn\\utils\\validation.py:578: DataConversionWarning: A column-vector y was passed when a 1d array was expected. Please change the shape of y to (n_samples, ), for example using ravel().\n",
      "  y = column_or_1d(y, warn=True)\n"
     ]
    },
    {
     "name": "stdout",
     "output_type": "stream",
     "text": [
      "[CV]  max_depth=3, min_samples_leaf=20, min_samples_split=40, n_estimators=10, subsample=0.5, total=   0.5s\n",
      "[CV] max_depth=3, min_samples_leaf=20, min_samples_split=40, n_estimators=15, subsample=0.25 \n"
     ]
    },
    {
     "name": "stderr",
     "output_type": "stream",
     "text": [
      "C:\\ProgramData\\Anaconda3\\lib\\site-packages\\sklearn\\utils\\validation.py:578: DataConversionWarning: A column-vector y was passed when a 1d array was expected. Please change the shape of y to (n_samples, ), for example using ravel().\n",
      "  y = column_or_1d(y, warn=True)\n"
     ]
    },
    {
     "name": "stdout",
     "output_type": "stream",
     "text": [
      "[CV]  max_depth=3, min_samples_leaf=20, min_samples_split=40, n_estimators=15, subsample=0.25, total=   0.5s\n",
      "[CV] max_depth=3, min_samples_leaf=20, min_samples_split=40, n_estimators=15, subsample=0.25 \n"
     ]
    },
    {
     "name": "stderr",
     "output_type": "stream",
     "text": [
      "C:\\ProgramData\\Anaconda3\\lib\\site-packages\\sklearn\\utils\\validation.py:578: DataConversionWarning: A column-vector y was passed when a 1d array was expected. Please change the shape of y to (n_samples, ), for example using ravel().\n",
      "  y = column_or_1d(y, warn=True)\n"
     ]
    },
    {
     "name": "stdout",
     "output_type": "stream",
     "text": [
      "[CV]  max_depth=3, min_samples_leaf=20, min_samples_split=40, n_estimators=15, subsample=0.25, total=   0.5s\n",
      "[CV] max_depth=3, min_samples_leaf=20, min_samples_split=40, n_estimators=15, subsample=0.25 \n"
     ]
    },
    {
     "name": "stderr",
     "output_type": "stream",
     "text": [
      "C:\\ProgramData\\Anaconda3\\lib\\site-packages\\sklearn\\utils\\validation.py:578: DataConversionWarning: A column-vector y was passed when a 1d array was expected. Please change the shape of y to (n_samples, ), for example using ravel().\n",
      "  y = column_or_1d(y, warn=True)\n"
     ]
    },
    {
     "name": "stdout",
     "output_type": "stream",
     "text": [
      "[CV]  max_depth=3, min_samples_leaf=20, min_samples_split=40, n_estimators=15, subsample=0.25, total=   0.5s\n",
      "[CV] max_depth=3, min_samples_leaf=20, min_samples_split=40, n_estimators=15, subsample=0.5 \n"
     ]
    },
    {
     "name": "stderr",
     "output_type": "stream",
     "text": [
      "C:\\ProgramData\\Anaconda3\\lib\\site-packages\\sklearn\\utils\\validation.py:578: DataConversionWarning: A column-vector y was passed when a 1d array was expected. Please change the shape of y to (n_samples, ), for example using ravel().\n",
      "  y = column_or_1d(y, warn=True)\n"
     ]
    },
    {
     "name": "stdout",
     "output_type": "stream",
     "text": [
      "[CV]  max_depth=3, min_samples_leaf=20, min_samples_split=40, n_estimators=15, subsample=0.5, total=   0.8s\n",
      "[CV] max_depth=3, min_samples_leaf=20, min_samples_split=40, n_estimators=15, subsample=0.5 \n"
     ]
    },
    {
     "name": "stderr",
     "output_type": "stream",
     "text": [
      "C:\\ProgramData\\Anaconda3\\lib\\site-packages\\sklearn\\utils\\validation.py:578: DataConversionWarning: A column-vector y was passed when a 1d array was expected. Please change the shape of y to (n_samples, ), for example using ravel().\n",
      "  y = column_or_1d(y, warn=True)\n"
     ]
    },
    {
     "name": "stdout",
     "output_type": "stream",
     "text": [
      "[CV]  max_depth=3, min_samples_leaf=20, min_samples_split=40, n_estimators=15, subsample=0.5, total=   0.8s\n",
      "[CV] max_depth=3, min_samples_leaf=20, min_samples_split=40, n_estimators=15, subsample=0.5 \n"
     ]
    },
    {
     "name": "stderr",
     "output_type": "stream",
     "text": [
      "C:\\ProgramData\\Anaconda3\\lib\\site-packages\\sklearn\\utils\\validation.py:578: DataConversionWarning: A column-vector y was passed when a 1d array was expected. Please change the shape of y to (n_samples, ), for example using ravel().\n",
      "  y = column_or_1d(y, warn=True)\n"
     ]
    },
    {
     "name": "stdout",
     "output_type": "stream",
     "text": [
      "[CV]  max_depth=3, min_samples_leaf=20, min_samples_split=40, n_estimators=15, subsample=0.5, total=   0.8s\n",
      "[CV] max_depth=3, min_samples_leaf=20, min_samples_split=60, n_estimators=10, subsample=0.25 \n"
     ]
    },
    {
     "name": "stderr",
     "output_type": "stream",
     "text": [
      "C:\\ProgramData\\Anaconda3\\lib\\site-packages\\sklearn\\utils\\validation.py:578: DataConversionWarning: A column-vector y was passed when a 1d array was expected. Please change the shape of y to (n_samples, ), for example using ravel().\n",
      "  y = column_or_1d(y, warn=True)\n"
     ]
    },
    {
     "name": "stdout",
     "output_type": "stream",
     "text": [
      "[CV]  max_depth=3, min_samples_leaf=20, min_samples_split=60, n_estimators=10, subsample=0.25, total=   0.4s\n",
      "[CV] max_depth=3, min_samples_leaf=20, min_samples_split=60, n_estimators=10, subsample=0.25 \n"
     ]
    },
    {
     "name": "stderr",
     "output_type": "stream",
     "text": [
      "C:\\ProgramData\\Anaconda3\\lib\\site-packages\\sklearn\\utils\\validation.py:578: DataConversionWarning: A column-vector y was passed when a 1d array was expected. Please change the shape of y to (n_samples, ), for example using ravel().\n",
      "  y = column_or_1d(y, warn=True)\n"
     ]
    },
    {
     "name": "stdout",
     "output_type": "stream",
     "text": [
      "[CV]  max_depth=3, min_samples_leaf=20, min_samples_split=60, n_estimators=10, subsample=0.25, total=   0.4s\n",
      "[CV] max_depth=3, min_samples_leaf=20, min_samples_split=60, n_estimators=10, subsample=0.25 \n"
     ]
    },
    {
     "name": "stderr",
     "output_type": "stream",
     "text": [
      "C:\\ProgramData\\Anaconda3\\lib\\site-packages\\sklearn\\utils\\validation.py:578: DataConversionWarning: A column-vector y was passed when a 1d array was expected. Please change the shape of y to (n_samples, ), for example using ravel().\n",
      "  y = column_or_1d(y, warn=True)\n"
     ]
    },
    {
     "name": "stdout",
     "output_type": "stream",
     "text": [
      "[CV]  max_depth=3, min_samples_leaf=20, min_samples_split=60, n_estimators=10, subsample=0.25, total=   0.3s\n",
      "[CV] max_depth=3, min_samples_leaf=20, min_samples_split=60, n_estimators=10, subsample=0.5 \n"
     ]
    },
    {
     "name": "stderr",
     "output_type": "stream",
     "text": [
      "C:\\ProgramData\\Anaconda3\\lib\\site-packages\\sklearn\\utils\\validation.py:578: DataConversionWarning: A column-vector y was passed when a 1d array was expected. Please change the shape of y to (n_samples, ), for example using ravel().\n",
      "  y = column_or_1d(y, warn=True)\n"
     ]
    },
    {
     "name": "stdout",
     "output_type": "stream",
     "text": [
      "[CV]  max_depth=3, min_samples_leaf=20, min_samples_split=60, n_estimators=10, subsample=0.5, total=   0.5s\n",
      "[CV] max_depth=3, min_samples_leaf=20, min_samples_split=60, n_estimators=10, subsample=0.5 \n"
     ]
    },
    {
     "name": "stderr",
     "output_type": "stream",
     "text": [
      "C:\\ProgramData\\Anaconda3\\lib\\site-packages\\sklearn\\utils\\validation.py:578: DataConversionWarning: A column-vector y was passed when a 1d array was expected. Please change the shape of y to (n_samples, ), for example using ravel().\n",
      "  y = column_or_1d(y, warn=True)\n"
     ]
    },
    {
     "name": "stdout",
     "output_type": "stream",
     "text": [
      "[CV]  max_depth=3, min_samples_leaf=20, min_samples_split=60, n_estimators=10, subsample=0.5, total=   0.5s\n",
      "[CV] max_depth=3, min_samples_leaf=20, min_samples_split=60, n_estimators=10, subsample=0.5 \n"
     ]
    },
    {
     "name": "stderr",
     "output_type": "stream",
     "text": [
      "C:\\ProgramData\\Anaconda3\\lib\\site-packages\\sklearn\\utils\\validation.py:578: DataConversionWarning: A column-vector y was passed when a 1d array was expected. Please change the shape of y to (n_samples, ), for example using ravel().\n",
      "  y = column_or_1d(y, warn=True)\n"
     ]
    },
    {
     "name": "stdout",
     "output_type": "stream",
     "text": [
      "[CV]  max_depth=3, min_samples_leaf=20, min_samples_split=60, n_estimators=10, subsample=0.5, total=   0.5s\n",
      "[CV] max_depth=3, min_samples_leaf=20, min_samples_split=60, n_estimators=15, subsample=0.25 \n"
     ]
    },
    {
     "name": "stderr",
     "output_type": "stream",
     "text": [
      "C:\\ProgramData\\Anaconda3\\lib\\site-packages\\sklearn\\utils\\validation.py:578: DataConversionWarning: A column-vector y was passed when a 1d array was expected. Please change the shape of y to (n_samples, ), for example using ravel().\n",
      "  y = column_or_1d(y, warn=True)\n"
     ]
    },
    {
     "name": "stdout",
     "output_type": "stream",
     "text": [
      "[CV]  max_depth=3, min_samples_leaf=20, min_samples_split=60, n_estimators=15, subsample=0.25, total=   0.6s\n",
      "[CV] max_depth=3, min_samples_leaf=20, min_samples_split=60, n_estimators=15, subsample=0.25 \n"
     ]
    },
    {
     "name": "stderr",
     "output_type": "stream",
     "text": [
      "C:\\ProgramData\\Anaconda3\\lib\\site-packages\\sklearn\\utils\\validation.py:578: DataConversionWarning: A column-vector y was passed when a 1d array was expected. Please change the shape of y to (n_samples, ), for example using ravel().\n",
      "  y = column_or_1d(y, warn=True)\n"
     ]
    },
    {
     "name": "stdout",
     "output_type": "stream",
     "text": [
      "[CV]  max_depth=3, min_samples_leaf=20, min_samples_split=60, n_estimators=15, subsample=0.25, total=   0.5s\n",
      "[CV] max_depth=3, min_samples_leaf=20, min_samples_split=60, n_estimators=15, subsample=0.25 \n"
     ]
    },
    {
     "name": "stderr",
     "output_type": "stream",
     "text": [
      "C:\\ProgramData\\Anaconda3\\lib\\site-packages\\sklearn\\utils\\validation.py:578: DataConversionWarning: A column-vector y was passed when a 1d array was expected. Please change the shape of y to (n_samples, ), for example using ravel().\n",
      "  y = column_or_1d(y, warn=True)\n"
     ]
    },
    {
     "name": "stdout",
     "output_type": "stream",
     "text": [
      "[CV]  max_depth=3, min_samples_leaf=20, min_samples_split=60, n_estimators=15, subsample=0.25, total=   0.5s\n",
      "[CV] max_depth=3, min_samples_leaf=20, min_samples_split=60, n_estimators=15, subsample=0.5 \n"
     ]
    },
    {
     "name": "stderr",
     "output_type": "stream",
     "text": [
      "C:\\ProgramData\\Anaconda3\\lib\\site-packages\\sklearn\\utils\\validation.py:578: DataConversionWarning: A column-vector y was passed when a 1d array was expected. Please change the shape of y to (n_samples, ), for example using ravel().\n",
      "  y = column_or_1d(y, warn=True)\n"
     ]
    },
    {
     "name": "stdout",
     "output_type": "stream",
     "text": [
      "[CV]  max_depth=3, min_samples_leaf=20, min_samples_split=60, n_estimators=15, subsample=0.5, total=   0.8s\n",
      "[CV] max_depth=3, min_samples_leaf=20, min_samples_split=60, n_estimators=15, subsample=0.5 \n"
     ]
    },
    {
     "name": "stderr",
     "output_type": "stream",
     "text": [
      "C:\\ProgramData\\Anaconda3\\lib\\site-packages\\sklearn\\utils\\validation.py:578: DataConversionWarning: A column-vector y was passed when a 1d array was expected. Please change the shape of y to (n_samples, ), for example using ravel().\n",
      "  y = column_or_1d(y, warn=True)\n"
     ]
    },
    {
     "name": "stdout",
     "output_type": "stream",
     "text": [
      "[CV]  max_depth=3, min_samples_leaf=20, min_samples_split=60, n_estimators=15, subsample=0.5, total=   0.8s\n",
      "[CV] max_depth=3, min_samples_leaf=20, min_samples_split=60, n_estimators=15, subsample=0.5 \n"
     ]
    },
    {
     "name": "stderr",
     "output_type": "stream",
     "text": [
      "C:\\ProgramData\\Anaconda3\\lib\\site-packages\\sklearn\\utils\\validation.py:578: DataConversionWarning: A column-vector y was passed when a 1d array was expected. Please change the shape of y to (n_samples, ), for example using ravel().\n",
      "  y = column_or_1d(y, warn=True)\n"
     ]
    },
    {
     "name": "stdout",
     "output_type": "stream",
     "text": [
      "[CV]  max_depth=3, min_samples_leaf=20, min_samples_split=60, n_estimators=15, subsample=0.5, total=   0.8s\n",
      "[CV] max_depth=3, min_samples_leaf=40, min_samples_split=40, n_estimators=10, subsample=0.25 \n"
     ]
    },
    {
     "name": "stderr",
     "output_type": "stream",
     "text": [
      "C:\\ProgramData\\Anaconda3\\lib\\site-packages\\sklearn\\utils\\validation.py:578: DataConversionWarning: A column-vector y was passed when a 1d array was expected. Please change the shape of y to (n_samples, ), for example using ravel().\n",
      "  y = column_or_1d(y, warn=True)\n"
     ]
    },
    {
     "name": "stdout",
     "output_type": "stream",
     "text": [
      "[CV]  max_depth=3, min_samples_leaf=40, min_samples_split=40, n_estimators=10, subsample=0.25, total=   0.3s\n",
      "[CV] max_depth=3, min_samples_leaf=40, min_samples_split=40, n_estimators=10, subsample=0.25 \n"
     ]
    },
    {
     "name": "stderr",
     "output_type": "stream",
     "text": [
      "C:\\ProgramData\\Anaconda3\\lib\\site-packages\\sklearn\\utils\\validation.py:578: DataConversionWarning: A column-vector y was passed when a 1d array was expected. Please change the shape of y to (n_samples, ), for example using ravel().\n",
      "  y = column_or_1d(y, warn=True)\n"
     ]
    },
    {
     "name": "stdout",
     "output_type": "stream",
     "text": [
      "[CV]  max_depth=3, min_samples_leaf=40, min_samples_split=40, n_estimators=10, subsample=0.25, total=   0.4s\n",
      "[CV] max_depth=3, min_samples_leaf=40, min_samples_split=40, n_estimators=10, subsample=0.25 \n"
     ]
    },
    {
     "name": "stderr",
     "output_type": "stream",
     "text": [
      "C:\\ProgramData\\Anaconda3\\lib\\site-packages\\sklearn\\utils\\validation.py:578: DataConversionWarning: A column-vector y was passed when a 1d array was expected. Please change the shape of y to (n_samples, ), for example using ravel().\n",
      "  y = column_or_1d(y, warn=True)\n"
     ]
    },
    {
     "name": "stdout",
     "output_type": "stream",
     "text": [
      "[CV]  max_depth=3, min_samples_leaf=40, min_samples_split=40, n_estimators=10, subsample=0.25, total=   0.3s\n",
      "[CV] max_depth=3, min_samples_leaf=40, min_samples_split=40, n_estimators=10, subsample=0.5 \n"
     ]
    },
    {
     "name": "stderr",
     "output_type": "stream",
     "text": [
      "C:\\ProgramData\\Anaconda3\\lib\\site-packages\\sklearn\\utils\\validation.py:578: DataConversionWarning: A column-vector y was passed when a 1d array was expected. Please change the shape of y to (n_samples, ), for example using ravel().\n",
      "  y = column_or_1d(y, warn=True)\n"
     ]
    },
    {
     "name": "stdout",
     "output_type": "stream",
     "text": [
      "[CV]  max_depth=3, min_samples_leaf=40, min_samples_split=40, n_estimators=10, subsample=0.5, total=   0.5s\n",
      "[CV] max_depth=3, min_samples_leaf=40, min_samples_split=40, n_estimators=10, subsample=0.5 \n"
     ]
    },
    {
     "name": "stderr",
     "output_type": "stream",
     "text": [
      "C:\\ProgramData\\Anaconda3\\lib\\site-packages\\sklearn\\utils\\validation.py:578: DataConversionWarning: A column-vector y was passed when a 1d array was expected. Please change the shape of y to (n_samples, ), for example using ravel().\n",
      "  y = column_or_1d(y, warn=True)\n"
     ]
    },
    {
     "name": "stdout",
     "output_type": "stream",
     "text": [
      "[CV]  max_depth=3, min_samples_leaf=40, min_samples_split=40, n_estimators=10, subsample=0.5, total=   0.5s\n",
      "[CV] max_depth=3, min_samples_leaf=40, min_samples_split=40, n_estimators=10, subsample=0.5 \n"
     ]
    },
    {
     "name": "stderr",
     "output_type": "stream",
     "text": [
      "C:\\ProgramData\\Anaconda3\\lib\\site-packages\\sklearn\\utils\\validation.py:578: DataConversionWarning: A column-vector y was passed when a 1d array was expected. Please change the shape of y to (n_samples, ), for example using ravel().\n",
      "  y = column_or_1d(y, warn=True)\n"
     ]
    },
    {
     "name": "stdout",
     "output_type": "stream",
     "text": [
      "[CV]  max_depth=3, min_samples_leaf=40, min_samples_split=40, n_estimators=10, subsample=0.5, total=   0.5s\n",
      "[CV] max_depth=3, min_samples_leaf=40, min_samples_split=40, n_estimators=15, subsample=0.25 \n"
     ]
    },
    {
     "name": "stderr",
     "output_type": "stream",
     "text": [
      "C:\\ProgramData\\Anaconda3\\lib\\site-packages\\sklearn\\utils\\validation.py:578: DataConversionWarning: A column-vector y was passed when a 1d array was expected. Please change the shape of y to (n_samples, ), for example using ravel().\n",
      "  y = column_or_1d(y, warn=True)\n"
     ]
    },
    {
     "name": "stdout",
     "output_type": "stream",
     "text": [
      "[CV]  max_depth=3, min_samples_leaf=40, min_samples_split=40, n_estimators=15, subsample=0.25, total=   0.5s\n",
      "[CV] max_depth=3, min_samples_leaf=40, min_samples_split=40, n_estimators=15, subsample=0.25 \n"
     ]
    },
    {
     "name": "stderr",
     "output_type": "stream",
     "text": [
      "C:\\ProgramData\\Anaconda3\\lib\\site-packages\\sklearn\\utils\\validation.py:578: DataConversionWarning: A column-vector y was passed when a 1d array was expected. Please change the shape of y to (n_samples, ), for example using ravel().\n",
      "  y = column_or_1d(y, warn=True)\n"
     ]
    },
    {
     "name": "stdout",
     "output_type": "stream",
     "text": [
      "[CV]  max_depth=3, min_samples_leaf=40, min_samples_split=40, n_estimators=15, subsample=0.25, total=   0.5s\n",
      "[CV] max_depth=3, min_samples_leaf=40, min_samples_split=40, n_estimators=15, subsample=0.25 \n"
     ]
    },
    {
     "name": "stderr",
     "output_type": "stream",
     "text": [
      "C:\\ProgramData\\Anaconda3\\lib\\site-packages\\sklearn\\utils\\validation.py:578: DataConversionWarning: A column-vector y was passed when a 1d array was expected. Please change the shape of y to (n_samples, ), for example using ravel().\n",
      "  y = column_or_1d(y, warn=True)\n"
     ]
    },
    {
     "name": "stdout",
     "output_type": "stream",
     "text": [
      "[CV]  max_depth=3, min_samples_leaf=40, min_samples_split=40, n_estimators=15, subsample=0.25, total=   0.5s\n",
      "[CV] max_depth=3, min_samples_leaf=40, min_samples_split=40, n_estimators=15, subsample=0.5 \n"
     ]
    },
    {
     "name": "stderr",
     "output_type": "stream",
     "text": [
      "C:\\ProgramData\\Anaconda3\\lib\\site-packages\\sklearn\\utils\\validation.py:578: DataConversionWarning: A column-vector y was passed when a 1d array was expected. Please change the shape of y to (n_samples, ), for example using ravel().\n",
      "  y = column_or_1d(y, warn=True)\n"
     ]
    },
    {
     "name": "stdout",
     "output_type": "stream",
     "text": [
      "[CV]  max_depth=3, min_samples_leaf=40, min_samples_split=40, n_estimators=15, subsample=0.5, total=   0.8s\n",
      "[CV] max_depth=3, min_samples_leaf=40, min_samples_split=40, n_estimators=15, subsample=0.5 \n"
     ]
    },
    {
     "name": "stderr",
     "output_type": "stream",
     "text": [
      "C:\\ProgramData\\Anaconda3\\lib\\site-packages\\sklearn\\utils\\validation.py:578: DataConversionWarning: A column-vector y was passed when a 1d array was expected. Please change the shape of y to (n_samples, ), for example using ravel().\n",
      "  y = column_or_1d(y, warn=True)\n"
     ]
    },
    {
     "name": "stdout",
     "output_type": "stream",
     "text": [
      "[CV]  max_depth=3, min_samples_leaf=40, min_samples_split=40, n_estimators=15, subsample=0.5, total=   0.8s\n",
      "[CV] max_depth=3, min_samples_leaf=40, min_samples_split=40, n_estimators=15, subsample=0.5 \n"
     ]
    },
    {
     "name": "stderr",
     "output_type": "stream",
     "text": [
      "C:\\ProgramData\\Anaconda3\\lib\\site-packages\\sklearn\\utils\\validation.py:578: DataConversionWarning: A column-vector y was passed when a 1d array was expected. Please change the shape of y to (n_samples, ), for example using ravel().\n",
      "  y = column_or_1d(y, warn=True)\n"
     ]
    },
    {
     "name": "stdout",
     "output_type": "stream",
     "text": [
      "[CV]  max_depth=3, min_samples_leaf=40, min_samples_split=40, n_estimators=15, subsample=0.5, total=   0.7s\n",
      "[CV] max_depth=3, min_samples_leaf=40, min_samples_split=60, n_estimators=10, subsample=0.25 \n"
     ]
    },
    {
     "name": "stderr",
     "output_type": "stream",
     "text": [
      "C:\\ProgramData\\Anaconda3\\lib\\site-packages\\sklearn\\utils\\validation.py:578: DataConversionWarning: A column-vector y was passed when a 1d array was expected. Please change the shape of y to (n_samples, ), for example using ravel().\n",
      "  y = column_or_1d(y, warn=True)\n"
     ]
    },
    {
     "name": "stdout",
     "output_type": "stream",
     "text": [
      "[CV]  max_depth=3, min_samples_leaf=40, min_samples_split=60, n_estimators=10, subsample=0.25, total=   0.3s\n",
      "[CV] max_depth=3, min_samples_leaf=40, min_samples_split=60, n_estimators=10, subsample=0.25 \n"
     ]
    },
    {
     "name": "stderr",
     "output_type": "stream",
     "text": [
      "C:\\ProgramData\\Anaconda3\\lib\\site-packages\\sklearn\\utils\\validation.py:578: DataConversionWarning: A column-vector y was passed when a 1d array was expected. Please change the shape of y to (n_samples, ), for example using ravel().\n",
      "  y = column_or_1d(y, warn=True)\n"
     ]
    },
    {
     "name": "stdout",
     "output_type": "stream",
     "text": [
      "[CV]  max_depth=3, min_samples_leaf=40, min_samples_split=60, n_estimators=10, subsample=0.25, total=   0.4s\n",
      "[CV] max_depth=3, min_samples_leaf=40, min_samples_split=60, n_estimators=10, subsample=0.25 \n"
     ]
    },
    {
     "name": "stderr",
     "output_type": "stream",
     "text": [
      "C:\\ProgramData\\Anaconda3\\lib\\site-packages\\sklearn\\utils\\validation.py:578: DataConversionWarning: A column-vector y was passed when a 1d array was expected. Please change the shape of y to (n_samples, ), for example using ravel().\n",
      "  y = column_or_1d(y, warn=True)\n"
     ]
    },
    {
     "name": "stdout",
     "output_type": "stream",
     "text": [
      "[CV]  max_depth=3, min_samples_leaf=40, min_samples_split=60, n_estimators=10, subsample=0.25, total=   0.4s\n",
      "[CV] max_depth=3, min_samples_leaf=40, min_samples_split=60, n_estimators=10, subsample=0.5 \n"
     ]
    },
    {
     "name": "stderr",
     "output_type": "stream",
     "text": [
      "C:\\ProgramData\\Anaconda3\\lib\\site-packages\\sklearn\\utils\\validation.py:578: DataConversionWarning: A column-vector y was passed when a 1d array was expected. Please change the shape of y to (n_samples, ), for example using ravel().\n",
      "  y = column_or_1d(y, warn=True)\n"
     ]
    },
    {
     "name": "stdout",
     "output_type": "stream",
     "text": [
      "[CV]  max_depth=3, min_samples_leaf=40, min_samples_split=60, n_estimators=10, subsample=0.5, total=   0.5s\n",
      "[CV] max_depth=3, min_samples_leaf=40, min_samples_split=60, n_estimators=10, subsample=0.5 \n"
     ]
    },
    {
     "name": "stderr",
     "output_type": "stream",
     "text": [
      "C:\\ProgramData\\Anaconda3\\lib\\site-packages\\sklearn\\utils\\validation.py:578: DataConversionWarning: A column-vector y was passed when a 1d array was expected. Please change the shape of y to (n_samples, ), for example using ravel().\n",
      "  y = column_or_1d(y, warn=True)\n"
     ]
    },
    {
     "name": "stdout",
     "output_type": "stream",
     "text": [
      "[CV]  max_depth=3, min_samples_leaf=40, min_samples_split=60, n_estimators=10, subsample=0.5, total=   0.5s\n",
      "[CV] max_depth=3, min_samples_leaf=40, min_samples_split=60, n_estimators=10, subsample=0.5 \n"
     ]
    },
    {
     "name": "stderr",
     "output_type": "stream",
     "text": [
      "C:\\ProgramData\\Anaconda3\\lib\\site-packages\\sklearn\\utils\\validation.py:578: DataConversionWarning: A column-vector y was passed when a 1d array was expected. Please change the shape of y to (n_samples, ), for example using ravel().\n",
      "  y = column_or_1d(y, warn=True)\n"
     ]
    },
    {
     "name": "stdout",
     "output_type": "stream",
     "text": [
      "[CV]  max_depth=3, min_samples_leaf=40, min_samples_split=60, n_estimators=10, subsample=0.5, total=   0.5s\n",
      "[CV] max_depth=3, min_samples_leaf=40, min_samples_split=60, n_estimators=15, subsample=0.25 \n"
     ]
    },
    {
     "name": "stderr",
     "output_type": "stream",
     "text": [
      "C:\\ProgramData\\Anaconda3\\lib\\site-packages\\sklearn\\utils\\validation.py:578: DataConversionWarning: A column-vector y was passed when a 1d array was expected. Please change the shape of y to (n_samples, ), for example using ravel().\n",
      "  y = column_or_1d(y, warn=True)\n"
     ]
    },
    {
     "name": "stdout",
     "output_type": "stream",
     "text": [
      "[CV]  max_depth=3, min_samples_leaf=40, min_samples_split=60, n_estimators=15, subsample=0.25, total=   0.5s\n",
      "[CV] max_depth=3, min_samples_leaf=40, min_samples_split=60, n_estimators=15, subsample=0.25 \n"
     ]
    },
    {
     "name": "stderr",
     "output_type": "stream",
     "text": [
      "C:\\ProgramData\\Anaconda3\\lib\\site-packages\\sklearn\\utils\\validation.py:578: DataConversionWarning: A column-vector y was passed when a 1d array was expected. Please change the shape of y to (n_samples, ), for example using ravel().\n",
      "  y = column_or_1d(y, warn=True)\n"
     ]
    },
    {
     "name": "stdout",
     "output_type": "stream",
     "text": [
      "[CV]  max_depth=3, min_samples_leaf=40, min_samples_split=60, n_estimators=15, subsample=0.25, total=   0.5s\n",
      "[CV] max_depth=3, min_samples_leaf=40, min_samples_split=60, n_estimators=15, subsample=0.25 \n"
     ]
    },
    {
     "name": "stderr",
     "output_type": "stream",
     "text": [
      "C:\\ProgramData\\Anaconda3\\lib\\site-packages\\sklearn\\utils\\validation.py:578: DataConversionWarning: A column-vector y was passed when a 1d array was expected. Please change the shape of y to (n_samples, ), for example using ravel().\n",
      "  y = column_or_1d(y, warn=True)\n"
     ]
    },
    {
     "name": "stdout",
     "output_type": "stream",
     "text": [
      "[CV]  max_depth=3, min_samples_leaf=40, min_samples_split=60, n_estimators=15, subsample=0.25, total=   0.5s\n",
      "[CV] max_depth=3, min_samples_leaf=40, min_samples_split=60, n_estimators=15, subsample=0.5 \n"
     ]
    },
    {
     "name": "stderr",
     "output_type": "stream",
     "text": [
      "C:\\ProgramData\\Anaconda3\\lib\\site-packages\\sklearn\\utils\\validation.py:578: DataConversionWarning: A column-vector y was passed when a 1d array was expected. Please change the shape of y to (n_samples, ), for example using ravel().\n",
      "  y = column_or_1d(y, warn=True)\n"
     ]
    },
    {
     "name": "stdout",
     "output_type": "stream",
     "text": [
      "[CV]  max_depth=3, min_samples_leaf=40, min_samples_split=60, n_estimators=15, subsample=0.5, total=   0.8s\n",
      "[CV] max_depth=3, min_samples_leaf=40, min_samples_split=60, n_estimators=15, subsample=0.5 \n"
     ]
    },
    {
     "name": "stderr",
     "output_type": "stream",
     "text": [
      "C:\\ProgramData\\Anaconda3\\lib\\site-packages\\sklearn\\utils\\validation.py:578: DataConversionWarning: A column-vector y was passed when a 1d array was expected. Please change the shape of y to (n_samples, ), for example using ravel().\n",
      "  y = column_or_1d(y, warn=True)\n"
     ]
    },
    {
     "name": "stdout",
     "output_type": "stream",
     "text": [
      "[CV]  max_depth=3, min_samples_leaf=40, min_samples_split=60, n_estimators=15, subsample=0.5, total=   0.7s\n",
      "[CV] max_depth=3, min_samples_leaf=40, min_samples_split=60, n_estimators=15, subsample=0.5 \n"
     ]
    },
    {
     "name": "stderr",
     "output_type": "stream",
     "text": [
      "C:\\ProgramData\\Anaconda3\\lib\\site-packages\\sklearn\\utils\\validation.py:578: DataConversionWarning: A column-vector y was passed when a 1d array was expected. Please change the shape of y to (n_samples, ), for example using ravel().\n",
      "  y = column_or_1d(y, warn=True)\n"
     ]
    },
    {
     "name": "stdout",
     "output_type": "stream",
     "text": [
      "[CV]  max_depth=3, min_samples_leaf=40, min_samples_split=60, n_estimators=15, subsample=0.5, total=   0.7s\n",
      "[CV] max_depth=4, min_samples_leaf=20, min_samples_split=40, n_estimators=10, subsample=0.25 \n"
     ]
    },
    {
     "name": "stderr",
     "output_type": "stream",
     "text": [
      "C:\\ProgramData\\Anaconda3\\lib\\site-packages\\sklearn\\utils\\validation.py:578: DataConversionWarning: A column-vector y was passed when a 1d array was expected. Please change the shape of y to (n_samples, ), for example using ravel().\n",
      "  y = column_or_1d(y, warn=True)\n"
     ]
    },
    {
     "name": "stdout",
     "output_type": "stream",
     "text": [
      "[CV]  max_depth=4, min_samples_leaf=20, min_samples_split=40, n_estimators=10, subsample=0.25, total=   0.4s\n",
      "[CV] max_depth=4, min_samples_leaf=20, min_samples_split=40, n_estimators=10, subsample=0.25 \n"
     ]
    },
    {
     "name": "stderr",
     "output_type": "stream",
     "text": [
      "C:\\ProgramData\\Anaconda3\\lib\\site-packages\\sklearn\\utils\\validation.py:578: DataConversionWarning: A column-vector y was passed when a 1d array was expected. Please change the shape of y to (n_samples, ), for example using ravel().\n",
      "  y = column_or_1d(y, warn=True)\n"
     ]
    },
    {
     "name": "stdout",
     "output_type": "stream",
     "text": [
      "[CV]  max_depth=4, min_samples_leaf=20, min_samples_split=40, n_estimators=10, subsample=0.25, total=   0.4s\n",
      "[CV] max_depth=4, min_samples_leaf=20, min_samples_split=40, n_estimators=10, subsample=0.25 \n"
     ]
    },
    {
     "name": "stderr",
     "output_type": "stream",
     "text": [
      "C:\\ProgramData\\Anaconda3\\lib\\site-packages\\sklearn\\utils\\validation.py:578: DataConversionWarning: A column-vector y was passed when a 1d array was expected. Please change the shape of y to (n_samples, ), for example using ravel().\n",
      "  y = column_or_1d(y, warn=True)\n"
     ]
    },
    {
     "name": "stdout",
     "output_type": "stream",
     "text": [
      "[CV]  max_depth=4, min_samples_leaf=20, min_samples_split=40, n_estimators=10, subsample=0.25, total=   0.4s\n",
      "[CV] max_depth=4, min_samples_leaf=20, min_samples_split=40, n_estimators=10, subsample=0.5 \n"
     ]
    },
    {
     "name": "stderr",
     "output_type": "stream",
     "text": [
      "C:\\ProgramData\\Anaconda3\\lib\\site-packages\\sklearn\\utils\\validation.py:578: DataConversionWarning: A column-vector y was passed when a 1d array was expected. Please change the shape of y to (n_samples, ), for example using ravel().\n",
      "  y = column_or_1d(y, warn=True)\n"
     ]
    },
    {
     "name": "stdout",
     "output_type": "stream",
     "text": [
      "[CV]  max_depth=4, min_samples_leaf=20, min_samples_split=40, n_estimators=10, subsample=0.5, total=   0.6s\n",
      "[CV] max_depth=4, min_samples_leaf=20, min_samples_split=40, n_estimators=10, subsample=0.5 \n"
     ]
    },
    {
     "name": "stderr",
     "output_type": "stream",
     "text": [
      "C:\\ProgramData\\Anaconda3\\lib\\site-packages\\sklearn\\utils\\validation.py:578: DataConversionWarning: A column-vector y was passed when a 1d array was expected. Please change the shape of y to (n_samples, ), for example using ravel().\n",
      "  y = column_or_1d(y, warn=True)\n"
     ]
    },
    {
     "name": "stdout",
     "output_type": "stream",
     "text": [
      "[CV]  max_depth=4, min_samples_leaf=20, min_samples_split=40, n_estimators=10, subsample=0.5, total=   0.6s\n",
      "[CV] max_depth=4, min_samples_leaf=20, min_samples_split=40, n_estimators=10, subsample=0.5 \n"
     ]
    },
    {
     "name": "stderr",
     "output_type": "stream",
     "text": [
      "C:\\ProgramData\\Anaconda3\\lib\\site-packages\\sklearn\\utils\\validation.py:578: DataConversionWarning: A column-vector y was passed when a 1d array was expected. Please change the shape of y to (n_samples, ), for example using ravel().\n",
      "  y = column_or_1d(y, warn=True)\n"
     ]
    },
    {
     "name": "stdout",
     "output_type": "stream",
     "text": [
      "[CV]  max_depth=4, min_samples_leaf=20, min_samples_split=40, n_estimators=10, subsample=0.5, total=   0.6s\n",
      "[CV] max_depth=4, min_samples_leaf=20, min_samples_split=40, n_estimators=15, subsample=0.25 \n"
     ]
    },
    {
     "name": "stderr",
     "output_type": "stream",
     "text": [
      "C:\\ProgramData\\Anaconda3\\lib\\site-packages\\sklearn\\utils\\validation.py:578: DataConversionWarning: A column-vector y was passed when a 1d array was expected. Please change the shape of y to (n_samples, ), for example using ravel().\n",
      "  y = column_or_1d(y, warn=True)\n"
     ]
    },
    {
     "name": "stdout",
     "output_type": "stream",
     "text": [
      "[CV]  max_depth=4, min_samples_leaf=20, min_samples_split=40, n_estimators=15, subsample=0.25, total=   0.6s\n",
      "[CV] max_depth=4, min_samples_leaf=20, min_samples_split=40, n_estimators=15, subsample=0.25 \n"
     ]
    },
    {
     "name": "stderr",
     "output_type": "stream",
     "text": [
      "C:\\ProgramData\\Anaconda3\\lib\\site-packages\\sklearn\\utils\\validation.py:578: DataConversionWarning: A column-vector y was passed when a 1d array was expected. Please change the shape of y to (n_samples, ), for example using ravel().\n",
      "  y = column_or_1d(y, warn=True)\n"
     ]
    },
    {
     "name": "stdout",
     "output_type": "stream",
     "text": [
      "[CV]  max_depth=4, min_samples_leaf=20, min_samples_split=40, n_estimators=15, subsample=0.25, total=   0.6s\n",
      "[CV] max_depth=4, min_samples_leaf=20, min_samples_split=40, n_estimators=15, subsample=0.25 \n"
     ]
    },
    {
     "name": "stderr",
     "output_type": "stream",
     "text": [
      "C:\\ProgramData\\Anaconda3\\lib\\site-packages\\sklearn\\utils\\validation.py:578: DataConversionWarning: A column-vector y was passed when a 1d array was expected. Please change the shape of y to (n_samples, ), for example using ravel().\n",
      "  y = column_or_1d(y, warn=True)\n"
     ]
    },
    {
     "name": "stdout",
     "output_type": "stream",
     "text": [
      "[CV]  max_depth=4, min_samples_leaf=20, min_samples_split=40, n_estimators=15, subsample=0.25, total=   0.6s\n",
      "[CV] max_depth=4, min_samples_leaf=20, min_samples_split=40, n_estimators=15, subsample=0.5 \n"
     ]
    },
    {
     "name": "stderr",
     "output_type": "stream",
     "text": [
      "C:\\ProgramData\\Anaconda3\\lib\\site-packages\\sklearn\\utils\\validation.py:578: DataConversionWarning: A column-vector y was passed when a 1d array was expected. Please change the shape of y to (n_samples, ), for example using ravel().\n",
      "  y = column_or_1d(y, warn=True)\n"
     ]
    },
    {
     "name": "stdout",
     "output_type": "stream",
     "text": [
      "[CV]  max_depth=4, min_samples_leaf=20, min_samples_split=40, n_estimators=15, subsample=0.5, total=   1.0s\n",
      "[CV] max_depth=4, min_samples_leaf=20, min_samples_split=40, n_estimators=15, subsample=0.5 \n"
     ]
    },
    {
     "name": "stderr",
     "output_type": "stream",
     "text": [
      "C:\\ProgramData\\Anaconda3\\lib\\site-packages\\sklearn\\utils\\validation.py:578: DataConversionWarning: A column-vector y was passed when a 1d array was expected. Please change the shape of y to (n_samples, ), for example using ravel().\n",
      "  y = column_or_1d(y, warn=True)\n"
     ]
    },
    {
     "name": "stdout",
     "output_type": "stream",
     "text": [
      "[CV]  max_depth=4, min_samples_leaf=20, min_samples_split=40, n_estimators=15, subsample=0.5, total=   1.0s\n",
      "[CV] max_depth=4, min_samples_leaf=20, min_samples_split=40, n_estimators=15, subsample=0.5 \n"
     ]
    },
    {
     "name": "stderr",
     "output_type": "stream",
     "text": [
      "C:\\ProgramData\\Anaconda3\\lib\\site-packages\\sklearn\\utils\\validation.py:578: DataConversionWarning: A column-vector y was passed when a 1d array was expected. Please change the shape of y to (n_samples, ), for example using ravel().\n",
      "  y = column_or_1d(y, warn=True)\n"
     ]
    },
    {
     "name": "stdout",
     "output_type": "stream",
     "text": [
      "[CV]  max_depth=4, min_samples_leaf=20, min_samples_split=40, n_estimators=15, subsample=0.5, total=   1.0s\n",
      "[CV] max_depth=4, min_samples_leaf=20, min_samples_split=60, n_estimators=10, subsample=0.25 \n"
     ]
    },
    {
     "name": "stderr",
     "output_type": "stream",
     "text": [
      "C:\\ProgramData\\Anaconda3\\lib\\site-packages\\sklearn\\utils\\validation.py:578: DataConversionWarning: A column-vector y was passed when a 1d array was expected. Please change the shape of y to (n_samples, ), for example using ravel().\n",
      "  y = column_or_1d(y, warn=True)\n"
     ]
    },
    {
     "name": "stdout",
     "output_type": "stream",
     "text": [
      "[CV]  max_depth=4, min_samples_leaf=20, min_samples_split=60, n_estimators=10, subsample=0.25, total=   0.4s\n",
      "[CV] max_depth=4, min_samples_leaf=20, min_samples_split=60, n_estimators=10, subsample=0.25 \n"
     ]
    },
    {
     "name": "stderr",
     "output_type": "stream",
     "text": [
      "C:\\ProgramData\\Anaconda3\\lib\\site-packages\\sklearn\\utils\\validation.py:578: DataConversionWarning: A column-vector y was passed when a 1d array was expected. Please change the shape of y to (n_samples, ), for example using ravel().\n",
      "  y = column_or_1d(y, warn=True)\n"
     ]
    },
    {
     "name": "stdout",
     "output_type": "stream",
     "text": [
      "[CV]  max_depth=4, min_samples_leaf=20, min_samples_split=60, n_estimators=10, subsample=0.25, total=   0.4s\n",
      "[CV] max_depth=4, min_samples_leaf=20, min_samples_split=60, n_estimators=10, subsample=0.25 \n"
     ]
    },
    {
     "name": "stderr",
     "output_type": "stream",
     "text": [
      "C:\\ProgramData\\Anaconda3\\lib\\site-packages\\sklearn\\utils\\validation.py:578: DataConversionWarning: A column-vector y was passed when a 1d array was expected. Please change the shape of y to (n_samples, ), for example using ravel().\n",
      "  y = column_or_1d(y, warn=True)\n"
     ]
    },
    {
     "name": "stdout",
     "output_type": "stream",
     "text": [
      "[CV]  max_depth=4, min_samples_leaf=20, min_samples_split=60, n_estimators=10, subsample=0.25, total=   0.4s\n",
      "[CV] max_depth=4, min_samples_leaf=20, min_samples_split=60, n_estimators=10, subsample=0.5 \n"
     ]
    },
    {
     "name": "stderr",
     "output_type": "stream",
     "text": [
      "C:\\ProgramData\\Anaconda3\\lib\\site-packages\\sklearn\\utils\\validation.py:578: DataConversionWarning: A column-vector y was passed when a 1d array was expected. Please change the shape of y to (n_samples, ), for example using ravel().\n",
      "  y = column_or_1d(y, warn=True)\n"
     ]
    },
    {
     "name": "stdout",
     "output_type": "stream",
     "text": [
      "[CV]  max_depth=4, min_samples_leaf=20, min_samples_split=60, n_estimators=10, subsample=0.5, total=   0.6s\n",
      "[CV] max_depth=4, min_samples_leaf=20, min_samples_split=60, n_estimators=10, subsample=0.5 \n"
     ]
    },
    {
     "name": "stderr",
     "output_type": "stream",
     "text": [
      "C:\\ProgramData\\Anaconda3\\lib\\site-packages\\sklearn\\utils\\validation.py:578: DataConversionWarning: A column-vector y was passed when a 1d array was expected. Please change the shape of y to (n_samples, ), for example using ravel().\n",
      "  y = column_or_1d(y, warn=True)\n"
     ]
    },
    {
     "name": "stdout",
     "output_type": "stream",
     "text": [
      "[CV]  max_depth=4, min_samples_leaf=20, min_samples_split=60, n_estimators=10, subsample=0.5, total=   0.6s\n",
      "[CV] max_depth=4, min_samples_leaf=20, min_samples_split=60, n_estimators=10, subsample=0.5 \n"
     ]
    },
    {
     "name": "stderr",
     "output_type": "stream",
     "text": [
      "C:\\ProgramData\\Anaconda3\\lib\\site-packages\\sklearn\\utils\\validation.py:578: DataConversionWarning: A column-vector y was passed when a 1d array was expected. Please change the shape of y to (n_samples, ), for example using ravel().\n",
      "  y = column_or_1d(y, warn=True)\n"
     ]
    },
    {
     "name": "stdout",
     "output_type": "stream",
     "text": [
      "[CV]  max_depth=4, min_samples_leaf=20, min_samples_split=60, n_estimators=10, subsample=0.5, total=   0.6s\n",
      "[CV] max_depth=4, min_samples_leaf=20, min_samples_split=60, n_estimators=15, subsample=0.25 \n"
     ]
    },
    {
     "name": "stderr",
     "output_type": "stream",
     "text": [
      "C:\\ProgramData\\Anaconda3\\lib\\site-packages\\sklearn\\utils\\validation.py:578: DataConversionWarning: A column-vector y was passed when a 1d array was expected. Please change the shape of y to (n_samples, ), for example using ravel().\n",
      "  y = column_or_1d(y, warn=True)\n"
     ]
    },
    {
     "name": "stdout",
     "output_type": "stream",
     "text": [
      "[CV]  max_depth=4, min_samples_leaf=20, min_samples_split=60, n_estimators=15, subsample=0.25, total=   0.6s\n",
      "[CV] max_depth=4, min_samples_leaf=20, min_samples_split=60, n_estimators=15, subsample=0.25 \n"
     ]
    },
    {
     "name": "stderr",
     "output_type": "stream",
     "text": [
      "C:\\ProgramData\\Anaconda3\\lib\\site-packages\\sklearn\\utils\\validation.py:578: DataConversionWarning: A column-vector y was passed when a 1d array was expected. Please change the shape of y to (n_samples, ), for example using ravel().\n",
      "  y = column_or_1d(y, warn=True)\n"
     ]
    },
    {
     "name": "stdout",
     "output_type": "stream",
     "text": [
      "[CV]  max_depth=4, min_samples_leaf=20, min_samples_split=60, n_estimators=15, subsample=0.25, total=   0.6s\n",
      "[CV] max_depth=4, min_samples_leaf=20, min_samples_split=60, n_estimators=15, subsample=0.25 \n"
     ]
    },
    {
     "name": "stderr",
     "output_type": "stream",
     "text": [
      "C:\\ProgramData\\Anaconda3\\lib\\site-packages\\sklearn\\utils\\validation.py:578: DataConversionWarning: A column-vector y was passed when a 1d array was expected. Please change the shape of y to (n_samples, ), for example using ravel().\n",
      "  y = column_or_1d(y, warn=True)\n"
     ]
    },
    {
     "name": "stdout",
     "output_type": "stream",
     "text": [
      "[CV]  max_depth=4, min_samples_leaf=20, min_samples_split=60, n_estimators=15, subsample=0.25, total=   0.6s\n",
      "[CV] max_depth=4, min_samples_leaf=20, min_samples_split=60, n_estimators=15, subsample=0.5 \n"
     ]
    },
    {
     "name": "stderr",
     "output_type": "stream",
     "text": [
      "C:\\ProgramData\\Anaconda3\\lib\\site-packages\\sklearn\\utils\\validation.py:578: DataConversionWarning: A column-vector y was passed when a 1d array was expected. Please change the shape of y to (n_samples, ), for example using ravel().\n",
      "  y = column_or_1d(y, warn=True)\n"
     ]
    },
    {
     "name": "stdout",
     "output_type": "stream",
     "text": [
      "[CV]  max_depth=4, min_samples_leaf=20, min_samples_split=60, n_estimators=15, subsample=0.5, total=   1.0s\n",
      "[CV] max_depth=4, min_samples_leaf=20, min_samples_split=60, n_estimators=15, subsample=0.5 \n"
     ]
    },
    {
     "name": "stderr",
     "output_type": "stream",
     "text": [
      "C:\\ProgramData\\Anaconda3\\lib\\site-packages\\sklearn\\utils\\validation.py:578: DataConversionWarning: A column-vector y was passed when a 1d array was expected. Please change the shape of y to (n_samples, ), for example using ravel().\n",
      "  y = column_or_1d(y, warn=True)\n"
     ]
    },
    {
     "name": "stdout",
     "output_type": "stream",
     "text": [
      "[CV]  max_depth=4, min_samples_leaf=20, min_samples_split=60, n_estimators=15, subsample=0.5, total=   1.2s\n",
      "[CV] max_depth=4, min_samples_leaf=20, min_samples_split=60, n_estimators=15, subsample=0.5 \n"
     ]
    },
    {
     "name": "stderr",
     "output_type": "stream",
     "text": [
      "C:\\ProgramData\\Anaconda3\\lib\\site-packages\\sklearn\\utils\\validation.py:578: DataConversionWarning: A column-vector y was passed when a 1d array was expected. Please change the shape of y to (n_samples, ), for example using ravel().\n",
      "  y = column_or_1d(y, warn=True)\n"
     ]
    },
    {
     "name": "stdout",
     "output_type": "stream",
     "text": [
      "[CV]  max_depth=4, min_samples_leaf=20, min_samples_split=60, n_estimators=15, subsample=0.5, total=   1.2s\n",
      "[CV] max_depth=4, min_samples_leaf=40, min_samples_split=40, n_estimators=10, subsample=0.25 \n"
     ]
    },
    {
     "name": "stderr",
     "output_type": "stream",
     "text": [
      "C:\\ProgramData\\Anaconda3\\lib\\site-packages\\sklearn\\utils\\validation.py:578: DataConversionWarning: A column-vector y was passed when a 1d array was expected. Please change the shape of y to (n_samples, ), for example using ravel().\n",
      "  y = column_or_1d(y, warn=True)\n"
     ]
    },
    {
     "name": "stdout",
     "output_type": "stream",
     "text": [
      "[CV]  max_depth=4, min_samples_leaf=40, min_samples_split=40, n_estimators=10, subsample=0.25, total=   0.5s\n",
      "[CV] max_depth=4, min_samples_leaf=40, min_samples_split=40, n_estimators=10, subsample=0.25 \n"
     ]
    },
    {
     "name": "stderr",
     "output_type": "stream",
     "text": [
      "C:\\ProgramData\\Anaconda3\\lib\\site-packages\\sklearn\\utils\\validation.py:578: DataConversionWarning: A column-vector y was passed when a 1d array was expected. Please change the shape of y to (n_samples, ), for example using ravel().\n",
      "  y = column_or_1d(y, warn=True)\n"
     ]
    },
    {
     "name": "stdout",
     "output_type": "stream",
     "text": [
      "[CV]  max_depth=4, min_samples_leaf=40, min_samples_split=40, n_estimators=10, subsample=0.25, total=   0.5s\n",
      "[CV] max_depth=4, min_samples_leaf=40, min_samples_split=40, n_estimators=10, subsample=0.25 \n"
     ]
    },
    {
     "name": "stderr",
     "output_type": "stream",
     "text": [
      "C:\\ProgramData\\Anaconda3\\lib\\site-packages\\sklearn\\utils\\validation.py:578: DataConversionWarning: A column-vector y was passed when a 1d array was expected. Please change the shape of y to (n_samples, ), for example using ravel().\n",
      "  y = column_or_1d(y, warn=True)\n"
     ]
    },
    {
     "name": "stdout",
     "output_type": "stream",
     "text": [
      "[CV]  max_depth=4, min_samples_leaf=40, min_samples_split=40, n_estimators=10, subsample=0.25, total=   0.4s\n",
      "[CV] max_depth=4, min_samples_leaf=40, min_samples_split=40, n_estimators=10, subsample=0.5 \n"
     ]
    },
    {
     "name": "stderr",
     "output_type": "stream",
     "text": [
      "C:\\ProgramData\\Anaconda3\\lib\\site-packages\\sklearn\\utils\\validation.py:578: DataConversionWarning: A column-vector y was passed when a 1d array was expected. Please change the shape of y to (n_samples, ), for example using ravel().\n",
      "  y = column_or_1d(y, warn=True)\n"
     ]
    },
    {
     "name": "stdout",
     "output_type": "stream",
     "text": [
      "[CV]  max_depth=4, min_samples_leaf=40, min_samples_split=40, n_estimators=10, subsample=0.5, total=   0.6s\n",
      "[CV] max_depth=4, min_samples_leaf=40, min_samples_split=40, n_estimators=10, subsample=0.5 \n"
     ]
    },
    {
     "name": "stderr",
     "output_type": "stream",
     "text": [
      "C:\\ProgramData\\Anaconda3\\lib\\site-packages\\sklearn\\utils\\validation.py:578: DataConversionWarning: A column-vector y was passed when a 1d array was expected. Please change the shape of y to (n_samples, ), for example using ravel().\n",
      "  y = column_or_1d(y, warn=True)\n"
     ]
    },
    {
     "name": "stdout",
     "output_type": "stream",
     "text": [
      "[CV]  max_depth=4, min_samples_leaf=40, min_samples_split=40, n_estimators=10, subsample=0.5, total=   0.6s\n",
      "[CV] max_depth=4, min_samples_leaf=40, min_samples_split=40, n_estimators=10, subsample=0.5 \n"
     ]
    },
    {
     "name": "stderr",
     "output_type": "stream",
     "text": [
      "C:\\ProgramData\\Anaconda3\\lib\\site-packages\\sklearn\\utils\\validation.py:578: DataConversionWarning: A column-vector y was passed when a 1d array was expected. Please change the shape of y to (n_samples, ), for example using ravel().\n",
      "  y = column_or_1d(y, warn=True)\n"
     ]
    },
    {
     "name": "stdout",
     "output_type": "stream",
     "text": [
      "[CV]  max_depth=4, min_samples_leaf=40, min_samples_split=40, n_estimators=10, subsample=0.5, total=   0.7s\n",
      "[CV] max_depth=4, min_samples_leaf=40, min_samples_split=40, n_estimators=15, subsample=0.25 \n"
     ]
    },
    {
     "name": "stderr",
     "output_type": "stream",
     "text": [
      "C:\\ProgramData\\Anaconda3\\lib\\site-packages\\sklearn\\utils\\validation.py:578: DataConversionWarning: A column-vector y was passed when a 1d array was expected. Please change the shape of y to (n_samples, ), for example using ravel().\n",
      "  y = column_or_1d(y, warn=True)\n"
     ]
    },
    {
     "name": "stdout",
     "output_type": "stream",
     "text": [
      "[CV]  max_depth=4, min_samples_leaf=40, min_samples_split=40, n_estimators=15, subsample=0.25, total=   0.7s\n",
      "[CV] max_depth=4, min_samples_leaf=40, min_samples_split=40, n_estimators=15, subsample=0.25 \n"
     ]
    },
    {
     "name": "stderr",
     "output_type": "stream",
     "text": [
      "C:\\ProgramData\\Anaconda3\\lib\\site-packages\\sklearn\\utils\\validation.py:578: DataConversionWarning: A column-vector y was passed when a 1d array was expected. Please change the shape of y to (n_samples, ), for example using ravel().\n",
      "  y = column_or_1d(y, warn=True)\n"
     ]
    },
    {
     "name": "stdout",
     "output_type": "stream",
     "text": [
      "[CV]  max_depth=4, min_samples_leaf=40, min_samples_split=40, n_estimators=15, subsample=0.25, total=   0.6s\n",
      "[CV] max_depth=4, min_samples_leaf=40, min_samples_split=40, n_estimators=15, subsample=0.25 \n"
     ]
    },
    {
     "name": "stderr",
     "output_type": "stream",
     "text": [
      "C:\\ProgramData\\Anaconda3\\lib\\site-packages\\sklearn\\utils\\validation.py:578: DataConversionWarning: A column-vector y was passed when a 1d array was expected. Please change the shape of y to (n_samples, ), for example using ravel().\n",
      "  y = column_or_1d(y, warn=True)\n"
     ]
    },
    {
     "name": "stdout",
     "output_type": "stream",
     "text": [
      "[CV]  max_depth=4, min_samples_leaf=40, min_samples_split=40, n_estimators=15, subsample=0.25, total=   0.6s\n",
      "[CV] max_depth=4, min_samples_leaf=40, min_samples_split=40, n_estimators=15, subsample=0.5 \n"
     ]
    },
    {
     "name": "stderr",
     "output_type": "stream",
     "text": [
      "C:\\ProgramData\\Anaconda3\\lib\\site-packages\\sklearn\\utils\\validation.py:578: DataConversionWarning: A column-vector y was passed when a 1d array was expected. Please change the shape of y to (n_samples, ), for example using ravel().\n",
      "  y = column_or_1d(y, warn=True)\n"
     ]
    },
    {
     "name": "stdout",
     "output_type": "stream",
     "text": [
      "[CV]  max_depth=4, min_samples_leaf=40, min_samples_split=40, n_estimators=15, subsample=0.5, total=   1.0s\n",
      "[CV] max_depth=4, min_samples_leaf=40, min_samples_split=40, n_estimators=15, subsample=0.5 \n"
     ]
    },
    {
     "name": "stderr",
     "output_type": "stream",
     "text": [
      "C:\\ProgramData\\Anaconda3\\lib\\site-packages\\sklearn\\utils\\validation.py:578: DataConversionWarning: A column-vector y was passed when a 1d array was expected. Please change the shape of y to (n_samples, ), for example using ravel().\n",
      "  y = column_or_1d(y, warn=True)\n"
     ]
    },
    {
     "name": "stdout",
     "output_type": "stream",
     "text": [
      "[CV]  max_depth=4, min_samples_leaf=40, min_samples_split=40, n_estimators=15, subsample=0.5, total=   1.0s\n",
      "[CV] max_depth=4, min_samples_leaf=40, min_samples_split=40, n_estimators=15, subsample=0.5 \n"
     ]
    },
    {
     "name": "stderr",
     "output_type": "stream",
     "text": [
      "C:\\ProgramData\\Anaconda3\\lib\\site-packages\\sklearn\\utils\\validation.py:578: DataConversionWarning: A column-vector y was passed when a 1d array was expected. Please change the shape of y to (n_samples, ), for example using ravel().\n",
      "  y = column_or_1d(y, warn=True)\n"
     ]
    },
    {
     "name": "stdout",
     "output_type": "stream",
     "text": [
      "[CV]  max_depth=4, min_samples_leaf=40, min_samples_split=40, n_estimators=15, subsample=0.5, total=   1.0s\n",
      "[CV] max_depth=4, min_samples_leaf=40, min_samples_split=60, n_estimators=10, subsample=0.25 \n"
     ]
    },
    {
     "name": "stderr",
     "output_type": "stream",
     "text": [
      "C:\\ProgramData\\Anaconda3\\lib\\site-packages\\sklearn\\utils\\validation.py:578: DataConversionWarning: A column-vector y was passed when a 1d array was expected. Please change the shape of y to (n_samples, ), for example using ravel().\n",
      "  y = column_or_1d(y, warn=True)\n"
     ]
    },
    {
     "name": "stdout",
     "output_type": "stream",
     "text": [
      "[CV]  max_depth=4, min_samples_leaf=40, min_samples_split=60, n_estimators=10, subsample=0.25, total=   0.4s\n",
      "[CV] max_depth=4, min_samples_leaf=40, min_samples_split=60, n_estimators=10, subsample=0.25 \n"
     ]
    },
    {
     "name": "stderr",
     "output_type": "stream",
     "text": [
      "C:\\ProgramData\\Anaconda3\\lib\\site-packages\\sklearn\\utils\\validation.py:578: DataConversionWarning: A column-vector y was passed when a 1d array was expected. Please change the shape of y to (n_samples, ), for example using ravel().\n",
      "  y = column_or_1d(y, warn=True)\n"
     ]
    },
    {
     "name": "stdout",
     "output_type": "stream",
     "text": [
      "[CV]  max_depth=4, min_samples_leaf=40, min_samples_split=60, n_estimators=10, subsample=0.25, total=   0.4s\n",
      "[CV] max_depth=4, min_samples_leaf=40, min_samples_split=60, n_estimators=10, subsample=0.25 \n"
     ]
    },
    {
     "name": "stderr",
     "output_type": "stream",
     "text": [
      "C:\\ProgramData\\Anaconda3\\lib\\site-packages\\sklearn\\utils\\validation.py:578: DataConversionWarning: A column-vector y was passed when a 1d array was expected. Please change the shape of y to (n_samples, ), for example using ravel().\n",
      "  y = column_or_1d(y, warn=True)\n"
     ]
    },
    {
     "name": "stdout",
     "output_type": "stream",
     "text": [
      "[CV]  max_depth=4, min_samples_leaf=40, min_samples_split=60, n_estimators=10, subsample=0.25, total=   0.4s\n",
      "[CV] max_depth=4, min_samples_leaf=40, min_samples_split=60, n_estimators=10, subsample=0.5 \n"
     ]
    },
    {
     "name": "stderr",
     "output_type": "stream",
     "text": [
      "C:\\ProgramData\\Anaconda3\\lib\\site-packages\\sklearn\\utils\\validation.py:578: DataConversionWarning: A column-vector y was passed when a 1d array was expected. Please change the shape of y to (n_samples, ), for example using ravel().\n",
      "  y = column_or_1d(y, warn=True)\n"
     ]
    },
    {
     "name": "stdout",
     "output_type": "stream",
     "text": [
      "[CV]  max_depth=4, min_samples_leaf=40, min_samples_split=60, n_estimators=10, subsample=0.5, total=   0.6s\n",
      "[CV] max_depth=4, min_samples_leaf=40, min_samples_split=60, n_estimators=10, subsample=0.5 \n"
     ]
    },
    {
     "name": "stderr",
     "output_type": "stream",
     "text": [
      "C:\\ProgramData\\Anaconda3\\lib\\site-packages\\sklearn\\utils\\validation.py:578: DataConversionWarning: A column-vector y was passed when a 1d array was expected. Please change the shape of y to (n_samples, ), for example using ravel().\n",
      "  y = column_or_1d(y, warn=True)\n"
     ]
    },
    {
     "name": "stdout",
     "output_type": "stream",
     "text": [
      "[CV]  max_depth=4, min_samples_leaf=40, min_samples_split=60, n_estimators=10, subsample=0.5, total=   0.6s\n",
      "[CV] max_depth=4, min_samples_leaf=40, min_samples_split=60, n_estimators=10, subsample=0.5 \n"
     ]
    },
    {
     "name": "stderr",
     "output_type": "stream",
     "text": [
      "C:\\ProgramData\\Anaconda3\\lib\\site-packages\\sklearn\\utils\\validation.py:578: DataConversionWarning: A column-vector y was passed when a 1d array was expected. Please change the shape of y to (n_samples, ), for example using ravel().\n",
      "  y = column_or_1d(y, warn=True)\n"
     ]
    },
    {
     "name": "stdout",
     "output_type": "stream",
     "text": [
      "[CV]  max_depth=4, min_samples_leaf=40, min_samples_split=60, n_estimators=10, subsample=0.5, total=   0.7s\n",
      "[CV] max_depth=4, min_samples_leaf=40, min_samples_split=60, n_estimators=15, subsample=0.25 \n"
     ]
    },
    {
     "name": "stderr",
     "output_type": "stream",
     "text": [
      "C:\\ProgramData\\Anaconda3\\lib\\site-packages\\sklearn\\utils\\validation.py:578: DataConversionWarning: A column-vector y was passed when a 1d array was expected. Please change the shape of y to (n_samples, ), for example using ravel().\n",
      "  y = column_or_1d(y, warn=True)\n"
     ]
    },
    {
     "name": "stdout",
     "output_type": "stream",
     "text": [
      "[CV]  max_depth=4, min_samples_leaf=40, min_samples_split=60, n_estimators=15, subsample=0.25, total=   0.7s\n",
      "[CV] max_depth=4, min_samples_leaf=40, min_samples_split=60, n_estimators=15, subsample=0.25 \n"
     ]
    },
    {
     "name": "stderr",
     "output_type": "stream",
     "text": [
      "C:\\ProgramData\\Anaconda3\\lib\\site-packages\\sklearn\\utils\\validation.py:578: DataConversionWarning: A column-vector y was passed when a 1d array was expected. Please change the shape of y to (n_samples, ), for example using ravel().\n",
      "  y = column_or_1d(y, warn=True)\n"
     ]
    },
    {
     "name": "stdout",
     "output_type": "stream",
     "text": [
      "[CV]  max_depth=4, min_samples_leaf=40, min_samples_split=60, n_estimators=15, subsample=0.25, total=   0.6s\n",
      "[CV] max_depth=4, min_samples_leaf=40, min_samples_split=60, n_estimators=15, subsample=0.25 \n"
     ]
    },
    {
     "name": "stderr",
     "output_type": "stream",
     "text": [
      "C:\\ProgramData\\Anaconda3\\lib\\site-packages\\sklearn\\utils\\validation.py:578: DataConversionWarning: A column-vector y was passed when a 1d array was expected. Please change the shape of y to (n_samples, ), for example using ravel().\n",
      "  y = column_or_1d(y, warn=True)\n"
     ]
    },
    {
     "name": "stdout",
     "output_type": "stream",
     "text": [
      "[CV]  max_depth=4, min_samples_leaf=40, min_samples_split=60, n_estimators=15, subsample=0.25, total=   0.6s\n",
      "[CV] max_depth=4, min_samples_leaf=40, min_samples_split=60, n_estimators=15, subsample=0.5 \n"
     ]
    },
    {
     "name": "stderr",
     "output_type": "stream",
     "text": [
      "C:\\ProgramData\\Anaconda3\\lib\\site-packages\\sklearn\\utils\\validation.py:578: DataConversionWarning: A column-vector y was passed when a 1d array was expected. Please change the shape of y to (n_samples, ), for example using ravel().\n",
      "  y = column_or_1d(y, warn=True)\n"
     ]
    },
    {
     "name": "stdout",
     "output_type": "stream",
     "text": [
      "[CV]  max_depth=4, min_samples_leaf=40, min_samples_split=60, n_estimators=15, subsample=0.5, total=   0.9s\n",
      "[CV] max_depth=4, min_samples_leaf=40, min_samples_split=60, n_estimators=15, subsample=0.5 \n"
     ]
    },
    {
     "name": "stderr",
     "output_type": "stream",
     "text": [
      "C:\\ProgramData\\Anaconda3\\lib\\site-packages\\sklearn\\utils\\validation.py:578: DataConversionWarning: A column-vector y was passed when a 1d array was expected. Please change the shape of y to (n_samples, ), for example using ravel().\n",
      "  y = column_or_1d(y, warn=True)\n"
     ]
    },
    {
     "name": "stdout",
     "output_type": "stream",
     "text": [
      "[CV]  max_depth=4, min_samples_leaf=40, min_samples_split=60, n_estimators=15, subsample=0.5, total=   0.9s\n",
      "[CV] max_depth=4, min_samples_leaf=40, min_samples_split=60, n_estimators=15, subsample=0.5 \n"
     ]
    },
    {
     "name": "stderr",
     "output_type": "stream",
     "text": [
      "C:\\ProgramData\\Anaconda3\\lib\\site-packages\\sklearn\\utils\\validation.py:578: DataConversionWarning: A column-vector y was passed when a 1d array was expected. Please change the shape of y to (n_samples, ), for example using ravel().\n",
      "  y = column_or_1d(y, warn=True)\n"
     ]
    },
    {
     "name": "stdout",
     "output_type": "stream",
     "text": [
      "[CV]  max_depth=4, min_samples_leaf=40, min_samples_split=60, n_estimators=15, subsample=0.5, total=   0.9s\n"
     ]
    },
    {
     "name": "stderr",
     "output_type": "stream",
     "text": [
      "[Parallel(n_jobs=1)]: Done  96 out of  96 | elapsed:  1.2min finished\n",
      "C:\\ProgramData\\Anaconda3\\lib\\site-packages\\sklearn\\utils\\validation.py:578: DataConversionWarning: A column-vector y was passed when a 1d array was expected. Please change the shape of y to (n_samples, ), for example using ravel().\n",
      "  y = column_or_1d(y, warn=True)\n"
     ]
    },
    {
     "data": {
      "text/plain": [
       "GridSearchCV(cv=None, error_score='raise',\n",
       "       estimator=GradientBoostingClassifier(criterion='friedman_mse', init=None,\n",
       "              learning_rate=0.1, loss='deviance', max_depth=3,\n",
       "              max_features=None, max_leaf_nodes=None,\n",
       "              min_impurity_decrease=0.0, min_impurity_split=None,\n",
       "              min_samples_leaf=1, min_samples_split=2,\n",
       "              min_weight_fraction_leaf=0.0, n_estimators=100,\n",
       "              presort='auto', random_state=None, subsample=1.0, verbose=0,\n",
       "              warm_start=False),\n",
       "       fit_params=None, iid=True, n_jobs=1,\n",
       "       param_grid={'n_estimators': [10, 15], 'subsample': [0.25, 0.5], 'max_depth': [3, 4], 'min_samples_split': [40, 60], 'min_samples_leaf': [20, 40]},\n",
       "       pre_dispatch='2*n_jobs', refit=True, return_train_score='warn',\n",
       "       scoring=None, verbose=2)"
      ]
     },
     "execution_count": 53,
     "metadata": {},
     "output_type": "execute_result"
    }
   ],
   "source": [
    "params = {\n",
    "    'n_estimators': [10, 15], \n",
    "    'subsample': [0.25, 0.5], \n",
    "    'max_depth': [3, 4],\n",
    "    'min_samples_split': [40, 60],\n",
    "    'min_samples_leaf': [20, 40]\n",
    "}\n",
    "gbt = GradientBoostingClassifier() # RandomForestClassifier()\n",
    "grid_gbt = GridSearchCV(estimator=gbt, param_grid=params, verbose=2)\n",
    "grid_gbt.fit(X_tr, y_tr)"
   ]
  },
  {
   "cell_type": "code",
   "execution_count": 54,
   "metadata": {},
   "outputs": [
    {
     "name": "stdout",
     "output_type": "stream",
     "text": [
      "GradientBoostingClassifier(criterion='friedman_mse', init=None,\n",
      "              learning_rate=0.1, loss='deviance', max_depth=4,\n",
      "              max_features=None, max_leaf_nodes=None,\n",
      "              min_impurity_decrease=0.0, min_impurity_split=None,\n",
      "              min_samples_leaf=20, min_samples_split=40,\n",
      "              min_weight_fraction_leaf=0.0, n_estimators=15,\n",
      "              presort='auto', random_state=None, subsample=0.5, verbose=0,\n",
      "              warm_start=False)\n",
      "0.8487247141600703\n"
     ]
    },
    {
     "name": "stderr",
     "output_type": "stream",
     "text": [
      "C:\\ProgramData\\Anaconda3\\lib\\site-packages\\sklearn\\utils\\deprecation.py:122: FutureWarning: You are accessing a training score ('split0_train_score'), which will not be available by default any more in 0.21. If you need training scores, please set return_train_score=True\n",
      "  warnings.warn(*warn_args, **warn_kwargs)\n",
      "C:\\ProgramData\\Anaconda3\\lib\\site-packages\\sklearn\\utils\\deprecation.py:122: FutureWarning: You are accessing a training score ('split1_train_score'), which will not be available by default any more in 0.21. If you need training scores, please set return_train_score=True\n",
      "  warnings.warn(*warn_args, **warn_kwargs)\n",
      "C:\\ProgramData\\Anaconda3\\lib\\site-packages\\sklearn\\utils\\deprecation.py:122: FutureWarning: You are accessing a training score ('split2_train_score'), which will not be available by default any more in 0.21. If you need training scores, please set return_train_score=True\n",
      "  warnings.warn(*warn_args, **warn_kwargs)\n",
      "C:\\ProgramData\\Anaconda3\\lib\\site-packages\\sklearn\\utils\\deprecation.py:122: FutureWarning: You are accessing a training score ('mean_train_score'), which will not be available by default any more in 0.21. If you need training scores, please set return_train_score=True\n",
      "  warnings.warn(*warn_args, **warn_kwargs)\n",
      "C:\\ProgramData\\Anaconda3\\lib\\site-packages\\sklearn\\utils\\deprecation.py:122: FutureWarning: You are accessing a training score ('std_train_score'), which will not be available by default any more in 0.21. If you need training scores, please set return_train_score=True\n",
      "  warnings.warn(*warn_args, **warn_kwargs)\n"
     ]
    },
    {
     "data": {
      "text/html": [
       "<div>\n",
       "<style scoped>\n",
       "    .dataframe tbody tr th:only-of-type {\n",
       "        vertical-align: middle;\n",
       "    }\n",
       "\n",
       "    .dataframe tbody tr th {\n",
       "        vertical-align: top;\n",
       "    }\n",
       "\n",
       "    .dataframe thead th {\n",
       "        text-align: right;\n",
       "    }\n",
       "</style>\n",
       "<table border=\"1\" class=\"dataframe\">\n",
       "  <thead>\n",
       "    <tr style=\"text-align: right;\">\n",
       "      <th></th>\n",
       "      <th>mean_fit_time</th>\n",
       "      <th>std_fit_time</th>\n",
       "      <th>mean_score_time</th>\n",
       "      <th>std_score_time</th>\n",
       "      <th>param_max_depth</th>\n",
       "      <th>param_min_samples_leaf</th>\n",
       "      <th>param_min_samples_split</th>\n",
       "      <th>param_n_estimators</th>\n",
       "      <th>param_subsample</th>\n",
       "      <th>params</th>\n",
       "      <th>...</th>\n",
       "      <th>split1_test_score</th>\n",
       "      <th>split2_test_score</th>\n",
       "      <th>mean_test_score</th>\n",
       "      <th>std_test_score</th>\n",
       "      <th>rank_test_score</th>\n",
       "      <th>split0_train_score</th>\n",
       "      <th>split1_train_score</th>\n",
       "      <th>split2_train_score</th>\n",
       "      <th>mean_train_score</th>\n",
       "      <th>std_train_score</th>\n",
       "    </tr>\n",
       "  </thead>\n",
       "  <tbody>\n",
       "    <tr>\n",
       "      <th>0</th>\n",
       "      <td>0.465963</td>\n",
       "      <td>0.041285</td>\n",
       "      <td>0.004099</td>\n",
       "      <td>0.005797</td>\n",
       "      <td>3</td>\n",
       "      <td>20</td>\n",
       "      <td>40</td>\n",
       "      <td>10</td>\n",
       "      <td>0.25</td>\n",
       "      <td>{'max_depth': 3, 'min_samples_leaf': 20, 'min_...</td>\n",
       "      <td>...</td>\n",
       "      <td>0.845342</td>\n",
       "      <td>0.842602</td>\n",
       "      <td>0.843921</td>\n",
       "      <td>0.001121</td>\n",
       "      <td>23</td>\n",
       "      <td>0.844733</td>\n",
       "      <td>0.842501</td>\n",
       "      <td>0.844073</td>\n",
       "      <td>0.843769</td>\n",
       "      <td>0.000937</td>\n",
       "    </tr>\n",
       "    <tr>\n",
       "      <th>1</th>\n",
       "      <td>0.576236</td>\n",
       "      <td>0.003340</td>\n",
       "      <td>0.010414</td>\n",
       "      <td>0.007364</td>\n",
       "      <td>3</td>\n",
       "      <td>20</td>\n",
       "      <td>40</td>\n",
       "      <td>10</td>\n",
       "      <td>0.5</td>\n",
       "      <td>{'max_depth': 3, 'min_samples_leaf': 20, 'min_...</td>\n",
       "      <td>...</td>\n",
       "      <td>0.844530</td>\n",
       "      <td>0.843718</td>\n",
       "      <td>0.843515</td>\n",
       "      <td>0.000923</td>\n",
       "      <td>25</td>\n",
       "      <td>0.844479</td>\n",
       "      <td>0.841993</td>\n",
       "      <td>0.845951</td>\n",
       "      <td>0.844141</td>\n",
       "      <td>0.001633</td>\n",
       "    </tr>\n",
       "    <tr>\n",
       "      <th>2</th>\n",
       "      <td>0.583819</td>\n",
       "      <td>0.007749</td>\n",
       "      <td>0.013242</td>\n",
       "      <td>0.002886</td>\n",
       "      <td>3</td>\n",
       "      <td>20</td>\n",
       "      <td>40</td>\n",
       "      <td>15</td>\n",
       "      <td>0.25</td>\n",
       "      <td>{'max_depth': 3, 'min_samples_leaf': 20, 'min_...</td>\n",
       "      <td>...</td>\n",
       "      <td>0.847473</td>\n",
       "      <td>0.844226</td>\n",
       "      <td>0.844835</td>\n",
       "      <td>0.001954</td>\n",
       "      <td>21</td>\n",
       "      <td>0.845748</td>\n",
       "      <td>0.844835</td>\n",
       "      <td>0.846813</td>\n",
       "      <td>0.845799</td>\n",
       "      <td>0.000809</td>\n",
       "    </tr>\n",
       "    <tr>\n",
       "      <th>3</th>\n",
       "      <td>0.899676</td>\n",
       "      <td>0.025236</td>\n",
       "      <td>0.017979</td>\n",
       "      <td>0.004954</td>\n",
       "      <td>3</td>\n",
       "      <td>20</td>\n",
       "      <td>40</td>\n",
       "      <td>15</td>\n",
       "      <td>0.5</td>\n",
       "      <td>{'max_depth': 3, 'min_samples_leaf': 20, 'min_...</td>\n",
       "      <td>...</td>\n",
       "      <td>0.848691</td>\n",
       "      <td>0.844632</td>\n",
       "      <td>0.846255</td>\n",
       "      <td>0.001754</td>\n",
       "      <td>9</td>\n",
       "      <td>0.847372</td>\n",
       "      <td>0.845342</td>\n",
       "      <td>0.846966</td>\n",
       "      <td>0.846560</td>\n",
       "      <td>0.000877</td>\n",
       "    </tr>\n",
       "    <tr>\n",
       "      <th>4</th>\n",
       "      <td>0.465371</td>\n",
       "      <td>0.026745</td>\n",
       "      <td>0.015185</td>\n",
       "      <td>0.001699</td>\n",
       "      <td>3</td>\n",
       "      <td>20</td>\n",
       "      <td>60</td>\n",
       "      <td>10</td>\n",
       "      <td>0.25</td>\n",
       "      <td>{'max_depth': 3, 'min_samples_leaf': 20, 'min_...</td>\n",
       "      <td>...</td>\n",
       "      <td>0.845748</td>\n",
       "      <td>0.842906</td>\n",
       "      <td>0.843143</td>\n",
       "      <td>0.002037</td>\n",
       "      <td>28</td>\n",
       "      <td>0.842450</td>\n",
       "      <td>0.843871</td>\n",
       "      <td>0.844581</td>\n",
       "      <td>0.843634</td>\n",
       "      <td>0.000886</td>\n",
       "    </tr>\n",
       "    <tr>\n",
       "      <th>5</th>\n",
       "      <td>0.599871</td>\n",
       "      <td>0.003255</td>\n",
       "      <td>0.014679</td>\n",
       "      <td>0.007219</td>\n",
       "      <td>3</td>\n",
       "      <td>20</td>\n",
       "      <td>60</td>\n",
       "      <td>10</td>\n",
       "      <td>0.5</td>\n",
       "      <td>{'max_depth': 3, 'min_samples_leaf': 20, 'min_...</td>\n",
       "      <td>...</td>\n",
       "      <td>0.847270</td>\n",
       "      <td>0.843921</td>\n",
       "      <td>0.844090</td>\n",
       "      <td>0.002530</td>\n",
       "      <td>22</td>\n",
       "      <td>0.843109</td>\n",
       "      <td>0.845241</td>\n",
       "      <td>0.846661</td>\n",
       "      <td>0.845004</td>\n",
       "      <td>0.001460</td>\n",
       "    </tr>\n",
       "    <tr>\n",
       "      <th>6</th>\n",
       "      <td>0.605385</td>\n",
       "      <td>0.031081</td>\n",
       "      <td>0.011041</td>\n",
       "      <td>0.007997</td>\n",
       "      <td>3</td>\n",
       "      <td>20</td>\n",
       "      <td>60</td>\n",
       "      <td>15</td>\n",
       "      <td>0.25</td>\n",
       "      <td>{'max_depth': 3, 'min_samples_leaf': 20, 'min_...</td>\n",
       "      <td>...</td>\n",
       "      <td>0.846357</td>\n",
       "      <td>0.846458</td>\n",
       "      <td>0.844970</td>\n",
       "      <td>0.002034</td>\n",
       "      <td>19</td>\n",
       "      <td>0.844784</td>\n",
       "      <td>0.844175</td>\n",
       "      <td>0.848437</td>\n",
       "      <td>0.845799</td>\n",
       "      <td>0.001882</td>\n",
       "    </tr>\n",
       "    <tr>\n",
       "      <th>7</th>\n",
       "      <td>0.867337</td>\n",
       "      <td>0.017000</td>\n",
       "      <td>0.013599</td>\n",
       "      <td>0.002978</td>\n",
       "      <td>3</td>\n",
       "      <td>20</td>\n",
       "      <td>60</td>\n",
       "      <td>15</td>\n",
       "      <td>0.5</td>\n",
       "      <td>{'max_depth': 3, 'min_samples_leaf': 20, 'min_...</td>\n",
       "      <td>...</td>\n",
       "      <td>0.847778</td>\n",
       "      <td>0.846458</td>\n",
       "      <td>0.846932</td>\n",
       "      <td>0.000599</td>\n",
       "      <td>8</td>\n",
       "      <td>0.848488</td>\n",
       "      <td>0.845190</td>\n",
       "      <td>0.848742</td>\n",
       "      <td>0.847473</td>\n",
       "      <td>0.001618</td>\n",
       "    </tr>\n",
       "    <tr>\n",
       "      <th>8</th>\n",
       "      <td>0.430346</td>\n",
       "      <td>0.024214</td>\n",
       "      <td>0.011686</td>\n",
       "      <td>0.008341</td>\n",
       "      <td>3</td>\n",
       "      <td>40</td>\n",
       "      <td>40</td>\n",
       "      <td>10</td>\n",
       "      <td>0.25</td>\n",
       "      <td>{'max_depth': 3, 'min_samples_leaf': 40, 'min_...</td>\n",
       "      <td>...</td>\n",
       "      <td>0.844835</td>\n",
       "      <td>0.841587</td>\n",
       "      <td>0.841892</td>\n",
       "      <td>0.002289</td>\n",
       "      <td>31</td>\n",
       "      <td>0.840978</td>\n",
       "      <td>0.842196</td>\n",
       "      <td>0.842145</td>\n",
       "      <td>0.841773</td>\n",
       "      <td>0.000562</td>\n",
       "    </tr>\n",
       "    <tr>\n",
       "      <th>9</th>\n",
       "      <td>0.587395</td>\n",
       "      <td>0.017855</td>\n",
       "      <td>0.008788</td>\n",
       "      <td>0.006526</td>\n",
       "      <td>3</td>\n",
       "      <td>40</td>\n",
       "      <td>40</td>\n",
       "      <td>10</td>\n",
       "      <td>0.5</td>\n",
       "      <td>{'max_depth': 3, 'min_samples_leaf': 40, 'min_...</td>\n",
       "      <td>...</td>\n",
       "      <td>0.845748</td>\n",
       "      <td>0.841790</td>\n",
       "      <td>0.843279</td>\n",
       "      <td>0.001758</td>\n",
       "      <td>27</td>\n",
       "      <td>0.843769</td>\n",
       "      <td>0.843668</td>\n",
       "      <td>0.843008</td>\n",
       "      <td>0.843481</td>\n",
       "      <td>0.000337</td>\n",
       "    </tr>\n",
       "    <tr>\n",
       "      <th>10</th>\n",
       "      <td>0.579875</td>\n",
       "      <td>0.013742</td>\n",
       "      <td>0.011798</td>\n",
       "      <td>0.002801</td>\n",
       "      <td>3</td>\n",
       "      <td>40</td>\n",
       "      <td>40</td>\n",
       "      <td>15</td>\n",
       "      <td>0.25</td>\n",
       "      <td>{'max_depth': 3, 'min_samples_leaf': 40, 'min_...</td>\n",
       "      <td>...</td>\n",
       "      <td>0.846255</td>\n",
       "      <td>0.844429</td>\n",
       "      <td>0.845004</td>\n",
       "      <td>0.000886</td>\n",
       "      <td>17</td>\n",
       "      <td>0.845241</td>\n",
       "      <td>0.843566</td>\n",
       "      <td>0.846915</td>\n",
       "      <td>0.845241</td>\n",
       "      <td>0.001367</td>\n",
       "    </tr>\n",
       "    <tr>\n",
       "      <th>11</th>\n",
       "      <td>0.878253</td>\n",
       "      <td>0.045760</td>\n",
       "      <td>0.016192</td>\n",
       "      <td>0.001912</td>\n",
       "      <td>3</td>\n",
       "      <td>40</td>\n",
       "      <td>40</td>\n",
       "      <td>15</td>\n",
       "      <td>0.5</td>\n",
       "      <td>{'max_depth': 3, 'min_samples_leaf': 40, 'min_...</td>\n",
       "      <td>...</td>\n",
       "      <td>0.845646</td>\n",
       "      <td>0.844226</td>\n",
       "      <td>0.844970</td>\n",
       "      <td>0.000582</td>\n",
       "      <td>19</td>\n",
       "      <td>0.846763</td>\n",
       "      <td>0.844073</td>\n",
       "      <td>0.847372</td>\n",
       "      <td>0.846069</td>\n",
       "      <td>0.001433</td>\n",
       "    </tr>\n",
       "    <tr>\n",
       "      <th>12</th>\n",
       "      <td>0.442853</td>\n",
       "      <td>0.020946</td>\n",
       "      <td>0.005194</td>\n",
       "      <td>0.007346</td>\n",
       "      <td>3</td>\n",
       "      <td>40</td>\n",
       "      <td>60</td>\n",
       "      <td>10</td>\n",
       "      <td>0.25</td>\n",
       "      <td>{'max_depth': 3, 'min_samples_leaf': 40, 'min_...</td>\n",
       "      <td>...</td>\n",
       "      <td>0.841384</td>\n",
       "      <td>0.842805</td>\n",
       "      <td>0.841418</td>\n",
       "      <td>0.001119</td>\n",
       "      <td>32</td>\n",
       "      <td>0.841790</td>\n",
       "      <td>0.839507</td>\n",
       "      <td>0.843820</td>\n",
       "      <td>0.841706</td>\n",
       "      <td>0.001762</td>\n",
       "    </tr>\n",
       "    <tr>\n",
       "      <th>13</th>\n",
       "      <td>0.594401</td>\n",
       "      <td>0.004571</td>\n",
       "      <td>0.012745</td>\n",
       "      <td>0.003238</td>\n",
       "      <td>3</td>\n",
       "      <td>40</td>\n",
       "      <td>60</td>\n",
       "      <td>10</td>\n",
       "      <td>0.5</td>\n",
       "      <td>{'max_depth': 3, 'min_samples_leaf': 40, 'min_...</td>\n",
       "      <td>...</td>\n",
       "      <td>0.843617</td>\n",
       "      <td>0.842399</td>\n",
       "      <td>0.842636</td>\n",
       "      <td>0.000724</td>\n",
       "      <td>30</td>\n",
       "      <td>0.843262</td>\n",
       "      <td>0.841486</td>\n",
       "      <td>0.845393</td>\n",
       "      <td>0.843380</td>\n",
       "      <td>0.001597</td>\n",
       "    </tr>\n",
       "    <tr>\n",
       "      <th>14</th>\n",
       "      <td>0.588404</td>\n",
       "      <td>0.013932</td>\n",
       "      <td>0.013203</td>\n",
       "      <td>0.001795</td>\n",
       "      <td>3</td>\n",
       "      <td>40</td>\n",
       "      <td>60</td>\n",
       "      <td>15</td>\n",
       "      <td>0.25</td>\n",
       "      <td>{'max_depth': 3, 'min_samples_leaf': 40, 'min_...</td>\n",
       "      <td>...</td>\n",
       "      <td>0.845038</td>\n",
       "      <td>0.843820</td>\n",
       "      <td>0.843820</td>\n",
       "      <td>0.000994</td>\n",
       "      <td>24</td>\n",
       "      <td>0.844479</td>\n",
       "      <td>0.844429</td>\n",
       "      <td>0.845241</td>\n",
       "      <td>0.844716</td>\n",
       "      <td>0.000371</td>\n",
       "    </tr>\n",
       "    <tr>\n",
       "      <th>15</th>\n",
       "      <td>0.839790</td>\n",
       "      <td>0.018149</td>\n",
       "      <td>0.015134</td>\n",
       "      <td>0.001553</td>\n",
       "      <td>3</td>\n",
       "      <td>40</td>\n",
       "      <td>60</td>\n",
       "      <td>15</td>\n",
       "      <td>0.5</td>\n",
       "      <td>{'max_depth': 3, 'min_samples_leaf': 40, 'min_...</td>\n",
       "      <td>...</td>\n",
       "      <td>0.845241</td>\n",
       "      <td>0.845342</td>\n",
       "      <td>0.845410</td>\n",
       "      <td>0.000172</td>\n",
       "      <td>13</td>\n",
       "      <td>0.848183</td>\n",
       "      <td>0.844378</td>\n",
       "      <td>0.848031</td>\n",
       "      <td>0.846864</td>\n",
       "      <td>0.001759</td>\n",
       "    </tr>\n",
       "    <tr>\n",
       "      <th>16</th>\n",
       "      <td>0.488115</td>\n",
       "      <td>0.003887</td>\n",
       "      <td>0.010411</td>\n",
       "      <td>0.007362</td>\n",
       "      <td>4</td>\n",
       "      <td>20</td>\n",
       "      <td>40</td>\n",
       "      <td>10</td>\n",
       "      <td>0.25</td>\n",
       "      <td>{'max_depth': 4, 'min_samples_leaf': 20, 'min_...</td>\n",
       "      <td>...</td>\n",
       "      <td>0.845342</td>\n",
       "      <td>0.843718</td>\n",
       "      <td>0.845443</td>\n",
       "      <td>0.001452</td>\n",
       "      <td>12</td>\n",
       "      <td>0.850061</td>\n",
       "      <td>0.842906</td>\n",
       "      <td>0.846205</td>\n",
       "      <td>0.846391</td>\n",
       "      <td>0.002924</td>\n",
       "    </tr>\n",
       "    <tr>\n",
       "      <th>17</th>\n",
       "      <td>0.726566</td>\n",
       "      <td>0.013730</td>\n",
       "      <td>0.008292</td>\n",
       "      <td>0.006402</td>\n",
       "      <td>4</td>\n",
       "      <td>20</td>\n",
       "      <td>40</td>\n",
       "      <td>10</td>\n",
       "      <td>0.5</td>\n",
       "      <td>{'max_depth': 4, 'min_samples_leaf': 20, 'min_...</td>\n",
       "      <td>...</td>\n",
       "      <td>0.848691</td>\n",
       "      <td>0.844124</td>\n",
       "      <td>0.845545</td>\n",
       "      <td>0.002228</td>\n",
       "      <td>11</td>\n",
       "      <td>0.847575</td>\n",
       "      <td>0.845393</td>\n",
       "      <td>0.846611</td>\n",
       "      <td>0.846526</td>\n",
       "      <td>0.000893</td>\n",
       "    </tr>\n",
       "    <tr>\n",
       "      <th>18</th>\n",
       "      <td>0.690122</td>\n",
       "      <td>0.016112</td>\n",
       "      <td>0.010404</td>\n",
       "      <td>0.007357</td>\n",
       "      <td>4</td>\n",
       "      <td>20</td>\n",
       "      <td>40</td>\n",
       "      <td>15</td>\n",
       "      <td>0.25</td>\n",
       "      <td>{'max_depth': 4, 'min_samples_leaf': 20, 'min_...</td>\n",
       "      <td>...</td>\n",
       "      <td>0.849503</td>\n",
       "      <td>0.846357</td>\n",
       "      <td>0.847338</td>\n",
       "      <td>0.001533</td>\n",
       "      <td>7</td>\n",
       "      <td>0.849401</td>\n",
       "      <td>0.848234</td>\n",
       "      <td>0.850162</td>\n",
       "      <td>0.849266</td>\n",
       "      <td>0.000793</td>\n",
       "    </tr>\n",
       "    <tr>\n",
       "      <th>19</th>\n",
       "      <td>1.092302</td>\n",
       "      <td>0.025480</td>\n",
       "      <td>0.020697</td>\n",
       "      <td>0.005131</td>\n",
       "      <td>4</td>\n",
       "      <td>20</td>\n",
       "      <td>40</td>\n",
       "      <td>15</td>\n",
       "      <td>0.5</td>\n",
       "      <td>{'max_depth': 4, 'min_samples_leaf': 20, 'min_...</td>\n",
       "      <td>...</td>\n",
       "      <td>0.850923</td>\n",
       "      <td>0.848082</td>\n",
       "      <td>0.848725</td>\n",
       "      <td>0.001599</td>\n",
       "      <td>1</td>\n",
       "      <td>0.849858</td>\n",
       "      <td>0.848539</td>\n",
       "      <td>0.850365</td>\n",
       "      <td>0.849587</td>\n",
       "      <td>0.000770</td>\n",
       "    </tr>\n",
       "    <tr>\n",
       "      <th>20</th>\n",
       "      <td>0.494638</td>\n",
       "      <td>0.011276</td>\n",
       "      <td>0.011527</td>\n",
       "      <td>0.008265</td>\n",
       "      <td>4</td>\n",
       "      <td>20</td>\n",
       "      <td>60</td>\n",
       "      <td>10</td>\n",
       "      <td>0.25</td>\n",
       "      <td>{'max_depth': 4, 'min_samples_leaf': 20, 'min_...</td>\n",
       "      <td>...</td>\n",
       "      <td>0.846154</td>\n",
       "      <td>0.845849</td>\n",
       "      <td>0.845004</td>\n",
       "      <td>0.001417</td>\n",
       "      <td>17</td>\n",
       "      <td>0.845748</td>\n",
       "      <td>0.843566</td>\n",
       "      <td>0.847625</td>\n",
       "      <td>0.845646</td>\n",
       "      <td>0.001659</td>\n",
       "    </tr>\n",
       "    <tr>\n",
       "      <th>21</th>\n",
       "      <td>0.721745</td>\n",
       "      <td>0.007949</td>\n",
       "      <td>0.013814</td>\n",
       "      <td>0.002598</td>\n",
       "      <td>4</td>\n",
       "      <td>20</td>\n",
       "      <td>60</td>\n",
       "      <td>10</td>\n",
       "      <td>0.5</td>\n",
       "      <td>{'max_depth': 4, 'min_samples_leaf': 20, 'min_...</td>\n",
       "      <td>...</td>\n",
       "      <td>0.849503</td>\n",
       "      <td>0.846966</td>\n",
       "      <td>0.847405</td>\n",
       "      <td>0.001564</td>\n",
       "      <td>6</td>\n",
       "      <td>0.848742</td>\n",
       "      <td>0.847879</td>\n",
       "      <td>0.849959</td>\n",
       "      <td>0.848860</td>\n",
       "      <td>0.000853</td>\n",
       "    </tr>\n",
       "    <tr>\n",
       "      <th>22</th>\n",
       "      <td>0.693768</td>\n",
       "      <td>0.019180</td>\n",
       "      <td>0.011892</td>\n",
       "      <td>0.005365</td>\n",
       "      <td>4</td>\n",
       "      <td>20</td>\n",
       "      <td>60</td>\n",
       "      <td>15</td>\n",
       "      <td>0.25</td>\n",
       "      <td>{'max_depth': 4, 'min_samples_leaf': 20, 'min_...</td>\n",
       "      <td>...</td>\n",
       "      <td>0.849401</td>\n",
       "      <td>0.847270</td>\n",
       "      <td>0.847879</td>\n",
       "      <td>0.001084</td>\n",
       "      <td>4</td>\n",
       "      <td>0.850365</td>\n",
       "      <td>0.845494</td>\n",
       "      <td>0.850162</td>\n",
       "      <td>0.848674</td>\n",
       "      <td>0.002250</td>\n",
       "    </tr>\n",
       "    <tr>\n",
       "      <th>23</th>\n",
       "      <td>1.217220</td>\n",
       "      <td>0.105555</td>\n",
       "      <td>0.018236</td>\n",
       "      <td>0.001911</td>\n",
       "      <td>4</td>\n",
       "      <td>20</td>\n",
       "      <td>60</td>\n",
       "      <td>15</td>\n",
       "      <td>0.5</td>\n",
       "      <td>{'max_depth': 4, 'min_samples_leaf': 20, 'min_...</td>\n",
       "      <td>...</td>\n",
       "      <td>0.849300</td>\n",
       "      <td>0.847067</td>\n",
       "      <td>0.847981</td>\n",
       "      <td>0.000956</td>\n",
       "      <td>2</td>\n",
       "      <td>0.850467</td>\n",
       "      <td>0.848640</td>\n",
       "      <td>0.849959</td>\n",
       "      <td>0.849689</td>\n",
       "      <td>0.000770</td>\n",
       "    </tr>\n",
       "    <tr>\n",
       "      <th>24</th>\n",
       "      <td>0.532613</td>\n",
       "      <td>0.014643</td>\n",
       "      <td>0.015376</td>\n",
       "      <td>0.001434</td>\n",
       "      <td>4</td>\n",
       "      <td>40</td>\n",
       "      <td>40</td>\n",
       "      <td>10</td>\n",
       "      <td>0.25</td>\n",
       "      <td>{'max_depth': 4, 'min_samples_leaf': 40, 'min_...</td>\n",
       "      <td>...</td>\n",
       "      <td>0.845646</td>\n",
       "      <td>0.842399</td>\n",
       "      <td>0.843312</td>\n",
       "      <td>0.001663</td>\n",
       "      <td>26</td>\n",
       "      <td>0.844226</td>\n",
       "      <td>0.843820</td>\n",
       "      <td>0.843566</td>\n",
       "      <td>0.843871</td>\n",
       "      <td>0.000272</td>\n",
       "    </tr>\n",
       "    <tr>\n",
       "      <th>25</th>\n",
       "      <td>0.732405</td>\n",
       "      <td>0.029799</td>\n",
       "      <td>0.012819</td>\n",
       "      <td>0.009066</td>\n",
       "      <td>4</td>\n",
       "      <td>40</td>\n",
       "      <td>40</td>\n",
       "      <td>10</td>\n",
       "      <td>0.5</td>\n",
       "      <td>{'max_depth': 4, 'min_samples_leaf': 40, 'min_...</td>\n",
       "      <td>...</td>\n",
       "      <td>0.845646</td>\n",
       "      <td>0.845038</td>\n",
       "      <td>0.845376</td>\n",
       "      <td>0.000253</td>\n",
       "      <td>14</td>\n",
       "      <td>0.847778</td>\n",
       "      <td>0.843008</td>\n",
       "      <td>0.847422</td>\n",
       "      <td>0.846069</td>\n",
       "      <td>0.002170</td>\n",
       "    </tr>\n",
       "    <tr>\n",
       "      <th>26</th>\n",
       "      <td>0.712650</td>\n",
       "      <td>0.026071</td>\n",
       "      <td>0.012009</td>\n",
       "      <td>0.005207</td>\n",
       "      <td>4</td>\n",
       "      <td>40</td>\n",
       "      <td>40</td>\n",
       "      <td>15</td>\n",
       "      <td>0.25</td>\n",
       "      <td>{'max_depth': 4, 'min_samples_leaf': 40, 'min_...</td>\n",
       "      <td>...</td>\n",
       "      <td>0.846661</td>\n",
       "      <td>0.844936</td>\n",
       "      <td>0.845376</td>\n",
       "      <td>0.000924</td>\n",
       "      <td>14</td>\n",
       "      <td>0.845900</td>\n",
       "      <td>0.846306</td>\n",
       "      <td>0.846611</td>\n",
       "      <td>0.846272</td>\n",
       "      <td>0.000291</td>\n",
       "    </tr>\n",
       "    <tr>\n",
       "      <th>27</th>\n",
       "      <td>1.076744</td>\n",
       "      <td>0.014178</td>\n",
       "      <td>0.014316</td>\n",
       "      <td>0.010480</td>\n",
       "      <td>4</td>\n",
       "      <td>40</td>\n",
       "      <td>40</td>\n",
       "      <td>15</td>\n",
       "      <td>0.5</td>\n",
       "      <td>{'max_depth': 4, 'min_samples_leaf': 40, 'min_...</td>\n",
       "      <td>...</td>\n",
       "      <td>0.847981</td>\n",
       "      <td>0.846763</td>\n",
       "      <td>0.847473</td>\n",
       "      <td>0.000517</td>\n",
       "      <td>5</td>\n",
       "      <td>0.849756</td>\n",
       "      <td>0.847270</td>\n",
       "      <td>0.849858</td>\n",
       "      <td>0.848962</td>\n",
       "      <td>0.001197</td>\n",
       "    </tr>\n",
       "    <tr>\n",
       "      <th>28</th>\n",
       "      <td>0.485199</td>\n",
       "      <td>0.004722</td>\n",
       "      <td>0.016590</td>\n",
       "      <td>0.003348</td>\n",
       "      <td>4</td>\n",
       "      <td>40</td>\n",
       "      <td>60</td>\n",
       "      <td>10</td>\n",
       "      <td>0.25</td>\n",
       "      <td>{'max_depth': 4, 'min_samples_leaf': 40, 'min_...</td>\n",
       "      <td>...</td>\n",
       "      <td>0.845241</td>\n",
       "      <td>0.842906</td>\n",
       "      <td>0.842974</td>\n",
       "      <td>0.001824</td>\n",
       "      <td>29</td>\n",
       "      <td>0.842906</td>\n",
       "      <td>0.843059</td>\n",
       "      <td>0.843363</td>\n",
       "      <td>0.843109</td>\n",
       "      <td>0.000190</td>\n",
       "    </tr>\n",
       "    <tr>\n",
       "      <th>29</th>\n",
       "      <td>0.734105</td>\n",
       "      <td>0.021233</td>\n",
       "      <td>0.015645</td>\n",
       "      <td>0.000018</td>\n",
       "      <td>4</td>\n",
       "      <td>40</td>\n",
       "      <td>60</td>\n",
       "      <td>10</td>\n",
       "      <td>0.5</td>\n",
       "      <td>{'max_depth': 4, 'min_samples_leaf': 40, 'min_...</td>\n",
       "      <td>...</td>\n",
       "      <td>0.846966</td>\n",
       "      <td>0.843109</td>\n",
       "      <td>0.845105</td>\n",
       "      <td>0.001577</td>\n",
       "      <td>16</td>\n",
       "      <td>0.848488</td>\n",
       "      <td>0.845190</td>\n",
       "      <td>0.845697</td>\n",
       "      <td>0.846458</td>\n",
       "      <td>0.001450</td>\n",
       "    </tr>\n",
       "    <tr>\n",
       "      <th>30</th>\n",
       "      <td>0.713750</td>\n",
       "      <td>0.024274</td>\n",
       "      <td>0.013693</td>\n",
       "      <td>0.002809</td>\n",
       "      <td>4</td>\n",
       "      <td>40</td>\n",
       "      <td>60</td>\n",
       "      <td>15</td>\n",
       "      <td>0.25</td>\n",
       "      <td>{'max_depth': 4, 'min_samples_leaf': 40, 'min_...</td>\n",
       "      <td>...</td>\n",
       "      <td>0.846458</td>\n",
       "      <td>0.846154</td>\n",
       "      <td>0.846188</td>\n",
       "      <td>0.000209</td>\n",
       "      <td>10</td>\n",
       "      <td>0.849148</td>\n",
       "      <td>0.844581</td>\n",
       "      <td>0.850416</td>\n",
       "      <td>0.848048</td>\n",
       "      <td>0.002506</td>\n",
       "    </tr>\n",
       "    <tr>\n",
       "      <th>31</th>\n",
       "      <td>1.009574</td>\n",
       "      <td>0.015091</td>\n",
       "      <td>0.015604</td>\n",
       "      <td>0.000014</td>\n",
       "      <td>4</td>\n",
       "      <td>40</td>\n",
       "      <td>60</td>\n",
       "      <td>15</td>\n",
       "      <td>0.5</td>\n",
       "      <td>{'max_depth': 4, 'min_samples_leaf': 40, 'min_...</td>\n",
       "      <td>...</td>\n",
       "      <td>0.848691</td>\n",
       "      <td>0.847575</td>\n",
       "      <td>0.847981</td>\n",
       "      <td>0.000504</td>\n",
       "      <td>2</td>\n",
       "      <td>0.849655</td>\n",
       "      <td>0.847219</td>\n",
       "      <td>0.850619</td>\n",
       "      <td>0.849164</td>\n",
       "      <td>0.001431</td>\n",
       "    </tr>\n",
       "  </tbody>\n",
       "</table>\n",
       "<p>32 rows × 21 columns</p>\n",
       "</div>"
      ],
      "text/plain": [
       "    mean_fit_time  std_fit_time  mean_score_time  std_score_time  \\\n",
       "0        0.465963      0.041285         0.004099        0.005797   \n",
       "1        0.576236      0.003340         0.010414        0.007364   \n",
       "2        0.583819      0.007749         0.013242        0.002886   \n",
       "3        0.899676      0.025236         0.017979        0.004954   \n",
       "4        0.465371      0.026745         0.015185        0.001699   \n",
       "5        0.599871      0.003255         0.014679        0.007219   \n",
       "6        0.605385      0.031081         0.011041        0.007997   \n",
       "7        0.867337      0.017000         0.013599        0.002978   \n",
       "8        0.430346      0.024214         0.011686        0.008341   \n",
       "9        0.587395      0.017855         0.008788        0.006526   \n",
       "10       0.579875      0.013742         0.011798        0.002801   \n",
       "11       0.878253      0.045760         0.016192        0.001912   \n",
       "12       0.442853      0.020946         0.005194        0.007346   \n",
       "13       0.594401      0.004571         0.012745        0.003238   \n",
       "14       0.588404      0.013932         0.013203        0.001795   \n",
       "15       0.839790      0.018149         0.015134        0.001553   \n",
       "16       0.488115      0.003887         0.010411        0.007362   \n",
       "17       0.726566      0.013730         0.008292        0.006402   \n",
       "18       0.690122      0.016112         0.010404        0.007357   \n",
       "19       1.092302      0.025480         0.020697        0.005131   \n",
       "20       0.494638      0.011276         0.011527        0.008265   \n",
       "21       0.721745      0.007949         0.013814        0.002598   \n",
       "22       0.693768      0.019180         0.011892        0.005365   \n",
       "23       1.217220      0.105555         0.018236        0.001911   \n",
       "24       0.532613      0.014643         0.015376        0.001434   \n",
       "25       0.732405      0.029799         0.012819        0.009066   \n",
       "26       0.712650      0.026071         0.012009        0.005207   \n",
       "27       1.076744      0.014178         0.014316        0.010480   \n",
       "28       0.485199      0.004722         0.016590        0.003348   \n",
       "29       0.734105      0.021233         0.015645        0.000018   \n",
       "30       0.713750      0.024274         0.013693        0.002809   \n",
       "31       1.009574      0.015091         0.015604        0.000014   \n",
       "\n",
       "   param_max_depth param_min_samples_leaf param_min_samples_split  \\\n",
       "0                3                     20                      40   \n",
       "1                3                     20                      40   \n",
       "2                3                     20                      40   \n",
       "3                3                     20                      40   \n",
       "4                3                     20                      60   \n",
       "5                3                     20                      60   \n",
       "6                3                     20                      60   \n",
       "7                3                     20                      60   \n",
       "8                3                     40                      40   \n",
       "9                3                     40                      40   \n",
       "10               3                     40                      40   \n",
       "11               3                     40                      40   \n",
       "12               3                     40                      60   \n",
       "13               3                     40                      60   \n",
       "14               3                     40                      60   \n",
       "15               3                     40                      60   \n",
       "16               4                     20                      40   \n",
       "17               4                     20                      40   \n",
       "18               4                     20                      40   \n",
       "19               4                     20                      40   \n",
       "20               4                     20                      60   \n",
       "21               4                     20                      60   \n",
       "22               4                     20                      60   \n",
       "23               4                     20                      60   \n",
       "24               4                     40                      40   \n",
       "25               4                     40                      40   \n",
       "26               4                     40                      40   \n",
       "27               4                     40                      40   \n",
       "28               4                     40                      60   \n",
       "29               4                     40                      60   \n",
       "30               4                     40                      60   \n",
       "31               4                     40                      60   \n",
       "\n",
       "   param_n_estimators param_subsample  \\\n",
       "0                  10            0.25   \n",
       "1                  10             0.5   \n",
       "2                  15            0.25   \n",
       "3                  15             0.5   \n",
       "4                  10            0.25   \n",
       "5                  10             0.5   \n",
       "6                  15            0.25   \n",
       "7                  15             0.5   \n",
       "8                  10            0.25   \n",
       "9                  10             0.5   \n",
       "10                 15            0.25   \n",
       "11                 15             0.5   \n",
       "12                 10            0.25   \n",
       "13                 10             0.5   \n",
       "14                 15            0.25   \n",
       "15                 15             0.5   \n",
       "16                 10            0.25   \n",
       "17                 10             0.5   \n",
       "18                 15            0.25   \n",
       "19                 15             0.5   \n",
       "20                 10            0.25   \n",
       "21                 10             0.5   \n",
       "22                 15            0.25   \n",
       "23                 15             0.5   \n",
       "24                 10            0.25   \n",
       "25                 10             0.5   \n",
       "26                 15            0.25   \n",
       "27                 15             0.5   \n",
       "28                 10            0.25   \n",
       "29                 10             0.5   \n",
       "30                 15            0.25   \n",
       "31                 15             0.5   \n",
       "\n",
       "                                               params       ...         \\\n",
       "0   {'max_depth': 3, 'min_samples_leaf': 20, 'min_...       ...          \n",
       "1   {'max_depth': 3, 'min_samples_leaf': 20, 'min_...       ...          \n",
       "2   {'max_depth': 3, 'min_samples_leaf': 20, 'min_...       ...          \n",
       "3   {'max_depth': 3, 'min_samples_leaf': 20, 'min_...       ...          \n",
       "4   {'max_depth': 3, 'min_samples_leaf': 20, 'min_...       ...          \n",
       "5   {'max_depth': 3, 'min_samples_leaf': 20, 'min_...       ...          \n",
       "6   {'max_depth': 3, 'min_samples_leaf': 20, 'min_...       ...          \n",
       "7   {'max_depth': 3, 'min_samples_leaf': 20, 'min_...       ...          \n",
       "8   {'max_depth': 3, 'min_samples_leaf': 40, 'min_...       ...          \n",
       "9   {'max_depth': 3, 'min_samples_leaf': 40, 'min_...       ...          \n",
       "10  {'max_depth': 3, 'min_samples_leaf': 40, 'min_...       ...          \n",
       "11  {'max_depth': 3, 'min_samples_leaf': 40, 'min_...       ...          \n",
       "12  {'max_depth': 3, 'min_samples_leaf': 40, 'min_...       ...          \n",
       "13  {'max_depth': 3, 'min_samples_leaf': 40, 'min_...       ...          \n",
       "14  {'max_depth': 3, 'min_samples_leaf': 40, 'min_...       ...          \n",
       "15  {'max_depth': 3, 'min_samples_leaf': 40, 'min_...       ...          \n",
       "16  {'max_depth': 4, 'min_samples_leaf': 20, 'min_...       ...          \n",
       "17  {'max_depth': 4, 'min_samples_leaf': 20, 'min_...       ...          \n",
       "18  {'max_depth': 4, 'min_samples_leaf': 20, 'min_...       ...          \n",
       "19  {'max_depth': 4, 'min_samples_leaf': 20, 'min_...       ...          \n",
       "20  {'max_depth': 4, 'min_samples_leaf': 20, 'min_...       ...          \n",
       "21  {'max_depth': 4, 'min_samples_leaf': 20, 'min_...       ...          \n",
       "22  {'max_depth': 4, 'min_samples_leaf': 20, 'min_...       ...          \n",
       "23  {'max_depth': 4, 'min_samples_leaf': 20, 'min_...       ...          \n",
       "24  {'max_depth': 4, 'min_samples_leaf': 40, 'min_...       ...          \n",
       "25  {'max_depth': 4, 'min_samples_leaf': 40, 'min_...       ...          \n",
       "26  {'max_depth': 4, 'min_samples_leaf': 40, 'min_...       ...          \n",
       "27  {'max_depth': 4, 'min_samples_leaf': 40, 'min_...       ...          \n",
       "28  {'max_depth': 4, 'min_samples_leaf': 40, 'min_...       ...          \n",
       "29  {'max_depth': 4, 'min_samples_leaf': 40, 'min_...       ...          \n",
       "30  {'max_depth': 4, 'min_samples_leaf': 40, 'min_...       ...          \n",
       "31  {'max_depth': 4, 'min_samples_leaf': 40, 'min_...       ...          \n",
       "\n",
       "    split1_test_score  split2_test_score  mean_test_score  std_test_score  \\\n",
       "0            0.845342           0.842602         0.843921        0.001121   \n",
       "1            0.844530           0.843718         0.843515        0.000923   \n",
       "2            0.847473           0.844226         0.844835        0.001954   \n",
       "3            0.848691           0.844632         0.846255        0.001754   \n",
       "4            0.845748           0.842906         0.843143        0.002037   \n",
       "5            0.847270           0.843921         0.844090        0.002530   \n",
       "6            0.846357           0.846458         0.844970        0.002034   \n",
       "7            0.847778           0.846458         0.846932        0.000599   \n",
       "8            0.844835           0.841587         0.841892        0.002289   \n",
       "9            0.845748           0.841790         0.843279        0.001758   \n",
       "10           0.846255           0.844429         0.845004        0.000886   \n",
       "11           0.845646           0.844226         0.844970        0.000582   \n",
       "12           0.841384           0.842805         0.841418        0.001119   \n",
       "13           0.843617           0.842399         0.842636        0.000724   \n",
       "14           0.845038           0.843820         0.843820        0.000994   \n",
       "15           0.845241           0.845342         0.845410        0.000172   \n",
       "16           0.845342           0.843718         0.845443        0.001452   \n",
       "17           0.848691           0.844124         0.845545        0.002228   \n",
       "18           0.849503           0.846357         0.847338        0.001533   \n",
       "19           0.850923           0.848082         0.848725        0.001599   \n",
       "20           0.846154           0.845849         0.845004        0.001417   \n",
       "21           0.849503           0.846966         0.847405        0.001564   \n",
       "22           0.849401           0.847270         0.847879        0.001084   \n",
       "23           0.849300           0.847067         0.847981        0.000956   \n",
       "24           0.845646           0.842399         0.843312        0.001663   \n",
       "25           0.845646           0.845038         0.845376        0.000253   \n",
       "26           0.846661           0.844936         0.845376        0.000924   \n",
       "27           0.847981           0.846763         0.847473        0.000517   \n",
       "28           0.845241           0.842906         0.842974        0.001824   \n",
       "29           0.846966           0.843109         0.845105        0.001577   \n",
       "30           0.846458           0.846154         0.846188        0.000209   \n",
       "31           0.848691           0.847575         0.847981        0.000504   \n",
       "\n",
       "    rank_test_score  split0_train_score  split1_train_score  \\\n",
       "0                23            0.844733            0.842501   \n",
       "1                25            0.844479            0.841993   \n",
       "2                21            0.845748            0.844835   \n",
       "3                 9            0.847372            0.845342   \n",
       "4                28            0.842450            0.843871   \n",
       "5                22            0.843109            0.845241   \n",
       "6                19            0.844784            0.844175   \n",
       "7                 8            0.848488            0.845190   \n",
       "8                31            0.840978            0.842196   \n",
       "9                27            0.843769            0.843668   \n",
       "10               17            0.845241            0.843566   \n",
       "11               19            0.846763            0.844073   \n",
       "12               32            0.841790            0.839507   \n",
       "13               30            0.843262            0.841486   \n",
       "14               24            0.844479            0.844429   \n",
       "15               13            0.848183            0.844378   \n",
       "16               12            0.850061            0.842906   \n",
       "17               11            0.847575            0.845393   \n",
       "18                7            0.849401            0.848234   \n",
       "19                1            0.849858            0.848539   \n",
       "20               17            0.845748            0.843566   \n",
       "21                6            0.848742            0.847879   \n",
       "22                4            0.850365            0.845494   \n",
       "23                2            0.850467            0.848640   \n",
       "24               26            0.844226            0.843820   \n",
       "25               14            0.847778            0.843008   \n",
       "26               14            0.845900            0.846306   \n",
       "27                5            0.849756            0.847270   \n",
       "28               29            0.842906            0.843059   \n",
       "29               16            0.848488            0.845190   \n",
       "30               10            0.849148            0.844581   \n",
       "31                2            0.849655            0.847219   \n",
       "\n",
       "    split2_train_score  mean_train_score  std_train_score  \n",
       "0             0.844073          0.843769         0.000937  \n",
       "1             0.845951          0.844141         0.001633  \n",
       "2             0.846813          0.845799         0.000809  \n",
       "3             0.846966          0.846560         0.000877  \n",
       "4             0.844581          0.843634         0.000886  \n",
       "5             0.846661          0.845004         0.001460  \n",
       "6             0.848437          0.845799         0.001882  \n",
       "7             0.848742          0.847473         0.001618  \n",
       "8             0.842145          0.841773         0.000562  \n",
       "9             0.843008          0.843481         0.000337  \n",
       "10            0.846915          0.845241         0.001367  \n",
       "11            0.847372          0.846069         0.001433  \n",
       "12            0.843820          0.841706         0.001762  \n",
       "13            0.845393          0.843380         0.001597  \n",
       "14            0.845241          0.844716         0.000371  \n",
       "15            0.848031          0.846864         0.001759  \n",
       "16            0.846205          0.846391         0.002924  \n",
       "17            0.846611          0.846526         0.000893  \n",
       "18            0.850162          0.849266         0.000793  \n",
       "19            0.850365          0.849587         0.000770  \n",
       "20            0.847625          0.845646         0.001659  \n",
       "21            0.849959          0.848860         0.000853  \n",
       "22            0.850162          0.848674         0.002250  \n",
       "23            0.849959          0.849689         0.000770  \n",
       "24            0.843566          0.843871         0.000272  \n",
       "25            0.847422          0.846069         0.002170  \n",
       "26            0.846611          0.846272         0.000291  \n",
       "27            0.849858          0.848962         0.001197  \n",
       "28            0.843363          0.843109         0.000190  \n",
       "29            0.845697          0.846458         0.001450  \n",
       "30            0.850416          0.848048         0.002506  \n",
       "31            0.850619          0.849164         0.001431  \n",
       "\n",
       "[32 rows x 21 columns]"
      ]
     },
     "execution_count": 54,
     "metadata": {},
     "output_type": "execute_result"
    }
   ],
   "source": [
    "print(grid_gbt.best_estimator_)\n",
    "print(grid_gbt.best_score_)\n",
    "pd.DataFrame(grid_gbt.cv_results_)"
   ]
  },
  {
   "cell_type": "markdown",
   "metadata": {},
   "source": [
    "### Confusion Matrix"
   ]
  },
  {
   "cell_type": "code",
   "execution_count": 55,
   "metadata": {},
   "outputs": [
    {
     "name": "stderr",
     "output_type": "stream",
     "text": [
      "C:\\ProgramData\\Anaconda3\\lib\\site-packages\\plotnine\\utils.py:281: FutureWarning: Method .as_matrix will be removed in a future version. Use .values instead.\n",
      "  ndistinct = ids.apply(len_unique, axis=0).as_matrix()\n",
      "C:\\ProgramData\\Anaconda3\\lib\\site-packages\\pandas\\core\\generic.py:4388: FutureWarning: Attribute 'is_copy' is deprecated and will be removed in a future version.\n",
      "  object.__getattribute__(self, name)\n",
      "C:\\ProgramData\\Anaconda3\\lib\\site-packages\\pandas\\core\\generic.py:4389: FutureWarning: Attribute 'is_copy' is deprecated and will be removed in a future version.\n",
      "  return object.__setattr__(self, name, value)\n"
     ]
    },
    {
     "data": {
      "image/png": "[encoded data removed]",
      "text/plain": [
       "<Figure size 640x480 with 1 Axes>"
      ]
     },
     "metadata": {
      "needs_background": "light"
     },
     "output_type": "display_data"
    },
    {
     "data": {
      "text/plain": [
       "<ggplot: (116618692991)>"
      ]
     },
     "execution_count": 55,
     "metadata": {},
     "output_type": "execute_result"
    }
   ],
   "source": [
    "cnf_matrix = confusion_matrix( y_te, grid_logit.predict(X_te) )\n",
    "plot_confusion_matrix(cnf_matrix, normalize=False)\n"
   ]
  },
  {
   "cell_type": "code",
   "execution_count": 56,
   "metadata": {},
   "outputs": [
    {
     "data": {
      "text/plain": [
       "0.8286990054800081"
      ]
     },
     "execution_count": 56,
     "metadata": {},
     "output_type": "execute_result"
    }
   ],
   "source": [
    "(8019+147)/(8019+1573+115+147)"
   ]
  },
  {
   "cell_type": "code",
   "execution_count": null,
   "metadata": {},
   "outputs": [],
   "source": []
  },
  {
   "cell_type": "code",
   "execution_count": null,
   "metadata": {},
   "outputs": [],
   "source": []
  }
 ],
 "metadata": {
  "kernelspec": {
   "display_name": "Python 3",
   "language": "python",
   "name": "python3"
  },
  "language_info": {
   "codemirror_mode": {
    "name": "ipython",
    "version": 3
   },
   "file_extension": ".py",
   "mimetype": "text/x-python",
   "name": "python",
   "nbconvert_exporter": "python",
   "pygments_lexer": "ipython3",
   "version": "3.7.0"
  }
 },
 "nbformat": 4,
 "nbformat_minor": 2
}
